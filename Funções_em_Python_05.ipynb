{
  "nbformat": 4,
  "nbformat_minor": 0,
  "metadata": {
    "colab": {
      "provenance": [],
      "authorship_tag": "ABX9TyO7BRpSujEcLByrU8PwXB1O",
      "include_colab_link": true
    },
    "kernelspec": {
      "name": "python3",
      "display_name": "Python 3"
    },
    "language_info": {
      "name": "python"
    }
  },
  "cells": [
    {
      "cell_type": "markdown",
      "metadata": {
        "id": "view-in-github",
        "colab_type": "text"
      },
      "source": [
        "<a href=\"https://colab.research.google.com/github/jacksonguedes/BasicPython/blob/main/Fun%C3%A7%C3%B5es_em_Python_05.ipynb\" target=\"_parent\"><img src=\"https://colab.research.google.com/assets/colab-badge.svg\" alt=\"Open In Colab\"/></a>"
      ]
    },
    {
      "cell_type": "markdown",
      "source": [
        "# **Documentando funções com Dcstrings**"
      ],
      "metadata": {
        "id": "Ug-14TzNKoIz"
      }
    },
    {
      "cell_type": "code",
      "execution_count": 1,
      "metadata": {
        "colab": {
          "base_uri": "https://localhost:8080/"
        },
        "id": "0i56whwqJbyi",
        "outputId": "0515d535-610e-447f-9f32-3b4c5f7a7677"
      },
      "outputs": [
        {
          "output_type": "stream",
          "name": "stdout",
          "text": [
            "\n",
            "Help on NoneType object:\n",
            "\n",
            "class NoneType(object)\n",
            " |  Methods defined here:\n",
            " |  \n",
            " |  __bool__(self, /)\n",
            " |      True if self else False\n",
            " |  \n",
            " |  __repr__(self, /)\n",
            " |      Return repr(self).\n",
            " |  \n",
            " |  ----------------------------------------------------------------------\n",
            " |  Static methods defined here:\n",
            " |  \n",
            " |  __new__(*args, **kwargs) from builtins.type\n",
            " |      Create and return a new object.  See help(type) for accurate signature.\n",
            "\n",
            "None\n"
          ]
        }
      ],
      "source": [
        "print(help(print()))"
      ]
    },
    {
      "cell_type": "markdown",
      "source": [
        "Exemplo 1"
      ],
      "metadata": {
        "id": "jsO1tHObLKuE"
      }
    },
    {
      "cell_type": "code",
      "source": [
        "def diz_oi():\n",
        "  \"\"\"\n",
        "\n",
        "    Uma função simples que retorna a string 'Oi!\n",
        "\n",
        "  \"\"\"\n",
        "  return 'Oi!'"
      ],
      "metadata": {
        "id": "sMhGI4waLL3C"
      },
      "execution_count": 2,
      "outputs": []
    },
    {
      "cell_type": "code",
      "source": [
        "print(diz_oi())"
      ],
      "metadata": {
        "colab": {
          "base_uri": "https://localhost:8080/"
        },
        "id": "OKIsYHBWLfjS",
        "outputId": "b8b705b5-e728-4e67-ab6b-78be8d9b32bf"
      },
      "execution_count": 4,
      "outputs": [
        {
          "output_type": "stream",
          "name": "stdout",
          "text": [
            "Oi!\n"
          ]
        }
      ]
    },
    {
      "cell_type": "code",
      "source": [
        "print(diz_oi.__doc__) # Documentação da função diz_oi()"
      ],
      "metadata": {
        "colab": {
          "base_uri": "https://localhost:8080/"
        },
        "id": "r0axbN3RMHJl",
        "outputId": "33429dbc-c422-48e7-9283-bc83a5a8986c"
      },
      "execution_count": 7,
      "outputs": [
        {
          "output_type": "stream",
          "name": "stdout",
          "text": [
            " \n",
            "\n",
            "    Uma função simples que retorna a string 'Oi!\n",
            "\n",
            "  \n"
          ]
        }
      ]
    },
    {
      "cell_type": "code",
      "source": [
        "print.__doc__ # Toda a documentação da função print()"
      ],
      "metadata": {
        "colab": {
          "base_uri": "https://localhost:8080/",
          "height": 70
        },
        "id": "ltShDohGM5W1",
        "outputId": "37fbf455-a7b7-4170-e95f-93107b499ba2"
      },
      "execution_count": 8,
      "outputs": [
        {
          "output_type": "execute_result",
          "data": {
            "text/plain": [
              "\"print(value, ..., sep=' ', end='\\\\n', file=sys.stdout, flush=False)\\n\\nPrints the values to a stream, or to sys.stdout by default.\\nOptional keyword arguments:\\nfile:  a file-like object (stream); defaults to the current sys.stdout.\\nsep:   string inserted between values, default a space.\\nend:   string appended after the last value, default a newline.\\nflush: whether to forcibly flush the stream.\""
            ],
            "application/vnd.google.colaboratory.intrinsic+json": {
              "type": "string"
            }
          },
          "metadata": {},
          "execution_count": 8
        }
      ]
    },
    {
      "cell_type": "code",
      "source": [
        "def exponencial(numero, potencia = 2):\n",
        "  \"\"\"\n",
        "\n",
        "  Função que retorna por padrão o quadrado de 'numero' ou 'numero' à 'potencia' informada.\n",
        "\n",
        "  :param numero: Número que desejamos gerar o exponencial.\n",
        "  :param potencia: Potência que queremos gerar o exponencial. Por padrão é 2.\n",
        "  :return: Retorna o exponencial de 'numero' por 'potencia'.\n",
        "\n",
        "  \"\"\"\n",
        "  return numero ** potencia"
      ],
      "metadata": {
        "id": "M1qCzgFbNWhF"
      },
      "execution_count": 9,
      "outputs": []
    },
    {
      "cell_type": "code",
      "source": [
        "print(exponencial.__doc__)"
      ],
      "metadata": {
        "colab": {
          "base_uri": "https://localhost:8080/"
        },
        "id": "0DLsptikOtlg",
        "outputId": "01a8a206-0fee-4ef4-883b-8f3e19e87a03"
      },
      "execution_count": 10,
      "outputs": [
        {
          "output_type": "stream",
          "name": "stdout",
          "text": [
            "\n",
            "\n",
            "  Função que retorna por padrão o quadrado de 'numero' ou 'numero' à 'potencia' informada.\n",
            "\n",
            "  :param numero: Número que desejamos gerar o exponencial.\n",
            "  :param potencia: Potência que queremos gerar o exponencial. Por padrão é 2.\n",
            "  :return: Retorna o exponencial de 'numero' por 'potencia'.\n",
            "\n",
            "  \n"
          ]
        }
      ]
    },
    {
      "cell_type": "code",
      "source": [
        "help(exponencial)"
      ],
      "metadata": {
        "colab": {
          "base_uri": "https://localhost:8080/"
        },
        "id": "ql1XT5xbO7Vi",
        "outputId": "6c2314b3-6ea5-417b-8a33-c977ef61d565"
      },
      "execution_count": 11,
      "outputs": [
        {
          "output_type": "stream",
          "name": "stdout",
          "text": [
            "Help on function exponencial in module __main__:\n",
            "\n",
            "exponencial(numero, potencia=2)\n",
            "    Função que retorna por padrão o quadrado de 'numero' ou 'numero' à 'potencia' informada.\n",
            "    \n",
            "    :param numero: Número que desejamos gerar o exponencial.\n",
            "    :param potencia: Potência que queremos gerar o exponencial. Por padrão é 2.\n",
            "    :return: Retorna o exponencial de 'numero' por 'potencia'.\n",
            "\n"
          ]
        }
      ]
    }
  ]
}