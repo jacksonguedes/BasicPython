{
  "nbformat": 4,
  "nbformat_minor": 0,
  "metadata": {
    "colab": {
      "provenance": [],
      "authorship_tag": "ABX9TyO7Oq36hD+JPBQO8JFqHJGL",
      "include_colab_link": true
    },
    "kernelspec": {
      "name": "python3",
      "display_name": "Python 3"
    },
    "language_info": {
      "name": "python"
    }
  },
  "cells": [
    {
      "cell_type": "markdown",
      "metadata": {
        "id": "view-in-github",
        "colab_type": "text"
      },
      "source": [
        "<a href=\"https://colab.research.google.com/github/jacksonguedes/BasicPython/blob/main/AulasPython_Se%C3%A7%C3%A3o_7_Cole%C3%A7%C3%B5es_Python_Listas.ipynb\" target=\"_parent\"><img src=\"https://colab.research.google.com/assets/colab-badge.svg\" alt=\"Open In Colab\"/></a>"
      ]
    },
    {
      "cell_type": "markdown",
      "source": [
        "# **Coleções Python - Listas**  \n",
        "Listas em Python  funciona como vetores/matrizes (arrays) em outras linguagens, com a diferença de serem DINÂMICO e tamanho de podermos colocar QUALQUER tipo de dado.  \n",
        "- Não possuem  tamanho fixo; Ou seja, podem, os criar a lista e simplesmente ir adicionando  elemento.  \n",
        "- Qualquer tipo de dado: Não possuem tipo de dado fixo; Ou seja, podemos colocar qualquer tipo de dado."
      ],
      "metadata": {
        "id": "YuGVpglIAHSL"
      }
    },
    {
      "cell_type": "code",
      "execution_count": 2,
      "metadata": {
        "id": "3zGd2hZ4_zBh"
      },
      "outputs": [],
      "source": [
        "# Tipos de listas\n",
        "\n",
        "lista1 = [1, 45, 7, 35, 278, 56, 66, 12, 90, 33, 23]\n",
        "lista2 = ['j', 'a', 'c', 'k', 's', 'o', 'n']\n",
        "lista3 = []\n",
        "lista4 = list(range(11))\n",
        "lista5 = list('Jackson Guedes')"
      ]
    },
    {
      "cell_type": "markdown",
      "source": [
        "Podemos facilmente checar se determinado valor está contido na lista"
      ],
      "metadata": {
        "id": "j0N74-ctDPOM"
      }
    },
    {
      "cell_type": "code",
      "source": [
        "num = 278\n",
        "tipo_lista = lista1\n",
        "\n",
        "if num in tipo_lista:\n",
        "  print(f'Encontrei o {num}!')\n",
        "else:\n",
        "  print(f'Não encontrei o {num}!')"
      ],
      "metadata": {
        "colab": {
          "base_uri": "https://localhost:8080/"
        },
        "id": "BCDIjDzrDX0h",
        "outputId": "5cad546a-82fa-4851-a182-1aacccaee674"
      },
      "execution_count": null,
      "outputs": [
        {
          "output_type": "stream",
          "name": "stdout",
          "text": [
            "Encontrei o 278!\n"
          ]
        }
      ]
    },
    {
      "cell_type": "code",
      "source": [
        "procura = 'a'\n",
        "tipo_lista = lista5\n",
        "\n",
        "if procura in tipo_lista:\n",
        "  print(f'Encontrei o {procura}!')\n",
        "else:\n",
        "  print(f'Não encontrei o {procura}!')"
      ],
      "metadata": {
        "colab": {
          "base_uri": "https://localhost:8080/"
        },
        "id": "nOI0peykEthY",
        "outputId": "acaf3d8c-7643-422f-a4a4-fd0af6bddee5"
      },
      "execution_count": null,
      "outputs": [
        {
          "output_type": "stream",
          "name": "stdout",
          "text": [
            "Encontrei o a!\n"
          ]
        }
      ]
    },
    {
      "cell_type": "markdown",
      "source": [
        "Ordenando uma lista"
      ],
      "metadata": {
        "id": "DptsoZbkFmA7"
      }
    },
    {
      "cell_type": "code",
      "source": [
        "lista1.sort()\n",
        "print(lista1)"
      ],
      "metadata": {
        "colab": {
          "base_uri": "https://localhost:8080/"
        },
        "id": "l7lfAC_SFoKT",
        "outputId": "b773ff8c-b823-4e66-b85a-19453cbb4c4b"
      },
      "execution_count": null,
      "outputs": [
        {
          "output_type": "stream",
          "name": "stdout",
          "text": [
            "[1, 7, 12, 23, 33, 35, 45, 56, 66, 90, 278]\n"
          ]
        }
      ]
    },
    {
      "cell_type": "code",
      "source": [
        "lista2.sort() # Se tiver letras maiúsculas na lista, elas serão as primeiras.\n",
        "print(lista2)"
      ],
      "metadata": {
        "colab": {
          "base_uri": "https://localhost:8080/"
        },
        "id": "h9k4B_J8F_Pz",
        "outputId": "50875b26-1046-4d4a-bab0-c962cf9bb285"
      },
      "execution_count": null,
      "outputs": [
        {
          "output_type": "stream",
          "name": "stdout",
          "text": [
            "['a', 'c', 'j', 'k', 'n', 'o', 's']\n"
          ]
        }
      ]
    },
    {
      "cell_type": "markdown",
      "source": [
        "Contando o número de ocorrências de um valor em uma lista"
      ],
      "metadata": {
        "id": "NB74P_uHGmB2"
      }
    },
    {
      "cell_type": "code",
      "source": [
        "print(lista1.count(1))\n",
        "print(lista5.count('e')) # Há diferêncas entre maiúsculas e minúsculas"
      ],
      "metadata": {
        "colab": {
          "base_uri": "https://localhost:8080/"
        },
        "id": "haYuoilNGrVR",
        "outputId": "ff728860-2ee9-4313-c27c-2706d88afa6d"
      },
      "execution_count": null,
      "outputs": [
        {
          "output_type": "stream",
          "name": "stdout",
          "text": [
            "1\n",
            "2\n"
          ]
        }
      ]
    },
    {
      "cell_type": "markdown",
      "source": [
        "Adicionando elementos em uma listas. Para isso, utilizá-se a funçã *append*."
      ],
      "metadata": {
        "id": "Cg83zDGGHbVd"
      }
    },
    {
      "cell_type": "code",
      "source": [
        "print(lista1)\n",
        "lista1.append(23) # Só dá para add um elemento por vez\n",
        "print(lista1)"
      ],
      "metadata": {
        "colab": {
          "base_uri": "https://localhost:8080/"
        },
        "id": "Tdaaw3pIHlkY",
        "outputId": "286ea634-611e-4c0e-9171-49507a11a283"
      },
      "execution_count": null,
      "outputs": [
        {
          "output_type": "stream",
          "name": "stdout",
          "text": [
            "[1, 45, 7, 35, 278, 56, 66, 12, 90, 33, 23, 42, 42]\n",
            "[1, 45, 7, 35, 278, 56, 66, 12, 90, 33, 23, 42, 42, 23]\n"
          ]
        }
      ]
    },
    {
      "cell_type": "code",
      "source": [
        "print(lista1)\n",
        "lista1.append([45, 66, 79]) # Add um elemento do tipo lista (sublista)\n",
        "print(lista1)"
      ],
      "metadata": {
        "colab": {
          "base_uri": "https://localhost:8080/"
        },
        "id": "4ybvSDNQJjgu",
        "outputId": "b33dedc4-f54b-4ee9-b602-8f30f2c47e3c"
      },
      "execution_count": null,
      "outputs": [
        {
          "output_type": "stream",
          "name": "stdout",
          "text": [
            "[1, 45, 7, 35, 278, 56, 66, 12, 90, 33, 23, 42, 42, 23]\n",
            "[1, 45, 7, 35, 278, 56, 66, 12, 90, 33, 23, 42, 42, 23, [45, 66, 79]]\n"
          ]
        }
      ]
    },
    {
      "cell_type": "code",
      "source": [
        "if [45, 66, 79] in lista1:\n",
        "  print('Encontrei a lista!')\n",
        "else:\n",
        "  print('Não encontrei a lista!')"
      ],
      "metadata": {
        "colab": {
          "base_uri": "https://localhost:8080/"
        },
        "id": "YJ7E1xY8KAUo",
        "outputId": "49ed6edf-193c-4fde-b35f-1c3081d4b387"
      },
      "execution_count": null,
      "outputs": [
        {
          "output_type": "stream",
          "name": "stdout",
          "text": [
            "Encontrei a lista!\n"
          ]
        }
      ]
    },
    {
      "cell_type": "code",
      "source": [
        "lista1.extend([123, 456, 987])# Mesma função do APPEND, porém add os elementos individualmente\n",
        "print(lista1)"
      ],
      "metadata": {
        "colab": {
          "base_uri": "https://localhost:8080/"
        },
        "id": "2OPVG4XuLQmf",
        "outputId": "32895fb0-7655-4850-9159-debff6fd917d"
      },
      "execution_count": null,
      "outputs": [
        {
          "output_type": "stream",
          "name": "stdout",
          "text": [
            "[1, 45, 7, 35, 278, 56, 66, 12, 90, 33, 23, 42, 42, 23, [45, 66, 79], 123, 456, 987]\n"
          ]
        }
      ]
    },
    {
      "cell_type": "markdown",
      "source": [
        "Adicionando um novo elemento na lista informando a posição do índice"
      ],
      "metadata": {
        "id": "HOVaOHaxNEP6"
      }
    },
    {
      "cell_type": "code",
      "source": [
        "lista1.insert(2, 'Cavalo') # Isso não substitui o valor inicial. O mesmo será deslocado para a direita da lista.\n",
        "print(lista1)"
      ],
      "metadata": {
        "colab": {
          "base_uri": "https://localhost:8080/"
        },
        "id": "9hUMW94XNM03",
        "outputId": "dbe005ea-0820-4c73-8bc7-6b2a3c9ca950"
      },
      "execution_count": null,
      "outputs": [
        {
          "output_type": "stream",
          "name": "stdout",
          "text": [
            "[1, 45, 'Cavalo', 7, 35, 278, 56, 66, 12, 90, 33, 23, 42, 42, 23, [45, 66, 79], 123, 456, 987]\n"
          ]
        }
      ]
    },
    {
      "cell_type": "markdown",
      "source": [
        "Juntando duas listas"
      ],
      "metadata": {
        "id": "cDNRNOObOm6h"
      }
    },
    {
      "cell_type": "code",
      "source": [
        "soma_lista = lista1 + lista4\n",
        "print(soma_lista)"
      ],
      "metadata": {
        "colab": {
          "base_uri": "https://localhost:8080/"
        },
        "id": "qyKwEagKOpo9",
        "outputId": "278530df-1f88-44b2-d2f2-6116de524c47"
      },
      "execution_count": 3,
      "outputs": [
        {
          "output_type": "stream",
          "name": "stdout",
          "text": [
            "[1, 45, 7, 35, 278, 56, 66, 12, 90, 33, 23, 0, 1, 2, 3, 4, 5, 6, 7, 8, 9, 10]\n"
          ]
        }
      ]
    },
    {
      "cell_type": "markdown",
      "source": [
        "Invertendo os elementos da lista"
      ],
      "metadata": {
        "id": "wr157xF2PY-6"
      }
    },
    {
      "cell_type": "code",
      "source": [
        "print(lista1)"
      ],
      "metadata": {
        "colab": {
          "base_uri": "https://localhost:8080/"
        },
        "id": "dgj6dAt2Pb12",
        "outputId": "c2953469-c900-48f7-8435-f5c968889fef"
      },
      "execution_count": 4,
      "outputs": [
        {
          "output_type": "stream",
          "name": "stdout",
          "text": [
            "[1, 45, 7, 35, 278, 56, 66, 12, 90, 33, 23]\n"
          ]
        }
      ]
    },
    {
      "cell_type": "code",
      "source": [
        "lista1.reverse()\n",
        "print(lista1)"
      ],
      "metadata": {
        "colab": {
          "base_uri": "https://localhost:8080/"
        },
        "id": "W8afAbUsPfpV",
        "outputId": "73ddae0e-77ca-497f-8652-4beb0a7f9b8b"
      },
      "execution_count": 5,
      "outputs": [
        {
          "output_type": "stream",
          "name": "stdout",
          "text": [
            "[23, 33, 90, 12, 66, 56, 278, 35, 7, 45, 1]\n"
          ]
        }
      ]
    },
    {
      "cell_type": "code",
      "source": [
        "print(lista1[::-1]) # Outra forma de inverter"
      ],
      "metadata": {
        "colab": {
          "base_uri": "https://localhost:8080/"
        },
        "id": "rsyOCN78P3Q6",
        "outputId": "9af020b6-4ca4-4a36-f84f-5c462a56c3e2"
      },
      "execution_count": 6,
      "outputs": [
        {
          "output_type": "stream",
          "name": "stdout",
          "text": [
            "[1, 45, 7, 35, 278, 56, 66, 12, 90, 33, 23]\n"
          ]
        }
      ]
    },
    {
      "cell_type": "markdown",
      "source": [
        "Copiando uma lista"
      ],
      "metadata": {
        "id": "XLFFuAjyQLmM"
      }
    },
    {
      "cell_type": "code",
      "source": [
        "copia_lista1 = lista1.copy()\n",
        "copia_lista1"
      ],
      "metadata": {
        "colab": {
          "base_uri": "https://localhost:8080/"
        },
        "id": "pad6_6v0QNYd",
        "outputId": "8e3bc83b-2922-41dd-aca1-56093ae03e11"
      },
      "execution_count": 8,
      "outputs": [
        {
          "output_type": "execute_result",
          "data": {
            "text/plain": [
              "[23, 33, 90, 12, 66, 56, 278, 35, 7, 45, 1]"
            ]
          },
          "metadata": {},
          "execution_count": 8
        }
      ]
    },
    {
      "cell_type": "markdown",
      "source": [
        "Contando a quantidade de elementos em uma lista"
      ],
      "metadata": {
        "id": "k_vgpTecQcx1"
      }
    },
    {
      "cell_type": "code",
      "source": [
        "print(len(lista1))"
      ],
      "metadata": {
        "colab": {
          "base_uri": "https://localhost:8080/"
        },
        "id": "BJyniCZnQgcF",
        "outputId": "e4bb9039-02fe-40d1-f95d-2e46c346efef"
      },
      "execution_count": 9,
      "outputs": [
        {
          "output_type": "stream",
          "name": "stdout",
          "text": [
            "11\n"
          ]
        }
      ]
    },
    {
      "cell_type": "markdown",
      "source": [
        "Removendo o último elemento de uma lista"
      ],
      "metadata": {
        "id": "ZaZJjxV1Q32R"
      }
    },
    {
      "cell_type": "code",
      "source": [
        "print(copia_lista1)\n",
        "copia_lista1.pop() # Além de remover o último elemento, ele retorna o mesmo.\n",
        "print(copia_lista1)\n"
      ],
      "metadata": {
        "colab": {
          "base_uri": "https://localhost:8080/"
        },
        "id": "UFODDk91Q7o-",
        "outputId": "3067ce20-3d82-4a96-a531-842dd4a29460"
      },
      "execution_count": 10,
      "outputs": [
        {
          "output_type": "stream",
          "name": "stdout",
          "text": [
            "[23, 33, 90, 12, 66, 56, 278, 35, 7, 45, 1]\n",
            "[23, 33, 90, 12, 66, 56, 278, 35, 7, 45]\n"
          ]
        }
      ]
    },
    {
      "cell_type": "code",
      "source": [
        "copia_lista1.pop()"
      ],
      "metadata": {
        "colab": {
          "base_uri": "https://localhost:8080/"
        },
        "id": "FtEdcJgCRbWk",
        "outputId": "a0e72d73-2941-4a6f-b129-25c8a61bfe15"
      },
      "execution_count": 11,
      "outputs": [
        {
          "output_type": "execute_result",
          "data": {
            "text/plain": [
              "45"
            ]
          },
          "metadata": {},
          "execution_count": 11
        }
      ]
    },
    {
      "cell_type": "markdown",
      "source": [
        "Removendo elementos pelo índice"
      ],
      "metadata": {
        "id": "9-TC-oKSRenS"
      }
    },
    {
      "cell_type": "code",
      "source": [
        "print(lista5)\n",
        "copia_lista5 = lista5.copy()\n",
        "print(copia_lista5.pop(2))\n",
        "print(copia_lista5)"
      ],
      "metadata": {
        "colab": {
          "base_uri": "https://localhost:8080/"
        },
        "id": "EJKIJYHyRjLt",
        "outputId": "1155196d-7445-4091-a757-6e5c2e220379"
      },
      "execution_count": 15,
      "outputs": [
        {
          "output_type": "stream",
          "name": "stdout",
          "text": [
            "['J', 'a', 'c', 'k', 's', 'o', 'n', ' ', 'G', 'u', 'e', 'd', 'e', 's']\n",
            "c\n",
            "['J', 'a', 'k', 's', 'o', 'n', ' ', 'G', 'u', 'e', 'd', 'e', 's']\n"
          ]
        }
      ]
    },
    {
      "cell_type": "markdown",
      "source": [
        "Removendo todos os elementos da lista"
      ],
      "metadata": {
        "id": "pku9R96QSe5R"
      }
    },
    {
      "cell_type": "code",
      "source": [
        "print(copia_lista5)\n",
        "copia_lista5.clear()\n",
        "print(copia_lista5)"
      ],
      "metadata": {
        "colab": {
          "base_uri": "https://localhost:8080/"
        },
        "id": "io1UM8aMSk_n",
        "outputId": "ad59efbe-f5fd-4c27-b2b0-ad78fa7bbc06"
      },
      "execution_count": 16,
      "outputs": [
        {
          "output_type": "stream",
          "name": "stdout",
          "text": [
            "['J', 'a', 'k', 's', 'o', 'n', ' ', 'G', 'u', 'e', 'd', 'e', 's']\n",
            "[]\n"
          ]
        }
      ]
    },
    {
      "cell_type": "markdown",
      "source": [
        "Repetindo os elementos de uma lista"
      ],
      "metadata": {
        "id": "ZuB3QIR7S5En"
      }
    },
    {
      "cell_type": "code",
      "source": [
        "list_repetida = [1, 2, 3]\n",
        "print(list_repetida)\n",
        "list_repetida = list_repetida * 3\n",
        "print(list_repetida)"
      ],
      "metadata": {
        "colab": {
          "base_uri": "https://localhost:8080/"
        },
        "id": "ptCGkGC_S7XZ",
        "outputId": "c60c2f35-507c-4007-c2d5-76c770f9b6c3"
      },
      "execution_count": 17,
      "outputs": [
        {
          "output_type": "stream",
          "name": "stdout",
          "text": [
            "[1, 2, 3]\n",
            "[1, 2, 3, 1, 2, 3, 1, 2, 3]\n"
          ]
        }
      ]
    },
    {
      "cell_type": "markdown",
      "source": [
        "Convertendo uma string em uma lista"
      ],
      "metadata": {
        "id": "n_TPdt17TZuI"
      }
    },
    {
      "cell_type": "markdown",
      "source": [
        "Exemplo 1 - Separador espaço"
      ],
      "metadata": {
        "id": "FoXjYfYKUVMQ"
      }
    },
    {
      "cell_type": "code",
      "source": [
        "# Por padrão, o split separa os elementos da lista pelo espaço entre elas\n",
        "\n",
        "curso = 'Engenharia Elétrica com ênfase em Controle e Automação, Eletrônica e Proteção de Sistemas elétricos'\n",
        "print(curso)\n",
        "curso = curso.split()\n",
        "print(curso)"
      ],
      "metadata": {
        "colab": {
          "base_uri": "https://localhost:8080/"
        },
        "id": "54zGx4DXTfZW",
        "outputId": "5b6f53dc-f4c2-405f-c1d2-7fb8357574b3"
      },
      "execution_count": 20,
      "outputs": [
        {
          "output_type": "stream",
          "name": "stdout",
          "text": [
            "Engenharia Elétrica com ênfase em Controle e Automação, Eletrônica e Proteção de Sistemas elétricos\n",
            "['Engenharia', 'Elétrica', 'com', 'ênfase', 'em', 'Controle', 'e', 'Automação,', 'Eletrônica', 'e', 'Proteção', 'de', 'Sistemas', 'elétricos']\n"
          ]
        }
      ]
    },
    {
      "cell_type": "markdown",
      "source": [
        "Exemplo 2 - Separador vírgula"
      ],
      "metadata": {
        "id": "_fgtYhmnUW9O"
      }
    },
    {
      "cell_type": "code",
      "source": [
        "curso = 'Jackson,da,Silva,Guedes'\n",
        "print(curso)\n",
        "curso = curso.split(',')\n",
        "print(curso)"
      ],
      "metadata": {
        "colab": {
          "base_uri": "https://localhost:8080/"
        },
        "id": "2hyeal51UYI2",
        "outputId": "ce11b10d-e109-4420-f39c-bf1a04926330"
      },
      "execution_count": 22,
      "outputs": [
        {
          "output_type": "stream",
          "name": "stdout",
          "text": [
            "Jackson,da,Silva,Guedes\n",
            "['Jackson', 'da', 'Silva', 'Guedes']\n"
          ]
        }
      ]
    },
    {
      "cell_type": "markdown",
      "source": [
        "Convertendo uma lista em uma string"
      ],
      "metadata": {
        "id": "kyx4BqydVDVP"
      }
    },
    {
      "cell_type": "code",
      "source": [
        "nome = ['Jackson', 'da', 'Silva', 'Guedes']\n",
        "print(nome)\n",
        "nome1 = ' '.join(nome) # Pega a lista nome, coloca espaço entre os elementos e transforma em uma string\n",
        "print(nome1)"
      ],
      "metadata": {
        "colab": {
          "base_uri": "https://localhost:8080/"
        },
        "id": "TO4sdZROVIPm",
        "outputId": "7e9dd6f8-eb9a-4c33-a184-254a380277f8"
      },
      "execution_count": 24,
      "outputs": [
        {
          "output_type": "stream",
          "name": "stdout",
          "text": [
            "['Jackson', 'da', 'Silva', 'Guedes']\n",
            "Jackson da Silva Guedes\n"
          ]
        }
      ]
    },
    {
      "cell_type": "markdown",
      "source": [
        "Vários elementos diferentes em uma lista"
      ],
      "metadata": {
        "id": "yuKDynMuWi2W"
      }
    },
    {
      "cell_type": "code",
      "source": [
        "diference_list = [1, 3.14,'Elétrica', True, 'j', [1, 2, 3], 3459876456]\n",
        "print(diference_list)\n",
        "print(type(diference_list))"
      ],
      "metadata": {
        "colab": {
          "base_uri": "https://localhost:8080/"
        },
        "id": "vzTytbNKWnVg",
        "outputId": "09313971-d3dd-42d3-853f-a6242f3405b4"
      },
      "execution_count": 49,
      "outputs": [
        {
          "output_type": "stream",
          "name": "stdout",
          "text": [
            "[1, 3.14, 'Elétrica', True, 'j', [1, 2, 3], 3459876456]\n",
            "<class 'list'>\n"
          ]
        }
      ]
    },
    {
      "cell_type": "markdown",
      "source": [
        "Iterando sobre as listas"
      ],
      "metadata": {
        "id": "F0Y1p1VPW7Of"
      }
    },
    {
      "cell_type": "markdown",
      "source": [
        "Exemplo 1 - Utilizando for"
      ],
      "metadata": {
        "id": "lUbFxLu6XCdI"
      }
    },
    {
      "cell_type": "code",
      "source": [
        "for elemento in lista5:\n",
        "  print(elemento, end = ' ')"
      ],
      "metadata": {
        "colab": {
          "base_uri": "https://localhost:8080/"
        },
        "id": "Zj1y8t8OXBD_",
        "outputId": "21bcde17-e6ba-4dad-a951-74516a6631a2"
      },
      "execution_count": 28,
      "outputs": [
        {
          "output_type": "stream",
          "name": "stdout",
          "text": [
            "J a c k s o n   G u e d e s "
          ]
        }
      ]
    },
    {
      "cell_type": "code",
      "source": [
        "soma = ' '\n",
        "for elemento in lista5:\n",
        "  print(elemento)\n",
        "  soma = soma + elemento\n",
        "print(soma)"
      ],
      "metadata": {
        "colab": {
          "base_uri": "https://localhost:8080/"
        },
        "id": "NrWyiT2xX490",
        "outputId": "4b14ae91-a53c-4198-a310-fe5b73bdb90a"
      },
      "execution_count": 33,
      "outputs": [
        {
          "output_type": "stream",
          "name": "stdout",
          "text": [
            "J\n",
            "a\n",
            "c\n",
            "k\n",
            "s\n",
            "o\n",
            "n\n",
            " \n",
            "G\n",
            "u\n",
            "e\n",
            "d\n",
            "e\n",
            "s\n",
            " Jackson Guedes\n"
          ]
        }
      ]
    },
    {
      "cell_type": "markdown",
      "source": [
        "Exemplo 2 - Utilizando while"
      ],
      "metadata": {
        "id": "Wcdnifa4YmRT"
      }
    },
    {
      "cell_type": "code",
      "source": [
        "carrinho = []\n",
        "produto = ''\n",
        "\n",
        "while produto != 'sair':\n",
        "  print(\"Adicione um produto na listCoa ou digite 'sair': \")\n",
        "  produto = input()\n",
        "  if produto != 'sair':\n",
        "    carrinho.append(produto)\n",
        "\n",
        "for produto in carrinho:\n",
        "  print(produto)"
      ],
      "metadata": {
        "colab": {
          "base_uri": "https://localhost:8080/"
        },
        "id": "dYYP-iyqYqSS",
        "outputId": "1b89a20a-7650-4d06-bd86-39762cd10332"
      },
      "execution_count": 36,
      "outputs": [
        {
          "output_type": "stream",
          "name": "stdout",
          "text": [
            "Adicione um produto na lista ou digite 'sair': \n",
            "Televisão\n",
            "Adicione um produto na lista ou digite 'sair': \n",
            "Notebook Dell\n",
            "Adicione um produto na lista ou digite 'sair': \n",
            "Geladeira\n",
            "Adicione um produto na lista ou digite 'sair': \n",
            "sair\n",
            "Televisão\n",
            "Notebook Dell\n",
            "Geladeira\n"
          ]
        }
      ]
    },
    {
      "cell_type": "markdown",
      "source": [
        "Utilizando os índices"
      ],
      "metadata": {
        "id": "AS9dHQoWs6DE"
      }
    },
    {
      "cell_type": "code",
      "source": [
        "cores = ['verde', 'amarelo', 'azul', 'branco']\n",
        "indice = 0\n",
        "\n",
        "while indice < len(cores):\n",
        "  print(cores[indice])\n",
        "  indice = indice + 1"
      ],
      "metadata": {
        "colab": {
          "base_uri": "https://localhost:8080/"
        },
        "id": "LRsW7oD3s_1H",
        "outputId": "4c38a376-0b27-49be-d9ae-afca5e43ae4d"
      },
      "execution_count": 44,
      "outputs": [
        {
          "output_type": "stream",
          "name": "stdout",
          "text": [
            "verde\n",
            "amarelo\n",
            "azul\n",
            "branco\n"
          ]
        }
      ]
    },
    {
      "cell_type": "markdown",
      "source": [
        "Gerando indice em um for"
      ],
      "metadata": {
        "id": "lNT5q2DTtrwe"
      }
    },
    {
      "cell_type": "code",
      "source": [
        "for indice, cor in enumerate(cores):\n",
        "  print(indice, cor)"
      ],
      "metadata": {
        "colab": {
          "base_uri": "https://localhost:8080/"
        },
        "id": "lAvi5nbftu9n",
        "outputId": "85f32a1b-b4c2-4ab0-f9fc-964080470533"
      },
      "execution_count": 45,
      "outputs": [
        {
          "output_type": "stream",
          "name": "stdout",
          "text": [
            "0 verde\n",
            "1 amarelo\n",
            "2 azul\n",
            "3 branco\n"
          ]
        }
      ]
    },
    {
      "cell_type": "code",
      "source": [
        "cor = list(enumerate(cores))\n",
        "cor"
      ],
      "metadata": {
        "colab": {
          "base_uri": "https://localhost:8080/"
        },
        "id": "lIxq9BlOuGyk",
        "outputId": "870c2cc0-38bc-4514-ec9d-ac4c0d65354d"
      },
      "execution_count": 47,
      "outputs": [
        {
          "output_type": "execute_result",
          "data": {
            "text/plain": [
              "[(0, 'verde'), (1, 'amarelo'), (2, 'azul'), (3, 'branco')]"
            ]
          },
          "metadata": {},
          "execution_count": 47
        }
      ]
    },
    {
      "cell_type": "markdown",
      "source": [
        "**Encontrando o índice de um elemento na lista** - Bem útil"
      ],
      "metadata": {
        "id": "FamRQQmJuwY3"
      }
    },
    {
      "cell_type": "code",
      "source": [
        "print(diference_list)\n",
        "print(diference_list.index('Elétrica'))\n",
        "print(diference_list.index(True)) # Note que apareceu o índice do número 1"
      ],
      "metadata": {
        "colab": {
          "base_uri": "https://localhost:8080/"
        },
        "id": "B1nCJ-dPu17u",
        "outputId": "f2bcafff-4e22-4b25-e346-ef4a4816105a"
      },
      "execution_count": 63,
      "outputs": [
        {
          "output_type": "stream",
          "name": "stdout",
          "text": [
            "[1, 3.14, 'Elétrica', True, 'j', [1, 2, 3], 3459876456]\n",
            "2\n",
            "0\n"
          ]
        }
      ]
    },
    {
      "cell_type": "code",
      "source": [
        "print(diference_list.index(True, 1)) # Achar o índice de 'True' a partir do índice 1"
      ],
      "metadata": {
        "colab": {
          "base_uri": "https://localhost:8080/"
        },
        "id": "72vrO-ABwvfx",
        "outputId": "003b4ca2-bdef-4d19-fc79-9ecf2fb711ea"
      },
      "execution_count": 64,
      "outputs": [
        {
          "output_type": "stream",
          "name": "stdout",
          "text": [
            "3\n"
          ]
        }
      ]
    },
    {
      "cell_type": "markdown",
      "source": [
        "Revisão de slicing"
      ],
      "metadata": {
        "id": "IcLBHOF7yG76"
      }
    },
    {
      "cell_type": "code",
      "source": [
        "lista7 = [1, 2, 3, 4, 5, 6, 7, 8]\n",
        "# lista7[inicio:fim:passo]\n",
        "\n",
        "print(lista7[2::]) # Imprime a partir do índice 2\n",
        "print(lista7[::])  # Imprime tudo\n",
        "print(lista7[::2]) # Imprime com um passo de 2\n",
        "print(lista7[:6:]) # Imprime os números até 6 -> começa em 0, e vai até o índice 6-1"
      ],
      "metadata": {
        "colab": {
          "base_uri": "https://localhost:8080/"
        },
        "id": "mYJwsY2DyKAY",
        "outputId": "0f1658da-2b97-4ce3-cc23-b73f2f1cbe06"
      },
      "execution_count": 74,
      "outputs": [
        {
          "output_type": "stream",
          "name": "stdout",
          "text": [
            "[3, 4, 5, 6, 7, 8]\n",
            "[1, 2, 3, 4, 5, 6, 7, 8]\n",
            "[1, 3, 5, 7]\n",
            "[1, 2, 3, 4, 5, 6]\n"
          ]
        }
      ]
    },
    {
      "cell_type": "markdown",
      "source": [
        "Se os valores forem todos inteiros ou reais, é possível somar, achar o valor máximo e valor mínimo."
      ],
      "metadata": {
        "id": "LLDi6kgM1LzE"
      }
    },
    {
      "cell_type": "code",
      "source": [
        "numeros = [1, 45, 8, 33, 2]\n",
        "\n",
        "print(sum(numeros))  # Soma\n",
        "print(max(numeros))  # Valor máximo\n",
        "print(min(numeros))  # Valor mínimo\n",
        "print(len(numeros))  # Tamanho da lista"
      ],
      "metadata": {
        "colab": {
          "base_uri": "https://localhost:8080/"
        },
        "id": "1e3sT-YW1fP4",
        "outputId": "06d76c73-af8c-4196-9e18-f75894ba8d0f"
      },
      "execution_count": 76,
      "outputs": [
        {
          "output_type": "stream",
          "name": "stdout",
          "text": [
            "89\n",
            "45\n",
            "1\n",
            "5\n"
          ]
        }
      ]
    },
    {
      "cell_type": "markdown",
      "source": [
        "Copiando uma lista para outra (Shallow Copy e Deep Copy)"
      ],
      "metadata": {
        "id": "jHHoxw5K3RET"
      }
    },
    {
      "cell_type": "markdown",
      "source": [
        "Veja que ao utilizarmos lista.copy() copiamos os dados da lista para uma nova lista, mas elas ficaram totalmente independente, ou seja, modificando uma lista, não afeta a outra. Isso em Python é chamado de ***Deep Copy*** (Cópia Profunda)"
      ],
      "metadata": {
        "id": "-5HJ8TOe3nbN"
      }
    },
    {
      "cell_type": "code",
      "source": [
        "num = [2, 3 ,9, 4]\n",
        "print(num)\n",
        "copy_list = num.copy()\n",
        "print(copy_list)\n",
        "copy_list.append(63)\n",
        "print(num)\n",
        "print(copy_list)"
      ],
      "metadata": {
        "colab": {
          "base_uri": "https://localhost:8080/"
        },
        "id": "_oVsgVQQ3Y5b",
        "outputId": "9be70fee-35a6-4b68-81f5-32ad6ebb24d3"
      },
      "execution_count": 77,
      "outputs": [
        {
          "output_type": "stream",
          "name": "stdout",
          "text": [
            "[2, 3, 9, 4]\n",
            "[2, 3, 9, 4]\n",
            "[2, 3, 9, 4]\n",
            "[2, 3, 9, 4, 63]\n"
          ]
        }
      ]
    },
    {
      "cell_type": "markdown",
      "source": [
        "Veja quer utilizamos a cópia via atribuição e copiamos os dados da lista para a nova lista, mas após realizar modificações em uma das listas, essa modificação se refletiu em ambas as listas. Isso em Python é chamado de Shallow Copy"
      ],
      "metadata": {
        "id": "j5rZJLE64_aA"
      }
    },
    {
      "cell_type": "code",
      "source": [
        "print(num)\n",
        "novo_num = num\n",
        "print(novo_num)\n",
        "novo_num.append(987)\n",
        "\n",
        "print(num)\n",
        "print(novo_num)"
      ],
      "metadata": {
        "colab": {
          "base_uri": "https://localhost:8080/"
        },
        "id": "DVIqXWGe5WO3",
        "outputId": "93106569-d995-438e-d4db-2dbd4b839ebf"
      },
      "execution_count": 79,
      "outputs": [
        {
          "output_type": "stream",
          "name": "stdout",
          "text": [
            "[2, 3, 9, 4]\n",
            "[2, 3, 9, 4]\n",
            "[2, 3, 9, 4, 987]\n",
            "[2, 3, 9, 4, 987]\n"
          ]
        }
      ]
    }
  ]
}