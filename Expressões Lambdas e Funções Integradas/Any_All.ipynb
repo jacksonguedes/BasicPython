{
  "nbformat": 4,
  "nbformat_minor": 0,
  "metadata": {
    "colab": {
      "provenance": [],
      "authorship_tag": "ABX9TyM5xf7A5IXoInXCNeEDZxno",
      "include_colab_link": true
    },
    "kernelspec": {
      "name": "python3",
      "display_name": "Python 3"
    },
    "language_info": {
      "name": "python"
    }
  },
  "cells": [
    {
      "cell_type": "markdown",
      "metadata": {
        "id": "view-in-github",
        "colab_type": "text"
      },
      "source": [
        "<a href=\"https://colab.research.google.com/github/jacksonguedes/BasicPython/blob/main/Any_All.ipynb\" target=\"_parent\"><img src=\"https://colab.research.google.com/assets/colab-badge.svg\" alt=\"Open In Colab\"/></a>"
      ]
    },
    {
      "cell_type": "markdown",
      "source": [
        "# **Any e All**   \n",
        "all() -> Retorna True se todos os elementos do iterável são verdadeiros ou ainda se o iterável está vazio."
      ],
      "metadata": {
        "id": "3l8nAKA3RjpV"
      }
    },
    {
      "cell_type": "markdown",
      "source": [
        "Exemplo all()"
      ],
      "metadata": {
        "id": "DE7JlERMUJxo"
      }
    },
    {
      "cell_type": "code",
      "execution_count": 18,
      "metadata": {
        "colab": {
          "base_uri": "https://localhost:8080/"
        },
        "id": "KPIOWoiwRYJx",
        "outputId": "90318eec-e704-474d-ba65-cad172dc84ca"
      },
      "outputs": [
        {
          "output_type": "stream",
          "name": "stdout",
          "text": [
            "False\n"
          ]
        }
      ],
      "source": [
        "print(all([0, 1, 2, 3, 4])) # False por causa do zero"
      ]
    },
    {
      "cell_type": "code",
      "source": [
        "print(all([1, 2, 3, 4]))"
      ],
      "metadata": {
        "colab": {
          "base_uri": "https://localhost:8080/"
        },
        "id": "7iVW3kwNUn4v",
        "outputId": "bc2d0096-265c-4ba4-a76c-2ee6938d3b5b"
      },
      "execution_count": 19,
      "outputs": [
        {
          "output_type": "stream",
          "name": "stdout",
          "text": [
            "True\n"
          ]
        }
      ]
    },
    {
      "cell_type": "code",
      "source": [
        "print(all([]))"
      ],
      "metadata": {
        "colab": {
          "base_uri": "https://localhost:8080/"
        },
        "id": "u9pErf-RUsAB",
        "outputId": "8a189cab-ed1b-44b2-c048-62657c1b8423"
      },
      "execution_count": 20,
      "outputs": [
        {
          "output_type": "stream",
          "name": "stdout",
          "text": [
            "True\n"
          ]
        }
      ]
    },
    {
      "cell_type": "markdown",
      "source": [
        "Exemplo 2"
      ],
      "metadata": {
        "id": "AZYzntgQVEJU"
      }
    },
    {
      "cell_type": "code",
      "source": [
        "nomes1 = ['Carlos', 'Camila', 'Carla', 'Cassiano', 'Cristiana', 'Daniel']"
      ],
      "metadata": {
        "id": "dkvjbGv4VDy6"
      },
      "execution_count": 25,
      "outputs": []
    },
    {
      "cell_type": "code",
      "source": [
        "print(all([nome[0] == 'C' for nome in nomes1])) # False por causa de 'Daniel'"
      ],
      "metadata": {
        "colab": {
          "base_uri": "https://localhost:8080/"
        },
        "id": "SNKJHOvXVUvg",
        "outputId": "519cdfac-ba73-4363-cc5a-44fab0d63619"
      },
      "execution_count": 26,
      "outputs": [
        {
          "output_type": "stream",
          "name": "stdout",
          "text": [
            "False\n"
          ]
        }
      ]
    },
    {
      "cell_type": "code",
      "source": [
        "nomes2 = ['Carlos', 'Camila', 'Carla', 'Cassiano', 'Cristiana']"
      ],
      "metadata": {
        "id": "3ZAmFrgUVvuB"
      },
      "execution_count": 27,
      "outputs": []
    },
    {
      "cell_type": "code",
      "source": [
        "print(all([nome[0] == 'C' for nome in nomes2]))"
      ],
      "metadata": {
        "colab": {
          "base_uri": "https://localhost:8080/"
        },
        "id": "CGDf_5hsVsNP",
        "outputId": "8780505d-4eed-4265-91b2-86cbe75f5724"
      },
      "execution_count": 28,
      "outputs": [
        {
          "output_type": "stream",
          "name": "stdout",
          "text": [
            "True\n"
          ]
        }
      ]
    },
    {
      "cell_type": "markdown",
      "source": [
        "Any() -> Retorna True se qualquer elemento do iterável for verdadeiro. Se o iterável estiver vazio, retorna False"
      ],
      "metadata": {
        "id": "ipv6RvxfYbtQ"
      }
    },
    {
      "cell_type": "markdown",
      "source": [
        "Exemplo 1"
      ],
      "metadata": {
        "id": "DkIOCC-OZN6f"
      }
    },
    {
      "cell_type": "code",
      "source": [
        "print(any([0, 1, 2, 3, 4]))"
      ],
      "metadata": {
        "colab": {
          "base_uri": "https://localhost:8080/"
        },
        "id": "hEom8xZXYqEC",
        "outputId": "a28b32f6-c269-4c92-ec18-12466ab3ad78"
      },
      "execution_count": 29,
      "outputs": [
        {
          "output_type": "stream",
          "name": "stdout",
          "text": [
            "True\n"
          ]
        }
      ]
    },
    {
      "cell_type": "markdown",
      "source": [
        "Exemplo 2"
      ],
      "metadata": {
        "id": "O-pt0HS3ZPFe"
      }
    },
    {
      "cell_type": "code",
      "source": [
        "print(any([]))"
      ],
      "metadata": {
        "colab": {
          "base_uri": "https://localhost:8080/"
        },
        "id": "GbuOcBbbY8q2",
        "outputId": "1a6c4355-8f8b-4f1e-f6c1-68e8ddf91b0b"
      },
      "execution_count": 30,
      "outputs": [
        {
          "output_type": "stream",
          "name": "stdout",
          "text": [
            "False\n"
          ]
        }
      ]
    },
    {
      "cell_type": "markdown",
      "source": [
        "Exemplo 3"
      ],
      "metadata": {
        "id": "oAZwdCgvZQZA"
      }
    },
    {
      "cell_type": "code",
      "source": [
        "print(any([0, False, {}, (), []]))"
      ],
      "metadata": {
        "colab": {
          "base_uri": "https://localhost:8080/"
        },
        "id": "77Lp56gBZMr-",
        "outputId": "da46a0ed-e4b0-443e-83f9-00949f1fff99"
      },
      "execution_count": 31,
      "outputs": [
        {
          "output_type": "stream",
          "name": "stdout",
          "text": [
            "False\n"
          ]
        }
      ]
    },
    {
      "cell_type": "code",
      "source": [
        "nomes = ['Carlos', 'Camila', 'Carla', 'Cassiano', 'Cristiana', 'Vanessa']"
      ],
      "metadata": {
        "id": "3KHCnBa7Zh_X"
      },
      "execution_count": 32,
      "outputs": []
    },
    {
      "cell_type": "code",
      "source": [
        "print(any([nome[0] == 'C' for nome in nomes]))"
      ],
      "metadata": {
        "colab": {
          "base_uri": "https://localhost:8080/"
        },
        "id": "qNAGcU8vZmO_",
        "outputId": "72a855da-a46a-4ce3-bbad-5e702d34f340"
      },
      "execution_count": 33,
      "outputs": [
        {
          "output_type": "stream",
          "name": "stdout",
          "text": [
            "True\n"
          ]
        }
      ]
    },
    {
      "cell_type": "code",
      "source": [
        "print(any([num for num in [4, 2, 10, 6, 8, 9] if num % 2 == 0]))"
      ],
      "metadata": {
        "colab": {
          "base_uri": "https://localhost:8080/"
        },
        "id": "JP43uyI8Z2h3",
        "outputId": "5afa980a-93c5-45e4-bd9a-a6680f3e07de"
      },
      "execution_count": 37,
      "outputs": [
        {
          "output_type": "stream",
          "name": "stdout",
          "text": [
            "True\n"
          ]
        }
      ]
    }
  ]
}
