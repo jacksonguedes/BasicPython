{
  "nbformat": 4,
  "nbformat_minor": 0,
  "metadata": {
    "colab": {
      "provenance": [],
      "authorship_tag": "ABX9TyPckj/ORRNY8Cal6uebvUGP",
      "include_colab_link": true
    },
    "kernelspec": {
      "name": "python3",
      "display_name": "Python 3"
    },
    "language_info": {
      "name": "python"
    }
  },
  "cells": [
    {
      "cell_type": "markdown",
      "metadata": {
        "id": "view-in-github",
        "colab_type": "text"
      },
      "source": [
        "<a href=\"https://colab.research.google.com/github/jacksonguedes/BasicPython/blob/main/AulasPython_Se%C3%A7%C3%A3o_5_EstruturasL%C3%B3gicasECondicionais.ipynb\" target=\"_parent\"><img src=\"https://colab.research.google.com/assets/colab-badge.svg\" alt=\"Open In Colab\"/></a>"
      ]
    },
    {
      "cell_type": "markdown",
      "source": [
        "# **Estruturas Condicionais: if, else, elif**  \n",
        "\n"
      ],
      "metadata": {
        "id": "47J6fALoIWMR"
      }
    },
    {
      "cell_type": "markdown",
      "source": [
        "## Entrada de dados"
      ],
      "metadata": {
        "id": "toDvpjw0IyUm"
      }
    },
    {
      "cell_type": "code",
      "execution_count": null,
      "metadata": {
        "colab": {
          "base_uri": "https://localhost:8080/"
        },
        "id": "k7_7kqTvHT23",
        "outputId": "13272587-5500-4e21-f45e-f992c587e616"
      },
      "outputs": [
        {
          "name": "stdout",
          "output_type": "stream",
          "text": [
            "Digite um número e eu lhe direi se é PAR ou ÍMPAR: 8\n"
          ]
        }
      ],
      "source": [
        "num = int(input('Digite um número e eu lhe direi se é PAR ou ÍMPAR: '))"
      ]
    },
    {
      "cell_type": "markdown",
      "source": [
        "## Processamento e saída de dados  \n",
        "Saber se o número é PAR"
      ],
      "metadata": {
        "id": "-fmTSpMkI0rN"
      }
    },
    {
      "cell_type": "code",
      "source": [
        "if (num % 2 == 0):\n",
        "  print(f'O número {num} é PAR')\n",
        "else:\n",
        "  print(f'O número {num} é ÍMPAR')"
      ],
      "metadata": {
        "colab": {
          "base_uri": "https://localhost:8080/"
        },
        "id": "ShVtYx2SI2v1",
        "outputId": "f8dc8c69-bdc4-4dbd-caa7-9cd0b126ebc8"
      },
      "execution_count": null,
      "outputs": [
        {
          "output_type": "stream",
          "name": "stdout",
          "text": [
            "O número 8 é PAR\n"
          ]
        }
      ]
    },
    {
      "cell_type": "markdown",
      "source": [
        "Criança a adulto pela idade"
      ],
      "metadata": {
        "id": "ZRUbrGnUItkB"
      }
    },
    {
      "cell_type": "code",
      "source": [
        "idade = int(input(f'Qual a sua idade?: '))"
      ],
      "metadata": {
        "colab": {
          "base_uri": "https://localhost:8080/"
        },
        "id": "LZVZQR-ONPkH",
        "outputId": "87240d6e-4805-4879-9e28-4c81c0d66fd9"
      },
      "execution_count": null,
      "outputs": [
        {
          "name": "stdout",
          "output_type": "stream",
          "text": [
            "Qual a sua idade?: 35\n"
          ]
        }
      ]
    },
    {
      "cell_type": "code",
      "source": [
        "if idade <= 12:\n",
        "  print(f'Você é uma CRIANÇA!')\n",
        "elif idade > 12 and idade <= 17:\n",
        "  print(f'Você é um ADOLESCENTE!')\n",
        "elif idade > 17 and idade <= 24:\n",
        "  print(f'Você é um JOVEM!')\n",
        "elif idade > 24 and idade <= 34:\n",
        "  print(f'Você é um JOVEM ADULTO!')\n",
        "else:\n",
        "  print(f'Você é um ADULTO!')"
      ],
      "metadata": {
        "colab": {
          "base_uri": "https://localhost:8080/"
        },
        "id": "ZE8ika4RMHoO",
        "outputId": "ab5bda1d-000b-47b5-8515-c496fe511264"
      },
      "execution_count": null,
      "outputs": [
        {
          "output_type": "stream",
          "name": "stdout",
          "text": [
            "Você é um ADULTO!\n"
          ]
        }
      ]
    },
    {
      "cell_type": "markdown",
      "source": [
        "# **Estruturas Lógicas AND, OR, NOT, IS**"
      ],
      "metadata": {
        "id": "N_BP9VgVcnAJ"
      }
    },
    {
      "cell_type": "code",
      "source": [
        "ativo = False\n",
        "logado = True"
      ],
      "metadata": {
        "id": "f78iU5JAcwPL"
      },
      "execution_count": null,
      "outputs": []
    },
    {
      "cell_type": "code",
      "source": [
        "if ativo and logado:\n",
        "  print('Bem-vindo usuário!')\n",
        "else:\n",
        "  print('Você precisa ativar sua conta. Por favor, cheque seu e-mail!')"
      ],
      "metadata": {
        "colab": {
          "base_uri": "https://localhost:8080/"
        },
        "id": "a9zHVRe7d0cg",
        "outputId": "09d22929-d82e-4a2a-8bbd-cdedd2a55f8b"
      },
      "execution_count": null,
      "outputs": [
        {
          "output_type": "stream",
          "name": "stdout",
          "text": [
            "Você precisa ativar sua conta. Por favor, cheque seu e-mail!\n"
          ]
        }
      ]
    }
  ]
}