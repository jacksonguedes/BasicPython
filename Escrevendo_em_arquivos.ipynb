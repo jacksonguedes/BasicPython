{
  "nbformat": 4,
  "nbformat_minor": 0,
  "metadata": {
    "colab": {
      "provenance": [],
      "authorship_tag": "ABX9TyP1djccMag1aMbOWjlpzHZk",
      "include_colab_link": true
    },
    "kernelspec": {
      "name": "python3",
      "display_name": "Python 3"
    },
    "language_info": {
      "name": "python"
    }
  },
  "cells": [
    {
      "cell_type": "markdown",
      "metadata": {
        "id": "view-in-github",
        "colab_type": "text"
      },
      "source": [
        "<a href=\"https://colab.research.google.com/github/jacksonguedes/BasicPython/blob/main/Escrevendo_em_arquivos.ipynb\" target=\"_parent\"><img src=\"https://colab.research.google.com/assets/colab-badge.svg\" alt=\"Open In Colab\"/></a>"
      ]
    },
    {
      "cell_type": "markdown",
      "source": [
        "Forma 1"
      ],
      "metadata": {
        "id": "H60lg3o22R1O"
      }
    },
    {
      "cell_type": "code",
      "execution_count": 1,
      "metadata": {
        "id": "UWbTKb7O0aLS"
      },
      "outputs": [],
      "source": [
        "# Exemplo de escrita - modo 'w' - write (escrita)\n",
        "\n",
        "with open('novo.txt', 'w') as arquivo:\n",
        "  arquivo.write('Escrever dados em arquivo é muito fácil.\\n')\n",
        "  arquivo.write('Podemos colocar quantas linhas quisermos.\\n')\n",
        "  arquivo.write('Esta é a última linha.\\n')"
      ]
    },
    {
      "cell_type": "markdown",
      "source": [
        "Forma 2"
      ],
      "metadata": {
        "id": "XYTjZysW2UTl"
      }
    },
    {
      "cell_type": "code",
      "source": [
        "arquivo = open('mais.txt', 'w')\n",
        "arquivo.write('Um texto qualquer.\\n')\n",
        "arquivo.write('Mais um texto qualquer.')\n",
        "\n",
        "arquivo.close()"
      ],
      "metadata": {
        "id": "-zbAE-MG2VgS"
      },
      "execution_count": 2,
      "outputs": []
    },
    {
      "cell_type": "markdown",
      "source": [
        "Recebendo dados do usuário e escrevendo em arquivo"
      ],
      "metadata": {
        "id": "2fS99R7P3HB5"
      }
    },
    {
      "cell_type": "code",
      "source": [
        "with open('frutas.txt', 'w') as arquivo:\n",
        "  while True:\n",
        "    fruta = input('Informe uma fruta ou digite sair: ')\n",
        "    if fruta != 'sair':\n",
        "      arquivo.write(fruta + '\\n')\n",
        "    else:\n",
        "      break"
      ],
      "metadata": {
        "colab": {
          "base_uri": "https://localhost:8080/"
        },
        "id": "zUeB_3fX3KKd",
        "outputId": "32b94001-9ae0-408e-deef-ffb716562bbb"
      },
      "execution_count": 7,
      "outputs": [
        {
          "name": "stdout",
          "output_type": "stream",
          "text": [
            "Informe uma fruta ou digite sair: Banana\n",
            "Informe uma fruta ou digite sair: Morango\n",
            "Informe uma fruta ou digite sair: Uva\n",
            "Informe uma fruta ou digite sair: sair\n"
          ]
        }
      ]
    }
  ]
}