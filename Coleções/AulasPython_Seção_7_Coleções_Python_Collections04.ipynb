{
  "nbformat": 4,
  "nbformat_minor": 0,
  "metadata": {
    "colab": {
      "provenance": [],
      "authorship_tag": "ABX9TyMVRGnrsXe3v4RuPN1y57Mf",
      "include_colab_link": true
    },
    "kernelspec": {
      "name": "python3",
      "display_name": "Python 3"
    },
    "language_info": {
      "name": "python"
    }
  },
  "cells": [
    {
      "cell_type": "markdown",
      "metadata": {
        "id": "view-in-github",
        "colab_type": "text"
      },
      "source": [
        "<a href=\"https://colab.research.google.com/github/jacksonguedes/BasicPython/blob/main/AulasPython_Se%C3%A7%C3%A3o_7_Cole%C3%A7%C3%B5es_Python_Collections04.ipynb\" target=\"_parent\"><img src=\"https://colab.research.google.com/assets/colab-badge.svg\" alt=\"Open In Colab\"/></a>"
      ]
    },
    {
      "cell_type": "markdown",
      "source": [
        "# **Módulo Collections - Named Tuple**  \n",
        "Named Tuple -> São tuplas diferenciadas, onde especificamos um nome para a mesma e também parâmetros."
      ],
      "metadata": {
        "id": "4-yYmBTrYcgV"
      }
    },
    {
      "cell_type": "code",
      "execution_count": 3,
      "metadata": {
        "id": "tnkCnAIKYaai"
      },
      "outputs": [],
      "source": [
        "from collections import namedtuple"
      ]
    },
    {
      "cell_type": "markdown",
      "source": [
        "Definindo um nome e parâmetro"
      ],
      "metadata": {
        "id": "nbyHPzJ0ZPtv"
      }
    },
    {
      "cell_type": "markdown",
      "source": [
        "Forma 1 - Declaração Named Tuple"
      ],
      "metadata": {
        "id": "N34xex2aZUlY"
      }
    },
    {
      "cell_type": "code",
      "source": [
        "cachorro = namedtuple('cachorro','idade raça nome')"
      ],
      "metadata": {
        "id": "BdFohjiMZOis"
      },
      "execution_count": 4,
      "outputs": []
    },
    {
      "cell_type": "markdown",
      "source": [
        "Forma 2 - Declaração Named Tuple"
      ],
      "metadata": {
        "id": "eMQxbmCqZmcz"
      }
    },
    {
      "cell_type": "code",
      "source": [
        "cachorro = namedtuple('cachorro','idade, raça, nome')"
      ],
      "metadata": {
        "id": "5EPf53ETZw3T"
      },
      "execution_count": 5,
      "outputs": []
    },
    {
      "cell_type": "markdown",
      "source": [
        "Forma 3 - Declaração Named Tuple"
      ],
      "metadata": {
        "id": "KYQheCYRZzfF"
      }
    },
    {
      "cell_type": "code",
      "source": [
        "cachorro = namedtuple('cachorro',['idade', 'raça', 'nome'])"
      ],
      "metadata": {
        "id": "QVUJhe2qZ3O7"
      },
      "execution_count": 6,
      "outputs": []
    },
    {
      "cell_type": "markdown",
      "source": [
        "Aplicando"
      ],
      "metadata": {
        "id": "VCl2zAkvaH0u"
      }
    },
    {
      "cell_type": "code",
      "source": [
        "ray = cachorro(idade = 2, raça = 'Chow-Chow', nome = 'Ray')\n",
        "print(ray)"
      ],
      "metadata": {
        "colab": {
          "base_uri": "https://localhost:8080/"
        },
        "id": "V1JOvV9yaJnL",
        "outputId": "718496f9-7226-483a-acfd-a12ca1146ba4"
      },
      "execution_count": 8,
      "outputs": [
        {
          "output_type": "stream",
          "name": "stdout",
          "text": [
            "cachorro(idade=2, raça='Chow-Chow', nome='Ray')\n"
          ]
        }
      ]
    },
    {
      "cell_type": "markdown",
      "source": [
        "Acessando os dados"
      ],
      "metadata": {
        "id": "CwKJvd4ubTba"
      }
    },
    {
      "cell_type": "markdown",
      "source": [
        "Forma 1"
      ],
      "metadata": {
        "id": "s5ZNgTpabVIr"
      }
    },
    {
      "cell_type": "code",
      "source": [
        "print(ray[0])  # Idade\n",
        "print(ray[1])  # Raça\n",
        "print(ray[2])  # Nome"
      ],
      "metadata": {
        "colab": {
          "base_uri": "https://localhost:8080/"
        },
        "id": "l53bNKQQat21",
        "outputId": "cd34b59f-cb54-4637-f487-2b3c55f73215"
      },
      "execution_count": 9,
      "outputs": [
        {
          "output_type": "stream",
          "name": "stdout",
          "text": [
            "2\n",
            "Chow-Chow\n",
            "Ray\n"
          ]
        }
      ]
    },
    {
      "cell_type": "markdown",
      "source": [
        "Forma 2"
      ],
      "metadata": {
        "id": "7Z_QZjXMbWND"
      }
    },
    {
      "cell_type": "code",
      "source": [
        "print(ray.idade)\n",
        "print(ray.raça)\n",
        "print(ray.nome)"
      ],
      "metadata": {
        "colab": {
          "base_uri": "https://localhost:8080/"
        },
        "id": "mCfjXKtZbXZq",
        "outputId": "50879226-abb8-425f-cbce-a6cf291ad0be"
      },
      "execution_count": 10,
      "outputs": [
        {
          "output_type": "stream",
          "name": "stdout",
          "text": [
            "2\n",
            "Chow-Chow\n",
            "Ray\n"
          ]
        }
      ]
    },
    {
      "cell_type": "markdown",
      "source": [
        "Pelo index"
      ],
      "metadata": {
        "id": "xDoi_vZEbosy"
      }
    },
    {
      "cell_type": "code",
      "source": [
        "print(ray.index('Chow-Chow'))"
      ],
      "metadata": {
        "colab": {
          "base_uri": "https://localhost:8080/"
        },
        "id": "8J3iVxC7bn9b",
        "outputId": "f76a51fb-afad-493e-b7f8-db9e2bceacf3"
      },
      "execution_count": 11,
      "outputs": [
        {
          "output_type": "stream",
          "name": "stdout",
          "text": [
            "1\n"
          ]
        }
      ]
    },
    {
      "cell_type": "code",
      "source": [
        "print(ray.count('Chow-Chow')) # Nº de ocorrências"
      ],
      "metadata": {
        "colab": {
          "base_uri": "https://localhost:8080/"
        },
        "id": "E567rytMbyqq",
        "outputId": "c761b5de-6efa-4ca8-e32c-ac9c6d07775d"
      },
      "execution_count": 13,
      "outputs": [
        {
          "output_type": "stream",
          "name": "stdout",
          "text": [
            "1\n"
          ]
        }
      ]
    }
  ]
}
