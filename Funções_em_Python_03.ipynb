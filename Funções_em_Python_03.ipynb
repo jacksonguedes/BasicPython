{
  "nbformat": 4,
  "nbformat_minor": 0,
  "metadata": {
    "colab": {
      "provenance": [],
      "authorship_tag": "ABX9TyO6hSJxXcCzExvhzPaGFk4Q",
      "include_colab_link": true
    },
    "kernelspec": {
      "name": "python3",
      "display_name": "Python 3"
    },
    "language_info": {
      "name": "python"
    }
  },
  "cells": [
    {
      "cell_type": "markdown",
      "metadata": {
        "id": "view-in-github",
        "colab_type": "text"
      },
      "source": [
        "<a href=\"https://colab.research.google.com/github/jacksonguedes/BasicPython/blob/main/Fun%C3%A7%C3%B5es_em_Python_03.ipynb\" target=\"_parent\"><img src=\"https://colab.research.google.com/assets/colab-badge.svg\" alt=\"Open In Colab\"/></a>"
      ]
    },
    {
      "cell_type": "markdown",
      "source": [
        "# **Funções com parâmetros (de entrada)**"
      ],
      "metadata": {
        "id": "Jz6CS3-A0VEr"
      }
    },
    {
      "cell_type": "markdown",
      "source": [
        "Exemplo 1"
      ],
      "metadata": {
        "id": "5Vxqr8sp13TF"
      }
    },
    {
      "cell_type": "code",
      "execution_count": 5,
      "metadata": {
        "id": "U_ERu5YH0R6z"
      },
      "outputs": [],
      "source": [
        "def quadrado(numero):\n",
        "  return numero * numero"
      ]
    },
    {
      "cell_type": "code",
      "source": [
        "print(quadrado(7))\n",
        "print(quadrado(5))\n",
        "print(quadrado(3))"
      ],
      "metadata": {
        "colab": {
          "base_uri": "https://localhost:8080/"
        },
        "id": "fQ_RTEKb1OMP",
        "outputId": "a4a2593f-bcbe-42c3-b9df-6cd3e2a0d87e"
      },
      "execution_count": 6,
      "outputs": [
        {
          "output_type": "stream",
          "name": "stdout",
          "text": [
            "49\n",
            "25\n",
            "9\n"
          ]
        }
      ]
    },
    {
      "cell_type": "code",
      "source": [
        "print(quadrado()) # TypeError -> Não adicionou uma entrada"
      ],
      "metadata": {
        "colab": {
          "base_uri": "https://localhost:8080/",
          "height": 175
        },
        "id": "V2ODf9qL1uPp",
        "outputId": "2c3e8e19-6a60-4f7a-f117-09706349cb9a"
      },
      "execution_count": 7,
      "outputs": [
        {
          "output_type": "error",
          "ename": "TypeError",
          "evalue": "ignored",
          "traceback": [
            "\u001b[0;31m---------------------------------------------------------------------------\u001b[0m",
            "\u001b[0;31mTypeError\u001b[0m                                 Traceback (most recent call last)",
            "\u001b[0;32m<ipython-input-7-b45a0c770f0c>\u001b[0m in \u001b[0;36m<cell line: 1>\u001b[0;34m()\u001b[0m\n\u001b[0;32m----> 1\u001b[0;31m \u001b[0mprint\u001b[0m\u001b[0;34m(\u001b[0m\u001b[0mquadrado\u001b[0m\u001b[0;34m(\u001b[0m\u001b[0;34m)\u001b[0m\u001b[0;34m)\u001b[0m\u001b[0;34m\u001b[0m\u001b[0;34m\u001b[0m\u001b[0m\n\u001b[0m",
            "\u001b[0;31mTypeError\u001b[0m: quadrado() missing 1 required positional argument: 'numero'"
          ]
        }
      ]
    },
    {
      "cell_type": "markdown",
      "source": [
        "Exemplo 2"
      ],
      "metadata": {
        "id": "DHPOf0Aw14s5"
      }
    },
    {
      "cell_type": "code",
      "source": [
        "def cantar_parabens(aniversariante):\n",
        "  print('Parabéns pra você')\n",
        "  print('Nesta data querida')\n",
        "  print(f'Muitas felicidades, {aniversariante}!')"
      ],
      "metadata": {
        "id": "Pp2iuokY2ASX"
      },
      "execution_count": 13,
      "outputs": []
    },
    {
      "cell_type": "code",
      "source": [
        "print(cantar_parabens('Jackson Guedes'))"
      ],
      "metadata": {
        "colab": {
          "base_uri": "https://localhost:8080/"
        },
        "id": "DKtyR-XM2cvw",
        "outputId": "84feb949-7e30-40fc-dafd-509d96955954"
      },
      "execution_count": 14,
      "outputs": [
        {
          "output_type": "stream",
          "name": "stdout",
          "text": [
            "Parabéns pra você\n",
            "Nesta data querida\n",
            "Muitas felicidades, Jackson Guedes!\n",
            "None\n"
          ]
        }
      ]
    },
    {
      "cell_type": "code",
      "source": [
        "print(cantar_parabens('Mateus Souto'))"
      ],
      "metadata": {
        "colab": {
          "base_uri": "https://localhost:8080/"
        },
        "id": "qT7jzh7g2vxz",
        "outputId": "3c77c0dd-23de-46b5-e32f-7574d189d454"
      },
      "execution_count": 15,
      "outputs": [
        {
          "output_type": "stream",
          "name": "stdout",
          "text": [
            "Parabéns pra você\n",
            "Nesta data querida\n",
            "Muitas felicidades, Mateus Souto!\n",
            "None\n"
          ]
        }
      ]
    },
    {
      "cell_type": "code",
      "source": [
        "def msg(dia, mes, aniversariante):\n",
        "  print(f'Hoje, dia {dia}/{mes} queremos parabenizar o aluno {aniversariante} pelo seu aniversário!')"
      ],
      "metadata": {
        "id": "NlIYAF8N4Jgm"
      },
      "execution_count": 16,
      "outputs": []
    },
    {
      "cell_type": "code",
      "source": [
        "def parabens(dia, mes, aniversariante):\n",
        "  print(f'Dia: {dia}, mês: {mes} e aniversariante: {aniversariante}')\n",
        "  msg(dia, mes, aniversariante)\n"
      ],
      "metadata": {
        "id": "jzO-gSDZ3wlW"
      },
      "execution_count": 17,
      "outputs": []
    },
    {
      "cell_type": "code",
      "source": [
        "print(parabens(9, 6, 'Jackson'))"
      ],
      "metadata": {
        "colab": {
          "base_uri": "https://localhost:8080/"
        },
        "id": "V3TOy8m04w8d",
        "outputId": "d8978acd-dfd6-4abd-a2cd-7f5456dd54ca"
      },
      "execution_count": 19,
      "outputs": [
        {
          "output_type": "stream",
          "name": "stdout",
          "text": [
            "Dia: 9, mês: 6 e aniversariante: Jackson\n",
            "Hoje, dia 9/6 queremos parabenizar o aluno Jackson pelo seu aniversário!\n",
            "None\n"
          ]
        }
      ]
    },
    {
      "cell_type": "code",
      "source": [
        "def nome_completo(nome, sobrenome):\n",
        "  return f'Seu nome completo é {nome} {sobrenome}'"
      ],
      "metadata": {
        "id": "2upMROic_7FE"
      },
      "execution_count": 46,
      "outputs": []
    },
    {
      "cell_type": "code",
      "source": [
        "nome_completo('Jackson', 'Guedes')"
      ],
      "metadata": {
        "colab": {
          "base_uri": "https://localhost:8080/",
          "height": 35
        },
        "id": "-Uqx-6n3AHVo",
        "outputId": "e4a66dcb-cf0e-4619-9cb3-23b131be33e0"
      },
      "execution_count": 47,
      "outputs": [
        {
          "output_type": "execute_result",
          "data": {
            "text/plain": [
              "'Seu nome completo é Jackson Guedes'"
            ],
            "application/vnd.google.colaboratory.intrinsic+json": {
              "type": "string"
            }
          },
          "metadata": {},
          "execution_count": 47
        }
      ]
    },
    {
      "cell_type": "code",
      "source": [
        "import numpy as np"
      ],
      "metadata": {
        "id": "ivmKbhX-6XtN"
      },
      "execution_count": 40,
      "outputs": []
    },
    {
      "cell_type": "code",
      "source": [
        "def baskara(a, b, c):\n",
        "  delta = b**2 - 4 * a * c\n",
        "\n",
        "  if delta < 0:\n",
        "    sqrt_delta = np.sqrt(-delta) * 1j\n",
        "  else:\n",
        "    sqrt_delta = np.sqrt(delta)\n",
        "\n",
        "  x1 = (-b + sqrt_delta) / (2 * a)\n",
        "  x2 = (-b - sqrt_delta) / (2 * a)\n",
        "\n",
        "  return x1, x2"
      ],
      "metadata": {
        "id": "qEi_X33s57j1"
      },
      "execution_count": 43,
      "outputs": []
    },
    {
      "cell_type": "code",
      "source": [
        "num1, num2 = baskara(1,2,3)\n",
        "print(f'As raízes são: {num1} e {num2}')"
      ],
      "metadata": {
        "colab": {
          "base_uri": "https://localhost:8080/"
        },
        "id": "N0_U1TyI689o",
        "outputId": "7264331c-a60c-4331-d6c5-ccb85d513816"
      },
      "execution_count": 45,
      "outputs": [
        {
          "output_type": "stream",
          "name": "stdout",
          "text": [
            "As raízes são: (-1+1.4142135623730951j) e (-1-1.4142135623730951j)\n"
          ]
        }
      ]
    },
    {
      "cell_type": "markdown",
      "source": [
        "OBS: Se informarmos um número errado de parâmetros ou argumento, teremos TypeError   \n",
        "\n",
        "\n",
        "*   def soma(a, b):  \n",
        "\n",
        "*   def soma(2, 3)  \n",
        "\n",
        "'a' e 'b' são parâmetros  \n",
        "\n",
        "'2' e '3' são argumentos"
      ],
      "metadata": {
        "id": "xISBHmsg-kea"
      }
    },
    {
      "cell_type": "markdown",
      "source": [
        "Argumentos nomeados (Keyword Arguments)"
      ],
      "metadata": {
        "id": "YBHBvkA8BaLr"
      }
    },
    {
      "cell_type": "code",
      "source": [
        "nome = 'Yasmin'\n",
        "sobrenome = 'Hanna'\n",
        "print(nome_completo(nome ='Jackson', sobrenome = 'Guedes'))\n",
        "print(nome_completo(nome = nome, sobrenome = sobrenome))\n",
        "print(nome_completo(sobrenome = 'José', nome = 'Ribamar'))"
      ],
      "metadata": {
        "colab": {
          "base_uri": "https://localhost:8080/"
        },
        "id": "lyUtUv2H_Pjz",
        "outputId": "9aff93ab-70c0-41e4-d72f-7007785c93ea"
      },
      "execution_count": 53,
      "outputs": [
        {
          "output_type": "stream",
          "name": "stdout",
          "text": [
            "Seu nome completo é Jackson Guedes\n",
            "Seu nome completo é Yasmin Hanna\n",
            "Seu nome completo é Ribamar José\n"
          ]
        }
      ]
    },
    {
      "cell_type": "code",
      "source": [
        "print(nome_completo(a = 'Jackson', b = 'Guedes'))"
      ],
      "metadata": {
        "colab": {
          "base_uri": "https://localhost:8080/",
          "height": 175
        },
        "id": "5UQm6IoVCe8D",
        "outputId": "aecb2b04-29df-40a5-aea1-f7e426e82fd0"
      },
      "execution_count": 54,
      "outputs": [
        {
          "output_type": "error",
          "ename": "TypeError",
          "evalue": "ignored",
          "traceback": [
            "\u001b[0;31m---------------------------------------------------------------------------\u001b[0m",
            "\u001b[0;31mTypeError\u001b[0m                                 Traceback (most recent call last)",
            "\u001b[0;32m<ipython-input-54-5c20d846dc3c>\u001b[0m in \u001b[0;36m<cell line: 1>\u001b[0;34m()\u001b[0m\n\u001b[0;32m----> 1\u001b[0;31m \u001b[0mprint\u001b[0m\u001b[0;34m(\u001b[0m\u001b[0mnome_completo\u001b[0m\u001b[0;34m(\u001b[0m\u001b[0ma\u001b[0m \u001b[0;34m=\u001b[0m \u001b[0;34m'Jackson'\u001b[0m\u001b[0;34m,\u001b[0m \u001b[0mb\u001b[0m \u001b[0;34m=\u001b[0m \u001b[0;34m'Guedes'\u001b[0m\u001b[0;34m)\u001b[0m\u001b[0;34m)\u001b[0m\u001b[0;34m\u001b[0m\u001b[0;34m\u001b[0m\u001b[0m\n\u001b[0m",
            "\u001b[0;31mTypeError\u001b[0m: nome_completo() got an unexpected keyword argument 'a'"
          ]
        }
      ]
    },
    {
      "cell_type": "code",
      "source": [
        "def soma_impares(numeros):\n",
        "  total = 0\n",
        "  for num in numeros:\n",
        "    if num % 2 != 0:\n",
        "      total = total + num\n",
        "  return total\n",
        "\n",
        "  \"\"\"\n",
        "    ERRO: Colocar o return no if\n",
        "\n",
        "      def soma_impares(numeros):\n",
        "        total = 0\n",
        "        for num in numeros:\n",
        "          if num % 2 != 0:\n",
        "            total = total + num\n",
        "          return total\n",
        "  \"\"\""
      ],
      "metadata": {
        "id": "lptFtXUfDW8w"
      },
      "execution_count": 55,
      "outputs": []
    },
    {
      "cell_type": "code",
      "source": [
        "lista = [1, 2, 3, 4, 5, 6, 7]\n",
        "print(soma_impares(lista))"
      ],
      "metadata": {
        "colab": {
          "base_uri": "https://localhost:8080/"
        },
        "id": "54tWmfsdDoHj",
        "outputId": "19f0d28c-bcb7-4a7e-ea09-1b4dfa538ae0"
      },
      "execution_count": 56,
      "outputs": [
        {
          "output_type": "stream",
          "name": "stdout",
          "text": [
            "16\n"
          ]
        }
      ]
    },
    {
      "cell_type": "code",
      "source": [
        "def soma_impares(numeros):\n",
        "  total = 0\n",
        "  for num in numeros:\n",
        "    if num % 2 != 0:\n",
        "      total = total + num\n",
        "    return total"
      ],
      "metadata": {
        "id": "undjFLwmEPUZ"
      },
      "execution_count": 57,
      "outputs": []
    },
    {
      "cell_type": "code",
      "source": [
        "lista = [1, 2, 3, 4, 5, 6, 7]\n",
        "print(soma_impares(lista))"
      ],
      "metadata": {
        "colab": {
          "base_uri": "https://localhost:8080/"
        },
        "id": "R2W93nhxERXR",
        "outputId": "eadd37cf-fc74-46e8-ca35-94aecb9da4d1"
      },
      "execution_count": 58,
      "outputs": [
        {
          "output_type": "stream",
          "name": "stdout",
          "text": [
            "1\n"
          ]
        }
      ]
    }
  ]
}