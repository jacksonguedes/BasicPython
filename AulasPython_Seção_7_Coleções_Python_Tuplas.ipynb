{
  "nbformat": 4,
  "nbformat_minor": 0,
  "metadata": {
    "colab": {
      "provenance": [],
      "authorship_tag": "ABX9TyOuWWiSPS+fbBIKEJgyti8B",
      "include_colab_link": true
    },
    "kernelspec": {
      "name": "python3",
      "display_name": "Python 3"
    },
    "language_info": {
      "name": "python"
    }
  },
  "cells": [
    {
      "cell_type": "markdown",
      "metadata": {
        "id": "view-in-github",
        "colab_type": "text"
      },
      "source": [
        "<a href=\"https://colab.research.google.com/github/jacksonguedes/BasicPython/blob/main/AulasPython_Se%C3%A7%C3%A3o_7_Cole%C3%A7%C3%B5es_Python_Tuplas.ipynb\" target=\"_parent\"><img src=\"https://colab.research.google.com/assets/colab-badge.svg\" alt=\"Open In Colab\"/></a>"
      ]
    },
    {
      "cell_type": "markdown",
      "source": [
        "# **Tuplas**  \n",
        "São parecidas com as listas.  \n",
        "Existem basicamente duas diferenças básicas:\n",
        "\n",
        "\n",
        "*   Parênteses ()\n",
        "*   As tuplas são imutáveis. Não podem ser modificadas.   \n",
        "\n",
        "### Cuidado 1\n",
        "tupla1 = (1, 2, 3, 4)  \n",
        "tupla2 = 1, 2, 3, 4  \n",
        "Repare que as duas formas são tuplas  \n",
        "### Cuidado 2\n",
        "tupla3 = (4) -> Não é uma tupla, é um int.  \n",
        "tupla4 = (4,) -> É uma tupla.  \n",
        "\n",
        "### Conclusão: As tuplas são definidas pela vírgula.  \n",
        "tupla5 = 4, -> É uma tupla.\n"
      ],
      "metadata": {
        "id": "lFVhcxPuZNu0"
      }
    },
    {
      "cell_type": "markdown",
      "source": [
        "Gerando tuplas com range"
      ],
      "metadata": {
        "id": "MrpcDiETcsyb"
      }
    },
    {
      "cell_type": "code",
      "execution_count": null,
      "metadata": {
        "colab": {
          "base_uri": "https://localhost:8080/"
        },
        "id": "hkwV_3C0ZEQn",
        "outputId": "6c813458-fb80-4bc3-dfd2-6536075ad157"
      },
      "outputs": [
        {
          "output_type": "execute_result",
          "data": {
            "text/plain": [
              "(0, 1, 2, 3, 4, 5, 6, 7, 8, 9, 10)"
            ]
          },
          "metadata": {},
          "execution_count": 2
        }
      ],
      "source": [
        "tupla0 = tuple(range(11))\n",
        "tupla0"
      ]
    },
    {
      "cell_type": "markdown",
      "source": [
        "Desempacotamento de tupla"
      ],
      "metadata": {
        "id": "W2DCLc4Ccv8Z"
      }
    },
    {
      "cell_type": "code",
      "source": [
        "tupla1 = ('Jackson',  'Guedes')"
      ],
      "metadata": {
        "id": "FkzCD95DczX5"
      },
      "execution_count": null,
      "outputs": []
    },
    {
      "cell_type": "code",
      "source": [
        "nome, sobrenome = tupla1\n",
        "print(nome)\n",
        "print(sobrenome)"
      ],
      "metadata": {
        "colab": {
          "base_uri": "https://localhost:8080/"
        },
        "id": "S7vrLi-nc_q5",
        "outputId": "2aa17fa2-9c66-4c35-bbca-d2d4bbb27780"
      },
      "execution_count": null,
      "outputs": [
        {
          "output_type": "stream",
          "name": "stdout",
          "text": [
            "Jackson\n",
            "Guedes\n"
          ]
        }
      ]
    },
    {
      "cell_type": "markdown",
      "source": [
        "Valor Max, Min e Tamanho"
      ],
      "metadata": {
        "id": "iEaxHu3A9FFy"
      }
    },
    {
      "cell_type": "code",
      "source": [
        "tupla2 = (1, 78, 3, 31, 90, 11)\n",
        "\n",
        "print(max(tupla2))\n",
        "print(min(tupla2))\n",
        "print(len(tupla2))\n",
        "print(sum(tupla2))"
      ],
      "metadata": {
        "colab": {
          "base_uri": "https://localhost:8080/"
        },
        "id": "LzCQAgVH9Jpy",
        "outputId": "1e104c25-22f9-4442-9e15-a55fc7586888"
      },
      "execution_count": null,
      "outputs": [
        {
          "output_type": "stream",
          "name": "stdout",
          "text": [
            "90\n",
            "1\n",
            "6\n",
            "214\n"
          ]
        }
      ]
    },
    {
      "cell_type": "markdown",
      "source": [
        "Concatenação de tuplas"
      ],
      "metadata": {
        "id": "HIhq2AeI9t-i"
      }
    },
    {
      "cell_type": "code",
      "source": [
        "tupla3 = (1, 2, 3)\n",
        "tupla4 = (4, 5, 6)\n",
        "\n",
        "print(tupla3)\n",
        "print(tupla3 + tupla4) # Tuplas são imutáveis\n",
        "\n",
        "tupla5 = tupla3 + tupla4\n",
        "tupla3 = tupla3 + tupla5 # Tuplas são imutáveis, mas podemos sobrescrever seus valores\n",
        "\n",
        "print(tupla5)\n",
        "print(tupla3)"
      ],
      "metadata": {
        "colab": {
          "base_uri": "https://localhost:8080/"
        },
        "id": "Oi83lLMJ9wNO",
        "outputId": "a9577ec6-e4ad-4563-ac2c-e8698dc31d53"
      },
      "execution_count": null,
      "outputs": [
        {
          "output_type": "stream",
          "name": "stdout",
          "text": [
            "(1, 2, 3)\n",
            "(1, 2, 3, 4, 5, 6)\n",
            "(1, 2, 3, 4, 5, 6)\n",
            "(1, 2, 3, 1, 2, 3, 4, 5, 6)\n"
          ]
        }
      ]
    },
    {
      "cell_type": "markdown",
      "source": [
        "Verificando se determinado elemento está contido na tupla"
      ],
      "metadata": {
        "id": "HJKqrM9u_aKN"
      }
    },
    {
      "cell_type": "code",
      "source": [
        "tupla6 = (1,55,99)\n",
        "print(1 in tupla6)"
      ],
      "metadata": {
        "colab": {
          "base_uri": "https://localhost:8080/"
        },
        "id": "X1h9x78a_gN0",
        "outputId": "f6ba1b90-9268-4158-d5b4-9d29d83ca415"
      },
      "execution_count": null,
      "outputs": [
        {
          "output_type": "stream",
          "name": "stdout",
          "text": [
            "True\n"
          ]
        }
      ]
    },
    {
      "cell_type": "markdown",
      "source": [
        "Contando elementos dentro de uma tupla"
      ],
      "metadata": {
        "id": "8krpoqLvnNEL"
      }
    },
    {
      "cell_type": "code",
      "source": [
        "tupla7 = ('a', 'b', 'c','a','a','h','c','d')\n",
        "print(tupla7.count('a'))"
      ],
      "metadata": {
        "colab": {
          "base_uri": "https://localhost:8080/"
        },
        "id": "2C1qhlcqnRY1",
        "outputId": "3117895c-1016-4cda-8547-7d6f9d3d7498"
      },
      "execution_count": 3,
      "outputs": [
        {
          "output_type": "stream",
          "name": "stdout",
          "text": [
            "3\n"
          ]
        }
      ]
    },
    {
      "cell_type": "markdown",
      "source": [
        "Transformando uma string em tupla"
      ],
      "metadata": {
        "id": "Nt0GSuDRn0H8"
      }
    },
    {
      "cell_type": "code",
      "source": [
        "rua = tuple('Dom José de Medeiros')\n",
        "print(rua)"
      ],
      "metadata": {
        "colab": {
          "base_uri": "https://localhost:8080/"
        },
        "id": "q6rffvJVn6tO",
        "outputId": "b33bff3f-f2e1-4acb-87a3-849a569f22bd"
      },
      "execution_count": 4,
      "outputs": [
        {
          "output_type": "stream",
          "name": "stdout",
          "text": [
            "('D', 'o', 'm', ' ', 'J', 'o', 's', 'é', ' ', 'd', 'e', ' ', 'M', 'e', 'd', 'e', 'i', 'r', 'o', 's')\n"
          ]
        }
      ]
    },
    {
      "cell_type": "markdown",
      "source": [
        "### Devemos utilizar tuplas SEMPRE que não precisarmos modoficar os dados contidos em uma coleção"
      ],
      "metadata": {
        "id": "glBbYvW1oQCd"
      }
    },
    {
      "cell_type": "markdown",
      "source": [
        "Exemplo 1"
      ],
      "metadata": {
        "id": "ScopEDTkof6m"
      }
    },
    {
      "cell_type": "code",
      "source": [
        "meses_do_ano = ('Janeiro', 'Fevereiro', 'Março', 'Abril', 'Maio', 'Junho', 'Julho', 'Agosto', 'Setembro', 'Outubro', 'Novembro', 'Dezembro')\n",
        "# Faz mais sentido do que usar a lista. Ninguém pode modificar"
      ],
      "metadata": {
        "id": "53sWJId9odPW"
      },
      "execution_count": 7,
      "outputs": []
    },
    {
      "cell_type": "markdown",
      "source": [
        "Verificando em qual índice um elemento está na tupla"
      ],
      "metadata": {
        "id": "jM9E_o-Ro83k"
      }
    },
    {
      "cell_type": "code",
      "source": [
        "print(meses_do_ano.index('Junho'))"
      ],
      "metadata": {
        "colab": {
          "base_uri": "https://localhost:8080/"
        },
        "id": "GnEvNhcMpgU3",
        "outputId": "95a088a3-bc91-4b0b-a1a7-7a9e18a0f7d5"
      },
      "execution_count": 8,
      "outputs": [
        {
          "output_type": "stream",
          "name": "stdout",
          "text": [
            "5\n"
          ]
        }
      ]
    },
    {
      "cell_type": "markdown",
      "source": [
        "Por quê utilizar tuplas?  \n",
        "\n",
        "*   Tuplas são mais rápidas do que as listas\n",
        "*   Tuplas deixam o código mais seguro. Devidoa imutabilidade\n",
        "\n"
      ],
      "metadata": {
        "id": "caM4MYzBqXCl"
      }
    },
    {
      "cell_type": "markdown",
      "source": [
        "Copiando tupla para outra"
      ],
      "metadata": {
        "id": "8WMk45borBkj"
      }
    },
    {
      "cell_type": "code",
      "source": [
        "tupla8 = (1,2,3)\n",
        "print(tupla8)\n",
        "\n",
        "nova0 = tupla8\n",
        "\n",
        "print(nova0)\n",
        "print(tupla8)\n",
        "\n",
        "outra = (4,5,6)\n",
        "nova1 = nova0 + outra\n",
        "\n",
        "print(nova1)\n",
        "print(tupla8)"
      ],
      "metadata": {
        "colab": {
          "base_uri": "https://localhost:8080/"
        },
        "id": "LHf53n9tqyRd",
        "outputId": "d2bb8759-94dd-49a7-d6ac-4d18b264a771"
      },
      "execution_count": 9,
      "outputs": [
        {
          "output_type": "stream",
          "name": "stdout",
          "text": [
            "(1, 2, 3)\n",
            "(1, 2, 3)\n",
            "(1, 2, 3)\n",
            "(1, 2, 3, 4, 5, 6)\n",
            "(1, 2, 3)\n"
          ]
        }
      ]
    }
  ]
}