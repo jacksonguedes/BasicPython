{
  "nbformat": 4,
  "nbformat_minor": 0,
  "metadata": {
    "colab": {
      "provenance": [],
      "authorship_tag": "ABX9TyMl5AazylTnb72gWTVREDj4",
      "include_colab_link": true
    },
    "kernelspec": {
      "name": "python3",
      "display_name": "Python 3"
    },
    "language_info": {
      "name": "python"
    }
  },
  "cells": [
    {
      "cell_type": "markdown",
      "metadata": {
        "id": "view-in-github",
        "colab_type": "text"
      },
      "source": [
        "<a href=\"https://colab.research.google.com/github/jacksonguedes/BasicPython/blob/main/AulasPython_Se%C3%A7%C3%A3o_7_Cole%C3%A7%C3%B5es_Python_Collections02.ipynb\" target=\"_parent\"><img src=\"https://colab.research.google.com/assets/colab-badge.svg\" alt=\"Open In Colab\"/></a>"
      ]
    },
    {
      "cell_type": "markdown",
      "source": [
        "# **Módulo Collections - Default Dict**   \n",
        "\n",
        "Recaptulando dicionários   \n",
        "dicionario = {chave: valor}  \n",
        "print(dicionario) # chave : valor  \n",
        "print(dicionario['outro']) # KeyError   \n",
        "Default Dict -> Ao criar um dicionario utilizando-o, nós informamos um valor default, podendo utilizar um lambda para isso. Este valor será utilizando sempre que não houver um valor definido. Caso tentemos acessar uma chave que não existe, essa chave será criada e o valor default será atribuido  \n",
        "\n",
        "OBS: Lambdas são funções sem nome, que podem ou não receber parâmetros de entrada e retornar valores.\n"
      ],
      "metadata": {
        "id": "u6oB4Kz7gCmM"
      }
    },
    {
      "cell_type": "code",
      "execution_count": 1,
      "metadata": {
        "id": "RAJw0BUrf1ES"
      },
      "outputs": [],
      "source": [
        "from collections import defaultdict"
      ]
    },
    {
      "cell_type": "code",
      "source": [
        "dicionario = defaultdict(lambda: 0)"
      ],
      "metadata": {
        "id": "A8GYVQwhzy5e"
      },
      "execution_count": 2,
      "outputs": []
    },
    {
      "cell_type": "code",
      "source": [
        "print(dicionario)"
      ],
      "metadata": {
        "colab": {
          "base_uri": "https://localhost:8080/"
        },
        "id": "3-8UVmfjz5to",
        "outputId": "073591bf-d8cf-4fb8-94c5-5876269fc56e"
      },
      "execution_count": 3,
      "outputs": [
        {
          "output_type": "stream",
          "name": "stdout",
          "text": [
            "defaultdict(<function <lambda> at 0x7a51b4251b40>, {})\n"
          ]
        }
      ]
    },
    {
      "cell_type": "code",
      "source": [
        "dicionario['curso'] = 'Engenharia Elétrica'\n",
        "print(dicionario)"
      ],
      "metadata": {
        "colab": {
          "base_uri": "https://localhost:8080/"
        },
        "id": "ViIpySZy0TNU",
        "outputId": "2cf234e3-68d4-4e31-bdce-bf62b9c3a43d"
      },
      "execution_count": 5,
      "outputs": [
        {
          "output_type": "stream",
          "name": "stdout",
          "text": [
            "defaultdict(<function <lambda> at 0x7a51b4251b40>, {'curso': 'Engenharia Elétrica'})\n"
          ]
        }
      ]
    },
    {
      "cell_type": "code",
      "source": [
        "print(dicionario['outro'])\n",
        "print(dicionario)"
      ],
      "metadata": {
        "colab": {
          "base_uri": "https://localhost:8080/"
        },
        "id": "HH4BqNaj0emU",
        "outputId": "65c318d0-bf18-4efb-fccd-c4a2ba20efcc"
      },
      "execution_count": 6,
      "outputs": [
        {
          "output_type": "stream",
          "name": "stdout",
          "text": [
            "0\n",
            "defaultdict(<function <lambda> at 0x7a51b4251b40>, {'curso': 'Engenharia Elétrica', 'outro': 0})\n"
          ]
        }
      ]
    }
  ]
}