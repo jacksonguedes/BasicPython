{
  "nbformat": 4,
  "nbformat_minor": 0,
  "metadata": {
    "colab": {
      "provenance": [],
      "authorship_tag": "ABX9TyPoboYsvk7JEWQdWC5GE1ZU",
      "include_colab_link": true
    },
    "kernelspec": {
      "name": "python3",
      "display_name": "Python 3"
    },
    "language_info": {
      "name": "python"
    }
  },
  "cells": [
    {
      "cell_type": "markdown",
      "metadata": {
        "id": "view-in-github",
        "colab_type": "text"
      },
      "source": [
        "<a href=\"https://colab.research.google.com/github/jacksonguedes/BasicPython/blob/main/Generators.ipynb\" target=\"_parent\"><img src=\"https://colab.research.google.com/assets/colab-badge.svg\" alt=\"Open In Colab\"/></a>"
      ]
    },
    {
      "cell_type": "markdown",
      "source": [
        "# *Generator Expression*"
      ],
      "metadata": {
        "id": "UkBCq0ucXqqa"
      }
    },
    {
      "cell_type": "markdown",
      "source": [
        "Poderíamos ter feito utilizando Generators"
      ],
      "metadata": {
        "id": "SARNz0kHYgX6"
      }
    },
    {
      "cell_type": "code",
      "execution_count": 1,
      "metadata": {
        "id": "fKCf4O2fXmXK"
      },
      "outputs": [],
      "source": [
        "nomes = ['Carlos', 'Camila', 'Carla', 'Cassiano', 'Cristina', 'Vanessa']"
      ]
    },
    {
      "cell_type": "code",
      "source": [
        "print(any(nome[0] == 'C' for nome in nomes))"
      ],
      "metadata": {
        "colab": {
          "base_uri": "https://localhost:8080/"
        },
        "id": "ppmoxGq8YzpK",
        "outputId": "00557b56-69e5-4c64-9f46-5166c9354016"
      },
      "execution_count": 2,
      "outputs": [
        {
          "output_type": "stream",
          "name": "stdout",
          "text": [
            "True\n"
          ]
        }
      ]
    },
    {
      "cell_type": "markdown",
      "source": [
        "List Comprehension"
      ],
      "metadata": {
        "id": "gVjZG80hY-H4"
      }
    },
    {
      "cell_type": "code",
      "source": [
        "res = [nome[0] == 'C' for nome in nomes]\n",
        "print(type(res))\n",
        "print(res)"
      ],
      "metadata": {
        "colab": {
          "base_uri": "https://localhost:8080/"
        },
        "id": "CZpI689IY9dY",
        "outputId": "302f1d72-713f-4aec-d180-194788afef0f"
      },
      "execution_count": 5,
      "outputs": [
        {
          "output_type": "stream",
          "name": "stdout",
          "text": [
            "<class 'list'>\n",
            "[True, True, True, True, True, False]\n"
          ]
        }
      ]
    },
    {
      "cell_type": "markdown",
      "source": [
        "Generators"
      ],
      "metadata": {
        "id": "YXm7ss0QZX6J"
      }
    },
    {
      "cell_type": "code",
      "source": [
        "res = (nome[0] == 'C' for nome in nomes)\n",
        "print(type(res))\n",
        "print(res)"
      ],
      "metadata": {
        "colab": {
          "base_uri": "https://localhost:8080/"
        },
        "id": "4uQpe38ZZZZR",
        "outputId": "c6bd7ef1-656b-4099-cf38-bc0c57c9400d"
      },
      "execution_count": 6,
      "outputs": [
        {
          "output_type": "stream",
          "name": "stdout",
          "text": [
            "<class 'generator'>\n",
            "<generator object <genexpr> at 0x7f5b694ff5a0>\n"
          ]
        }
      ]
    },
    {
      "cell_type": "markdown",
      "source": [
        "getsizeof() -> Retorna a quantidade de bytes em memória do elemento passado como parâmetro"
      ],
      "metadata": {
        "id": "hG657h9daLg6"
      }
    },
    {
      "cell_type": "code",
      "source": [
        "from sys import getsizeof"
      ],
      "metadata": {
        "id": "p6lt15W8aWjQ"
      },
      "execution_count": 7,
      "outputs": []
    },
    {
      "cell_type": "code",
      "source": [
        "print(getsizeof('Geek'))\n",
        "print(getsizeof('Jackson'))\n",
        "print(getsizeof('Engenharia Elétrica'))"
      ],
      "metadata": {
        "colab": {
          "base_uri": "https://localhost:8080/"
        },
        "id": "9hfNg54Haaxo",
        "outputId": "5b6cc659-ca2d-4649-b12e-0ce51512f32f"
      },
      "execution_count": 9,
      "outputs": [
        {
          "output_type": "stream",
          "name": "stdout",
          "text": [
            "53\n",
            "56\n",
            "92\n"
          ]
        }
      ]
    },
    {
      "cell_type": "code",
      "source": [
        "print(getsizeof(9))\n",
        "print(getsizeof(91))\n",
        "print(getsizeof(9872163584273641))"
      ],
      "metadata": {
        "colab": {
          "base_uri": "https://localhost:8080/"
        },
        "id": "aOvQvGv3aw75",
        "outputId": "637548b8-4df6-44d7-b2a3-b7473cc211a3"
      },
      "execution_count": 15,
      "outputs": [
        {
          "output_type": "stream",
          "name": "stdout",
          "text": [
            "28\n",
            "28\n",
            "32\n"
          ]
        }
      ]
    },
    {
      "cell_type": "code",
      "source": [
        "print(getsizeof(True))"
      ],
      "metadata": {
        "colab": {
          "base_uri": "https://localhost:8080/"
        },
        "id": "-LUp46OsbIoY",
        "outputId": "861cf532-53ac-4044-dbba-6288b6ff5373"
      },
      "execution_count": 16,
      "outputs": [
        {
          "output_type": "stream",
          "name": "stdout",
          "text": [
            "28\n"
          ]
        }
      ]
    },
    {
      "cell_type": "markdown",
      "source": [
        "Comparando as memórias"
      ],
      "metadata": {
        "id": "VuR_R0JzbfNF"
      }
    },
    {
      "cell_type": "code",
      "source": [
        "# Gerando uma lista de números com List Comprehension\n",
        "list_comp = getsizeof([x * 10 for x in range(1000)])"
      ],
      "metadata": {
        "id": "qaSFywaSbheA"
      },
      "execution_count": 17,
      "outputs": []
    },
    {
      "cell_type": "code",
      "source": [
        "# Gerando uma lista de números com Set Comprehension\n",
        "set_comp = getsizeof({x * 10 for x in range(1000)})"
      ],
      "metadata": {
        "id": "5laWKLcfbwXA"
      },
      "execution_count": 18,
      "outputs": []
    },
    {
      "cell_type": "code",
      "source": [
        "# Gerando uma lista de números com Dictionary Comprehension\n",
        "dict_comp = getsizeof({x: x * 10 for x in range(1000)})"
      ],
      "metadata": {
        "id": "IDMTrTWRb4v_"
      },
      "execution_count": 19,
      "outputs": []
    },
    {
      "cell_type": "code",
      "source": [
        "# Gerando uma lista de números com Generator\n",
        "gen = getsizeof(x * 10 for x in range(1000))"
      ],
      "metadata": {
        "id": "MSlLbzipcF8_"
      },
      "execution_count": 20,
      "outputs": []
    },
    {
      "cell_type": "code",
      "source": [
        "print('Para fazer a mesma tarefa gastamos em memória: ')\n",
        "print(f'List Comprehension: {list_comp} bytes')\n",
        "print(f'Set Comprehension: {set_comp} bytes')\n",
        "print(f'Dictionary Comprehension: {dict_comp} bytes')\n",
        "print(f'Generator Expression: {gen} bytes')"
      ],
      "metadata": {
        "colab": {
          "base_uri": "https://localhost:8080/"
        },
        "id": "7VIJOwh8cTvQ",
        "outputId": "735407a3-b1a6-4c1e-daea-6944db89fe60"
      },
      "execution_count": 21,
      "outputs": [
        {
          "output_type": "stream",
          "name": "stdout",
          "text": [
            "Para fazer a mesma tarefa gastamos em memória: \n",
            "List Comprehension: 8856 bytes\n",
            "Set Comprehension: 32984 bytes\n",
            "Dictionary Comprehension: 36960 bytes\n",
            "Generator Expression: 104 bytes\n"
          ]
        }
      ]
    },
    {
      "cell_type": "markdown",
      "source": [
        "Iterando no Generator Expression"
      ],
      "metadata": {
        "id": "oTFai8aLdyZm"
      }
    },
    {
      "cell_type": "code",
      "source": [
        "gen = (x * 10 for x in range(20))\n",
        "\n",
        "for num in gen:\n",
        "  print(num)"
      ],
      "metadata": {
        "colab": {
          "base_uri": "https://localhost:8080/"
        },
        "id": "XLW387bLd2kI",
        "outputId": "d1717eb9-fd43-42e4-cc24-4f40ca75e64c"
      },
      "execution_count": 23,
      "outputs": [
        {
          "output_type": "stream",
          "name": "stdout",
          "text": [
            "0\n",
            "10\n",
            "20\n",
            "30\n",
            "40\n",
            "50\n",
            "60\n",
            "70\n",
            "80\n",
            "90\n",
            "100\n",
            "110\n",
            "120\n",
            "130\n",
            "140\n",
            "150\n",
            "160\n",
            "170\n",
            "180\n",
            "190\n"
          ]
        }
      ]
    }
  ]
}
