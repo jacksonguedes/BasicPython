{
  "nbformat": 4,
  "nbformat_minor": 0,
  "metadata": {
    "colab": {
      "provenance": [],
      "authorship_tag": "ABX9TyPhoBXZyNmxkDpUFCPO8oyF",
      "include_colab_link": true
    },
    "kernelspec": {
      "name": "python3",
      "display_name": "Python 3"
    },
    "language_info": {
      "name": "python"
    }
  },
  "cells": [
    {
      "cell_type": "markdown",
      "metadata": {
        "id": "view-in-github",
        "colab_type": "text"
      },
      "source": [
        "<a href=\"https://colab.research.google.com/github/jacksonguedes/BasicPython/blob/main/ZIP.ipynb\" target=\"_parent\"><img src=\"https://colab.research.google.com/assets/colab-badge.svg\" alt=\"Open In Colab\"/></a>"
      ]
    },
    {
      "cell_type": "markdown",
      "source": [
        "# **Zip**   \n",
        "zip() -> Cria um iterável (zip Object) que agrega elemento de cada um dos iteráveis passados como entrada."
      ],
      "metadata": {
        "id": "3g5euaDQeB0L"
      }
    },
    {
      "cell_type": "markdown",
      "source": [
        "**Exemplo**"
      ],
      "metadata": {
        "id": "W_EvAIl3eb7e"
      }
    },
    {
      "cell_type": "code",
      "execution_count": 1,
      "metadata": {
        "colab": {
          "base_uri": "https://localhost:8080/"
        },
        "id": "DTB2YjpNdbnc",
        "outputId": "aa1613f8-d521-4b72-e496-57adb78dd328"
      },
      "outputs": [
        {
          "output_type": "stream",
          "name": "stdout",
          "text": [
            "<zip object at 0x7d58aba24d40>\n",
            "<class 'zip'>\n"
          ]
        }
      ],
      "source": [
        "lista1 = [1,2,3]\n",
        "lista2 = [4,5,6]\n",
        "\n",
        "zip1 = zip(lista1, lista2)\n",
        "\n",
        "print(zip1)\n",
        "print(type(zip1))"
      ]
    },
    {
      "cell_type": "markdown",
      "source": [
        "Sempre podemos gerar uma Lista, Tupla, Set ou Dicionário."
      ],
      "metadata": {
        "id": "qa2KD-3FfC63"
      }
    },
    {
      "cell_type": "markdown",
      "source": [
        "**Lista**"
      ],
      "metadata": {
        "id": "l56jFFfsfLaU"
      }
    },
    {
      "cell_type": "code",
      "source": [
        "print(list(zip1))"
      ],
      "metadata": {
        "colab": {
          "base_uri": "https://localhost:8080/"
        },
        "id": "trxfFrXofNsW",
        "outputId": "89b34726-d334-4c02-8eb8-708e3b82d622"
      },
      "execution_count": 2,
      "outputs": [
        {
          "output_type": "stream",
          "name": "stdout",
          "text": [
            "[(1, 4), (2, 5), (3, 6)]\n"
          ]
        }
      ]
    },
    {
      "cell_type": "markdown",
      "source": [
        "**Tupla**"
      ],
      "metadata": {
        "id": "8yfmHl2cfRBk"
      }
    },
    {
      "cell_type": "code",
      "source": [
        "print(tuple(zip1))"
      ],
      "metadata": {
        "colab": {
          "base_uri": "https://localhost:8080/"
        },
        "id": "9ijWVJMsfTWE",
        "outputId": "7d12677e-f3ce-4ce2-f18a-c07ba037b06c"
      },
      "execution_count": 3,
      "outputs": [
        {
          "output_type": "stream",
          "name": "stdout",
          "text": [
            "()\n"
          ]
        }
      ]
    },
    {
      "cell_type": "markdown",
      "source": [
        "**Set**"
      ],
      "metadata": {
        "id": "nnDXs4s6fZck"
      }
    },
    {
      "cell_type": "code",
      "source": [
        "print(set(zip1))"
      ],
      "metadata": {
        "colab": {
          "base_uri": "https://localhost:8080/"
        },
        "id": "ZexDCnC9ff0O",
        "outputId": "c671f472-06b6-40b4-f26d-f8adf0fe0d73"
      },
      "execution_count": 4,
      "outputs": [
        {
          "output_type": "stream",
          "name": "stdout",
          "text": [
            "set()\n"
          ]
        }
      ]
    },
    {
      "cell_type": "markdown",
      "source": [
        "**Dict**"
      ],
      "metadata": {
        "id": "duwQfqAzfjLk"
      }
    },
    {
      "cell_type": "code",
      "source": [
        "print(dict(zip1))"
      ],
      "metadata": {
        "colab": {
          "base_uri": "https://localhost:8080/"
        },
        "id": "3Ep93Sndflz0",
        "outputId": "488e17e2-8dd3-4b96-ac7a-010c1af9b4d5"
      },
      "execution_count": 5,
      "outputs": [
        {
          "output_type": "stream",
          "name": "stdout",
          "text": [
            "{}\n"
          ]
        }
      ]
    },
    {
      "cell_type": "code",
      "source": [
        "zip1 = zip(lista1, lista2)\n",
        "print(tuple(zip1))"
      ],
      "metadata": {
        "colab": {
          "base_uri": "https://localhost:8080/"
        },
        "id": "jAqO-sl7gIL0",
        "outputId": "98b9c04a-04c8-48c6-aa35-d33d19b97ab6"
      },
      "execution_count": 7,
      "outputs": [
        {
          "output_type": "stream",
          "name": "stdout",
          "text": [
            "((1, 4), (2, 5), (3, 6))\n"
          ]
        }
      ]
    },
    {
      "cell_type": "code",
      "source": [
        "zip1 = zip(lista1, lista2)\n",
        "print(set(zip1))"
      ],
      "metadata": {
        "colab": {
          "base_uri": "https://localhost:8080/"
        },
        "id": "sly4WhVNgqvt",
        "outputId": "3326e991-2032-40fb-e1d4-2af38da46dfd"
      },
      "execution_count": 8,
      "outputs": [
        {
          "output_type": "stream",
          "name": "stdout",
          "text": [
            "{(2, 5), (1, 4), (3, 6)}\n"
          ]
        }
      ]
    },
    {
      "cell_type": "code",
      "source": [
        "zip1 = zip(lista1, lista2)\n",
        "print(dict(zip1))"
      ],
      "metadata": {
        "colab": {
          "base_uri": "https://localhost:8080/"
        },
        "id": "zU2I69DRgs7M",
        "outputId": "824f4086-5b50-4a39-8651-78b8edf65e9e"
      },
      "execution_count": 9,
      "outputs": [
        {
          "output_type": "stream",
          "name": "stdout",
          "text": [
            "{1: 4, 2: 5, 3: 6}\n"
          ]
        }
      ]
    },
    {
      "cell_type": "markdown",
      "source": [
        "OBS: O zip() utiliza como parâmetro o menor tamanho em iterável. Ou seja, isso significa que se estiver trabalhando com iteráveis de tamanhos diferentes, irá parar quando os elementos do menor iterável acabar."
      ],
      "metadata": {
        "id": "rl_8Zs1YhO80"
      }
    },
    {
      "cell_type": "code",
      "source": [
        "lista1 = [1,2,3]\n",
        "lista2 = [4,5,6]\n",
        "lista3 = [7,8,9,10,11]"
      ],
      "metadata": {
        "id": "ZaMMhyleh0uK"
      },
      "execution_count": 13,
      "outputs": []
    },
    {
      "cell_type": "code",
      "source": [
        "zip1 = zip(lista1, lista2, lista3)\n",
        "print(list(zip1))"
      ],
      "metadata": {
        "colab": {
          "base_uri": "https://localhost:8080/"
        },
        "id": "YpRdlNg5h4q1",
        "outputId": "77b65dd2-5337-40a9-be52-2028562c797a"
      },
      "execution_count": 12,
      "outputs": [
        {
          "output_type": "stream",
          "name": "stdout",
          "text": [
            "[(1, 4, 7), (2, 5, 8), (3, 6, 9)]\n"
          ]
        }
      ]
    },
    {
      "cell_type": "code",
      "source": [
        "zip1 = zip(lista3, lista2, lista1)\n",
        "print(list(zip1))"
      ],
      "metadata": {
        "colab": {
          "base_uri": "https://localhost:8080/"
        },
        "id": "IjyVH_40iJ4L",
        "outputId": "be13dea8-7d3d-42f2-a8e5-b7edb1939294"
      },
      "execution_count": 14,
      "outputs": [
        {
          "output_type": "stream",
          "name": "stdout",
          "text": [
            "[(7, 4, 1), (8, 5, 2), (9, 6, 3)]\n"
          ]
        }
      ]
    },
    {
      "cell_type": "markdown",
      "source": [
        "Podemos utilizar diferentes iteráveis com zip"
      ],
      "metadata": {
        "id": "01US91PwimN1"
      }
    },
    {
      "cell_type": "code",
      "source": [
        "tupla = 1,2,3,4,5\n",
        "lista = [6,7,8,9,10]\n",
        "dicionario = {'a': 11, 'b': 12, 'c': 13, 'd': 14, 'e': 15}\n",
        "\n",
        "zt = zip(tupla, lista, dicionario.values())\n",
        "print(list(zt))"
      ],
      "metadata": {
        "colab": {
          "base_uri": "https://localhost:8080/"
        },
        "id": "kiqGp5taiqsc",
        "outputId": "acdbe1e9-7d9e-4707-92a9-11b253cc9f3f"
      },
      "execution_count": 15,
      "outputs": [
        {
          "output_type": "stream",
          "name": "stdout",
          "text": [
            "[(1, 6, 11), (2, 7, 12), (3, 8, 13), (4, 9, 14), (5, 10, 15)]\n"
          ]
        }
      ]
    },
    {
      "cell_type": "markdown",
      "source": [
        "Lista de tuplas"
      ],
      "metadata": {
        "id": "FFQYF2dujSRe"
      }
    },
    {
      "cell_type": "code",
      "source": [
        "dados = [(0, 1), (1, 2), (2, 3), (3, 4), (4, 5)]\n",
        "print(list(zip(*dados)))"
      ],
      "metadata": {
        "colab": {
          "base_uri": "https://localhost:8080/"
        },
        "id": "clT7qmLPjT5U",
        "outputId": "eba43241-d3c2-4a8a-dd7b-be2a2ca7b0cb"
      },
      "execution_count": 16,
      "outputs": [
        {
          "output_type": "stream",
          "name": "stdout",
          "text": [
            "[(0, 1, 2, 3, 4), (1, 2, 3, 4, 5)]\n"
          ]
        }
      ]
    },
    {
      "cell_type": "markdown",
      "source": [
        "Exemplos mais complexos"
      ],
      "metadata": {
        "id": "djYAwxlpjp5O"
      }
    },
    {
      "cell_type": "code",
      "source": [
        "prova1 = [80, 91, 78]\n",
        "prova2 = [98, 89, 53]\n",
        "alunos = ['maria', 'pedro', 'carla']\n",
        "\n",
        "final = {dado[0]: max(dado[1], dado[2]) for dado in zip(alunos, prova1, prova2)}\n",
        "print(final)"
      ],
      "metadata": {
        "colab": {
          "base_uri": "https://localhost:8080/"
        },
        "id": "Z8uluOMojsk3",
        "outputId": "385e24a0-2234-41bd-e114-346ad965b1b0"
      },
      "execution_count": 18,
      "outputs": [
        {
          "output_type": "stream",
          "name": "stdout",
          "text": [
            "{'maria': 98, 'pedro': 91, 'carla': 78}\n"
          ]
        }
      ]
    },
    {
      "cell_type": "markdown",
      "source": [
        "Utilizando o map()"
      ],
      "metadata": {
        "id": "v780fSD5k1fW"
      }
    },
    {
      "cell_type": "code",
      "source": [
        "final = zip(alunos, map(lambda nota: max(nota), zip(prova1, prova2)))\n",
        "print(dict(final))"
      ],
      "metadata": {
        "colab": {
          "base_uri": "https://localhost:8080/"
        },
        "id": "C42Dfy5nk3l4",
        "outputId": "aacd0fbc-1773-4579-91b2-bb87d265f8f1"
      },
      "execution_count": 19,
      "outputs": [
        {
          "output_type": "stream",
          "name": "stdout",
          "text": [
            "{'maria': 98, 'pedro': 91, 'carla': 78}\n"
          ]
        }
      ]
    }
  ]
}