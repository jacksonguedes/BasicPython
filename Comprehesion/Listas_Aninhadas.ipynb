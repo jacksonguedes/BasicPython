{
  "nbformat": 4,
  "nbformat_minor": 0,
  "metadata": {
    "colab": {
      "provenance": [],
      "authorship_tag": "ABX9TyPpStC+fh8RZVcWO8fKybCq",
      "include_colab_link": true
    },
    "kernelspec": {
      "name": "python3",
      "display_name": "Python 3"
    },
    "language_info": {
      "name": "python"
    }
  },
  "cells": [
    {
      "cell_type": "markdown",
      "metadata": {
        "id": "view-in-github",
        "colab_type": "text"
      },
      "source": [
        "<a href=\"https://colab.research.google.com/github/jacksonguedes/BasicPython/blob/main/Listas_Aninhadas.ipynb\" target=\"_parent\"><img src=\"https://colab.research.google.com/assets/colab-badge.svg\" alt=\"Open In Colab\"/></a>"
      ]
    },
    {
      "cell_type": "markdown",
      "source": [
        "# **Listas Aninhadas**"
      ],
      "metadata": {
        "id": "d-kt7lbpchO6"
      }
    },
    {
      "cell_type": "code",
      "execution_count": 1,
      "metadata": {
        "id": "0yWx8kY8ccGs"
      },
      "outputs": [],
      "source": [
        "listas = [[1, 2, 3], [4, 5, 6], [7, 8, 9]]"
      ]
    },
    {
      "cell_type": "code",
      "source": [
        "print(listas)"
      ],
      "metadata": {
        "colab": {
          "base_uri": "https://localhost:8080/"
        },
        "id": "jIlZjNhudxha",
        "outputId": "0466d261-ef78-43bd-c8e3-167c65e0d793"
      },
      "execution_count": 2,
      "outputs": [
        {
          "output_type": "stream",
          "name": "stdout",
          "text": [
            "[[1, 2, 3], [4, 5, 6], [7, 8, 9]]\n"
          ]
        }
      ]
    },
    {
      "cell_type": "markdown",
      "source": [
        "Acessando os dados"
      ],
      "metadata": {
        "id": "92hgExUhd1Jz"
      }
    },
    {
      "cell_type": "code",
      "source": [
        "print(listas[0][1]) # 2\n",
        "print(listas[2][0]) # 7"
      ],
      "metadata": {
        "colab": {
          "base_uri": "https://localhost:8080/"
        },
        "id": "XnTBK0mYdzNY",
        "outputId": "c9152162-5be8-4c11-a3b7-da1fbad4a9ca"
      },
      "execution_count": 4,
      "outputs": [
        {
          "output_type": "stream",
          "name": "stdout",
          "text": [
            "2\n",
            "7\n"
          ]
        }
      ]
    },
    {
      "cell_type": "markdown",
      "source": [
        "Iterando com loops em uma lista aninhada"
      ],
      "metadata": {
        "id": "NerHSteoecHj"
      }
    },
    {
      "cell_type": "code",
      "source": [
        "for lista in listas:\n",
        "  print(lista)"
      ],
      "metadata": {
        "colab": {
          "base_uri": "https://localhost:8080/"
        },
        "id": "no5CZ8bOefuK",
        "outputId": "fae9cf60-b13d-4ade-acd8-282f9367f9ec"
      },
      "execution_count": 5,
      "outputs": [
        {
          "output_type": "stream",
          "name": "stdout",
          "text": [
            "[1, 2, 3]\n",
            "[4, 5, 6]\n",
            "[7, 8, 9]\n"
          ]
        }
      ]
    },
    {
      "cell_type": "code",
      "source": [
        "for lista in listas:\n",
        "  for num in lista:\n",
        "    print(num)"
      ],
      "metadata": {
        "colab": {
          "base_uri": "https://localhost:8080/"
        },
        "id": "vEhyeJQheqBa",
        "outputId": "2060c848-8336-4566-f488-f03b754d3bd9"
      },
      "execution_count": 7,
      "outputs": [
        {
          "output_type": "stream",
          "name": "stdout",
          "text": [
            "1\n",
            "2\n",
            "3\n",
            "4\n",
            "5\n",
            "6\n",
            "7\n",
            "8\n",
            "9\n"
          ]
        }
      ]
    },
    {
      "cell_type": "markdown",
      "source": [
        "List Comprehesion"
      ],
      "metadata": {
        "id": "AdAKfdyqe_C9"
      }
    },
    {
      "cell_type": "code",
      "source": [
        "[[print(valor) for valor in lista] for lista in listas]"
      ],
      "metadata": {
        "colab": {
          "base_uri": "https://localhost:8080/"
        },
        "id": "u1oUZHAZe-l8",
        "outputId": "e7e7156c-3bbe-49a9-ba97-477a8598e3c0"
      },
      "execution_count": 8,
      "outputs": [
        {
          "output_type": "stream",
          "name": "stdout",
          "text": [
            "1\n",
            "2\n",
            "3\n",
            "4\n",
            "5\n",
            "6\n",
            "7\n",
            "8\n",
            "9\n"
          ]
        },
        {
          "output_type": "execute_result",
          "data": {
            "text/plain": [
              "[[None, None, None], [None, None, None], [None, None, None]]"
            ]
          },
          "metadata": {},
          "execution_count": 8
        }
      ]
    },
    {
      "cell_type": "markdown",
      "source": [
        "Gerando um tabuleiro/matrix 3x3"
      ],
      "metadata": {
        "id": "FTUpB2LGhXQE"
      }
    },
    {
      "cell_type": "code",
      "source": [
        "tabuleiro = [[numero for numero in range(1, 4)] for valor in range(1, 4)]\n",
        "print(tabuleiro)"
      ],
      "metadata": {
        "colab": {
          "base_uri": "https://localhost:8080/"
        },
        "id": "KIlOWw1Ihjrr",
        "outputId": "aa902e17-7e46-424f-dc9d-fec2618d5a4d"
      },
      "execution_count": 10,
      "outputs": [
        {
          "output_type": "stream",
          "name": "stdout",
          "text": [
            "[[1, 2, 3], [1, 2, 3], [1, 2, 3]]\n"
          ]
        }
      ]
    },
    {
      "cell_type": "markdown",
      "source": [
        "Gerando Jogo da velha"
      ],
      "metadata": {
        "id": "Poj_N0e3iRgS"
      }
    },
    {
      "cell_type": "code",
      "source": [
        "velha = [['X' if numero % 2 == 0 else 'O' for numero in range(1, 4)] for valor in range(1, 4)]\n",
        "print(velha)"
      ],
      "metadata": {
        "colab": {
          "base_uri": "https://localhost:8080/"
        },
        "id": "8CE1iH50hw0r",
        "outputId": "6586739a-7cdc-40d5-da28-11d3cae3df9e"
      },
      "execution_count": 11,
      "outputs": [
        {
          "output_type": "stream",
          "name": "stdout",
          "text": [
            "[['O', 'X', 'O'], ['O', 'X', 'O'], ['O', 'X', 'O']]\n"
          ]
        }
      ]
    }
  ]
}
