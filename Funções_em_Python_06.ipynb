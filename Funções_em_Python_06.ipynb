{
  "nbformat": 4,
  "nbformat_minor": 0,
  "metadata": {
    "colab": {
      "provenance": [],
      "authorship_tag": "ABX9TyP6RsyMM2mtRDtu9SlPXB88",
      "include_colab_link": true
    },
    "kernelspec": {
      "name": "python3",
      "display_name": "Python 3"
    },
    "language_info": {
      "name": "python"
    }
  },
  "cells": [
    {
      "cell_type": "markdown",
      "metadata": {
        "id": "view-in-github",
        "colab_type": "text"
      },
      "source": [
        "<a href=\"https://colab.research.google.com/github/jacksonguedes/BasicPython/blob/main/Fun%C3%A7%C3%B5es_em_Python_06.ipynb\" target=\"_parent\"><img src=\"https://colab.research.google.com/assets/colab-badge.svg\" alt=\"Open In Colab\"/></a>"
      ]
    },
    {
      "cell_type": "markdown",
      "source": [
        "# **Entendendo o *args**\n",
        "- O *args é um parâmetro, como outro qualquer. Isso significa que você poderá chamar de qualquer coisa, desde que começa com asterisco.  \n",
        "\n",
        "Exemplo:  \n",
        "- *xis  \n",
        "Mas por convenção, utilizamos *args para definí-lo  \n",
        "- Mas o que é o *args?  \n",
        "O parâmetro *args utilizado em uma função, coloca os valores extras informados como entrada em uma tupla. Então, desde já lembre-se que tuplas são imutáveis."
      ],
      "metadata": {
        "id": "iqBO99F3PfLP"
      }
    },
    {
      "cell_type": "markdown",
      "source": [
        "Exemplos 1"
      ],
      "metadata": {
        "id": "6T7l659hQ997"
      }
    },
    {
      "cell_type": "code",
      "execution_count": 1,
      "metadata": {
        "id": "P9mBSwWPPWX_"
      },
      "outputs": [],
      "source": [
        "def soma_todos_numeros(num1, num2, num3):\n",
        "  return num1 + num2 + num3"
      ]
    },
    {
      "cell_type": "code",
      "source": [
        "soma_todos_numeros(2, 3, 4)"
      ],
      "metadata": {
        "colab": {
          "base_uri": "https://localhost:8080/"
        },
        "id": "WQPJy6lvROJj",
        "outputId": "52530875-a50d-419d-d188-324b755b7ad2"
      },
      "execution_count": 2,
      "outputs": [
        {
          "output_type": "execute_result",
          "data": {
            "text/plain": [
              "9"
            ]
          },
          "metadata": {},
          "execution_count": 2
        }
      ]
    },
    {
      "cell_type": "markdown",
      "source": [
        "Se eu quiser adicionar mais um número, teria que adicionar mais um argumento."
      ],
      "metadata": {
        "id": "931qgm8WRhVo"
      }
    },
    {
      "cell_type": "markdown",
      "source": [
        "Entendendo o args"
      ],
      "metadata": {
        "id": "vD9kSwhVRpiI"
      }
    },
    {
      "cell_type": "code",
      "source": [
        "def soma_todos_numeros(*args):\n",
        "  total = 0\n",
        "  for numero in args:\n",
        "    total = total + 1\n",
        "  return total"
      ],
      "metadata": {
        "id": "GL1b1c-oRrai"
      },
      "execution_count": 3,
      "outputs": []
    },
    {
      "cell_type": "code",
      "source": [
        "print(soma_todos_numeros())\n",
        "print(soma_todos_numeros(1))\n",
        "print(soma_todos_numeros(2, 3))\n",
        "print(soma_todos_numeros(2, 3, 4))\n",
        "print(soma_todos_numeros(3, 4, 5, 6))"
      ],
      "metadata": {
        "colab": {
          "base_uri": "https://localhost:8080/"
        },
        "id": "jDJqv8H6SPBg",
        "outputId": "ef5f23a6-335c-490b-e085-0ab603bc89dd"
      },
      "execution_count": 4,
      "outputs": [
        {
          "output_type": "stream",
          "name": "stdout",
          "text": [
            "0\n",
            "1\n",
            "2\n",
            "3\n",
            "4\n"
          ]
        }
      ]
    },
    {
      "cell_type": "code",
      "source": [
        "def soma_todos_numeros(*args):\n",
        "  return sum(args)"
      ],
      "metadata": {
        "id": "ACAb6oNwS4Fp"
      },
      "execution_count": 5,
      "outputs": []
    },
    {
      "cell_type": "code",
      "source": [
        "print(soma_todos_numeros())\n",
        "print(soma_todos_numeros(1))\n",
        "print(soma_todos_numeros(2, 3))\n",
        "print(soma_todos_numeros(2, 3, 4))\n",
        "print(soma_todos_numeros(3, 4, 5, 6))"
      ],
      "metadata": {
        "colab": {
          "base_uri": "https://localhost:8080/"
        },
        "id": "blKwJB07TBT3",
        "outputId": "fa765000-8efb-4b25-bc8f-6f5028ead80e"
      },
      "execution_count": 6,
      "outputs": [
        {
          "output_type": "stream",
          "name": "stdout",
          "text": [
            "0\n",
            "1\n",
            "5\n",
            "9\n",
            "18\n"
          ]
        }
      ]
    },
    {
      "cell_type": "markdown",
      "source": [
        "Outro exemplo de utilização do  *args"
      ],
      "metadata": {
        "id": "9uUok_5wTj6s"
      }
    },
    {
      "cell_type": "code",
      "source": [
        "def verifica_info(*args):\n",
        "  if 'Geek' in args and 'University' in args:\n",
        "    return'Bem-vindo Geek!'\n",
        "  return 'Eu não tenho certeza quem você é . . .'"
      ],
      "metadata": {
        "id": "852DcTiBTnVp"
      },
      "execution_count": 7,
      "outputs": []
    },
    {
      "cell_type": "code",
      "source": [
        "print(verifica_info())\n",
        "print(verifica_info(1, True, 'University', 'Geek'))\n",
        "print(1, 'University', 3.145)"
      ],
      "metadata": {
        "colab": {
          "base_uri": "https://localhost:8080/"
        },
        "id": "xQN58EC8Wxk-",
        "outputId": "c8991366-c9d4-4f80-cce7-63f25d041aa5"
      },
      "execution_count": 8,
      "outputs": [
        {
          "output_type": "stream",
          "name": "stdout",
          "text": [
            "Eu não tenho certeza quem você é . . .\n",
            "Bem-vindo Geek!\n",
            "1 University 3.145\n"
          ]
        }
      ]
    },
    {
      "cell_type": "code",
      "source": [
        "def soma_todos_numeros(*args):\n",
        "  return sum(args)"
      ],
      "metadata": {
        "id": "nwYG9UlAthv_"
      },
      "execution_count": 9,
      "outputs": []
    },
    {
      "cell_type": "code",
      "source": [
        "numeros = [1, 2, 3, 4, 5, 6, 7]"
      ],
      "metadata": {
        "id": "nWbofkjgtn5z"
      },
      "execution_count": 10,
      "outputs": []
    },
    {
      "cell_type": "code",
      "source": [
        "print(soma_todos_numeros(numeros))"
      ],
      "metadata": {
        "colab": {
          "base_uri": "https://localhost:8080/",
          "height": 245
        },
        "id": "0SKF0Ipvttr6",
        "outputId": "3a3cc9b9-0be5-41ac-ce81-387d67280162"
      },
      "execution_count": 11,
      "outputs": [
        {
          "output_type": "error",
          "ename": "TypeError",
          "evalue": "ignored",
          "traceback": [
            "\u001b[0;31m---------------------------------------------------------------------------\u001b[0m",
            "\u001b[0;31mTypeError\u001b[0m                                 Traceback (most recent call last)",
            "\u001b[0;32m<ipython-input-11-2ad8558e1498>\u001b[0m in \u001b[0;36m<cell line: 1>\u001b[0;34m()\u001b[0m\n\u001b[0;32m----> 1\u001b[0;31m \u001b[0mprint\u001b[0m\u001b[0;34m(\u001b[0m\u001b[0msoma_todos_numeros\u001b[0m\u001b[0;34m(\u001b[0m\u001b[0mnumeros\u001b[0m\u001b[0;34m)\u001b[0m\u001b[0;34m)\u001b[0m\u001b[0;34m\u001b[0m\u001b[0;34m\u001b[0m\u001b[0m\n\u001b[0m",
            "\u001b[0;32m<ipython-input-9-8170f675b114>\u001b[0m in \u001b[0;36msoma_todos_numeros\u001b[0;34m(*args)\u001b[0m\n\u001b[1;32m      1\u001b[0m \u001b[0;32mdef\u001b[0m \u001b[0msoma_todos_numeros\u001b[0m\u001b[0;34m(\u001b[0m\u001b[0;34m*\u001b[0m\u001b[0margs\u001b[0m\u001b[0;34m)\u001b[0m\u001b[0;34m:\u001b[0m\u001b[0;34m\u001b[0m\u001b[0;34m\u001b[0m\u001b[0m\n\u001b[0;32m----> 2\u001b[0;31m   \u001b[0;32mreturn\u001b[0m \u001b[0msum\u001b[0m\u001b[0;34m(\u001b[0m\u001b[0margs\u001b[0m\u001b[0;34m)\u001b[0m\u001b[0;34m\u001b[0m\u001b[0;34m\u001b[0m\u001b[0m\n\u001b[0m",
            "\u001b[0;31mTypeError\u001b[0m: unsupported operand type(s) for +: 'int' and 'list'"
          ]
        }
      ]
    },
    {
      "cell_type": "markdown",
      "source": [
        "Desempacotando, temos:"
      ],
      "metadata": {
        "id": "sPcTeGcrty2Q"
      }
    },
    {
      "cell_type": "code",
      "source": [
        "num1, num2, num3, num4, num5, num6, num7 = numeros"
      ],
      "metadata": {
        "id": "AETcnM2dt2GC"
      },
      "execution_count": 12,
      "outputs": []
    },
    {
      "cell_type": "code",
      "source": [
        "print(soma_todos_numeros(num1, num2, num3, num4, num5, num6, num7))"
      ],
      "metadata": {
        "colab": {
          "base_uri": "https://localhost:8080/"
        },
        "id": "oaZyzmGPuB9L",
        "outputId": "1ed22287-cf16-42ee-e97f-e166767fa8de"
      },
      "execution_count": 13,
      "outputs": [
        {
          "output_type": "stream",
          "name": "stdout",
          "text": [
            "28\n"
          ]
        }
      ]
    },
    {
      "cell_type": "markdown",
      "source": [
        "Existe uma forma mais fácil de desempacotamento:"
      ],
      "metadata": {
        "id": "GTbbD7kduILt"
      }
    },
    {
      "cell_type": "code",
      "source": [
        "print(soma_todos_numeros(*numeros)) # Desempacotando a lista -> *numeros"
      ],
      "metadata": {
        "colab": {
          "base_uri": "https://localhost:8080/"
        },
        "id": "3patYcujuNYx",
        "outputId": "9e209709-ef0c-4699-e497-06fae772e3aa"
      },
      "execution_count": 14,
      "outputs": [
        {
          "output_type": "stream",
          "name": "stdout",
          "text": [
            "28\n"
          ]
        }
      ]
    },
    {
      "cell_type": "markdown",
      "source": [
        "O asterísco serve para que informemos ao Python que estamos passando como argumento uma coleção de dados. Desta forma, ele saberá que precisará desempacotar estes dados antes de utilizá-los"
      ],
      "metadata": {
        "id": "4UtgKjwUuhn0"
      }
    }
  ]
}