{
  "nbformat": 4,
  "nbformat_minor": 0,
  "metadata": {
    "colab": {
      "provenance": [],
      "authorship_tag": "ABX9TyM543Bi2NkkBWauAKw13Ob0",
      "include_colab_link": true
    },
    "kernelspec": {
      "name": "python3",
      "display_name": "Python 3"
    },
    "language_info": {
      "name": "python"
    }
  },
  "cells": [
    {
      "cell_type": "markdown",
      "metadata": {
        "id": "view-in-github",
        "colab_type": "text"
      },
      "source": [
        "<a href=\"https://colab.research.google.com/github/jacksonguedes/BasicPython/blob/main/Min_e_Max.ipynb\" target=\"_parent\"><img src=\"https://colab.research.google.com/assets/colab-badge.svg\" alt=\"Open In Colab\"/></a>"
      ]
    },
    {
      "cell_type": "markdown",
      "source": [
        "# **Min e Max**   \n",
        "max() -> Retorna o maior valor em um iterável ou o maior de dois ou mais elemento"
      ],
      "metadata": {
        "id": "P4YFw2xlAT6g"
      }
    },
    {
      "cell_type": "markdown",
      "source": [
        "Exemplo 1"
      ],
      "metadata": {
        "id": "N2-10K5DAqG7"
      }
    },
    {
      "cell_type": "code",
      "execution_count": 1,
      "metadata": {
        "id": "u-6LJuNW_ujc",
        "colab": {
          "base_uri": "https://localhost:8080/"
        },
        "outputId": "dbb71143-cf55-4bcb-b1fd-26ccf745cf1f"
      },
      "outputs": [
        {
          "output_type": "stream",
          "name": "stdout",
          "text": [
            "129\n"
          ]
        }
      ],
      "source": [
        "lista = [1, 8, 4, 99, 34, 129]\n",
        "print(max(lista))\n",
        " # Funciona para tupla e set\n",
        "\n",
        " \"\"\"\n",
        " Tupla:\n",
        "\n",
        "  lista = (1, 8, 4, 99, 34, 129)\n",
        "  print(max(lista))\n",
        "\n",
        " Set:\n",
        "\n",
        "  lista = {1, 8, 4, 99, 34, 129}\n",
        "  print(max(lista))\n",
        "\n",
        " \"\"\""
      ]
    },
    {
      "cell_type": "code",
      "source": [
        "# Utilizando dicionário\n",
        "dicionario = {'a': 1, 'b': 8, 'c': 4, 'd': 99, 'e': 34, 'f': 129}\n",
        "print(max(dicionario))          # Chave\n",
        "print(max(dicionario.values())) # Valor"
      ],
      "metadata": {
        "colab": {
          "base_uri": "https://localhost:8080/"
        },
        "id": "O4V4nAYM471y",
        "outputId": "25df3bfe-8533-49a9-addf-16e0c554f174"
      },
      "execution_count": 3,
      "outputs": [
        {
          "output_type": "stream",
          "name": "stdout",
          "text": [
            "f\n",
            "129\n"
          ]
        }
      ]
    },
    {
      "cell_type": "markdown",
      "source": [
        "Fazer um programa que receba dois valores do usuário e mostre o maior"
      ],
      "metadata": {
        "id": "I2WkigYO56k6"
      }
    },
    {
      "cell_type": "code",
      "source": [
        "val1 = int(input('Informe o primeiro valor: '))\n",
        "val2 = int(input('Informe o segundo valor: '))\n",
        "\n",
        "print(f'\\n O maior valor é: {max(val1, val2)}')"
      ],
      "metadata": {
        "colab": {
          "base_uri": "https://localhost:8080/"
        },
        "id": "q0__Hhaq6Azu",
        "outputId": "62bd7a11-ab5c-45b1-b5a0-44679190fb0c"
      },
      "execution_count": 7,
      "outputs": [
        {
          "output_type": "stream",
          "name": "stdout",
          "text": [
            "Informe o primeiro valor: 78\n",
            "Informe o segundo valor: 5\n",
            "\n",
            " O maior valor é: 78\n"
          ]
        }
      ]
    },
    {
      "cell_type": "markdown",
      "source": [
        "Outras formas"
      ],
      "metadata": {
        "id": "h-KrjjYV6tg9"
      }
    },
    {
      "cell_type": "code",
      "source": [
        "print(max(4, 67, 54))          # Mais de um valor no parâmetro\n",
        "print(max('a', 'ab', 'abc'))   # Strigs\n",
        "print(max('a', 'b', 'c', 'd')) # Strigs\n",
        "print(max('Jackson Guedes'))   # Strigs\n",
        "print(max(4.7, 6.7, 54.2))     # Ponto flutuante"
      ],
      "metadata": {
        "colab": {
          "base_uri": "https://localhost:8080/"
        },
        "id": "_7XEFupj6u8-",
        "outputId": "ae2fe1d4-bed9-43f7-b065-b81ef9e89982"
      },
      "execution_count": 9,
      "outputs": [
        {
          "output_type": "stream",
          "name": "stdout",
          "text": [
            "67\n",
            "abc\n",
            "d\n",
            "u\n",
            "54.2\n"
          ]
        }
      ]
    },
    {
      "cell_type": "markdown",
      "source": [
        "min() -> Retorna o menor valor em um iterável ou o menor de dois ou mais elementos"
      ],
      "metadata": {
        "id": "Nmk60Pce75x8"
      }
    },
    {
      "cell_type": "markdown",
      "source": [
        "Tudo que foi aplicado em max() pode ser aplicado em min()."
      ],
      "metadata": {
        "id": "tX_eVABT8Pk3"
      }
    },
    {
      "cell_type": "markdown",
      "source": [
        "Exemplo 1"
      ],
      "metadata": {
        "id": "QapOMRsB8j8u"
      }
    },
    {
      "cell_type": "code",
      "source": [
        "nomes = ['Arya', 'Samson', 'Dora', 'Tim', 'Ollivander']"
      ],
      "metadata": {
        "id": "D_Qw7cDM8lEV"
      },
      "execution_count": 13,
      "outputs": []
    },
    {
      "cell_type": "code",
      "source": [
        "# Leva em consideração a ordem alfabética\n",
        "print(max(nomes))\n",
        "print(min(nomes))"
      ],
      "metadata": {
        "colab": {
          "base_uri": "https://localhost:8080/"
        },
        "id": "YgvakOBY8vmO",
        "outputId": "54001632-971a-4859-ac23-59d9b5acbcec"
      },
      "execution_count": 14,
      "outputs": [
        {
          "output_type": "stream",
          "name": "stdout",
          "text": [
            "Tim\n",
            "Arya\n"
          ]
        }
      ]
    },
    {
      "cell_type": "code",
      "source": [
        "print(max(nomes, key = lambda nome: len(nome)))\n",
        "print(min(nomes, key = lambda nome: len(nome)))"
      ],
      "metadata": {
        "colab": {
          "base_uri": "https://localhost:8080/"
        },
        "id": "AEfCYiBj9FpY",
        "outputId": "7e0a424e-4b5e-457b-a025-5eccd52228af"
      },
      "execution_count": 15,
      "outputs": [
        {
          "output_type": "stream",
          "name": "stdout",
          "text": [
            "Ollivander\n",
            "Tim\n"
          ]
        }
      ]
    },
    {
      "cell_type": "markdown",
      "source": [
        "Exemplo 2"
      ],
      "metadata": {
        "id": "7LY2tF_i91QH"
      }
    },
    {
      "cell_type": "code",
      "source": [
        "musicas = [\n",
        "    {\"titulo\": \"Thunderstruck\", \"tocou\": 3},\n",
        "    {\"titulo\": \"Dead Skin Mask\", \"tocou\": 2},\n",
        "    {\"titulo\": \"Back in Black\", \"tocou\": 4},\n",
        "    {\"titulo\": \"Too old to rock'in roll, too ynoung to die\", \"tocou\": 32}\n",
        "]"
      ],
      "metadata": {
        "id": "rmE-w2ei92TO"
      },
      "execution_count": 16,
      "outputs": []
    },
    {
      "cell_type": "code",
      "source": [
        "print(max(musicas, key = lambda musica: musica['tocou']))\n",
        "print(min(musicas, key = lambda musica: musica['tocou']))"
      ],
      "metadata": {
        "colab": {
          "base_uri": "https://localhost:8080/"
        },
        "id": "Rg5wb0QJ94Z9",
        "outputId": "2c70b8f8-fc59-4633-fa44-608c01b9845c"
      },
      "execution_count": 19,
      "outputs": [
        {
          "output_type": "stream",
          "name": "stdout",
          "text": [
            "{'titulo': \"Too old to rock'in roll, too ynoung to die\", 'tocou': 32}\n",
            "{'titulo': 'Dead Skin Mask', 'tocou': 2}\n"
          ]
        }
      ]
    },
    {
      "cell_type": "code",
      "source": [
        "# DESAFIO! Impprimir somente o título da música mais e menos tocada\n",
        "\n",
        "print(max(musicas, key = lambda musica: musica['tocou'])['titulo'])\n",
        "print(min(musicas, key = lambda musica: musica['tocou'])['titulo'])"
      ],
      "metadata": {
        "colab": {
          "base_uri": "https://localhost:8080/"
        },
        "id": "olGo7B02_YQl",
        "outputId": "cae22b82-f9f8-471c-9641-a4626e82fbf5"
      },
      "execution_count": 23,
      "outputs": [
        {
          "output_type": "stream",
          "name": "stdout",
          "text": [
            "Too old to rock'in roll, too ynoung to die\n",
            "Dead Skin Mask\n"
          ]
        }
      ]
    },
    {
      "cell_type": "code",
      "source": [
        "# DESAFIO! Como encontrar a música mais tocada e a menos tocadasem usar max(), min() e lambda?\n",
        "\n",
        "# Música que mais tocou\n",
        "max = 0\n",
        "for musica in musicas:\n",
        "  if musica['tocou'] > max:\n",
        "    max = musica['tocou']\n",
        "\n",
        "for musica in musicas:\n",
        "  if musica['tocou'] == max:\n",
        "    print(musica['titulo'])\n",
        "\n",
        "# Música que menos tocou\n",
        "min = 99999\n",
        "for musica in musicas:\n",
        "  if (musica['tocou'] < min):\n",
        "    min = musica['tocou']\n",
        "\n",
        "for musica in musicas:\n",
        "  if musica['tocou'] == min:\n",
        "    print(musica['titulo'])\n"
      ],
      "metadata": {
        "colab": {
          "base_uri": "https://localhost:8080/"
        },
        "id": "lavXn426AP1-",
        "outputId": "0d67e28d-2fee-4fb8-c309-093e2ae3f61a"
      },
      "execution_count": 33,
      "outputs": [
        {
          "output_type": "stream",
          "name": "stdout",
          "text": [
            "Too old to rock'in roll, too ynoung to die\n",
            "Dead Skin Mask\n"
          ]
        }
      ]
    }
  ]
}
