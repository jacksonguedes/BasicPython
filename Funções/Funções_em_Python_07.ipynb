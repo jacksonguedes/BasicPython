{
  "nbformat": 4,
  "nbformat_minor": 0,
  "metadata": {
    "colab": {
      "provenance": [],
      "authorship_tag": "ABX9TyNNe58X49H/Rv/KZKPd/uoK",
      "include_colab_link": true
    },
    "kernelspec": {
      "name": "python3",
      "display_name": "Python 3"
    },
    "language_info": {
      "name": "python"
    }
  },
  "cells": [
    {
      "cell_type": "markdown",
      "metadata": {
        "id": "view-in-github",
        "colab_type": "text"
      },
      "source": [
        "<a href=\"https://colab.research.google.com/github/jacksonguedes/BasicPython/blob/main/Fun%C3%A7%C3%B5es_em_Python_07.ipynb\" target=\"_parent\"><img src=\"https://colab.research.google.com/assets/colab-badge.svg\" alt=\"Open In Colab\"/></a>"
      ]
    },
    {
      "cell_type": "markdown",
      "source": [
        "# ***kwargs*  \n",
        " Este é só mais um parâmetro, mas diferente do *args que coloca os valores extras emuma tupla, o **kwargs exige que utilizemos parâmetros nomeados, e transforma esses parâmetros extras em um dicionário."
      ],
      "metadata": {
        "id": "2JA9bI4T7oGB"
      }
    },
    {
      "cell_type": "markdown",
      "source": [
        "Exemplo 1"
      ],
      "metadata": {
        "id": "m9-hYwiI8XS1"
      }
    },
    {
      "cell_type": "code",
      "execution_count": 1,
      "metadata": {
        "id": "RrwtAcQyvVqL"
      },
      "outputs": [],
      "source": [
        "def cores_favoritas(**kwargs):\n",
        "  print(kwargs)"
      ]
    },
    {
      "cell_type": "code",
      "source": [
        "cores_favoritas(marcos = 'verde', julia = 'amarelo', fernanda = 'azul', vanessa = 'branco')"
      ],
      "metadata": {
        "colab": {
          "base_uri": "https://localhost:8080/"
        },
        "id": "N7TdwWUq8hTN",
        "outputId": "526488dc-f153-44cf-de7c-c082c5d64950"
      },
      "execution_count": 2,
      "outputs": [
        {
          "output_type": "stream",
          "name": "stdout",
          "text": [
            "{'marcos': 'verde', 'julia': 'amarelo', 'fernanda': 'azul', 'vanessa': 'branco'}\n"
          ]
        }
      ]
    },
    {
      "cell_type": "markdown",
      "source": [
        "Exemplo 2"
      ],
      "metadata": {
        "id": "wGmkAZOp9AUV"
      }
    },
    {
      "cell_type": "code",
      "source": [
        "def cores_favoritas(**kwargs):\n",
        "  for pessoa, cor in kwargs.items():\n",
        "    print(f'A cor favorita de {pessoa.title()} é {cor}')"
      ],
      "metadata": {
        "id": "-tZxp7eQ9Bb1"
      },
      "execution_count": 7,
      "outputs": []
    },
    {
      "cell_type": "code",
      "source": [
        "cores_favoritas(marcos = 'verde', julia = 'amarelo', fernanda = 'azul', vanessa = 'branco')"
      ],
      "metadata": {
        "colab": {
          "base_uri": "https://localhost:8080/"
        },
        "id": "JfUH5RNv9NmR",
        "outputId": "5e424239-848d-46b4-8203-4a8df93a032f"
      },
      "execution_count": 8,
      "outputs": [
        {
          "output_type": "stream",
          "name": "stdout",
          "text": [
            "A cor favorita de Marcos é verde\n",
            "A cor favorita de Julia é amarelo\n",
            "A cor favorita de Fernanda é azul\n",
            "A cor favorita de Vanessa é branco\n"
          ]
        }
      ]
    },
    {
      "cell_type": "markdown",
      "source": [
        "OBS: Os parâmetros * e **kwargs não são obrigatórios."
      ],
      "metadata": {
        "id": "bTKhtmOp9d9Q"
      }
    },
    {
      "cell_type": "code",
      "source": [
        "cores_favoritas()"
      ],
      "metadata": {
        "id": "oRV1NOQ39mz_"
      },
      "execution_count": 9,
      "outputs": []
    },
    {
      "cell_type": "code",
      "source": [
        "cores_favoritas(geek = 'navy')"
      ],
      "metadata": {
        "colab": {
          "base_uri": "https://localhost:8080/"
        },
        "id": "4OFznfr_9vN-",
        "outputId": "75581c5d-75f7-4620-a7d9-90c9cc1c42bd"
      },
      "execution_count": 10,
      "outputs": [
        {
          "output_type": "stream",
          "name": "stdout",
          "text": [
            "A cor favorita de Geek é navy\n"
          ]
        }
      ]
    },
    {
      "cell_type": "markdown",
      "source": [
        "Exemplo 3"
      ],
      "metadata": {
        "id": "ISlrQBu3-uID"
      }
    },
    {
      "cell_type": "code",
      "source": [
        "def cumprimento_especial(**kwargs):\n",
        "  if 'geek' in kwargs and kwargs['geek'] == 'Python':\n",
        "    return 'Você recebeu um cumprimento Pythônico Geek!'\n",
        "  elif 'geek' in kwargs:\n",
        "    return f\"{kwargs['geek']} Geek!\"\n",
        "  return 'Não tenho certeza quem você é...'"
      ],
      "metadata": {
        "id": "PnJcuzpr-wWD"
      },
      "execution_count": 11,
      "outputs": []
    },
    {
      "cell_type": "code",
      "source": [
        "print(cumprimento_especial())\n",
        "print(cumprimento_especial(geek = 'Python'))\n",
        "print(cumprimento_especial(geek = 'Oi'))\n",
        "print(cumprimento_especial(geek = 'Especial'))"
      ],
      "metadata": {
        "colab": {
          "base_uri": "https://localhost:8080/"
        },
        "id": "-ESW4EHi_Y4j",
        "outputId": "6c387101-eb52-447c-c607-49f5dc9292df"
      },
      "execution_count": 12,
      "outputs": [
        {
          "output_type": "stream",
          "name": "stdout",
          "text": [
            "Não tenho certeza quem você é...\n",
            "Você recebeu um cumprimento Pythônico Geek!\n",
            "Oi Geek!\n",
            "Especial Geek!\n"
          ]
        }
      ]
    },
    {
      "cell_type": "markdown",
      "source": [
        "Exemplo 4"
      ],
      "metadata": {
        "id": "XnmjVqoqBZaB"
      }
    },
    {
      "cell_type": "code",
      "source": [
        "def minha_funcao(idade, nome, *args, solteiro = False, **kwargs):\n",
        "  print(f'{nome} tem {idade} anos')\n",
        "  print(args)\n",
        "  if solteiro:\n",
        "    print('Solteiro')\n",
        "  else:\n",
        "    print('Casado')\n",
        "  print(kwargs)"
      ],
      "metadata": {
        "id": "qpxbrg9dBam2"
      },
      "execution_count": 15,
      "outputs": []
    },
    {
      "cell_type": "code",
      "source": [
        "minha_funcao(8, 'Julia')\n",
        "minha_funcao(18, 'Felicity', 4, 5, 3, solteiro = True)\n",
        "minha_funcao(34, 'Felipe', eu = 'Não', voce = 'Vai')\n",
        "minha_funcao(19, 'Carla', 9, 4, 3, java = False, python = True)"
      ],
      "metadata": {
        "colab": {
          "base_uri": "https://localhost:8080/"
        },
        "id": "-BNqK5xUCleZ",
        "outputId": "9483ca35-0d86-4fe5-cc0c-12234e727c7b"
      },
      "execution_count": 16,
      "outputs": [
        {
          "output_type": "stream",
          "name": "stdout",
          "text": [
            "Julia tem 8 anos\n",
            "()\n",
            "Casado\n",
            "{}\n",
            "Felicity tem 18 anos\n",
            "(4, 5, 3)\n",
            "Solteiro\n",
            "{}\n",
            "Felipe tem 34 anos\n",
            "()\n",
            "Casado\n",
            "{'eu': 'Não', 'voce': 'Vai'}\n",
            "Carla tem 19 anos\n",
            "(9, 4, 3)\n",
            "Casado\n",
            "{'java': False, 'python': True}\n"
          ]
        }
      ]
    },
    {
      "cell_type": "markdown",
      "source": [
        "Entenda por quê é importante manter a ordem dos parâmetros na declaração"
      ],
      "metadata": {
        "id": "fhvAYv0OEq1D"
      }
    },
    {
      "cell_type": "markdown",
      "source": [
        "Função com a ordem correta de parâmetros"
      ],
      "metadata": {
        "id": "ykQ81U9sFVrR"
      }
    },
    {
      "cell_type": "code",
      "source": [
        "def mostra_info(a, b, *args, instrutor = 'Geek', **kwargs):\n",
        "  return [a, b, args, instrutor, kwargs]"
      ],
      "metadata": {
        "id": "mw7pdYyMEw_y"
      },
      "execution_count": 17,
      "outputs": []
    },
    {
      "cell_type": "code",
      "source": [
        "print(mostra_info(1, 2, 3, sobrenome = 'University', cargo = 'Instrutor'))"
      ],
      "metadata": {
        "colab": {
          "base_uri": "https://localhost:8080/"
        },
        "id": "53RZZdU9FBwh",
        "outputId": "8b137f51-5a08-4331-9cda-c2dc86da9cda"
      },
      "execution_count": 19,
      "outputs": [
        {
          "output_type": "stream",
          "name": "stdout",
          "text": [
            "[1, 2, (3,), 'Geek', {'sobrenome': 'University', 'cargo': 'Instrutor'}]\n"
          ]
        }
      ]
    },
    {
      "cell_type": "markdown",
      "source": [
        "Função com a ordem incorreta de parâmetros"
      ],
      "metadata": {
        "id": "uFJhpHU7FfyA"
      }
    },
    {
      "cell_type": "code",
      "source": [
        "def mostra_info(a, b, instrutor = 'Geek', *args, **kwargs):\n",
        "  return [a, b, args, instrutor, kwargs]"
      ],
      "metadata": {
        "id": "pNRUiBYnFiVx"
      },
      "execution_count": 21,
      "outputs": []
    },
    {
      "cell_type": "code",
      "source": [
        "print(mostra_info(1, 2, 3, sobrenome = 'University', cargo = 'Instrutor'))"
      ],
      "metadata": {
        "colab": {
          "base_uri": "https://localhost:8080/"
        },
        "id": "uq4iMfItF6HB",
        "outputId": "c796d61a-f2b7-4025-8556-3940ad356956"
      },
      "execution_count": 22,
      "outputs": [
        {
          "output_type": "stream",
          "name": "stdout",
          "text": [
            "[1, 2, (), 3, {'sobrenome': 'University', 'cargo': 'Instrutor'}]\n"
          ]
        }
      ]
    },
    {
      "cell_type": "markdown",
      "source": [
        "Desempacotar com **kwargs"
      ],
      "metadata": {
        "id": "eMsGzzJjHBsL"
      }
    },
    {
      "cell_type": "code",
      "source": [
        "def mostra_nomes(**kwargs):\n",
        "  return f\"{kwargs['nome']} {kwargs['sobrenome']}\""
      ],
      "metadata": {
        "id": "NON4LWC7HEs6"
      },
      "execution_count": 23,
      "outputs": []
    },
    {
      "cell_type": "code",
      "source": [
        "nomes = {'nome':'Felicity', 'sobrenome': 'Jones'}"
      ],
      "metadata": {
        "id": "qOcdOHkWHYyB"
      },
      "execution_count": 24,
      "outputs": []
    },
    {
      "cell_type": "code",
      "source": [
        "print(mostra_nomes(**nomes))"
      ],
      "metadata": {
        "colab": {
          "base_uri": "https://localhost:8080/"
        },
        "id": "CyA_1yh2Hj5d",
        "outputId": "89164b2c-02d1-49d2-f73d-8100e7b2b0e5"
      },
      "execution_count": 26,
      "outputs": [
        {
          "output_type": "stream",
          "name": "stdout",
          "text": [
            "Felicity Jones\n"
          ]
        }
      ]
    },
    {
      "cell_type": "markdown",
      "source": [
        "Exemplo 5"
      ],
      "metadata": {
        "id": "VWrc2mRxIAod"
      }
    },
    {
      "cell_type": "code",
      "source": [
        "def soma_multiplos_numeros(a, b, c):\n",
        "  print(a + b + c)"
      ],
      "metadata": {
        "id": "i85KCydJICSB"
      },
      "execution_count": 27,
      "outputs": []
    },
    {
      "cell_type": "code",
      "source": [
        "lista = [1, 2, 3]"
      ],
      "metadata": {
        "id": "fSBA51TZIKob"
      },
      "execution_count": 29,
      "outputs": []
    },
    {
      "cell_type": "code",
      "source": [
        "soma_multiplos_numeros(*lista)"
      ],
      "metadata": {
        "colab": {
          "base_uri": "https://localhost:8080/"
        },
        "id": "nOkev7NSIPbB",
        "outputId": "becbaaf8-4ba8-46ac-c5c8-18d2320ede27"
      },
      "execution_count": 33,
      "outputs": [
        {
          "output_type": "stream",
          "name": "stdout",
          "text": [
            "6\n"
          ]
        }
      ]
    },
    {
      "cell_type": "code",
      "source": [
        "lista = [1, 2, 3]\n",
        "tupla = (1, 2, 3)\n",
        "conjunto = {1, 2, 3}"
      ],
      "metadata": {
        "id": "JxIP5IyeIu-9"
      },
      "execution_count": 34,
      "outputs": []
    },
    {
      "cell_type": "code",
      "source": [
        "soma_multiplos_numeros(*lista)\n",
        "soma_multiplos_numeros(*tupla)\n",
        "soma_multiplos_numeros(*conjunto)"
      ],
      "metadata": {
        "colab": {
          "base_uri": "https://localhost:8080/"
        },
        "id": "8smQ2yRKI3PK",
        "outputId": "58efbcef-6acf-4b50-99a9-d400c5ff2cbd"
      },
      "execution_count": 35,
      "outputs": [
        {
          "output_type": "stream",
          "name": "stdout",
          "text": [
            "6\n",
            "6\n",
            "6\n"
          ]
        }
      ]
    },
    {
      "cell_type": "code",
      "source": [
        "dicionario = dict(a = 1, b = 2, c = 3)"
      ],
      "metadata": {
        "id": "NPl17HuFJBsK"
      },
      "execution_count": 36,
      "outputs": []
    },
    {
      "cell_type": "code",
      "source": [
        "soma_multiplos_numeros(**dicionario)"
      ],
      "metadata": {
        "colab": {
          "base_uri": "https://localhost:8080/"
        },
        "id": "0iTSzVPmJIg5",
        "outputId": "58ef94a7-9393-410c-80ef-0671d70c70e8"
      },
      "execution_count": 37,
      "outputs": [
        {
          "output_type": "stream",
          "name": "stdout",
          "text": [
            "6\n"
          ]
        }
      ]
    },
    {
      "cell_type": "markdown",
      "source": [
        "Repare que, os nomes da chave em um dicionário devem ser o mesmo dos parâmetros da função."
      ],
      "metadata": {
        "id": "zZmQGp6MJNIW"
      }
    },
    {
      "cell_type": "code",
      "source": [
        "dicionario = dict(d = 1, e = 2, f = 3)"
      ],
      "metadata": {
        "id": "3SP3Q3icJZ36"
      },
      "execution_count": 38,
      "outputs": []
    },
    {
      "cell_type": "code",
      "source": [
        "soma_multiplos_numeros(**dicionario)"
      ],
      "metadata": {
        "colab": {
          "base_uri": "https://localhost:8080/",
          "height": 175
        },
        "id": "1969BUnmJcZZ",
        "outputId": "041388c0-f777-452b-f2d1-39d98de0d7e1"
      },
      "execution_count": 39,
      "outputs": [
        {
          "output_type": "error",
          "ename": "TypeError",
          "evalue": "ignored",
          "traceback": [
            "\u001b[0;31m---------------------------------------------------------------------------\u001b[0m",
            "\u001b[0;31mTypeError\u001b[0m                                 Traceback (most recent call last)",
            "\u001b[0;32m<ipython-input-39-0f0adc67b799>\u001b[0m in \u001b[0;36m<cell line: 1>\u001b[0;34m()\u001b[0m\n\u001b[0;32m----> 1\u001b[0;31m \u001b[0msoma_multiplos_numeros\u001b[0m\u001b[0;34m(\u001b[0m\u001b[0;34m**\u001b[0m\u001b[0mdicionario\u001b[0m\u001b[0;34m)\u001b[0m\u001b[0;34m\u001b[0m\u001b[0;34m\u001b[0m\u001b[0m\n\u001b[0m",
            "\u001b[0;31mTypeError\u001b[0m: soma_multiplos_numeros() got an unexpected keyword argument 'd'"
          ]
        }
      ]
    },
    {
      "cell_type": "markdown",
      "source": [
        "Exemplo 6"
      ],
      "metadata": {
        "id": "9FbhK10tJwTC"
      }
    },
    {
      "cell_type": "code",
      "source": [
        "dicionario = dict(a = 1, b = 2, c = 3, nome = 'Geek')"
      ],
      "metadata": {
        "id": "esLJS0akJxaK"
      },
      "execution_count": 40,
      "outputs": []
    },
    {
      "cell_type": "code",
      "source": [
        "soma_multiplos_numeros(**dicionario, lang = 'Python')"
      ],
      "metadata": {
        "colab": {
          "base_uri": "https://localhost:8080/",
          "height": 175
        },
        "id": "3Xl-NQb_J4lh",
        "outputId": "164d1271-698d-47c9-fda3-4ff955a29ba2"
      },
      "execution_count": 41,
      "outputs": [
        {
          "output_type": "error",
          "ename": "TypeError",
          "evalue": "ignored",
          "traceback": [
            "\u001b[0;31m---------------------------------------------------------------------------\u001b[0m",
            "\u001b[0;31mTypeError\u001b[0m                                 Traceback (most recent call last)",
            "\u001b[0;32m<ipython-input-41-27d52ef44da9>\u001b[0m in \u001b[0;36m<cell line: 1>\u001b[0;34m()\u001b[0m\n\u001b[0;32m----> 1\u001b[0;31m \u001b[0msoma_multiplos_numeros\u001b[0m\u001b[0;34m(\u001b[0m\u001b[0;34m**\u001b[0m\u001b[0mdicionario\u001b[0m\u001b[0;34m,\u001b[0m \u001b[0mlang\u001b[0m \u001b[0;34m=\u001b[0m \u001b[0;34m'Python'\u001b[0m\u001b[0;34m)\u001b[0m\u001b[0;34m\u001b[0m\u001b[0;34m\u001b[0m\u001b[0m\n\u001b[0m",
            "\u001b[0;31mTypeError\u001b[0m: soma_multiplos_numeros() got an unexpected keyword argument 'nome'"
          ]
        }
      ]
    },
    {
      "cell_type": "markdown",
      "source": [
        "Para corrigir:"
      ],
      "metadata": {
        "id": "Kor6n0c0J-iJ"
      }
    },
    {
      "cell_type": "code",
      "source": [
        "def soma_multiplos_numeros(a, b, c, **kwargs):\n",
        "  print(a + b + c)"
      ],
      "metadata": {
        "id": "LGptChpXKA8B"
      },
      "execution_count": 43,
      "outputs": []
    },
    {
      "cell_type": "code",
      "source": [
        "dicionario = dict(a = 1, b = 2, c = 3, nome = 'Geek')"
      ],
      "metadata": {
        "id": "Okj6KAz1KPkV"
      },
      "execution_count": 44,
      "outputs": []
    },
    {
      "cell_type": "code",
      "source": [
        "soma_multiplos_numeros(**dicionario, lang = 'Python')"
      ],
      "metadata": {
        "colab": {
          "base_uri": "https://localhost:8080/"
        },
        "id": "HExp-Z8pKRcK",
        "outputId": "b682a72e-dba0-466c-a1f1-473ba090b17f"
      },
      "execution_count": 45,
      "outputs": [
        {
          "output_type": "stream",
          "name": "stdout",
          "text": [
            "6\n"
          ]
        }
      ]
    }
  ]
}
