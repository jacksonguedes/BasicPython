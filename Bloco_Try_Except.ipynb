{
  "nbformat": 4,
  "nbformat_minor": 0,
  "metadata": {
    "colab": {
      "provenance": [],
      "authorship_tag": "ABX9TyNNUw4QE70fZybWLQ6kKHiF",
      "include_colab_link": true
    },
    "kernelspec": {
      "name": "python3",
      "display_name": "Python 3"
    },
    "language_info": {
      "name": "python"
    }
  },
  "cells": [
    {
      "cell_type": "markdown",
      "metadata": {
        "id": "view-in-github",
        "colab_type": "text"
      },
      "source": [
        "<a href=\"https://colab.research.google.com/github/jacksonguedes/BasicPython/blob/main/Bloco_Try_Except.ipynb\" target=\"_parent\"><img src=\"https://colab.research.google.com/assets/colab-badge.svg\" alt=\"Open In Colab\"/></a>"
      ]
    },
    {
      "cell_type": "markdown",
      "source": [
        "# **O bloco Try/Except**   \n",
        "Utlizamos o bloco try/except para tratar erros que podem ocorrer no nosso código. Previnindo assim que o programa pare de funcionar e o usuário receba mensagens de erro inesperadas.     \n",
        "\n",
        "A forma geral mais simples é:  \n",
        "try:   \n",
        "  _execução problemática   \n",
        "except:  \n",
        "  _O que deve ser feito em caso de problema"
      ],
      "metadata": {
        "id": "t3i2PAAda7wL"
      }
    },
    {
      "cell_type": "markdown",
      "source": [
        "**Exemplo 1 - Tratando um erro genérico**"
      ],
      "metadata": {
        "id": "eN-eFy4rcWsG"
      }
    },
    {
      "cell_type": "code",
      "source": [
        "geek()"
      ],
      "metadata": {
        "colab": {
          "base_uri": "https://localhost:8080/",
          "height": 175
        },
        "id": "vX_H2HItct68",
        "outputId": "b7d60bea-5148-4b6b-e0b1-8483aeaeb1bb"
      },
      "execution_count": 2,
      "outputs": [
        {
          "output_type": "error",
          "ename": "NameError",
          "evalue": "name 'geek' is not defined",
          "traceback": [
            "\u001b[0;31m---------------------------------------------------------------------------\u001b[0m",
            "\u001b[0;31mNameError\u001b[0m                                 Traceback (most recent call last)",
            "\u001b[0;32m<ipython-input-2-8d119cda765e>\u001b[0m in \u001b[0;36m<cell line: 1>\u001b[0;34m()\u001b[0m\n\u001b[0;32m----> 1\u001b[0;31m \u001b[0mgeek\u001b[0m\u001b[0;34m(\u001b[0m\u001b[0;34m)\u001b[0m\u001b[0;34m\u001b[0m\u001b[0;34m\u001b[0m\u001b[0m\n\u001b[0m",
            "\u001b[0;31mNameError\u001b[0m: name 'geek' is not defined"
          ]
        }
      ]
    },
    {
      "cell_type": "code",
      "execution_count": 1,
      "metadata": {
        "colab": {
          "base_uri": "https://localhost:8080/"
        },
        "id": "tBNo3EBYZ4zN",
        "outputId": "cc8784fa-9af7-4d60-95f7-fcade0938c6a"
      },
      "outputs": [
        {
          "output_type": "stream",
          "name": "stdout",
          "text": [
            "Deu alguma problema\n"
          ]
        }
      ],
      "source": [
        "try:\n",
        "  geek()\n",
        "except:\n",
        "  print('Deu alguma problema')"
      ]
    },
    {
      "cell_type": "markdown",
      "source": [
        "OBS: Tratar erro de forma genérica não é a melhor forma de tratamento de erros.O ideal é SEMPRE tratar de forma específica."
      ],
      "metadata": {
        "id": "NBcWcnDGdBNT"
      }
    },
    {
      "cell_type": "markdown",
      "source": [
        "**Exemplo 2 - Tratando um erro específico**"
      ],
      "metadata": {
        "id": "a9gg8ZaIdTTJ"
      }
    },
    {
      "cell_type": "code",
      "source": [
        "try:\n",
        "  geek()\n",
        "except NameError:\n",
        "  print('Você está utilizando uma função inexistente')"
      ],
      "metadata": {
        "colab": {
          "base_uri": "https://localhost:8080/"
        },
        "id": "L06H4iggdXQS",
        "outputId": "ad302b57-8d41-4f04-f5a7-1f9b2ddfd71b"
      },
      "execution_count": 3,
      "outputs": [
        {
          "output_type": "stream",
          "name": "stdout",
          "text": [
            "Você está utilizando uma função inexistente\n"
          ]
        }
      ]
    },
    {
      "cell_type": "code",
      "source": [
        "try:\n",
        "  len(5)\n",
        "except NameError:\n",
        "  print('Você está utilizando uma função inexistente')"
      ],
      "metadata": {
        "colab": {
          "base_uri": "https://localhost:8080/",
          "height": 227
        },
        "id": "PGuSdu5NdtR7",
        "outputId": "a4d53cce-f2a8-434c-cf23-6e0b2023df90"
      },
      "execution_count": 4,
      "outputs": [
        {
          "output_type": "error",
          "ename": "TypeError",
          "evalue": "object of type 'int' has no len()",
          "traceback": [
            "\u001b[0;31m---------------------------------------------------------------------------\u001b[0m",
            "\u001b[0;31mTypeError\u001b[0m                                 Traceback (most recent call last)",
            "\u001b[0;32m<ipython-input-4-4f858dc5a91d>\u001b[0m in \u001b[0;36m<cell line: 1>\u001b[0;34m()\u001b[0m\n\u001b[1;32m      1\u001b[0m \u001b[0;32mtry\u001b[0m\u001b[0;34m:\u001b[0m\u001b[0;34m\u001b[0m\u001b[0;34m\u001b[0m\u001b[0m\n\u001b[0;32m----> 2\u001b[0;31m   \u001b[0mlen\u001b[0m\u001b[0;34m(\u001b[0m\u001b[0;36m5\u001b[0m\u001b[0;34m)\u001b[0m\u001b[0;34m\u001b[0m\u001b[0;34m\u001b[0m\u001b[0m\n\u001b[0m\u001b[1;32m      3\u001b[0m \u001b[0;32mexcept\u001b[0m \u001b[0mNameError\u001b[0m\u001b[0;34m:\u001b[0m\u001b[0;34m\u001b[0m\u001b[0;34m\u001b[0m\u001b[0m\n\u001b[1;32m      4\u001b[0m   \u001b[0mprint\u001b[0m\u001b[0;34m(\u001b[0m\u001b[0;34m'Você está utilizando uma função inexistente'\u001b[0m\u001b[0;34m)\u001b[0m\u001b[0;34m\u001b[0m\u001b[0;34m\u001b[0m\u001b[0m\n",
            "\u001b[0;31mTypeError\u001b[0m: object of type 'int' has no len()"
          ]
        }
      ]
    },
    {
      "cell_type": "code",
      "source": [
        "try:\n",
        "  len(5)\n",
        "except TypeError:\n",
        "  print('Você está utilizando uma função inexistente')"
      ],
      "metadata": {
        "colab": {
          "base_uri": "https://localhost:8080/"
        },
        "id": "AVQpfpVxdx3Z",
        "outputId": "7089cb79-7b69-4e90-9537-564ca5639110"
      },
      "execution_count": 5,
      "outputs": [
        {
          "output_type": "stream",
          "name": "stdout",
          "text": [
            "Você está utilizando uma função inexistente\n"
          ]
        }
      ]
    },
    {
      "cell_type": "markdown",
      "source": [
        "**Exemplo 3 - tratando um erro específico com detalhes do erro**"
      ],
      "metadata": {
        "id": "14NDtu0deDKM"
      }
    },
    {
      "cell_type": "code",
      "source": [
        "try:\n",
        "  len(5)\n",
        "except TypeError as err:\n",
        "  print(f'A aplicação gerou o seguinte erro: {err}')"
      ],
      "metadata": {
        "colab": {
          "base_uri": "https://localhost:8080/"
        },
        "id": "MqgZU288eFBB",
        "outputId": "3d4f7a84-7329-4634-bf90-bd1801ce5476"
      },
      "execution_count": 6,
      "outputs": [
        {
          "output_type": "stream",
          "name": "stdout",
          "text": [
            "A aplicação gerou o seguinte erro: object of type 'int' has no len()\n"
          ]
        }
      ]
    },
    {
      "cell_type": "markdown",
      "source": [
        "**Exemplo 4 - Tratamento de erros múltiplos**"
      ],
      "metadata": {
        "id": "oWrJS4c-faHK"
      }
    },
    {
      "cell_type": "code",
      "source": [
        "try:\n",
        "  print('Geek'[9])\n",
        "except NameError as erra:\n",
        "  print(f'Deu NameError: {erra}')\n",
        "except TypeError as errb:\n",
        "  print(f'Deu TypeError: {errb}')\n",
        "except:\n",
        "  print('Deu um erro diferente')"
      ],
      "metadata": {
        "colab": {
          "base_uri": "https://localhost:8080/"
        },
        "id": "VE7FyHpefhJC",
        "outputId": "e86bf304-9bf9-4f2f-e1b0-8feb7253c0ad"
      },
      "execution_count": 10,
      "outputs": [
        {
          "output_type": "stream",
          "name": "stdout",
          "text": [
            "Deu um erro diferente\n"
          ]
        }
      ]
    },
    {
      "cell_type": "code",
      "source": [
        "try:\n",
        "  len(5)\n",
        "except NameError as erra:\n",
        "  print(f'Deu NameError: {erra}')\n",
        "except TypeError as errb:\n",
        "  print(f'Deu TypeError: {errb}')\n",
        "except:\n",
        "  print('Deu um erro diferente')"
      ],
      "metadata": {
        "colab": {
          "base_uri": "https://localhost:8080/"
        },
        "id": "yAQxNKwFgOxB",
        "outputId": "4e3f3b22-65b2-4263-ff4f-0703176955b6"
      },
      "execution_count": 11,
      "outputs": [
        {
          "output_type": "stream",
          "name": "stdout",
          "text": [
            "Deu TypeError: object of type 'int' has no len()\n"
          ]
        }
      ]
    },
    {
      "cell_type": "code",
      "source": [
        "try:\n",
        "  geek()\n",
        "except NameError as erra:\n",
        "  print(f'Deu NameError: {erra}')\n",
        "except TypeError as errb:\n",
        "  print(f'Deu TypeError: {errb}')\n",
        "except:\n",
        "  print('Deu um erro diferente')"
      ],
      "metadata": {
        "colab": {
          "base_uri": "https://localhost:8080/"
        },
        "id": "x9R8g7qcgRSE",
        "outputId": "606dde72-fe3c-48a0-8f15-3b48a535c37f"
      },
      "execution_count": 12,
      "outputs": [
        {
          "output_type": "stream",
          "name": "stdout",
          "text": [
            "Deu NameError: name 'geek' is not defined\n"
          ]
        }
      ]
    },
    {
      "cell_type": "markdown",
      "source": [
        "**Exemplo 5**"
      ],
      "metadata": {
        "id": "2wa-6D09ge3a"
      }
    },
    {
      "cell_type": "code",
      "source": [
        "def pega_valor(dicionario, chave):\n",
        "  return dicionario[chave]"
      ],
      "metadata": {
        "id": "VVxN3mndghKv"
      },
      "execution_count": 13,
      "outputs": []
    },
    {
      "cell_type": "code",
      "source": [
        "dic = {\"nome\": \"Geek\"}"
      ],
      "metadata": {
        "id": "QINyBl6_gyL6"
      },
      "execution_count": 14,
      "outputs": []
    },
    {
      "cell_type": "code",
      "source": [
        "print(pega_valor(dic, \"nome\"))"
      ],
      "metadata": {
        "colab": {
          "base_uri": "https://localhost:8080/"
        },
        "id": "qnNoA4q8g5O5",
        "outputId": "6fb0d6e6-86a4-4e4e-d78d-ae66a633207a"
      },
      "execution_count": 15,
      "outputs": [
        {
          "output_type": "stream",
          "name": "stdout",
          "text": [
            "Geek\n"
          ]
        }
      ]
    },
    {
      "cell_type": "code",
      "source": [
        "print(pega_valor(dic, \"game\"))"
      ],
      "metadata": {
        "colab": {
          "base_uri": "https://localhost:8080/",
          "height": 245
        },
        "id": "viEJ9wDGhGtk",
        "outputId": "79049674-615b-4286-fa9b-055c3bfd6563"
      },
      "execution_count": 16,
      "outputs": [
        {
          "output_type": "error",
          "ename": "KeyError",
          "evalue": "'game'",
          "traceback": [
            "\u001b[0;31m---------------------------------------------------------------------------\u001b[0m",
            "\u001b[0;31mKeyError\u001b[0m                                  Traceback (most recent call last)",
            "\u001b[0;32m<ipython-input-16-56ec8e2e105d>\u001b[0m in \u001b[0;36m<cell line: 1>\u001b[0;34m()\u001b[0m\n\u001b[0;32m----> 1\u001b[0;31m \u001b[0mprint\u001b[0m\u001b[0;34m(\u001b[0m\u001b[0mpega_valor\u001b[0m\u001b[0;34m(\u001b[0m\u001b[0mdic\u001b[0m\u001b[0;34m,\u001b[0m \u001b[0;34m\"game\"\u001b[0m\u001b[0;34m)\u001b[0m\u001b[0;34m)\u001b[0m\u001b[0;34m\u001b[0m\u001b[0;34m\u001b[0m\u001b[0m\n\u001b[0m",
            "\u001b[0;32m<ipython-input-13-7a5845dc8cc7>\u001b[0m in \u001b[0;36mpega_valor\u001b[0;34m(dicionario, chave)\u001b[0m\n\u001b[1;32m      1\u001b[0m \u001b[0;32mdef\u001b[0m \u001b[0mpega_valor\u001b[0m\u001b[0;34m(\u001b[0m\u001b[0mdicionario\u001b[0m\u001b[0;34m,\u001b[0m \u001b[0mchave\u001b[0m\u001b[0;34m)\u001b[0m\u001b[0;34m:\u001b[0m\u001b[0;34m\u001b[0m\u001b[0;34m\u001b[0m\u001b[0m\n\u001b[0;32m----> 2\u001b[0;31m   \u001b[0;32mreturn\u001b[0m \u001b[0mdicionario\u001b[0m\u001b[0;34m[\u001b[0m\u001b[0mchave\u001b[0m\u001b[0;34m]\u001b[0m\u001b[0;34m\u001b[0m\u001b[0;34m\u001b[0m\u001b[0m\n\u001b[0m",
            "\u001b[0;31mKeyError\u001b[0m: 'game'"
          ]
        }
      ]
    },
    {
      "cell_type": "code",
      "source": [
        "def pega_valor(dicionario, chave):\n",
        "  try:\n",
        "    return dicionario[chave]\n",
        "  except KeyError:\n",
        "    return None\n",
        "  except TypeError:\n",
        "    return None"
      ],
      "metadata": {
        "id": "ympCwYX4hPVd"
      },
      "execution_count": 20,
      "outputs": []
    },
    {
      "cell_type": "code",
      "source": [
        "print(pega_valor(dic, \"game\"))"
      ],
      "metadata": {
        "colab": {
          "base_uri": "https://localhost:8080/"
        },
        "id": "4AEoCQNlha0Z",
        "outputId": "b0e1196d-4d5f-4f38-8b1d-cfdcf4991e17"
      },
      "execution_count": 21,
      "outputs": [
        {
          "output_type": "stream",
          "name": "stdout",
          "text": [
            "None\n"
          ]
        }
      ]
    },
    {
      "cell_type": "code",
      "source": [
        "print(pega_valor(dic, \"nome\"))"
      ],
      "metadata": {
        "colab": {
          "base_uri": "https://localhost:8080/"
        },
        "id": "R_uOx21yhcQ5",
        "outputId": "b3b22616-2e2e-4ee4-cc4f-381da19b0bb9"
      },
      "execution_count": 22,
      "outputs": [
        {
          "output_type": "stream",
          "name": "stdout",
          "text": [
            "Geek\n"
          ]
        }
      ]
    },
    {
      "cell_type": "code",
      "source": [
        "print(pega_valor(5, 6))"
      ],
      "metadata": {
        "colab": {
          "base_uri": "https://localhost:8080/"
        },
        "id": "vEQKfpdZhgQo",
        "outputId": "840993ff-467b-49b6-8f4d-5884d3dd7b6b"
      },
      "execution_count": 24,
      "outputs": [
        {
          "output_type": "stream",
          "name": "stdout",
          "text": [
            "None\n"
          ]
        }
      ]
    }
  ]
}