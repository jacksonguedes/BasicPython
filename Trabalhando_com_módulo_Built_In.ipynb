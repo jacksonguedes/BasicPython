{
  "nbformat": 4,
  "nbformat_minor": 0,
  "metadata": {
    "colab": {
      "provenance": [],
      "authorship_tag": "ABX9TyNyMHYiPQa1tKjNBmxxI0qt",
      "include_colab_link": true
    },
    "kernelspec": {
      "name": "python3",
      "display_name": "Python 3"
    },
    "language_info": {
      "name": "python"
    }
  },
  "cells": [
    {
      "cell_type": "markdown",
      "metadata": {
        "id": "view-in-github",
        "colab_type": "text"
      },
      "source": [
        "<a href=\"https://colab.research.google.com/github/jacksonguedes/BasicPython/blob/main/Trabalhando_com_m%C3%B3dulo_Built_In.ipynb\" target=\"_parent\"><img src=\"https://colab.research.google.com/assets/colab-badge.svg\" alt=\"Open In Colab\"/></a>"
      ]
    },
    {
      "cell_type": "markdown",
      "source": [
        "# **Módulo Built-In**   \n",
        "Link dos módulos de A a Z   \n",
        "\n",
        "Link: https://docs.python.org/3/py-modindex.html"
      ],
      "metadata": {
        "id": "rbrXire8vhZX"
      }
    },
    {
      "cell_type": "markdown",
      "source": [
        "Utilizando alias (apelidos) para módulos/funções"
      ],
      "metadata": {
        "id": "4jq6z9hswXP3"
      }
    },
    {
      "cell_type": "code",
      "execution_count": 1,
      "metadata": {
        "id": "nkvsi8NtvbeT"
      },
      "outputs": [],
      "source": [
        "import random as rdm"
      ]
    },
    {
      "cell_type": "code",
      "source": [
        "print(rdm.random())"
      ],
      "metadata": {
        "colab": {
          "base_uri": "https://localhost:8080/"
        },
        "id": "JCTQDH_hwjjH",
        "outputId": "614a2658-39a7-4286-a67b-17be37d3c675"
      },
      "execution_count": 4,
      "outputs": [
        {
          "output_type": "stream",
          "name": "stdout",
          "text": [
            "0.22721230790532532\n"
          ]
        }
      ]
    },
    {
      "cell_type": "markdown",
      "source": [
        "**Importando todas as funções de um módulo utilizando o (*)**"
      ],
      "metadata": {
        "id": "3UMj3zVXxRse"
      }
    },
    {
      "cell_type": "code",
      "source": [
        "from random import *"
      ],
      "metadata": {
        "id": "-4EcTpAKwuxt"
      },
      "execution_count": 5,
      "outputs": []
    },
    {
      "cell_type": "code",
      "source": [
        "print(random())"
      ],
      "metadata": {
        "colab": {
          "base_uri": "https://localhost:8080/"
        },
        "id": "7Wxy_tEgxhs-",
        "outputId": "554c342f-834d-4409-ad9f-c54ab8949a8b"
      },
      "execution_count": 6,
      "outputs": [
        {
          "output_type": "stream",
          "name": "stdout",
          "text": [
            "0.07688371731831856\n"
          ]
        }
      ]
    },
    {
      "cell_type": "code",
      "source": [
        "from random import randint as rdi, random as rdm # Importando duas funções do módulo random e apelidando ambas as funções"
      ],
      "metadata": {
        "id": "C-695umexjV8"
      },
      "execution_count": 10,
      "outputs": []
    },
    {
      "cell_type": "code",
      "source": [
        "print(rdi(5, 89))\n",
        "print(rdm())"
      ],
      "metadata": {
        "colab": {
          "base_uri": "https://localhost:8080/"
        },
        "id": "whLxPyvOyDVE",
        "outputId": "65eb008e-6c69-4507-b4d6-9bf427b0dfec"
      },
      "execution_count": 11,
      "outputs": [
        {
          "output_type": "stream",
          "name": "stdout",
          "text": [
            "65\n",
            "0.3934674769351214\n"
          ]
        }
      ]
    },
    {
      "cell_type": "markdown",
      "source": [
        "**Costuma-se utilizar tuple para colocar múltiplos imports de um mesmo módulo**"
      ],
      "metadata": {
        "id": "82izg3bUy-2O"
      }
    },
    {
      "cell_type": "code",
      "source": [
        "from random import(\n",
        "    random,\n",
        "    randint,\n",
        "    shuffle,\n",
        "    choice\n",
        "\n",
        ")"
      ],
      "metadata": {
        "id": "IKEIs4iZyGvs"
      },
      "execution_count": 15,
      "outputs": []
    },
    {
      "cell_type": "code",
      "source": [
        "print(random())\n",
        "print(randint(1, 11))\n",
        "lista = ['Jackson', 'Silva', 'Guedes']\n",
        "shuffle(lista)\n",
        "print(lista)\n",
        "print(choice('Guedes'))"
      ],
      "metadata": {
        "colab": {
          "base_uri": "https://localhost:8080/"
        },
        "id": "qClrgxQBzQ38",
        "outputId": "b7b38311-f7c7-4ab3-9e5c-9e5fd9b86a85"
      },
      "execution_count": 20,
      "outputs": [
        {
          "output_type": "stream",
          "name": "stdout",
          "text": [
            "0.7268315888585791\n",
            "8\n",
            "['Guedes', 'Jackson', 'Silva']\n",
            "u\n"
          ]
        }
      ]
    }
  ]
}