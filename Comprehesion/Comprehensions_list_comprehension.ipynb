{
  "nbformat": 4,
  "nbformat_minor": 0,
  "metadata": {
    "colab": {
      "provenance": [],
      "authorship_tag": "ABX9TyOCR98mg+KlVOb7ZijpHidL",
      "include_colab_link": true
    },
    "kernelspec": {
      "name": "python3",
      "display_name": "Python 3"
    },
    "language_info": {
      "name": "python"
    }
  },
  "cells": [
    {
      "cell_type": "markdown",
      "metadata": {
        "id": "view-in-github",
        "colab_type": "text"
      },
      "source": [
        "<a href=\"https://colab.research.google.com/github/jacksonguedes/BasicPython/blob/main/Comprehensions_list_comprehension.ipynb\" target=\"_parent\"><img src=\"https://colab.research.google.com/assets/colab-badge.svg\" alt=\"Open In Colab\"/></a>"
      ]
    },
    {
      "cell_type": "markdown",
      "source": [
        "# **List Comprehension**  \n",
        "- Utilizando list comprehension nós podemos gerar novas listas com dados processados a partir de outro iterável.  \n"
      ],
      "metadata": {
        "id": "4kE1OWNYPoyL"
      }
    },
    {
      "cell_type": "markdown",
      "source": [
        "# **Parte 01**"
      ],
      "metadata": {
        "id": "TZzmVAO3XHM6"
      }
    },
    {
      "cell_type": "markdown",
      "source": [
        "Exemplo 1"
      ],
      "metadata": {
        "id": "QmCDcXivQdYA"
      }
    },
    {
      "cell_type": "code",
      "execution_count": null,
      "metadata": {
        "id": "DjauWld-PHT4"
      },
      "outputs": [],
      "source": [
        "numeros = [1, 2, 3, 4, 5]"
      ]
    },
    {
      "cell_type": "code",
      "source": [
        "res = [numero * 10 for numero in numeros]"
      ],
      "metadata": {
        "id": "9AUK_H4lQj-l"
      },
      "execution_count": null,
      "outputs": []
    },
    {
      "cell_type": "code",
      "source": [
        "print(res)"
      ],
      "metadata": {
        "colab": {
          "base_uri": "https://localhost:8080/"
        },
        "id": "sQnukNKkQq82",
        "outputId": "9e48d192-76dc-42b2-a3b9-903100c8013f"
      },
      "execution_count": null,
      "outputs": [
        {
          "output_type": "stream",
          "name": "stdout",
          "text": [
            "[10, 20, 30, 40, 50]\n"
          ]
        }
      ]
    },
    {
      "cell_type": "markdown",
      "source": [
        "Exemplo 2"
      ],
      "metadata": {
        "id": "8CNXEeaQRYkk"
      }
    },
    {
      "cell_type": "code",
      "source": [
        "res = [numero / 2 for numero in numeros]\n",
        "print(res)"
      ],
      "metadata": {
        "colab": {
          "base_uri": "https://localhost:8080/"
        },
        "id": "ZC4e-NFqRaEs",
        "outputId": "2de1e5a6-3c80-48a4-ae9b-f2a5d2144ac4"
      },
      "execution_count": null,
      "outputs": [
        {
          "output_type": "stream",
          "name": "stdout",
          "text": [
            "[0.5, 1.0, 1.5, 2.0, 2.5]\n"
          ]
        }
      ]
    },
    {
      "cell_type": "code",
      "source": [
        "def funcao(valor):\n",
        "  return valor * valor"
      ],
      "metadata": {
        "id": "iCkPyalaRjJ0"
      },
      "execution_count": null,
      "outputs": []
    },
    {
      "cell_type": "code",
      "source": [
        "res = [funcao(numero) for numero in numeros]"
      ],
      "metadata": {
        "id": "aWBzcEdPRu5s"
      },
      "execution_count": null,
      "outputs": []
    },
    {
      "cell_type": "code",
      "source": [
        "print(res)"
      ],
      "metadata": {
        "colab": {
          "base_uri": "https://localhost:8080/"
        },
        "id": "RQgi5uSFR2s8",
        "outputId": "ac3267cd-2d13-44d3-cfff-001039bc2123"
      },
      "execution_count": null,
      "outputs": [
        {
          "output_type": "stream",
          "name": "stdout",
          "text": [
            "[1, 4, 9, 16, 25]\n"
          ]
        }
      ]
    },
    {
      "cell_type": "markdown",
      "source": [
        "Exemplo 3 - List comprehension versos Loop"
      ],
      "metadata": {
        "id": "DQVuLCowSTal"
      }
    },
    {
      "cell_type": "markdown",
      "source": [
        "Utilizando Loop"
      ],
      "metadata": {
        "id": "WOLwAk9nToOd"
      }
    },
    {
      "cell_type": "code",
      "source": [
        "numeros = [1, 2, 3, 4, 5]\n",
        "numeros_dobrados = []"
      ],
      "metadata": {
        "id": "__xGOd5_Sszc"
      },
      "execution_count": null,
      "outputs": []
    },
    {
      "cell_type": "code",
      "source": [
        "for numero in numeros:\n",
        "  numero_dobrado = numero * 2\n",
        "  numeros_dobrados.append(numero_dobrado)"
      ],
      "metadata": {
        "id": "yin_GzMvS2Jm"
      },
      "execution_count": null,
      "outputs": []
    },
    {
      "cell_type": "code",
      "source": [
        "print(numeros_dobrados)"
      ],
      "metadata": {
        "colab": {
          "base_uri": "https://localhost:8080/"
        },
        "id": "mY5WxAfhTi_U",
        "outputId": "6dd4bdfe-0fc9-469b-e76a-05d9c9596f04"
      },
      "execution_count": null,
      "outputs": [
        {
          "output_type": "stream",
          "name": "stdout",
          "text": [
            "[2, 4, 6, 8, 10]\n"
          ]
        }
      ]
    },
    {
      "cell_type": "markdown",
      "source": [
        "Utilizando List Comprehension"
      ],
      "metadata": {
        "id": "jg_UeSM-Trh0"
      }
    },
    {
      "cell_type": "code",
      "source": [
        "print([numero * 2 for numero in numeros])"
      ],
      "metadata": {
        "colab": {
          "base_uri": "https://localhost:8080/"
        },
        "id": "O3eWr7O_Tx19",
        "outputId": "6bf29af0-4b31-44f0-ed83-84333dfac516"
      },
      "execution_count": null,
      "outputs": [
        {
          "output_type": "stream",
          "name": "stdout",
          "text": [
            "[2, 4, 6, 8, 10]\n"
          ]
        }
      ]
    },
    {
      "cell_type": "markdown",
      "source": [
        "Exemplo 4"
      ],
      "metadata": {
        "id": "DnDGSEIGUNO8"
      }
    },
    {
      "cell_type": "code",
      "source": [
        "nome = 'Jackson Guedes'"
      ],
      "metadata": {
        "id": "gS4i4pL9UWOd"
      },
      "execution_count": null,
      "outputs": []
    },
    {
      "cell_type": "code",
      "source": [
        "print([letra.upper() for letra in nome])"
      ],
      "metadata": {
        "colab": {
          "base_uri": "https://localhost:8080/"
        },
        "id": "A_BgRqkGUZks",
        "outputId": "0cfa652e-b023-4c94-b77a-85ba5c539bf4"
      },
      "execution_count": null,
      "outputs": [
        {
          "output_type": "stream",
          "name": "stdout",
          "text": [
            "['J', 'A', 'C', 'K', 'S', 'O', 'N', ' ', 'G', 'U', 'E', 'D', 'E', 'S']\n"
          ]
        }
      ]
    },
    {
      "cell_type": "markdown",
      "source": [
        "Exemplo 5"
      ],
      "metadata": {
        "id": "L4c7YoxsUfSM"
      }
    },
    {
      "cell_type": "code",
      "source": [
        "amigos = ['maria', 'julia', 'pedro','guilherme', 'vanessa']"
      ],
      "metadata": {
        "id": "ZfKNzqbUUeVk"
      },
      "execution_count": null,
      "outputs": []
    },
    {
      "cell_type": "code",
      "source": [
        "def caixa_alta(nome):\n",
        "  nome = nome.replace(nome[0], nome[0].upper())\n",
        "  return nome"
      ],
      "metadata": {
        "id": "f-ykYmBLVN3A"
      },
      "execution_count": null,
      "outputs": []
    },
    {
      "cell_type": "code",
      "source": [
        "print([caixa_alta(amigo) for amigo in amigos])"
      ],
      "metadata": {
        "colab": {
          "base_uri": "https://localhost:8080/"
        },
        "id": "W2T9Ew10Vcxt",
        "outputId": "8029c48f-8d0c-4a84-9d54-b9cf83cc15f5"
      },
      "execution_count": null,
      "outputs": [
        {
          "output_type": "stream",
          "name": "stdout",
          "text": [
            "['Maria', 'Julia', 'Pedro', 'Guilherme', 'Vanessa']\n"
          ]
        }
      ]
    },
    {
      "cell_type": "markdown",
      "source": [
        "Exemplo 6"
      ],
      "metadata": {
        "id": "9J0Wbe4dWhaJ"
      }
    },
    {
      "cell_type": "code",
      "source": [
        "print([numero * 3 for numero in range(1, 10)])"
      ],
      "metadata": {
        "colab": {
          "base_uri": "https://localhost:8080/"
        },
        "id": "61Q_KIiGWkFO",
        "outputId": "7262e778-7ebe-4ae0-a17d-23c0e84c6db2"
      },
      "execution_count": null,
      "outputs": [
        {
          "output_type": "stream",
          "name": "stdout",
          "text": [
            "[3, 6, 9, 12, 15, 18, 21, 24, 27]\n"
          ]
        }
      ]
    },
    {
      "cell_type": "markdown",
      "source": [
        "Exemplo 7"
      ],
      "metadata": {
        "id": "FfNmutZ_WvUX"
      }
    },
    {
      "cell_type": "code",
      "source": [
        "print([bool(valor) for valor in [0, [], '', True, 1, 3.14]])"
      ],
      "metadata": {
        "colab": {
          "base_uri": "https://localhost:8080/"
        },
        "id": "igZGbrYIWwoF",
        "outputId": "4c2a6a78-dc93-43fa-caf8-710b26dd3af1"
      },
      "execution_count": null,
      "outputs": [
        {
          "output_type": "stream",
          "name": "stdout",
          "text": [
            "[False, False, False, True, True, True]\n"
          ]
        }
      ]
    },
    {
      "cell_type": "markdown",
      "source": [
        "Exemplo 8"
      ],
      "metadata": {
        "id": "AwIAjJofXEn5"
      }
    },
    {
      "cell_type": "code",
      "source": [
        "print([str(numero) for numero in [1, 2, 3, 4, 5]])"
      ],
      "metadata": {
        "colab": {
          "base_uri": "https://localhost:8080/"
        },
        "id": "cDX30TNPXGyF",
        "outputId": "de3b44e7-bead-4e8b-8452-6877256924b3"
      },
      "execution_count": null,
      "outputs": [
        {
          "output_type": "stream",
          "name": "stdout",
          "text": [
            "['1', '2', '3', '4', '5']\n"
          ]
        }
      ]
    },
    {
      "cell_type": "markdown",
      "source": [
        "Exemplo 9"
      ],
      "metadata": {
        "id": "dXBRabh3YUvt"
      }
    },
    {
      "cell_type": "code",
      "source": [
        "def numeros_pares(num):\n",
        "  if num % 2 == 0:\n",
        "    return num\n",
        "  return 0"
      ],
      "metadata": {
        "id": "C-N6IN3vYX57"
      },
      "execution_count": null,
      "outputs": []
    },
    {
      "cell_type": "code",
      "source": [
        "lista = [2, 7, 4, 9, 8, 80, 13]"
      ],
      "metadata": {
        "id": "qf4KC0w8YrsO"
      },
      "execution_count": null,
      "outputs": []
    },
    {
      "cell_type": "code",
      "source": [
        "print([numeros_pares(numeros) for numeros in lista])"
      ],
      "metadata": {
        "colab": {
          "base_uri": "https://localhost:8080/"
        },
        "id": "dTbiFQflYmK5",
        "outputId": "5eda457e-32d6-4144-f28d-5957f547dfde"
      },
      "execution_count": null,
      "outputs": [
        {
          "output_type": "stream",
          "name": "stdout",
          "text": [
            "[2, 0, 4, 0, 8, 80, 0]\n"
          ]
        }
      ]
    },
    {
      "cell_type": "markdown",
      "source": [
        "# **Parte 02**  \n",
        "\n",
        "Podemos adicionar estruturas condicionais lógicas às list comprehesion"
      ],
      "metadata": {
        "id": "111WqoBgXDYS"
      }
    },
    {
      "cell_type": "code",
      "source": [
        "numeros = [1, 2, 3, 4, 5, 6]"
      ],
      "metadata": {
        "id": "MOD1Kw-2XKSi"
      },
      "execution_count": 1,
      "outputs": []
    },
    {
      "cell_type": "code",
      "source": [
        "pares = [numero for numero in numeros if numero % 2 == 0]\n",
        "impares = [numero for numero in numeros if numero % 2 != 0]"
      ],
      "metadata": {
        "id": "nVTDHTG4Xxrr"
      },
      "execution_count": 2,
      "outputs": []
    },
    {
      "cell_type": "code",
      "source": [
        "print(pares)\n",
        "print(impares)"
      ],
      "metadata": {
        "colab": {
          "base_uri": "https://localhost:8080/"
        },
        "id": "B0_mxfHLYCGP",
        "outputId": "b72e0281-2e06-4f02-dcab-a75b85cdcbf7"
      },
      "execution_count": 3,
      "outputs": [
        {
          "output_type": "stream",
          "name": "stdout",
          "text": [
            "[2, 4, 6]\n",
            "[1, 3, 5]\n"
          ]
        }
      ]
    },
    {
      "cell_type": "markdown",
      "source": [
        "Refatorando  \n",
        "Qualquer número par módulo de 2 é 0 e 0 em Python é False. not False = True"
      ],
      "metadata": {
        "id": "HQTBsZR_YZNH"
      }
    },
    {
      "cell_type": "code",
      "source": [
        "pares = [numero for numero in numeros if not numero % 2]\n",
        "impares = [numero for numero in numeros if numero % 2]"
      ],
      "metadata": {
        "id": "yilB2VjzYrQw"
      },
      "execution_count": 4,
      "outputs": []
    },
    {
      "cell_type": "code",
      "source": [
        "print(pares)\n",
        "print(impares)"
      ],
      "metadata": {
        "colab": {
          "base_uri": "https://localhost:8080/"
        },
        "id": "ksBc6DdoY9dy",
        "outputId": "3b936c73-8407-4bcc-f45c-cf14599a2a9c"
      },
      "execution_count": 5,
      "outputs": [
        {
          "output_type": "stream",
          "name": "stdout",
          "text": [
            "[2, 4, 6]\n",
            "[1, 3, 5]\n"
          ]
        }
      ]
    },
    {
      "cell_type": "markdown",
      "source": [
        "Outro exemplo"
      ],
      "metadata": {
        "id": "vGpoCufcZTvL"
      }
    },
    {
      "cell_type": "code",
      "source": [
        "res = [numero * 2 if numero % 2 == 0 else numero / 2 for numero in numeros]\n",
        "print(res)"
      ],
      "metadata": {
        "colab": {
          "base_uri": "https://localhost:8080/"
        },
        "id": "qLM2q-HbZVYM",
        "outputId": "ce9af98e-7093-4cb9-db37-475ff476eaf5"
      },
      "execution_count": 6,
      "outputs": [
        {
          "output_type": "stream",
          "name": "stdout",
          "text": [
            "[0.5, 4, 1.5, 8, 2.5, 12]\n"
          ]
        }
      ]
    }
  ]
}
