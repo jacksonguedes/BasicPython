{
  "nbformat": 4,
  "nbformat_minor": 0,
  "metadata": {
    "colab": {
      "provenance": [],
      "authorship_tag": "ABX9TyNt3+hsM7YHVY2FWAn3oZkE",
      "include_colab_link": true
    },
    "kernelspec": {
      "name": "python3",
      "display_name": "Python 3"
    },
    "language_info": {
      "name": "python"
    }
  },
  "cells": [
    {
      "cell_type": "markdown",
      "metadata": {
        "id": "view-in-github",
        "colab_type": "text"
      },
      "source": [
        "<a href=\"https://colab.research.google.com/github/jacksonguedes/BasicPython/blob/main/AulasPython_Se%C3%A7%C3%A3o_7_Cole%C3%A7%C3%B5es_Python_Dicion%C3%A1rios.ipynb\" target=\"_parent\"><img src=\"https://colab.research.google.com/assets/colab-badge.svg\" alt=\"Open In Colab\"/></a>"
      ]
    },
    {
      "cell_type": "markdown",
      "source": [
        "# **Dicionários**  \n",
        "\n",
        "\n",
        "---\n",
        "Em algumas linguagens de programação, os dicionários Python são conhecidos por mapas. Eles são coleções do tipo chave/valor.  \n",
        "\n",
        "Dicionários são representados por chaves {}.  \n",
        "OBS:\n",
        "\n",
        "1.   Chave e valor são separados por dois pontos.\n",
        "2.   Tanto chave quanto valor podem ser de qualquer tipo de dado.\n",
        "3.   Podemos misturar tipos de dados.\n",
        "\n",
        "\n"
      ],
      "metadata": {
        "id": "3Xx3uR78svHT"
      }
    },
    {
      "cell_type": "markdown",
      "source": [
        "Criando um dicionário  \n",
        "`variável = {'chave1': 'valor1', 'chave2': 'valor2'}`"
      ],
      "metadata": {
        "id": "fmwm3_XEuByh"
      }
    },
    {
      "cell_type": "markdown",
      "source": [
        "Exemplo 1 - Criando forma simples de dicionário"
      ],
      "metadata": {
        "id": "8J_Wb8ITvSUA"
      }
    },
    {
      "cell_type": "code",
      "execution_count": 2,
      "metadata": {
        "colab": {
          "base_uri": "https://localhost:8080/"
        },
        "id": "QogJl9yosoDe",
        "outputId": "9d9cb661-065c-4264-c78e-6f5dcf0045c6"
      },
      "outputs": [
        {
          "output_type": "stream",
          "name": "stdout",
          "text": [
            "{'br': 'Brasil', 'eua': 'Estados Unidos', 'py': 'Paraguai'}\n",
            "<class 'dict'>\n"
          ]
        }
      ],
      "source": [
        "paises = {'br': 'Brasil', 'eua': 'Estados Unidos', 'py': 'Paraguai'}\n",
        "print(paises)\n",
        "print(type(paises))"
      ]
    },
    {
      "cell_type": "markdown",
      "source": [
        "Exemplo 2 -  Outra forma que é menos comum"
      ],
      "metadata": {
        "id": "m_-zefJavZd2"
      }
    },
    {
      "cell_type": "code",
      "source": [
        "paises = dict(br = 'Brasil', eua = 'Estados Unidos', py = 'Paraguai')"
      ],
      "metadata": {
        "id": "uRluZKwqvYAs"
      },
      "execution_count": 3,
      "outputs": []
    },
    {
      "cell_type": "markdown",
      "source": [
        "Acessando elementos. Dicionários não são indexados"
      ],
      "metadata": {
        "id": "hTbRTbytv7Xz"
      }
    },
    {
      "cell_type": "markdown",
      "source": [
        "Exemplo 1 - Acessando via chave"
      ],
      "metadata": {
        "id": "z9LTarykwPMZ"
      }
    },
    {
      "cell_type": "code",
      "source": [
        "print(paises['br'])\n",
        "print(paises['eua'])\n",
        "print(paises['ag']) # KeyError"
      ],
      "metadata": {
        "colab": {
          "base_uri": "https://localhost:8080/",
          "height": 245
        },
        "id": "RxRqxlc3v9Ld",
        "outputId": "cab872a3-3c59-4e7f-c1da-4a9add5c7d19"
      },
      "execution_count": 8,
      "outputs": [
        {
          "output_type": "stream",
          "name": "stdout",
          "text": [
            "Brasil\n",
            "Estados Unidos\n"
          ]
        },
        {
          "output_type": "error",
          "ename": "KeyError",
          "evalue": "ignored",
          "traceback": [
            "\u001b[0;31m---------------------------------------------------------------------------\u001b[0m",
            "\u001b[0;31mKeyError\u001b[0m                                  Traceback (most recent call last)",
            "\u001b[0;32m<ipython-input-8-23589d7b42bc>\u001b[0m in \u001b[0;36m<cell line: 3>\u001b[0;34m()\u001b[0m\n\u001b[1;32m      1\u001b[0m \u001b[0mprint\u001b[0m\u001b[0;34m(\u001b[0m\u001b[0mpaises\u001b[0m\u001b[0;34m[\u001b[0m\u001b[0;34m'br'\u001b[0m\u001b[0;34m]\u001b[0m\u001b[0;34m)\u001b[0m\u001b[0;34m\u001b[0m\u001b[0;34m\u001b[0m\u001b[0m\n\u001b[1;32m      2\u001b[0m \u001b[0mprint\u001b[0m\u001b[0;34m(\u001b[0m\u001b[0mpaises\u001b[0m\u001b[0;34m[\u001b[0m\u001b[0;34m'eua'\u001b[0m\u001b[0;34m]\u001b[0m\u001b[0;34m)\u001b[0m\u001b[0;34m\u001b[0m\u001b[0;34m\u001b[0m\u001b[0m\n\u001b[0;32m----> 3\u001b[0;31m \u001b[0mprint\u001b[0m\u001b[0;34m(\u001b[0m\u001b[0mpaises\u001b[0m\u001b[0;34m[\u001b[0m\u001b[0;34m'ag'\u001b[0m\u001b[0;34m]\u001b[0m\u001b[0;34m)\u001b[0m \u001b[0;31m# KeyError\u001b[0m\u001b[0;34m\u001b[0m\u001b[0;34m\u001b[0m\u001b[0m\n\u001b[0m",
            "\u001b[0;31mKeyError\u001b[0m: 'ag'"
          ]
        }
      ]
    },
    {
      "cell_type": "markdown",
      "source": [
        "Exemplo 2 - Acessando via get - Recomendada"
      ],
      "metadata": {
        "id": "QEoeA33FxaG7"
      }
    },
    {
      "cell_type": "code",
      "source": [
        "print(paises.get('br'))\n",
        "print(paises.get('eua'))\n",
        "print(paises.get('ag')) # None"
      ],
      "metadata": {
        "colab": {
          "base_uri": "https://localhost:8080/"
        },
        "id": "7Ethpw07xfL7",
        "outputId": "7fd9984c-1fdc-4bfa-bd09-48f3865d937d"
      },
      "execution_count": 7,
      "outputs": [
        {
          "output_type": "stream",
          "name": "stdout",
          "text": [
            "Brasil\n",
            "Estados Unidos\n",
            "None\n"
          ]
        }
      ]
    },
    {
      "cell_type": "markdown",
      "source": [
        "---\n",
        "Tipo de dado *None* em Python representa o tipo sem tipo, ou tipo vazio. Podemos utlizar None quando criar uma variável e inicializá-la com um tipo sem tipo, antes de receber um valor final. OBS: O tipo None em Python é SEMPRE considerado com False.\n",
        "---"
      ],
      "metadata": {
        "id": "HJCY4mj3yHOj"
      }
    },
    {
      "cell_type": "code",
      "source": [
        "numeros = None\n",
        "print(numeros)\n",
        "print(type(numeros))"
      ],
      "metadata": {
        "colab": {
          "base_uri": "https://localhost:8080/"
        },
        "id": "eCSsTFMryeHS",
        "outputId": "abe87c7a-918b-4fab-86fd-1e9eedfb0455"
      },
      "execution_count": 9,
      "outputs": [
        {
          "output_type": "stream",
          "name": "stdout",
          "text": [
            "None\n",
            "<class 'NoneType'>\n"
          ]
        }
      ]
    },
    {
      "cell_type": "code",
      "source": [
        "pais = paises.get('ag', 'Não encontrado') # Definindo um valor padrão\n",
        "print(f'Encontrei o país: {pais}')"
      ],
      "metadata": {
        "colab": {
          "base_uri": "https://localhost:8080/"
        },
        "id": "IWRbF7DL2OfP",
        "outputId": "4a84f3b4-6317-4ccf-d9d4-d2ca1d5e6dd7"
      },
      "execution_count": 13,
      "outputs": [
        {
          "output_type": "stream",
          "name": "stdout",
          "text": [
            "Encontrei o país: Não encontrado\n"
          ]
        }
      ]
    },
    {
      "cell_type": "code",
      "source": [
        "pais = paises.get('eua', 'Não encontrado')\n",
        "print(f'Encontrei o país: {pais}')"
      ],
      "metadata": {
        "colab": {
          "base_uri": "https://localhost:8080/"
        },
        "id": "RWc_rNxA2vQZ",
        "outputId": "63c5e242-95a3-494f-a7e8-361d626915f0"
      },
      "execution_count": 14,
      "outputs": [
        {
          "output_type": "stream",
          "name": "stdout",
          "text": [
            "Encontrei o país: Estados Unidos\n"
          ]
        }
      ]
    },
    {
      "cell_type": "code",
      "source": [
        "print('br' in paises)"
      ],
      "metadata": {
        "colab": {
          "base_uri": "https://localhost:8080/"
        },
        "id": "wUcepT2E3_Zg",
        "outputId": "917c724c-6418-4f2d-e4a5-87a524fd54c9"
      },
      "execution_count": 16,
      "outputs": [
        {
          "output_type": "stream",
          "name": "stdout",
          "text": [
            "True\n"
          ]
        }
      ]
    },
    {
      "cell_type": "code",
      "source": [
        "print('Estados Unidos' in paises) # Não é chave, é valor. Ele busca pela chave."
      ],
      "metadata": {
        "colab": {
          "base_uri": "https://localhost:8080/"
        },
        "id": "oceWa7KK4JT0",
        "outputId": "39470d6e-5b99-4667-b1bc-ecd453ef5cb1"
      },
      "execution_count": 17,
      "outputs": [
        {
          "output_type": "stream",
          "name": "stdout",
          "text": [
            "False\n"
          ]
        }
      ]
    },
    {
      "cell_type": "markdown",
      "source": [
        "Utilizando outros tipos de dados, inclusive lista e tuplas como chaves."
      ],
      "metadata": {
        "id": "cE2O1ZS84qa6"
      }
    },
    {
      "cell_type": "code",
      "source": [
        "localidades = {\n",
        "    (35.764, 89.343): 'Escritório em Tókio',\n",
        "    (67.987, 90.456): 'Escrotório em Nova York',\n",
        "    (87.098, 43.234):'Escritório em São Paulo'\n",
        "}\n",
        "\n",
        "print(localidades)\n",
        "print(type(localidades))"
      ],
      "metadata": {
        "colab": {
          "base_uri": "https://localhost:8080/"
        },
        "id": "_oQLR9KB9_Lp",
        "outputId": "58a4beee-8955-4143-9a78-da3ab95cc2d1"
      },
      "execution_count": 21,
      "outputs": [
        {
          "output_type": "stream",
          "name": "stdout",
          "text": [
            "{(35.764, 89.343): 'Escritório em Tókio', (67.987, 90.456): 'Escrotório em Nova York', (87.098, 43.234): 'Escritório em São Paulo'}\n",
            "<class 'dict'>\n"
          ]
        }
      ]
    },
    {
      "cell_type": "markdown",
      "source": [
        "Adicionando elementos em um dicionário"
      ],
      "metadata": {
        "id": "-GX1LoeM-9yL"
      }
    },
    {
      "cell_type": "markdown",
      "source": [
        "Forma 1 - Mais comum"
      ],
      "metadata": {
        "id": "SLlfi9dy_alo"
      }
    },
    {
      "cell_type": "code",
      "source": [
        "receita = {'jan': 100, 'fev': 120, 'mar': 300}\n",
        "print(receita)"
      ],
      "metadata": {
        "colab": {
          "base_uri": "https://localhost:8080/"
        },
        "id": "BL-YK50F_BO5",
        "outputId": "f739c514-b0fb-4f54-d4df-8ea20efa03ce"
      },
      "execution_count": 25,
      "outputs": [
        {
          "output_type": "stream",
          "name": "stdout",
          "text": [
            "{'jan': 100, 'fev': 120, 'mar': 300}\n"
          ]
        }
      ]
    },
    {
      "cell_type": "code",
      "source": [
        "receita['abr'] = 350\n",
        "print(receita)"
      ],
      "metadata": {
        "colab": {
          "base_uri": "https://localhost:8080/"
        },
        "id": "4JMOZg6Z_cZQ",
        "outputId": "063b2077-3aa4-4d74-87e2-aa4c738724b2"
      },
      "execution_count": 26,
      "outputs": [
        {
          "output_type": "stream",
          "name": "stdout",
          "text": [
            "{'jan': 100, 'fev': 120, 'mar': 300, 'abr': 350}\n"
          ]
        }
      ]
    },
    {
      "cell_type": "markdown",
      "source": [
        "Forma 2"
      ],
      "metadata": {
        "id": "fZ38V0dVAC8K"
      }
    },
    {
      "cell_type": "code",
      "source": [
        "novo_dado = {'mai': 500}\n",
        "receita.update(novo_dado)\n",
        "print(receita)"
      ],
      "metadata": {
        "colab": {
          "base_uri": "https://localhost:8080/"
        },
        "id": "1hki525nAEGJ",
        "outputId": "52ad8e8a-fe29-4827-df31-d741a8e65aea"
      },
      "execution_count": 27,
      "outputs": [
        {
          "output_type": "stream",
          "name": "stdout",
          "text": [
            "{'jan': 100, 'fev': 120, 'mar': 300, 'abr': 350, 'mai': 500}\n"
          ]
        }
      ]
    },
    {
      "cell_type": "markdown",
      "source": [
        "Atualizando dados em um dicionário"
      ],
      "metadata": {
        "id": "74PakIHrAhvN"
      }
    },
    {
      "cell_type": "markdown",
      "source": [
        "Forma 1"
      ],
      "metadata": {
        "id": "UbtZCukOAqQR"
      }
    },
    {
      "cell_type": "code",
      "source": [
        "receita['mai'] = 550\n",
        "print(receita)"
      ],
      "metadata": {
        "colab": {
          "base_uri": "https://localhost:8080/"
        },
        "id": "1xxAbu-YAmrx",
        "outputId": "f71a2784-c099-4743-e8c7-c19de86c5058"
      },
      "execution_count": 28,
      "outputs": [
        {
          "output_type": "stream",
          "name": "stdout",
          "text": [
            "{'jan': 100, 'fev': 120, 'mar': 300, 'abr': 350, 'mai': 550}\n"
          ]
        }
      ]
    },
    {
      "cell_type": "code",
      "source": [
        "receita.update({'mai': 600})\n",
        "print(receita)"
      ],
      "metadata": {
        "colab": {
          "base_uri": "https://localhost:8080/"
        },
        "id": "-_QvjN94A9fK",
        "outputId": "7da02fb5-6770-477d-a870-15fe9bfd5bb6"
      },
      "execution_count": 29,
      "outputs": [
        {
          "output_type": "stream",
          "name": "stdout",
          "text": [
            "{'jan': 100, 'fev': 120, 'mar': 300, 'abr': 350, 'mai': 600}\n"
          ]
        }
      ]
    },
    {
      "cell_type": "markdown",
      "source": [
        "Removendo dados de um dicionário"
      ],
      "metadata": {
        "id": "iPI44YxFBtrZ"
      }
    },
    {
      "cell_type": "markdown",
      "source": [
        "Forma 1 - Mais comum"
      ],
      "metadata": {
        "id": "I3Ly7yvBB2b7"
      }
    },
    {
      "cell_type": "code",
      "source": [
        "ret = receita.pop('jan') # A utilização do pop em dicionários é obrigatório passar a chave. Se não encontrar, KeyError\n",
        "print(ret)               # Ao remover um objeto, o valor deste objeto é sempre retornado"
      ],
      "metadata": {
        "colab": {
          "base_uri": "https://localhost:8080/"
        },
        "id": "X4EAbdh1Bw4W",
        "outputId": "6abf64ac-8f01-4b15-f878-66b37d438322"
      },
      "execution_count": 32,
      "outputs": [
        {
          "output_type": "stream",
          "name": "stdout",
          "text": [
            "100\n"
          ]
        }
      ]
    },
    {
      "cell_type": "code",
      "source": [
        "print(receita)"
      ],
      "metadata": {
        "colab": {
          "base_uri": "https://localhost:8080/"
        },
        "id": "u-_EmlHKChKh",
        "outputId": "d70aabce-97f7-4f4e-eff4-2d4a4a1819b1"
      },
      "execution_count": 33,
      "outputs": [
        {
          "output_type": "stream",
          "name": "stdout",
          "text": [
            "{'fev': 120, 'abr': 350, 'mai': 600}\n"
          ]
        }
      ]
    },
    {
      "cell_type": "markdown",
      "source": [
        "Forma 2"
      ],
      "metadata": {
        "id": "FiUip2O9C3p9"
      }
    },
    {
      "cell_type": "code",
      "source": [
        "del receita['fev'] # Se a chave não existir será gerado um KeyError\n",
        "print(receita)"
      ],
      "metadata": {
        "colab": {
          "base_uri": "https://localhost:8080/"
        },
        "id": "el9IVgQ9C4m3",
        "outputId": "fe3c392b-bb69-42ef-e069-32084f5e3569"
      },
      "execution_count": 34,
      "outputs": [
        {
          "output_type": "stream",
          "name": "stdout",
          "text": [
            "{'abr': 350, 'mai': 600}\n"
          ]
        }
      ]
    },
    {
      "cell_type": "markdown",
      "source": [
        "### Aplicação de dicionários"
      ],
      "metadata": {
        "id": "DWE37P2VEqNR"
      }
    },
    {
      "cell_type": "code",
      "source": [
        "carrinho = []\n",
        "\n",
        "produto1 = {'nome': 'Playstation 4','quantidade': 1, 'preço': 230.00}\n",
        "produto2 = {'nome': 'God of War 4','quantidade': 1, 'preço': 150.00}\n",
        "\n",
        "carrinho.append(produto1)\n",
        "carrinho.append(produto2)\n",
        "\n",
        "print(carrinho)"
      ],
      "metadata": {
        "colab": {
          "base_uri": "https://localhost:8080/"
        },
        "id": "xid4aTSKEyRb",
        "outputId": "91dcdbd7-8a6e-406f-f11f-4b91c596fdc2"
      },
      "execution_count": 35,
      "outputs": [
        {
          "output_type": "stream",
          "name": "stdout",
          "text": [
            "[{'nome': 'Playstation 4', 'quantidade': 1, 'preço': 230.0}, {'nome': 'God of War 4', 'quantidade': 1, 'preço': 150.0}]\n"
          ]
        }
      ]
    },
    {
      "cell_type": "markdown",
      "source": [
        "Podemos ter certeza sobre cada informação."
      ],
      "metadata": {
        "id": "5t9FEd5DFiVn"
      }
    },
    {
      "cell_type": "markdown",
      "source": [
        "Métodos de dicionários"
      ],
      "metadata": {
        "id": "twZE0esyGHUD"
      }
    },
    {
      "cell_type": "code",
      "source": [
        "dir({})"
      ],
      "metadata": {
        "colab": {
          "base_uri": "https://localhost:8080/"
        },
        "id": "V4X-SejnGE2B",
        "outputId": "e6c60f28-d624-4bd2-daa7-552a43881fe2"
      },
      "execution_count": 36,
      "outputs": [
        {
          "output_type": "execute_result",
          "data": {
            "text/plain": [
              "['__class__',\n",
              " '__class_getitem__',\n",
              " '__contains__',\n",
              " '__delattr__',\n",
              " '__delitem__',\n",
              " '__dir__',\n",
              " '__doc__',\n",
              " '__eq__',\n",
              " '__format__',\n",
              " '__ge__',\n",
              " '__getattribute__',\n",
              " '__getitem__',\n",
              " '__gt__',\n",
              " '__hash__',\n",
              " '__init__',\n",
              " '__init_subclass__',\n",
              " '__ior__',\n",
              " '__iter__',\n",
              " '__le__',\n",
              " '__len__',\n",
              " '__lt__',\n",
              " '__ne__',\n",
              " '__new__',\n",
              " '__or__',\n",
              " '__reduce__',\n",
              " '__reduce_ex__',\n",
              " '__repr__',\n",
              " '__reversed__',\n",
              " '__ror__',\n",
              " '__setattr__',\n",
              " '__setitem__',\n",
              " '__sizeof__',\n",
              " '__str__',\n",
              " '__subclasshook__',\n",
              " 'clear',\n",
              " 'copy',\n",
              " 'fromkeys',\n",
              " 'get',\n",
              " 'items',\n",
              " 'keys',\n",
              " 'pop',\n",
              " 'popitem',\n",
              " 'setdefault',\n",
              " 'update',\n",
              " 'values']"
            ]
          },
          "metadata": {},
          "execution_count": 36
        }
      ]
    },
    {
      "cell_type": "code",
      "source": [
        "produto1 = {'nome': 'Playstation 4','quantidade': 1, 'preço': 230.00}"
      ],
      "metadata": {
        "id": "JtnvwO34GU2P"
      },
      "execution_count": 39,
      "outputs": []
    },
    {
      "cell_type": "markdown",
      "source": [
        "Limpando dicionário"
      ],
      "metadata": {
        "id": "vHKbZ5uZGWk_"
      }
    },
    {
      "cell_type": "code",
      "source": [
        "produto1.clear()\n",
        "print(produto1)"
      ],
      "metadata": {
        "colab": {
          "base_uri": "https://localhost:8080/"
        },
        "id": "k1BM_hVtGYZ_",
        "outputId": "9c3269e8-8db5-41d4-8fde-8d431e95a882"
      },
      "execution_count": 38,
      "outputs": [
        {
          "output_type": "stream",
          "name": "stdout",
          "text": [
            "{}\n"
          ]
        }
      ]
    },
    {
      "cell_type": "markdown",
      "source": [
        "Copiando um dicionário para outro"
      ],
      "metadata": {
        "id": "BCJGwNhsGjHV"
      }
    },
    {
      "cell_type": "markdown",
      "source": [
        "Forma 1 - Deep Copy"
      ],
      "metadata": {
        "id": "Lj1nzMaIHPxT"
      }
    },
    {
      "cell_type": "code",
      "source": [
        "print(produto1)\n",
        "novo = produto1.copy()\n",
        "print(novo)\n",
        "novo['forma de pagamento'] = 'cartão'\n",
        "\n",
        "print(produto1)\n",
        "print(novo)"
      ],
      "metadata": {
        "colab": {
          "base_uri": "https://localhost:8080/"
        },
        "id": "wooDK04OGlm3",
        "outputId": "a270d4bc-d0ae-4d08-8e30-9c2d28b51118"
      },
      "execution_count": 40,
      "outputs": [
        {
          "output_type": "stream",
          "name": "stdout",
          "text": [
            "{'nome': 'Playstation 4', 'quantidade': 1, 'preço': 230.0}\n",
            "{'nome': 'Playstation 4', 'quantidade': 1, 'preço': 230.0}\n",
            "{'nome': 'Playstation 4', 'quantidade': 1, 'preço': 230.0}\n",
            "{'nome': 'Playstation 4', 'quantidade': 1, 'preço': 230.0, 'forma de pagamento': 'cartão'}\n"
          ]
        }
      ]
    },
    {
      "cell_type": "markdown",
      "source": [
        "Forma 2 - Shallow Copy"
      ],
      "metadata": {
        "id": "mzFX1FxZHU1Y"
      }
    },
    {
      "cell_type": "code",
      "source": [
        "novo = produto1 # Por atribuição\n",
        "print(novo)\n",
        "\n",
        "novo['forma de pagamento'] = 'cartão'\n",
        "\n",
        "print(produto1) # Foi alterado também\n",
        "print(novo)"
      ],
      "metadata": {
        "colab": {
          "base_uri": "https://localhost:8080/"
        },
        "id": "vSu79MCdHYPo",
        "outputId": "a524cf9b-49cb-4f06-bf1b-2b33746c0747"
      },
      "execution_count": 43,
      "outputs": [
        {
          "output_type": "stream",
          "name": "stdout",
          "text": [
            "{'nome': 'Playstation 4', 'quantidade': 1, 'preço': 230.0}\n",
            "{'nome': 'Playstation 4', 'quantidade': 1, 'preço': 230.0, 'forma de pagamento': 'cartão'}\n",
            "{'nome': 'Playstation 4', 'quantidade': 1, 'preço': 230.0, 'forma de pagamento': 'cartão'}\n"
          ]
        }
      ]
    },
    {
      "cell_type": "markdown",
      "source": [
        "Formas não usual de criação de dicionários"
      ],
      "metadata": {
        "id": "vEur40B7I9HL"
      }
    },
    {
      "cell_type": "markdown",
      "source": [
        "Exemplo 1"
      ],
      "metadata": {
        "id": "sdnqoowTLH4K"
      }
    },
    {
      "cell_type": "code",
      "source": [
        "outro = {}.fromkeys('a', 'b')\n",
        "print(outro)\n",
        "print(type(outro))"
      ],
      "metadata": {
        "colab": {
          "base_uri": "https://localhost:8080/"
        },
        "id": "Y9ObBiEdJBzd",
        "outputId": "df14bbd9-ea50-48f2-9214-a157e31f5374"
      },
      "execution_count": 50,
      "outputs": [
        {
          "output_type": "stream",
          "name": "stdout",
          "text": [
            "{'a': 'b'}\n",
            "<class 'dict'>\n"
          ]
        }
      ]
    },
    {
      "cell_type": "markdown",
      "source": [
        "Exemplo 2"
      ],
      "metadata": {
        "id": "7h_Iewm_LJsh"
      }
    },
    {
      "cell_type": "code",
      "source": [
        "usuario = {}.fromkeys(['nome', 'pontos', 'email', 'profile'], 'desconhecido') # O métod fromkeys recebe dois parâmetros: um iterável e um valor.\n",
        "print(usuario)\n",
        "print(type(usuario))"
      ],
      "metadata": {
        "colab": {
          "base_uri": "https://localhost:8080/"
        },
        "id": "9zaaW04CKBVw",
        "outputId": "9f1da999-6dea-48cb-84a2-ea7b7e65cd3b"
      },
      "execution_count": 51,
      "outputs": [
        {
          "output_type": "stream",
          "name": "stdout",
          "text": [
            "{'nome': 'desconhecido', 'pontos': 'desconhecido', 'email': 'desconhecido', 'profile': 'desconhecido'}\n",
            "<class 'dict'>\n"
          ]
        }
      ]
    },
    {
      "cell_type": "markdown",
      "source": [
        "Exemplo 3"
      ],
      "metadata": {
        "id": "TNUvLyCPLMSf"
      }
    },
    {
      "cell_type": "code",
      "source": [
        "veja = {}.fromkeys('teste', 'valor') # Em dicionários não tem repetição de chaves\n",
        "print(veja)"
      ],
      "metadata": {
        "colab": {
          "base_uri": "https://localhost:8080/"
        },
        "id": "xh__2FTxK0Lt",
        "outputId": "43bedc1d-3db8-4c71-88d6-d16e0396ff0b"
      },
      "execution_count": 52,
      "outputs": [
        {
          "output_type": "stream",
          "name": "stdout",
          "text": [
            "{'t': 'valor', 'e': 'valor', 's': 'valor'}\n"
          ]
        }
      ]
    },
    {
      "cell_type": "markdown",
      "source": [
        "Exemplo 4"
      ],
      "metadata": {
        "id": "Mb0560DaLN05"
      }
    },
    {
      "cell_type": "code",
      "source": [
        "veja = {}.fromkeys(range(1, 11), 'novo')\n",
        "print(veja)"
      ],
      "metadata": {
        "colab": {
          "base_uri": "https://localhost:8080/"
        },
        "id": "2aJo9LcJLPpP",
        "outputId": "15e98fd6-ae7e-4d13-eb7c-86d6d46c40b2"
      },
      "execution_count": 53,
      "outputs": [
        {
          "output_type": "stream",
          "name": "stdout",
          "text": [
            "{1: 'novo', 2: 'novo', 3: 'novo', 4: 'novo', 5: 'novo', 6: 'novo', 7: 'novo', 8: 'novo', 9: 'novo', 10: 'novo'}\n"
          ]
        }
      ]
    }
  ]
}