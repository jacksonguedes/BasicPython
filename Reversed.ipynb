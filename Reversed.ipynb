{
  "nbformat": 4,
  "nbformat_minor": 0,
  "metadata": {
    "colab": {
      "provenance": [],
      "authorship_tag": "ABX9TyPAXgnmtIQaIAMpv2//5Z8+",
      "include_colab_link": true
    },
    "kernelspec": {
      "name": "python3",
      "display_name": "Python 3"
    },
    "language_info": {
      "name": "python"
    }
  },
  "cells": [
    {
      "cell_type": "markdown",
      "metadata": {
        "id": "view-in-github",
        "colab_type": "text"
      },
      "source": [
        "<a href=\"https://colab.research.google.com/github/jacksonguedes/BasicPython/blob/main/Reversed.ipynb\" target=\"_parent\"><img src=\"https://colab.research.google.com/assets/colab-badge.svg\" alt=\"Open In Colab\"/></a>"
      ]
    },
    {
      "cell_type": "markdown",
      "source": [
        "# **Reversed**  \n",
        "- Não confundir coma função reverse().  \n",
        "- A função reverse() só funciona em listas.  \n",
        "- A função reversed() funciona com qualquer iterável.\n"
      ],
      "metadata": {
        "id": "9KWgNdWQRb2f"
      }
    },
    {
      "cell_type": "code",
      "execution_count": 2,
      "metadata": {
        "colab": {
          "base_uri": "https://localhost:8080/"
        },
        "id": "fgjMJpFGRZNR",
        "outputId": "fb429f19-3542-43dc-97f2-60ec977d2544"
      },
      "outputs": [
        {
          "output_type": "stream",
          "name": "stdout",
          "text": [
            "[1, 2, 3, 4, 5]\n",
            "[5, 4, 3, 2, 1]\n"
          ]
        }
      ],
      "source": [
        "lista = [1, 2, 3, 4, 5]\n",
        "print(lista)\n",
        "lista.reverse()\n",
        "print(lista)"
      ]
    },
    {
      "cell_type": "markdown",
      "source": [
        "Exemplo 1"
      ],
      "metadata": {
        "id": "53xozc1wSdaO"
      }
    },
    {
      "cell_type": "code",
      "source": [
        "lista = [1, 2, 3, 4, 5]\n",
        "res = reversed(lista)\n",
        "\n",
        "print(res)\n",
        "print(type(res))"
      ],
      "metadata": {
        "colab": {
          "base_uri": "https://localhost:8080/"
        },
        "id": "zJ9XU8Z0Seqm",
        "outputId": "3b04c784-deb3-44da-b247-bfccb94ef569"
      },
      "execution_count": 5,
      "outputs": [
        {
          "output_type": "stream",
          "name": "stdout",
          "text": [
            "<list_reverseiterator object at 0x7b5bff50c550>\n",
            "<class 'list_reverseiterator'>\n"
          ]
        }
      ]
    },
    {
      "cell_type": "markdown",
      "source": [
        "A função reversed() retorna um iterável chamado List Reverse Iterator"
      ],
      "metadata": {
        "id": "oavJp7YnS6Df"
      }
    },
    {
      "cell_type": "code",
      "source": [
        "print(list(reversed(lista)))"
      ],
      "metadata": {
        "colab": {
          "base_uri": "https://localhost:8080/"
        },
        "id": "3veexH-QTJTV",
        "outputId": "74afcca6-dd62-48ba-83ef-4a4614498d47"
      },
      "execution_count": 6,
      "outputs": [
        {
          "output_type": "stream",
          "name": "stdout",
          "text": [
            "[5, 4, 3, 2, 1]\n"
          ]
        }
      ]
    },
    {
      "cell_type": "code",
      "source": [
        "print(tuple(reversed(lista)))"
      ],
      "metadata": {
        "colab": {
          "base_uri": "https://localhost:8080/"
        },
        "id": "P5nF1UDxTQwE",
        "outputId": "b1c7d907-70c0-410d-926f-62b600afc0d3"
      },
      "execution_count": 7,
      "outputs": [
        {
          "output_type": "stream",
          "name": "stdout",
          "text": [
            "(5, 4, 3, 2, 1)\n"
          ]
        }
      ]
    },
    {
      "cell_type": "code",
      "source": [
        "print(set(reversed(lista))) # Não inverteu por que no set não define a ordem dos elementos."
      ],
      "metadata": {
        "colab": {
          "base_uri": "https://localhost:8080/"
        },
        "id": "GSQtLPpmTUt9",
        "outputId": "87d7f450-12cc-4d9f-e567-8e148c87be2e"
      },
      "execution_count": 8,
      "outputs": [
        {
          "output_type": "stream",
          "name": "stdout",
          "text": [
            "{1, 2, 3, 4, 5}\n"
          ]
        }
      ]
    },
    {
      "cell_type": "markdown",
      "source": [
        "Iterando sobre o reversed()"
      ],
      "metadata": {
        "id": "zspweTThTxZV"
      }
    },
    {
      "cell_type": "code",
      "source": [
        "for letra in reversed('Jackson Guedes'):\n",
        "  print(letra, end='')"
      ],
      "metadata": {
        "colab": {
          "base_uri": "https://localhost:8080/"
        },
        "id": "06FWP7XrT1UN",
        "outputId": "c7806966-a66a-4aa7-bbd9-1394016e6408"
      },
      "execution_count": 9,
      "outputs": [
        {
          "output_type": "stream",
          "name": "stdout",
          "text": [
            "sedeuG noskcaJ"
          ]
        }
      ]
    },
    {
      "cell_type": "code",
      "source": [
        "print(''.join(list(reversed('Jackson Guedes'))))"
      ],
      "metadata": {
        "colab": {
          "base_uri": "https://localhost:8080/"
        },
        "id": "RG20J1uOULve",
        "outputId": "4bd82519-a52e-4412-c50b-e5dacc4fd001"
      },
      "execution_count": 12,
      "outputs": [
        {
          "output_type": "stream",
          "name": "stdout",
          "text": [
            "sedeuG noskcaJ\n"
          ]
        }
      ]
    },
    {
      "cell_type": "code",
      "source": [
        "print('Jackson Guedes'[::-1])"
      ],
      "metadata": {
        "colab": {
          "base_uri": "https://localhost:8080/"
        },
        "id": "cSM-vmtdU2fv",
        "outputId": "79622c2e-5389-47aa-dc10-d813425496a5"
      },
      "execution_count": 13,
      "outputs": [
        {
          "output_type": "stream",
          "name": "stdout",
          "text": [
            "sedeuG noskcaJ\n"
          ]
        }
      ]
    },
    {
      "cell_type": "code",
      "source": [
        "for numero in reversed(range(0, 10)):\n",
        "  print(numero)"
      ],
      "metadata": {
        "colab": {
          "base_uri": "https://localhost:8080/"
        },
        "id": "EG3nINCaVBDv",
        "outputId": "bc310806-0cb0-42ed-dcad-e1a0c36c00d4"
      },
      "execution_count": 14,
      "outputs": [
        {
          "output_type": "stream",
          "name": "stdout",
          "text": [
            "9\n",
            "8\n",
            "7\n",
            "6\n",
            "5\n",
            "4\n",
            "3\n",
            "2\n",
            "1\n",
            "0\n"
          ]
        }
      ]
    }
  ]
}