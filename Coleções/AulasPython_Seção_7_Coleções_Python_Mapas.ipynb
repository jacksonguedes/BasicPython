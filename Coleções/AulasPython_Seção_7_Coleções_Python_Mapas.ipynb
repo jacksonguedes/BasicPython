{
  "nbformat": 4,
  "nbformat_minor": 0,
  "metadata": {
    "colab": {
      "provenance": [],
      "authorship_tag": "ABX9TyP51RhsXoPuGVVkeNRkNdMC",
      "include_colab_link": true
    },
    "kernelspec": {
      "name": "python3",
      "display_name": "Python 3"
    },
    "language_info": {
      "name": "python"
    }
  },
  "cells": [
    {
      "cell_type": "markdown",
      "metadata": {
        "id": "view-in-github",
        "colab_type": "text"
      },
      "source": [
        "<a href=\"https://colab.research.google.com/github/jacksonguedes/BasicPython/blob/main/AulasPython_Se%C3%A7%C3%A3o_7_Cole%C3%A7%C3%B5es_Python_Mapas.ipynb\" target=\"_parent\"><img src=\"https://colab.research.google.com/assets/colab-badge.svg\" alt=\"Open In Colab\"/></a>"
      ]
    },
    {
      "cell_type": "markdown",
      "source": [
        "# **Mapas**  \n",
        "São conhecidos com dicionários"
      ],
      "metadata": {
        "id": "C27BRv-sCHL-"
      }
    },
    {
      "cell_type": "code",
      "execution_count": 1,
      "metadata": {
        "id": "gQU1lBNOCBsx"
      },
      "outputs": [],
      "source": [
        "receita = {'jan':100, 'fev':250,'mar':400}"
      ]
    },
    {
      "cell_type": "markdown",
      "source": [
        "Iterando sobre dicionários"
      ],
      "metadata": {
        "id": "okvt6SDyCmqO"
      }
    },
    {
      "cell_type": "code",
      "source": [
        "for chave in receita:\n",
        "  print(chave)"
      ],
      "metadata": {
        "colab": {
          "base_uri": "https://localhost:8080/"
        },
        "id": "HIgEb1V7ClRX",
        "outputId": "36403e24-3268-4c53-e1b3-582739880eb1"
      },
      "execution_count": 2,
      "outputs": [
        {
          "output_type": "stream",
          "name": "stdout",
          "text": [
            "jan\n",
            "fev\n",
            "mar\n"
          ]
        }
      ]
    },
    {
      "cell_type": "code",
      "source": [
        "for chave in receita:\n",
        "  print(receita[chave])"
      ],
      "metadata": {
        "colab": {
          "base_uri": "https://localhost:8080/"
        },
        "id": "IbIW0RD1Cyw2",
        "outputId": "b31002e6-181b-4b91-aebf-fb3213ba8aff"
      },
      "execution_count": 4,
      "outputs": [
        {
          "output_type": "stream",
          "name": "stdout",
          "text": [
            "100\n",
            "250\n",
            "400\n"
          ]
        }
      ]
    },
    {
      "cell_type": "code",
      "source": [
        "for chave in receita:\n",
        "  print(f'Em {chave} recebi R$ {receita[chave]}')"
      ],
      "metadata": {
        "colab": {
          "base_uri": "https://localhost:8080/"
        },
        "id": "jVFB2NfLDH0Y",
        "outputId": "5c544f00-f3f8-4c54-d9c6-b98182ce3b53"
      },
      "execution_count": 7,
      "outputs": [
        {
          "output_type": "stream",
          "name": "stdout",
          "text": [
            "Em jan recebi R$ 100\n",
            "Em fev recebi R$ 250\n",
            "Em mar recebi R$ 400\n"
          ]
        }
      ]
    },
    {
      "cell_type": "markdown",
      "source": [
        "Outra forma de ter acessoa todas as chaves"
      ],
      "metadata": {
        "id": "8Ft_tO0_DuxN"
      }
    },
    {
      "cell_type": "code",
      "source": [
        "print(receita.keys())"
      ],
      "metadata": {
        "colab": {
          "base_uri": "https://localhost:8080/"
        },
        "id": "1qqVhQuuDyOR",
        "outputId": "54db509f-e68f-4b06-db82-ba6890455359"
      },
      "execution_count": 8,
      "outputs": [
        {
          "output_type": "stream",
          "name": "stdout",
          "text": [
            "dict_keys(['jan', 'fev', 'mar'])\n"
          ]
        }
      ]
    },
    {
      "cell_type": "code",
      "source": [
        "for chaves in receita.keys():\n",
        "  print(receita[chaves])"
      ],
      "metadata": {
        "colab": {
          "base_uri": "https://localhost:8080/"
        },
        "id": "52Cn1CkvD-SX",
        "outputId": "bbc39e99-c557-4100-88d3-929bb59269f4"
      },
      "execution_count": 10,
      "outputs": [
        {
          "output_type": "stream",
          "name": "stdout",
          "text": [
            "100\n",
            "250\n",
            "400\n"
          ]
        }
      ]
    },
    {
      "cell_type": "markdown",
      "source": [
        "Acessando os valores"
      ],
      "metadata": {
        "id": "389RkkMNEPuH"
      }
    },
    {
      "cell_type": "code",
      "source": [
        "print(receita.values())"
      ],
      "metadata": {
        "colab": {
          "base_uri": "https://localhost:8080/"
        },
        "id": "OVQtX57EERu2",
        "outputId": "d9f91d53-8cb0-4841-8508-64b0b17b2380"
      },
      "execution_count": 11,
      "outputs": [
        {
          "output_type": "stream",
          "name": "stdout",
          "text": [
            "dict_values([100, 250, 400])\n"
          ]
        }
      ]
    },
    {
      "cell_type": "code",
      "source": [
        "for valor in receita.values():\n",
        "  print(valor)"
      ],
      "metadata": {
        "colab": {
          "base_uri": "https://localhost:8080/"
        },
        "id": "suYsfbWeEYiL",
        "outputId": "d270ff1b-2e7f-4f7c-e67c-0fbb71844c3c"
      },
      "execution_count": 12,
      "outputs": [
        {
          "output_type": "stream",
          "name": "stdout",
          "text": [
            "100\n",
            "250\n",
            "400\n"
          ]
        }
      ]
    },
    {
      "cell_type": "markdown",
      "source": [
        "Desempacotamento de dicionários"
      ],
      "metadata": {
        "id": "wzEsL7G5Emnu"
      }
    },
    {
      "cell_type": "code",
      "source": [
        "for chave, valor in receita.items():\n",
        "  print(f'chave = {chave} e valor = {valor}')"
      ],
      "metadata": {
        "colab": {
          "base_uri": "https://localhost:8080/"
        },
        "id": "zvtRU1siEtPF",
        "outputId": "75203b8d-9216-4c2e-cdb3-2cac68bcf294"
      },
      "execution_count": 14,
      "outputs": [
        {
          "output_type": "stream",
          "name": "stdout",
          "text": [
            "chave = jan e valor = 100\n",
            "chave = fev e valor = 250\n",
            "chave = mar e valor = 400\n"
          ]
        }
      ]
    },
    {
      "cell_type": "code",
      "source": [
        "print(receita.items())"
      ],
      "metadata": {
        "colab": {
          "base_uri": "https://localhost:8080/"
        },
        "id": "j4Fd92hwFLBE",
        "outputId": "9df3e05d-924b-4289-b288-1d3e206fd04d"
      },
      "execution_count": 15,
      "outputs": [
        {
          "output_type": "stream",
          "name": "stdout",
          "text": [
            "dict_items([('jan', 100), ('fev', 250), ('mar', 400)])\n"
          ]
        }
      ]
    },
    {
      "cell_type": "markdown",
      "source": [
        "Encontrando o valor a Soma, Máx, Min e Tamanho"
      ],
      "metadata": {
        "id": "6v40OvXhFScT"
      }
    },
    {
      "cell_type": "code",
      "source": [
        "print(f'Soma dos valores: {sum(receita.values())}')\n",
        "print(f'Valor máximo: {max(receita.values())}')\n",
        "print(f'Valor mínimo: {min(receita.values())}')\n",
        "print(f'Tamanho da lista: {len(receita)}')"
      ],
      "metadata": {
        "colab": {
          "base_uri": "https://localhost:8080/"
        },
        "id": "h8zKwbwdFXyo",
        "outputId": "5bb85286-46c8-4cfc-98e1-709d5654d259"
      },
      "execution_count": 17,
      "outputs": [
        {
          "output_type": "stream",
          "name": "stdout",
          "text": [
            "Soma dos valores: 750\n",
            "Valor máximo: 400\n",
            "Valor mínimo: 100\n",
            "Tamanho da lista: 3\n"
          ]
        }
      ]
    }
  ]
}
