{
  "nbformat": 4,
  "nbformat_minor": 0,
  "metadata": {
    "colab": {
      "provenance": [],
      "authorship_tag": "ABX9TyMFb3l01GMQNlmdL7K38a62",
      "include_colab_link": true
    },
    "kernelspec": {
      "name": "python3",
      "display_name": "Python 3"
    },
    "language_info": {
      "name": "python"
    }
  },
  "cells": [
    {
      "cell_type": "markdown",
      "metadata": {
        "id": "view-in-github",
        "colab_type": "text"
      },
      "source": [
        "<a href=\"https://colab.research.google.com/github/jacksonguedes/BasicPython/blob/main/AulasPython_Se%C3%A7%C3%A3o_7_Cole%C3%A7%C3%B5es_Python_Collections.ipynb\" target=\"_parent\"><img src=\"https://colab.research.google.com/assets/colab-badge.svg\" alt=\"Open In Colab\"/></a>"
      ]
    },
    {
      "cell_type": "markdown",
      "source": [
        "# **Módulo Collections - Counter (Contador)**  \n",
        "Collections -> High-performance Datetypes  \n",
        "\n",
        "Counter -> Recebe um interável como parâmetro e cria um objeto do tipo Collections Counter que é parecido com um dicionário, contendo como chave o elemento da lista passada como parâmetro e como valor a quantidade de ocorrências desse elemento."
      ],
      "metadata": {
        "id": "ShDhwPj7ZhY9"
      }
    },
    {
      "cell_type": "markdown",
      "source": [
        "Utilizando o Counter"
      ],
      "metadata": {
        "id": "DDZIZSF3afVt"
      }
    },
    {
      "cell_type": "markdown",
      "source": [
        "Exemplo 1"
      ],
      "metadata": {
        "id": "7JRAW87XbtZE"
      }
    },
    {
      "cell_type": "code",
      "execution_count": 3,
      "metadata": {
        "id": "y2oHjs-MZbqu"
      },
      "outputs": [],
      "source": [
        "from collections import Counter # Realizando o import"
      ]
    },
    {
      "cell_type": "code",
      "source": [
        "lista = [1, 1, 1, 2, 2, 3, 3, 3, 3, 1, 1, 2, 2, 4, 4, 4, 5, 5, 5, 3, 45, 45, 66, 66, 43, 34] # Podemos usar qualquer iterável. Neste caso, uma lista."
      ],
      "metadata": {
        "id": "IqP89i0kauOL"
      },
      "execution_count": 4,
      "outputs": []
    },
    {
      "cell_type": "code",
      "source": [
        "res = Counter(lista)\n",
        "print(type(res))\n",
        "print(res) # Elemento 1, 5 ocorrências"
      ],
      "metadata": {
        "colab": {
          "base_uri": "https://localhost:8080/"
        },
        "id": "15Sz9Tj8bK5V",
        "outputId": "29458be0-2752-4510-f3e0-bac84c8ebe62"
      },
      "execution_count": 5,
      "outputs": [
        {
          "output_type": "stream",
          "name": "stdout",
          "text": [
            "<class 'collections.Counter'>\n",
            "Counter({1: 5, 3: 5, 2: 4, 4: 3, 5: 3, 45: 2, 66: 2, 43: 1, 34: 1})\n"
          ]
        }
      ]
    },
    {
      "cell_type": "markdown",
      "source": [
        "Exemplo 2"
      ],
      "metadata": {
        "id": "s_dNLnHFbvEo"
      }
    },
    {
      "cell_type": "code",
      "source": [
        "print(Counter('Jackson Guedes'))"
      ],
      "metadata": {
        "colab": {
          "base_uri": "https://localhost:8080/"
        },
        "id": "rJOqiOEcbxLV",
        "outputId": "86bba69d-2bea-4c31-93d8-08427ae3ea58"
      },
      "execution_count": 6,
      "outputs": [
        {
          "output_type": "stream",
          "name": "stdout",
          "text": [
            "Counter({'s': 2, 'e': 2, 'J': 1, 'a': 1, 'c': 1, 'k': 1, 'o': 1, 'n': 1, ' ': 1, 'G': 1, 'u': 1, 'd': 1})\n"
          ]
        }
      ]
    },
    {
      "cell_type": "markdown",
      "source": [
        "Exemplo 3"
      ],
      "metadata": {
        "id": "D4ZxAczzcAvV"
      }
    },
    {
      "cell_type": "code",
      "source": [
        "texto = \"\"\"\n",
        "⁵ De sorte que haja em vós o mesmo sentimento que houve também em Cristo Jesus,\n",
        "⁶ Que, sendo em forma de Deus, não teve por usurpação ser igual a Deus,\n",
        "⁷ Mas esvaziou-se a si mesmo, tomando a forma de servo, fazendo-se semelhante aos homens;\n",
        "⁸ E, achado na forma de homem, humilhou-se a si mesmo, sendo obediente até à morte, e morte de cruz.\n",
        "⁹ Por isso, também Deus o exaltou soberanamente, e lhe deu um nome que é sobre todo o nome;\n",
        "¹⁰ Para que ao nome de Jesus se dobre todo o joelho dos que estão nos céus, e na terra, e debaixo da terra,\n",
        "¹¹ E toda a língua confesse que Jesus Cristo é o Senhor, para glória de Deus Pai.\n",
        "\n",
        "Filipenses 2:5-11\n",
        "\n",
        "\"\"\""
      ],
      "metadata": {
        "id": "m3oTWmW4cCGt"
      },
      "execution_count": 8,
      "outputs": []
    },
    {
      "cell_type": "code",
      "source": [
        "palavras = texto.split()\n",
        "res = Counter(palavras)"
      ],
      "metadata": {
        "id": "vhEH_RN2dLPm"
      },
      "execution_count": 9,
      "outputs": []
    },
    {
      "cell_type": "code",
      "source": [
        "print(res)"
      ],
      "metadata": {
        "colab": {
          "base_uri": "https://localhost:8080/"
        },
        "id": "FEa5lSuldUIF",
        "outputId": "18b33887-3bbc-4423-bdc0-578f1bbc1d80"
      },
      "execution_count": 10,
      "outputs": [
        {
          "output_type": "stream",
          "name": "stdout",
          "text": [
            "Counter({'que': 6, 'de': 6, 'o': 5, 'a': 5, 'e': 4, 'em': 3, 'forma': 3, 'também': 2, 'Cristo': 2, 'sendo': 2, 'Deus,': 2, 'si': 2, 'mesmo,': 2, 'na': 2, 'Deus': 2, 'nome': 2, 'é': 2, 'todo': 2, 'Jesus': 2, 'terra,': 2, '⁵': 1, 'De': 1, 'sorte': 1, 'haja': 1, 'vós': 1, 'mesmo': 1, 'sentimento': 1, 'houve': 1, 'Jesus,': 1, '⁶': 1, 'Que,': 1, 'não': 1, 'teve': 1, 'por': 1, 'usurpação': 1, 'ser': 1, 'igual': 1, '⁷': 1, 'Mas': 1, 'esvaziou-se': 1, 'tomando': 1, 'servo,': 1, 'fazendo-se': 1, 'semelhante': 1, 'aos': 1, 'homens;': 1, '⁸': 1, 'E,': 1, 'achado': 1, 'homem,': 1, 'humilhou-se': 1, 'obediente': 1, 'até': 1, 'à': 1, 'morte,': 1, 'morte': 1, 'cruz.': 1, '⁹': 1, 'Por': 1, 'isso,': 1, 'exaltou': 1, 'soberanamente,': 1, 'lhe': 1, 'deu': 1, 'um': 1, 'sobre': 1, 'nome;': 1, '¹⁰': 1, 'Para': 1, 'ao': 1, 'se': 1, 'dobre': 1, 'joelho': 1, 'dos': 1, 'estão': 1, 'nos': 1, 'céus,': 1, 'debaixo': 1, 'da': 1, '¹¹': 1, 'E': 1, 'toda': 1, 'língua': 1, 'confesse': 1, 'Senhor,': 1, 'para': 1, 'glória': 1, 'Pai.': 1, 'Filipenses': 1, '2:5-11': 1})\n"
          ]
        }
      ]
    },
    {
      "cell_type": "markdown",
      "source": [
        "Econtrando as cijnco palavras com mais ocorrências"
      ],
      "metadata": {
        "id": "x11ilU8_d0yG"
      }
    },
    {
      "cell_type": "code",
      "source": [
        "print(res.most_common(5))"
      ],
      "metadata": {
        "colab": {
          "base_uri": "https://localhost:8080/"
        },
        "id": "O2MqfsDtdu-2",
        "outputId": "196d9954-6af3-49a1-fc2b-eeaaac17a9fc"
      },
      "execution_count": 11,
      "outputs": [
        {
          "output_type": "stream",
          "name": "stdout",
          "text": [
            "[('que', 6), ('de', 6), ('o', 5), ('a', 5), ('e', 4)]\n"
          ]
        }
      ]
    }
  ]
}
