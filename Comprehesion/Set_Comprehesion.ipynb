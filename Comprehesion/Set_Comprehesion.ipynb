{
  "nbformat": 4,
  "nbformat_minor": 0,
  "metadata": {
    "colab": {
      "provenance": [],
      "authorship_tag": "ABX9TyPkDrglLbtheozg4GQFFTLX",
      "include_colab_link": true
    },
    "kernelspec": {
      "name": "python3",
      "display_name": "Python 3"
    },
    "language_info": {
      "name": "python"
    }
  },
  "cells": [
    {
      "cell_type": "markdown",
      "metadata": {
        "id": "view-in-github",
        "colab_type": "text"
      },
      "source": [
        "<a href=\"https://colab.research.google.com/github/jacksonguedes/BasicPython/blob/main/Set_Comprehesion.ipynb\" target=\"_parent\"><img src=\"https://colab.research.google.com/assets/colab-badge.svg\" alt=\"Open In Colab\"/></a>"
      ]
    },
    {
      "cell_type": "markdown",
      "source": [
        "# **Set Comprehesion**"
      ],
      "metadata": {
        "id": "awwvAeHe--y-"
      }
    },
    {
      "cell_type": "markdown",
      "source": [
        "Exemplo 1"
      ],
      "metadata": {
        "id": "yIoKFRwRARYv"
      }
    },
    {
      "cell_type": "code",
      "execution_count": 2,
      "metadata": {
        "colab": {
          "base_uri": "https://localhost:8080/"
        },
        "id": "-sf8JaKp-y6H",
        "outputId": "5f2e0032-f1b8-48b0-f19f-6109f23d6add"
      },
      "outputs": [
        {
          "output_type": "stream",
          "name": "stdout",
          "text": [
            "{1, 2, 3, 4, 5, 6}\n"
          ]
        }
      ],
      "source": [
        "numeros = {num for num in range(1, 7)}\n",
        "print(numeros)"
      ]
    },
    {
      "cell_type": "markdown",
      "source": [
        "Exemplo 2"
      ],
      "metadata": {
        "id": "4rNND7FoAdyz"
      }
    },
    {
      "cell_type": "code",
      "source": [
        "numeros = {x ** 2 for x in range(10)}\n",
        "print(numeros)"
      ],
      "metadata": {
        "colab": {
          "base_uri": "https://localhost:8080/"
        },
        "id": "HRW9iAnmAe3m",
        "outputId": "e8a70671-8118-4da4-bc17-769d6d4b2d60"
      },
      "execution_count": 3,
      "outputs": [
        {
          "output_type": "stream",
          "name": "stdout",
          "text": [
            "{0, 1, 64, 4, 36, 9, 16, 49, 81, 25}\n"
          ]
        }
      ]
    },
    {
      "cell_type": "markdown",
      "source": [
        "Exemplo 3"
      ],
      "metadata": {
        "id": "ChWv57g-BRKN"
      }
    },
    {
      "cell_type": "code",
      "source": [
        "numeros = {x: x ** 2 for x in range(10)}\n",
        "print(numeros)"
      ],
      "metadata": {
        "colab": {
          "base_uri": "https://localhost:8080/"
        },
        "id": "oLJpm3LOBTQT",
        "outputId": "10dcba23-df39-4aa7-e917-96b2ddb9673f"
      },
      "execution_count": 4,
      "outputs": [
        {
          "output_type": "stream",
          "name": "stdout",
          "text": [
            "{0: 0, 1: 1, 2: 4, 3: 9, 4: 16, 5: 25, 6: 36, 7: 49, 8: 64, 9: 81}\n"
          ]
        }
      ]
    },
    {
      "cell_type": "markdown",
      "source": [
        "Exemplo 4"
      ],
      "metadata": {
        "id": "o6U9upRyB5Sz"
      }
    },
    {
      "cell_type": "code",
      "source": [
        "letras = {letra for letra in 'Geek University'} # Sem repetição e ordenação das letras\n",
        "print(letras)"
      ],
      "metadata": {
        "colab": {
          "base_uri": "https://localhost:8080/"
        },
        "id": "s9YzXy6KB6oC",
        "outputId": "8826c353-a6db-46c2-a816-6abf1aec42e0"
      },
      "execution_count": 5,
      "outputs": [
        {
          "output_type": "stream",
          "name": "stdout",
          "text": [
            "{'e', 'G', 'v', 'r', 't', 's', 'U', 'n', ' ', 'k', 'i', 'y'}\n"
          ]
        }
      ]
    }
  ]
}
