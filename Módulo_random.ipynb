{
  "nbformat": 4,
  "nbformat_minor": 0,
  "metadata": {
    "colab": {
      "provenance": [],
      "authorship_tag": "ABX9TyOQ0/WtlZg4jL+UVw2vaCRs",
      "include_colab_link": true
    },
    "kernelspec": {
      "name": "python3",
      "display_name": "Python 3"
    },
    "language_info": {
      "name": "python"
    }
  },
  "cells": [
    {
      "cell_type": "markdown",
      "metadata": {
        "id": "view-in-github",
        "colab_type": "text"
      },
      "source": [
        "<a href=\"https://colab.research.google.com/github/jacksonguedes/BasicPython/blob/main/M%C3%B3dulo_random.ipynb\" target=\"_parent\"><img src=\"https://colab.research.google.com/assets/colab-badge.svg\" alt=\"Open In Colab\"/></a>"
      ]
    },
    {
      "cell_type": "markdown",
      "source": [
        "# **Módulo Random**   \n",
        "**Em Python, módulos nada mais são do que outros arquvos Python.**"
      ],
      "metadata": {
        "id": "TZ_DP59JkjvQ"
      }
    },
    {
      "cell_type": "code",
      "execution_count": 1,
      "metadata": {
        "id": "YUxcDfQ5hwgT"
      },
      "outputs": [],
      "source": [
        "# Importando todo o módulo (Não recomendado)\n",
        "\n",
        "import random"
      ]
    },
    {
      "cell_type": "code",
      "source": [
        "# random() -> Gera um número pseudo-aleatório entre 0 e 1.\n",
        "print(random.random())"
      ],
      "metadata": {
        "colab": {
          "base_uri": "https://localhost:8080/"
        },
        "id": "zYKjWtlglz2q",
        "outputId": "3d4d0555-6509-463f-fae8-99465ea1bdc1"
      },
      "execution_count": 2,
      "outputs": [
        {
          "output_type": "stream",
          "name": "stdout",
          "text": [
            "0.5134632763978594\n"
          ]
        }
      ]
    },
    {
      "cell_type": "code",
      "source": [
        "# Importando uma função específica do módulo\n",
        "\n",
        "from random import random # Módulo random importando a função random"
      ],
      "metadata": {
        "id": "uwD5C2Vul2VT"
      },
      "execution_count": 4,
      "outputs": []
    },
    {
      "cell_type": "code",
      "source": [
        "for i in range(10):\n",
        "  print(random())"
      ],
      "metadata": {
        "colab": {
          "base_uri": "https://localhost:8080/"
        },
        "id": "Ik97WCVAnNOq",
        "outputId": "c2b6675f-5397-41e8-8546-26b4f3a2e736"
      },
      "execution_count": 5,
      "outputs": [
        {
          "output_type": "stream",
          "name": "stdout",
          "text": [
            "0.6108780839350024\n",
            "0.22768253592784382\n",
            "0.91225967454688\n",
            "0.4816883640300802\n",
            "0.10191685587966026\n",
            "0.2981261877517559\n",
            "0.963541576116648\n",
            "0.33859646916526986\n",
            "0.997640958137359\n",
            "0.507098950337426\n"
          ]
        }
      ]
    },
    {
      "cell_type": "markdown",
      "source": [
        "**uniform() -> Gerar um número pseudo-aleatório entre os valores estabelecidos**"
      ],
      "metadata": {
        "id": "nBsn97vkn3xh"
      }
    },
    {
      "cell_type": "code",
      "source": [
        "from random import uniform"
      ],
      "metadata": {
        "id": "ffHeHIWjoBDo"
      },
      "execution_count": 6,
      "outputs": []
    },
    {
      "cell_type": "code",
      "source": [
        "for i in range(10):\n",
        "  print(uniform(3, 7)) # 7 não é incluído."
      ],
      "metadata": {
        "colab": {
          "base_uri": "https://localhost:8080/"
        },
        "id": "2fOI15IToEUZ",
        "outputId": "f3f7613f-e3c1-4911-a420-30da7566d140"
      },
      "execution_count": 7,
      "outputs": [
        {
          "output_type": "stream",
          "name": "stdout",
          "text": [
            "3.8296770149983375\n",
            "3.0450318268117873\n",
            "3.5243345656432887\n",
            "3.1217180599824936\n",
            "5.270204480697597\n",
            "6.250248387907041\n",
            "4.905478369375002\n",
            "6.964160862412719\n",
            "4.861658657282064\n",
            "4.59102006191439\n"
          ]
        }
      ]
    },
    {
      "cell_type": "markdown",
      "source": [
        "**randint() -> Gera valores pseudo-aleatórios entre os valores estabelecidos.**"
      ],
      "metadata": {
        "id": "0LkQwJLIo6_j"
      }
    },
    {
      "cell_type": "markdown",
      "source": [
        "Gerador de apostas para a mega-sena"
      ],
      "metadata": {
        "id": "n4Tc5iOXpHKL"
      }
    },
    {
      "cell_type": "code",
      "source": [
        "from random import randint"
      ],
      "metadata": {
        "id": "a57R1b2HpCkB"
      },
      "execution_count": 8,
      "outputs": []
    },
    {
      "cell_type": "code",
      "source": [
        "for i in range(6):\n",
        "  print(randint(1, 61), end = ', ')"
      ],
      "metadata": {
        "colab": {
          "base_uri": "https://localhost:8080/"
        },
        "id": "45CVzRiBpRGI",
        "outputId": "a27b76ce-3cb6-4b1c-b14e-c0209f654939"
      },
      "execution_count": 11,
      "outputs": [
        {
          "output_type": "stream",
          "name": "stdout",
          "text": [
            "58, 42, 35, 29, 30, 34, "
          ]
        }
      ]
    },
    {
      "cell_type": "markdown",
      "source": [
        "**choice() -> Mostra um valor aleatório entre iterável**"
      ],
      "metadata": {
        "id": "vUUM1666p3AY"
      }
    },
    {
      "cell_type": "code",
      "source": [
        "from random import choice"
      ],
      "metadata": {
        "id": "JOqlHv_kp8R1"
      },
      "execution_count": 12,
      "outputs": []
    },
    {
      "cell_type": "code",
      "source": [
        "jogadas = ['Pedra', 'Papel', 'Tesoura']\n",
        "print(choice(jogadas))"
      ],
      "metadata": {
        "colab": {
          "base_uri": "https://localhost:8080/"
        },
        "id": "cy_LNzMYqLzG",
        "outputId": "20726338-8ac8-4dd3-c567-73984770dd27"
      },
      "execution_count": 19,
      "outputs": [
        {
          "output_type": "stream",
          "name": "stdout",
          "text": [
            "Papel\n"
          ]
        }
      ]
    },
    {
      "cell_type": "code",
      "source": [
        "print(choice('Jackson Guedes'))"
      ],
      "metadata": {
        "colab": {
          "base_uri": "https://localhost:8080/"
        },
        "id": "rU7JTQzOqT4O",
        "outputId": "555f6f93-0388-4ce4-e4b7-2315f690bd69"
      },
      "execution_count": 21,
      "outputs": [
        {
          "output_type": "stream",
          "name": "stdout",
          "text": [
            "c\n"
          ]
        }
      ]
    },
    {
      "cell_type": "markdown",
      "source": [
        "**shuffle() -> Tem a função de embaralhar dados**"
      ],
      "metadata": {
        "id": "GXZTKxs8quLp"
      }
    },
    {
      "cell_type": "code",
      "source": [
        "from random import shuffle"
      ],
      "metadata": {
        "id": "mLhDpAwvrJXf"
      },
      "execution_count": 22,
      "outputs": []
    },
    {
      "cell_type": "code",
      "source": [
        "cartas = ['K', 'Q', 'J', 'A', '2', '3', '4', '5', '6', '7']\n",
        "print(cartas)"
      ],
      "metadata": {
        "colab": {
          "base_uri": "https://localhost:8080/"
        },
        "id": "4lTDvUcTq0eG",
        "outputId": "39d716f9-1380-4093-a3d4-8f67d21c5cca"
      },
      "execution_count": 24,
      "outputs": [
        {
          "output_type": "stream",
          "name": "stdout",
          "text": [
            "['K', 'Q', 'J', 'A', '2', '3', '4', '5', '6', '7']\n"
          ]
        }
      ]
    },
    {
      "cell_type": "code",
      "source": [
        "shuffle(cartas)\n",
        "print(cartas)"
      ],
      "metadata": {
        "colab": {
          "base_uri": "https://localhost:8080/"
        },
        "id": "a5aUSqWarOYO",
        "outputId": "ca5bb98a-9992-46d0-a366-6bd3f647a5eb"
      },
      "execution_count": 27,
      "outputs": [
        {
          "output_type": "stream",
          "name": "stdout",
          "text": [
            "['3', '7', '5', 'A', 'Q', 'K', '2', '4', '6', 'J']\n"
          ]
        }
      ]
    }
  ]
}