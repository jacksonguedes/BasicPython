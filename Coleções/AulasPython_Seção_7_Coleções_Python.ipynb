{
  "nbformat": 4,
  "nbformat_minor": 0,
  "metadata": {
    "colab": {
      "provenance": [],
      "authorship_tag": "ABX9TyOCqdoeLxZVicxq/YTbi6zq",
      "include_colab_link": true
    },
    "kernelspec": {
      "name": "python3",
      "display_name": "Python 3"
    },
    "language_info": {
      "name": "python"
    }
  },
  "cells": [
    {
      "cell_type": "markdown",
      "metadata": {
        "id": "view-in-github",
        "colab_type": "text"
      },
      "source": [
        "<a href=\"https://colab.research.google.com/github/jacksonguedes/BasicPython/blob/main/AulasPython_Se%C3%A7%C3%A3o_7_Cole%C3%A7%C3%B5es_Python.ipynb\" target=\"_parent\"><img src=\"https://colab.research.google.com/assets/colab-badge.svg\" alt=\"Open In Colab\"/></a>"
      ]
    },
    {
      "cell_type": "markdown",
      "source": [
        "# **Coleções Python - Listas**  \n",
        "Listas em Python  funciona como vetores/matrizes (arrays) em outras linguagens, com a diferença de serem DINÂMICO e tamanho de podermos colocar QUALQUER tipo de dado.  \n",
        "- Não possuem  tamanho fixo; Ou seja, podem, os criar a lista e simplesmente ir adicionando  elemento.  \n",
        "- Qualquer tipo de dado: Não possuem tipo de dado fixo; Ou seja, podemos colocar qualquer tipo de dado."
      ],
      "metadata": {
        "id": "YuGVpglIAHSL"
      }
    },
    {
      "cell_type": "code",
      "execution_count": null,
      "metadata": {
        "id": "3zGd2hZ4_zBh"
      },
      "outputs": [],
      "source": [
        "# Tipos de listas\n",
        "\n",
        "lista1 = [1, 45, 7, 35, 278, 56, 66, 12, 90, 33, 23]\n",
        "lista2 = ['j', 'a', 'c', 'k', 's', 'o', 'n']\n",
        "lista3 = []\n",
        "lista4 = list(range(11))\n",
        "lista5 = list('Jackson Guedes')"
      ]
    },
    {
      "cell_type": "markdown",
      "source": [
        "Podemos facilmente checar se determinado valor está contido na lista"
      ],
      "metadata": {
        "id": "j0N74-ctDPOM"
      }
    },
    {
      "cell_type": "code",
      "source": [
        "num = 278\n",
        "tipo_lista = lista1\n",
        "\n",
        "if num in tipo_lista:\n",
        "  print(f'Encontrei o {num}!')\n",
        "else:\n",
        "  print(f'Não encontrei o {num}!')"
      ],
      "metadata": {
        "colab": {
          "base_uri": "https://localhost:8080/"
        },
        "id": "BCDIjDzrDX0h",
        "outputId": "5cad546a-82fa-4851-a182-1aacccaee674"
      },
      "execution_count": null,
      "outputs": [
        {
          "output_type": "stream",
          "name": "stdout",
          "text": [
            "Encontrei o 278!\n"
          ]
        }
      ]
    },
    {
      "cell_type": "code",
      "source": [
        "procura = 'a'\n",
        "tipo_lista = lista5\n",
        "\n",
        "if procura in tipo_lista:\n",
        "  print(f'Encontrei o {procura}!')\n",
        "else:\n",
        "  print(f'Não encontrei o {procura}!')"
      ],
      "metadata": {
        "colab": {
          "base_uri": "https://localhost:8080/"
        },
        "id": "nOI0peykEthY",
        "outputId": "acaf3d8c-7643-422f-a4a4-fd0af6bddee5"
      },
      "execution_count": null,
      "outputs": [
        {
          "output_type": "stream",
          "name": "stdout",
          "text": [
            "Encontrei o a!\n"
          ]
        }
      ]
    },
    {
      "cell_type": "markdown",
      "source": [
        "Ordenando uma lista"
      ],
      "metadata": {
        "id": "DptsoZbkFmA7"
      }
    },
    {
      "cell_type": "code",
      "source": [
        "lista1.sort()\n",
        "print(lista1)"
      ],
      "metadata": {
        "colab": {
          "base_uri": "https://localhost:8080/"
        },
        "id": "l7lfAC_SFoKT",
        "outputId": "b773ff8c-b823-4e66-b85a-19453cbb4c4b"
      },
      "execution_count": null,
      "outputs": [
        {
          "output_type": "stream",
          "name": "stdout",
          "text": [
            "[1, 7, 12, 23, 33, 35, 45, 56, 66, 90, 278]\n"
          ]
        }
      ]
    },
    {
      "cell_type": "code",
      "source": [
        "lista2.sort() # Se tiver letras maiúsculas na lista, elas serão as primeiras.\n",
        "print(lista2)"
      ],
      "metadata": {
        "colab": {
          "base_uri": "https://localhost:8080/"
        },
        "id": "h9k4B_J8F_Pz",
        "outputId": "50875b26-1046-4d4a-bab0-c962cf9bb285"
      },
      "execution_count": null,
      "outputs": [
        {
          "output_type": "stream",
          "name": "stdout",
          "text": [
            "['a', 'c', 'j', 'k', 'n', 'o', 's']\n"
          ]
        }
      ]
    },
    {
      "cell_type": "markdown",
      "source": [
        "Contando o número de ocorrências de um valor em uma lista"
      ],
      "metadata": {
        "id": "NB74P_uHGmB2"
      }
    },
    {
      "cell_type": "code",
      "source": [
        "print(lista1.count(1))\n",
        "print(lista5.count('e')) # Há diferêncas entre maiúsculas e minúsculas"
      ],
      "metadata": {
        "colab": {
          "base_uri": "https://localhost:8080/"
        },
        "id": "haYuoilNGrVR",
        "outputId": "ff728860-2ee9-4313-c27c-2706d88afa6d"
      },
      "execution_count": null,
      "outputs": [
        {
          "output_type": "stream",
          "name": "stdout",
          "text": [
            "1\n",
            "2\n"
          ]
        }
      ]
    },
    {
      "cell_type": "markdown",
      "source": [
        "Adicionando elementos em uma listas. Para isso, utilizá-se a funçã *append*."
      ],
      "metadata": {
        "id": "Cg83zDGGHbVd"
      }
    },
    {
      "cell_type": "code",
      "source": [
        "print(lista1)\n",
        "lista1.append(23) # Só dá para add um elemento por vez\n",
        "print(lista1)"
      ],
      "metadata": {
        "colab": {
          "base_uri": "https://localhost:8080/"
        },
        "id": "Tdaaw3pIHlkY",
        "outputId": "286ea634-611e-4c0e-9171-49507a11a283"
      },
      "execution_count": null,
      "outputs": [
        {
          "output_type": "stream",
          "name": "stdout",
          "text": [
            "[1, 45, 7, 35, 278, 56, 66, 12, 90, 33, 23, 42, 42]\n",
            "[1, 45, 7, 35, 278, 56, 66, 12, 90, 33, 23, 42, 42, 23]\n"
          ]
        }
      ]
    },
    {
      "cell_type": "code",
      "source": [
        "print(lista1)\n",
        "lista1.append([45, 66, 79]) # Add um elemento do tipo lista (sublista)\n",
        "print(lista1)"
      ],
      "metadata": {
        "colab": {
          "base_uri": "https://localhost:8080/"
        },
        "id": "4ybvSDNQJjgu",
        "outputId": "b33dedc4-f54b-4ee9-b602-8f30f2c47e3c"
      },
      "execution_count": null,
      "outputs": [
        {
          "output_type": "stream",
          "name": "stdout",
          "text": [
            "[1, 45, 7, 35, 278, 56, 66, 12, 90, 33, 23, 42, 42, 23]\n",
            "[1, 45, 7, 35, 278, 56, 66, 12, 90, 33, 23, 42, 42, 23, [45, 66, 79]]\n"
          ]
        }
      ]
    },
    {
      "cell_type": "code",
      "source": [
        "if [45, 66, 79] in lista1:\n",
        "  print('Encontrei a lista!')\n",
        "else:\n",
        "  print('Não encontrei a lista!')"
      ],
      "metadata": {
        "colab": {
          "base_uri": "https://localhost:8080/"
        },
        "id": "YJ7E1xY8KAUo",
        "outputId": "49ed6edf-193c-4fde-b35f-1c3081d4b387"
      },
      "execution_count": null,
      "outputs": [
        {
          "output_type": "stream",
          "name": "stdout",
          "text": [
            "Encontrei a lista!\n"
          ]
        }
      ]
    },
    {
      "cell_type": "code",
      "source": [
        "lista1.extend([123, 456, 987])# Mesma função do APPEND, porém add os elementos individualmente\n",
        "print(lista1)"
      ],
      "metadata": {
        "colab": {
          "base_uri": "https://localhost:8080/"
        },
        "id": "2OPVG4XuLQmf",
        "outputId": "32895fb0-7655-4850-9159-debff6fd917d"
      },
      "execution_count": null,
      "outputs": [
        {
          "output_type": "stream",
          "name": "stdout",
          "text": [
            "[1, 45, 7, 35, 278, 56, 66, 12, 90, 33, 23, 42, 42, 23, [45, 66, 79], 123, 456, 987]\n"
          ]
        }
      ]
    },
    {
      "cell_type": "markdown",
      "source": [
        "Adicionando um novo elemento na lista informando a posição do índice"
      ],
      "metadata": {
        "id": "HOVaOHaxNEP6"
      }
    },
    {
      "cell_type": "code",
      "source": [
        "lista1.insert(2, 'Cavalo') # Isso não substitui o valor inicial. O mesmo será deslocado para a direita da lista.\n",
        "print(lista1)"
      ],
      "metadata": {
        "colab": {
          "base_uri": "https://localhost:8080/"
        },
        "id": "9hUMW94XNM03",
        "outputId": "dbe005ea-0820-4c73-8bc7-6b2a3c9ca950"
      },
      "execution_count": null,
      "outputs": [
        {
          "output_type": "stream",
          "name": "stdout",
          "text": [
            "[1, 45, 'Cavalo', 7, 35, 278, 56, 66, 12, 90, 33, 23, 42, 42, 23, [45, 66, 79], 123, 456, 987]\n"
          ]
        }
      ]
    }
  ]
}
