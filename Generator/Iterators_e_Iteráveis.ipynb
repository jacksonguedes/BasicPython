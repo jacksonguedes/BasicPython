{
  "nbformat": 4,
  "nbformat_minor": 0,
  "metadata": {
    "colab": {
      "provenance": [],
      "authorship_tag": "ABX9TyNdPWz+MELrVko//8Yhu5ur",
      "include_colab_link": true
    },
    "kernelspec": {
      "name": "python3",
      "display_name": "Python 3"
    },
    "language_info": {
      "name": "python"
    }
  },
  "cells": [
    {
      "cell_type": "markdown",
      "metadata": {
        "id": "view-in-github",
        "colab_type": "text"
      },
      "source": [
        "<a href=\"https://colab.research.google.com/github/jacksonguedes/BasicPython/blob/main/Iterators_e_Iter%C3%A1veis_Parte_1.ipynb\" target=\"_parent\"><img src=\"https://colab.research.google.com/assets/colab-badge.svg\" alt=\"Open In Colab\"/></a>"
      ]
    },
    {
      "cell_type": "markdown",
      "source": [
        "#**Entendendo**"
      ],
      "metadata": {
        "id": "33oxIWdIG9WQ"
      }
    },
    {
      "cell_type": "markdown",
      "source": [
        "Iterator:  \n",
        "- Um objetoque pode ser iterado.\n",
        "- Um objeto que retorna um dado, sendo um elemento por vez quando uma função next() é chamada.\n",
        "\n",
        "Iterable:  \n",
        "- Um objeto que irá retornar um iterator quando a função iter() for chamada."
      ],
      "metadata": {
        "id": "RNvo5PjqF5IU"
      }
    },
    {
      "cell_type": "code",
      "execution_count": 1,
      "metadata": {
        "id": "L1pnwGzbFl9c"
      },
      "outputs": [],
      "source": [
        "nome = 'Jackson' # Éumiterable, mas não é um iterator.\n",
        "numeros = [1, 2, 3, 4, 5, 6] # É um iterable, mas não é um iterator."
      ]
    },
    {
      "cell_type": "code",
      "source": [
        "print(next(nome)) # Não é um iterator"
      ],
      "metadata": {
        "colab": {
          "base_uri": "https://localhost:8080/",
          "height": 148
        },
        "id": "vn6RgaLQHxlO",
        "outputId": "f8a5bb6b-c411-4187-8e64-73eb63a09446"
      },
      "execution_count": 2,
      "outputs": [
        {
          "output_type": "error",
          "ename": "TypeError",
          "evalue": "'str' object is not an iterator",
          "traceback": [
            "\u001b[0;31m---------------------------------------------------------------------------\u001b[0m",
            "\u001b[0;31mTypeError\u001b[0m                                 Traceback (most recent call last)",
            "\u001b[0;32m<ipython-input-2-f3db40adba7c>\u001b[0m in \u001b[0;36m<cell line: 1>\u001b[0;34m()\u001b[0m\n\u001b[0;32m----> 1\u001b[0;31m \u001b[0mprint\u001b[0m\u001b[0;34m(\u001b[0m\u001b[0mnext\u001b[0m\u001b[0;34m(\u001b[0m\u001b[0mnome\u001b[0m\u001b[0;34m)\u001b[0m\u001b[0;34m)\u001b[0m \u001b[0;31m# Não é um iterator\u001b[0m\u001b[0;34m\u001b[0m\u001b[0;34m\u001b[0m\u001b[0m\n\u001b[0m",
            "\u001b[0;31mTypeError\u001b[0m: 'str' object is not an iterator"
          ]
        }
      ]
    },
    {
      "cell_type": "code",
      "source": [
        "print(next(numeros)) # Não é um iterator"
      ],
      "metadata": {
        "colab": {
          "base_uri": "https://localhost:8080/",
          "height": 148
        },
        "id": "-3RzG9ZdH9dD",
        "outputId": "6e7bfaca-a77d-43ab-c16d-0f6eb300bc1e"
      },
      "execution_count": 3,
      "outputs": [
        {
          "output_type": "error",
          "ename": "TypeError",
          "evalue": "'list' object is not an iterator",
          "traceback": [
            "\u001b[0;31m---------------------------------------------------------------------------\u001b[0m",
            "\u001b[0;31mTypeError\u001b[0m                                 Traceback (most recent call last)",
            "\u001b[0;32m<ipython-input-3-a2fa0816da28>\u001b[0m in \u001b[0;36m<cell line: 1>\u001b[0;34m()\u001b[0m\n\u001b[0;32m----> 1\u001b[0;31m \u001b[0mprint\u001b[0m\u001b[0;34m(\u001b[0m\u001b[0mnext\u001b[0m\u001b[0;34m(\u001b[0m\u001b[0mnumeros\u001b[0m\u001b[0;34m)\u001b[0m\u001b[0;34m)\u001b[0m \u001b[0;31m# Não é um iterator\u001b[0m\u001b[0;34m\u001b[0m\u001b[0;34m\u001b[0m\u001b[0m\n\u001b[0m",
            "\u001b[0;31mTypeError\u001b[0m: 'list' object is not an iterator"
          ]
        }
      ]
    },
    {
      "cell_type": "code",
      "source": [
        "it1 = iter(nome)\n",
        "it2 = iter(numeros)"
      ],
      "metadata": {
        "id": "HrXF7qAiIEsD"
      },
      "execution_count": 4,
      "outputs": []
    },
    {
      "cell_type": "code",
      "source": [
        "print(next(it1))\n",
        "print(next(it1))\n",
        "print(next(it1))\n",
        "print(next(it1))"
      ],
      "metadata": {
        "colab": {
          "base_uri": "https://localhost:8080/"
        },
        "id": "t2y_IIf5IJIj",
        "outputId": "40325a6b-12df-4910-f5bb-b72751ae1c2c"
      },
      "execution_count": 5,
      "outputs": [
        {
          "output_type": "stream",
          "name": "stdout",
          "text": [
            "J\n",
            "a\n",
            "c\n",
            "k\n"
          ]
        }
      ]
    },
    {
      "cell_type": "code",
      "source": [
        "print(next(it2))\n",
        "print(next(it2))\n",
        "print(next(it2))\n",
        "print(next(it2))\n",
        "print(next(it2))"
      ],
      "metadata": {
        "colab": {
          "base_uri": "https://localhost:8080/"
        },
        "id": "ZJoGFFInIQPD",
        "outputId": "991c6462-cd21-43b8-ff88-f0fc703f28fe"
      },
      "execution_count": 6,
      "outputs": [
        {
          "output_type": "stream",
          "name": "stdout",
          "text": [
            "1\n",
            "2\n",
            "3\n",
            "4\n",
            "5\n"
          ]
        }
      ]
    },
    {
      "cell_type": "code",
      "source": [
        "nome = 'Jackson'\n",
        "\n",
        "for letra in nome:\n",
        "  print(f'{letra}') # Aplica a função iter() em nome"
      ],
      "metadata": {
        "colab": {
          "base_uri": "https://localhost:8080/"
        },
        "id": "8DktF3kEJQlz",
        "outputId": "2d68ee3e-7e45-4da0-af28-e70a400f1f30"
      },
      "execution_count": 7,
      "outputs": [
        {
          "output_type": "stream",
          "name": "stdout",
          "text": [
            "J\n",
            "a\n",
            "c\n",
            "k\n",
            "s\n",
            "o\n",
            "n\n"
          ]
        }
      ]
    },
    {
      "cell_type": "markdown",
      "source": [
        "# **Criando a própria versão de Loop**"
      ],
      "metadata": {
        "id": "QRR4-g_GO2ly"
      }
    },
    {
      "cell_type": "code",
      "source": [
        "def meu_for(interavel):\n",
        "  it = iter(interavel)\n",
        "  while True:\n",
        "    try:\n",
        "      print(next(it))\n",
        "    except StopIteration:\n",
        "      break"
      ],
      "metadata": {
        "id": "vfVuMyd6O2FB"
      },
      "execution_count": 8,
      "outputs": []
    },
    {
      "cell_type": "code",
      "source": [
        "meu_for('Jackon Guedes')"
      ],
      "metadata": {
        "colab": {
          "base_uri": "https://localhost:8080/"
        },
        "id": "9WVCL06PRDoJ",
        "outputId": "4e739020-5340-47cf-e8f5-bc14fd9756a1"
      },
      "execution_count": 9,
      "outputs": [
        {
          "output_type": "stream",
          "name": "stdout",
          "text": [
            "J\n",
            "a\n",
            "c\n",
            "k\n",
            "o\n",
            "n\n",
            " \n",
            "G\n",
            "u\n",
            "e\n",
            "d\n",
            "e\n",
            "s\n"
          ]
        }
      ]
    },
    {
      "cell_type": "code",
      "source": [
        "num = [1, 2, 3]\n",
        "meu_for(num)"
      ],
      "metadata": {
        "colab": {
          "base_uri": "https://localhost:8080/"
        },
        "id": "JuN0DMg3R9Gr",
        "outputId": "d602997f-242a-41cd-e6a5-100cdea7c1f2"
      },
      "execution_count": 10,
      "outputs": [
        {
          "output_type": "stream",
          "name": "stdout",
          "text": [
            "1\n",
            "2\n",
            "3\n"
          ]
        }
      ]
    },
    {
      "cell_type": "markdown",
      "source": [
        "# **Escrevendo um Iterador customizado**   \n",
        "\n",
        "\n",
        "Criando um *range()*"
      ],
      "metadata": {
        "id": "KBqntw9oSiMy"
      }
    },
    {
      "cell_type": "code",
      "source": [
        "for num in range(11):\n",
        "  print(num)"
      ],
      "metadata": {
        "colab": {
          "base_uri": "https://localhost:8080/"
        },
        "id": "9k3LpsObSEp4",
        "outputId": "fb3faea8-a800-4498-83dc-4f3c76bbb1c0"
      },
      "execution_count": 11,
      "outputs": [
        {
          "output_type": "stream",
          "name": "stdout",
          "text": [
            "0\n",
            "1\n",
            "2\n",
            "3\n",
            "4\n",
            "5\n",
            "6\n",
            "7\n",
            "8\n",
            "9\n",
            "10\n"
          ]
        }
      ]
    },
    {
      "cell_type": "code",
      "source": [
        "class Contador:\n",
        "  def __init__(self, menor, maior):\n",
        "    self.menor = menor\n",
        "    self.maior = maior\n",
        "\n",
        "  def __iter__(self):\n",
        "    return self\n",
        "\n",
        "  def __next__(self):\n",
        "    if self.menor < self.maior:\n",
        "      numero = self.menor\n",
        "      self.menor = self.menor + 1\n",
        "      return numero\n",
        "    raise StopIteration"
      ],
      "metadata": {
        "id": "MnaJZF8dS-mv"
      },
      "execution_count": 12,
      "outputs": []
    },
    {
      "cell_type": "code",
      "source": [
        "con = Contador(1, 5)\n",
        "print(con.menor)\n",
        "print(con.maior)"
      ],
      "metadata": {
        "colab": {
          "base_uri": "https://localhost:8080/"
        },
        "id": "2WHe2VRcVTNj",
        "outputId": "8ffc2930-5bd0-40a3-fd1b-b54a3342ebbe"
      },
      "execution_count": 13,
      "outputs": [
        {
          "output_type": "stream",
          "name": "stdout",
          "text": [
            "1\n",
            "5\n"
          ]
        }
      ]
    },
    {
      "cell_type": "code",
      "source": [
        "con = Contador(1, 5)\n",
        "it = iter(con)\n",
        "\n",
        "print(next(it))\n",
        "print(next(it))\n",
        "print(next(it))\n",
        "print(next(it))"
      ],
      "metadata": {
        "colab": {
          "base_uri": "https://localhost:8080/"
        },
        "id": "ynwEDjA4YqA_",
        "outputId": "8e4ec9fd-99b5-4699-9b70-0e324af949d8"
      },
      "execution_count": 14,
      "outputs": [
        {
          "output_type": "stream",
          "name": "stdout",
          "text": [
            "1\n",
            "2\n",
            "3\n",
            "4\n"
          ]
        }
      ]
    },
    {
      "cell_type": "code",
      "source": [
        "for n in Contador(1, 20):\n",
        "  print(n)"
      ],
      "metadata": {
        "colab": {
          "base_uri": "https://localhost:8080/"
        },
        "id": "lOqCje3GY45x",
        "outputId": "e1473570-60e6-4a7c-acdf-bce36b92eb69"
      },
      "execution_count": 15,
      "outputs": [
        {
          "output_type": "stream",
          "name": "stdout",
          "text": [
            "1\n",
            "2\n",
            "3\n",
            "4\n",
            "5\n",
            "6\n",
            "7\n",
            "8\n",
            "9\n",
            "10\n",
            "11\n",
            "12\n",
            "13\n",
            "14\n",
            "15\n",
            "16\n",
            "17\n",
            "18\n",
            "19\n"
          ]
        }
      ]
    },
    {
      "cell_type": "markdown",
      "source": [
        "# **Geradores**"
      ],
      "metadata": {
        "id": "4eOmXsCK_oa-"
      }
    },
    {
      "cell_type": "markdown",
      "source": [
        "Exemplo de Generator Function"
      ],
      "metadata": {
        "id": "dzZzV_OoLbwi"
      }
    },
    {
      "cell_type": "code",
      "source": [
        "def conta_at(valor_maximo):\n",
        "  contador = 1\n",
        "  while contador <= valor_maximo:\n",
        "    yield contador\n",
        "    contador = contador + 1\n",
        "# OBS: Uma Generator Function não é um Generator. Ela gera um generator."
      ],
      "metadata": {
        "id": "fgl45er7_r9H"
      },
      "execution_count": 16,
      "outputs": []
    },
    {
      "cell_type": "code",
      "source": [
        "gen = conta_at(5)\n",
        "print(type(gen))"
      ],
      "metadata": {
        "colab": {
          "base_uri": "https://localhost:8080/"
        },
        "id": "6G-8ItknM8ye",
        "outputId": "3de1c6e5-216c-49f8-edf9-05ac53e28bac"
      },
      "execution_count": 26,
      "outputs": [
        {
          "output_type": "stream",
          "name": "stdout",
          "text": [
            "<class 'generator'>\n"
          ]
        }
      ]
    },
    {
      "cell_type": "code",
      "source": [
        "print(next(gen))\n",
        "print(next(gen))\n",
        "print(next(gen))\n",
        "print(next(gen))\n",
        "print(next(gen))"
      ],
      "metadata": {
        "colab": {
          "base_uri": "https://localhost:8080/"
        },
        "id": "0-liDgr8NOjX",
        "outputId": "fdce903d-85c9-4ee6-e596-d06628445f46"
      },
      "execution_count": 27,
      "outputs": [
        {
          "output_type": "stream",
          "name": "stdout",
          "text": [
            "1\n",
            "2\n",
            "3\n",
            "4\n",
            "5\n"
          ]
        }
      ]
    },
    {
      "cell_type": "code",
      "source": [
        "gen = conta_at(5)\n",
        "for num in gen:\n",
        "  print(num)"
      ],
      "metadata": {
        "colab": {
          "base_uri": "https://localhost:8080/"
        },
        "id": "YkcTGwjAN4aO",
        "outputId": "61fb8776-5d41-4c32-c150-8837674a5c7f"
      },
      "execution_count": 29,
      "outputs": [
        {
          "output_type": "stream",
          "name": "stdout",
          "text": [
            "1\n",
            "2\n",
            "3\n",
            "4\n",
            "5\n"
          ]
        }
      ]
    },
    {
      "cell_type": "code",
      "source": [
        "gen = list(conta_at(10))\n",
        "print(gen)"
      ],
      "metadata": {
        "colab": {
          "base_uri": "https://localhost:8080/"
        },
        "id": "SXVC63W1Pfv4",
        "outputId": "62fee95b-e474-4041-93e4-05030064b38e"
      },
      "execution_count": 30,
      "outputs": [
        {
          "output_type": "stream",
          "name": "stdout",
          "text": [
            "[1, 2, 3, 4, 5, 6, 7, 8, 9, 10]\n"
          ]
        }
      ]
    },
    {
      "cell_type": "markdown",
      "source": [
        "Teste de Memória com Generators  \n",
        "\n",
        "Sequênca de Fibonacci  \n",
        "1, 1, 2, 3, 5, 8, 13..."
      ],
      "metadata": {
        "id": "pUcctXIwQsV8"
      }
    },
    {
      "cell_type": "code",
      "source": [
        "def fib_list(max):\n",
        "  nums = []\n",
        "  a, b = 0, 1\n",
        "  while len(nums) < max:\n",
        "    nums.append(b)\n",
        "    a, b = b, a + b\n",
        "  return nums"
      ],
      "metadata": {
        "id": "g8biLfqoPmI9"
      },
      "execution_count": 31,
      "outputs": []
    },
    {
      "cell_type": "code",
      "source": [
        "for n in fib_list(10):\n",
        "  print(n)"
      ],
      "metadata": {
        "colab": {
          "base_uri": "https://localhost:8080/"
        },
        "id": "ozNv63nkRvnG",
        "outputId": "e842b654-7816-47ad-ca81-407f8bc67a8e"
      },
      "execution_count": 33,
      "outputs": [
        {
          "output_type": "stream",
          "name": "stdout",
          "text": [
            "1\n",
            "1\n",
            "2\n",
            "3\n",
            "5\n",
            "8\n",
            "13\n",
            "21\n",
            "34\n",
            "55\n"
          ]
        }
      ]
    },
    {
      "cell_type": "markdown",
      "source": [
        "# **Tetse de velocidade com Expressões Geradoras**"
      ],
      "metadata": {
        "id": "VHOdKv1TWc1m"
      }
    },
    {
      "cell_type": "code",
      "source": [
        "import time"
      ],
      "metadata": {
        "id": "9mTcCVp2WlA7"
      },
      "execution_count": 34,
      "outputs": []
    },
    {
      "cell_type": "code",
      "source": [
        "# Generator Expression\n",
        "\n",
        "gen_inicio = time.time()\n",
        "print(sum(num for num in range (100000000)))\n",
        "gen_tempo = time.time() - gen_inicio"
      ],
      "metadata": {
        "colab": {
          "base_uri": "https://localhost:8080/"
        },
        "id": "s_ygB_w2Wodz",
        "outputId": "71631864-fa62-4c7e-ad76-081cb72078f5"
      },
      "execution_count": 35,
      "outputs": [
        {
          "output_type": "stream",
          "name": "stdout",
          "text": [
            "4999999950000000\n"
          ]
        }
      ]
    },
    {
      "cell_type": "code",
      "source": [
        "# List Comprehension\n",
        "\n",
        "list_inicio = time.time()\n",
        "print(sum([num for num in range (100000000)]))\n",
        "list_tempo = time.time() - list_inicio"
      ],
      "metadata": {
        "colab": {
          "base_uri": "https://localhost:8080/"
        },
        "id": "mDSMCatGXCd7",
        "outputId": "7639fc3d-5b9c-45f8-f7d5-dc378c63cff7"
      },
      "execution_count": 36,
      "outputs": [
        {
          "output_type": "stream",
          "name": "stdout",
          "text": [
            "4999999950000000\n"
          ]
        }
      ]
    },
    {
      "cell_type": "code",
      "source": [
        "print(f'Generator Expression levou {gen_tempo} s')\n",
        "print(f'List Comprehension levou {list_tempo} s')"
      ],
      "metadata": {
        "colab": {
          "base_uri": "https://localhost:8080/"
        },
        "id": "SiOV8MK2XcIz",
        "outputId": "e6d9e6b3-75b0-45f7-cfa3-b9b674ffe8c0"
      },
      "execution_count": 37,
      "outputs": [
        {
          "output_type": "stream",
          "name": "stdout",
          "text": [
            "Generator Expression levou 6.624621629714966 s\n",
            "List Comprehension levou 12.048977136611938 s\n"
          ]
        }
      ]
    }
  ]
}
