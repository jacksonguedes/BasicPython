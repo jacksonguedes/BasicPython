{
  "nbformat": 4,
  "nbformat_minor": 0,
  "metadata": {
    "colab": {
      "provenance": [],
      "authorship_tag": "ABX9TyO3PmMiOGOKt5mXR/M/1YKq",
      "include_colab_link": true
    },
    "kernelspec": {
      "name": "python3",
      "display_name": "Python 3"
    },
    "language_info": {
      "name": "python"
    }
  },
  "cells": [
    {
      "cell_type": "markdown",
      "metadata": {
        "id": "view-in-github",
        "colab_type": "text"
      },
      "source": [
        "<a href=\"https://colab.research.google.com/github/jacksonguedes/BasicPython/blob/main/Dictionary_Comprehension.ipynb\" target=\"_parent\"><img src=\"https://colab.research.google.com/assets/colab-badge.svg\" alt=\"Open In Colab\"/></a>"
      ]
    },
    {
      "cell_type": "markdown",
      "source": [
        "# **Dictionary Comprehension**   \n",
        "Sintaxe:  \n",
        "\n",
        "{chave:valor for valor in iterável}"
      ],
      "metadata": {
        "id": "76E0o_htz188"
      }
    },
    {
      "cell_type": "markdown",
      "source": [
        "Exemplo 1"
      ],
      "metadata": {
        "id": "WhmRmJT30mnZ"
      }
    },
    {
      "cell_type": "code",
      "execution_count": 1,
      "metadata": {
        "id": "c4dw8AFRzwB9"
      },
      "outputs": [],
      "source": [
        "numeros = {'a': 1, 'b': 2, 'c': 3, 'd': 4, 'e': 5}"
      ]
    },
    {
      "cell_type": "code",
      "source": [
        "quadrado = {chave : valor ** 2 for chave, valor in numeros.items()}\n",
        "print(quadrado)"
      ],
      "metadata": {
        "colab": {
          "base_uri": "https://localhost:8080/"
        },
        "id": "A5A_xb6S03WB",
        "outputId": "fe39bb9b-b699-4273-cddb-9ffe4c9e50f8"
      },
      "execution_count": 3,
      "outputs": [
        {
          "output_type": "stream",
          "name": "stdout",
          "text": [
            "{'a': 1, 'b': 4, 'c': 9, 'd': 16, 'e': 25}\n"
          ]
        }
      ]
    },
    {
      "cell_type": "markdown",
      "source": [
        "Exemplo 2"
      ],
      "metadata": {
        "id": "vNkPjgnE1dU4"
      }
    },
    {
      "cell_type": "code",
      "source": [
        "numeros = [1, 2, 3, 4, 5]"
      ],
      "metadata": {
        "id": "eV5rmkkG1ehR"
      },
      "execution_count": 7,
      "outputs": []
    },
    {
      "cell_type": "code",
      "source": [
        "quadrados = {valor: valor ** 2 for valor in numeros}\n",
        "print(quadrados)"
      ],
      "metadata": {
        "colab": {
          "base_uri": "https://localhost:8080/"
        },
        "id": "dnbTwh6j1gy3",
        "outputId": "586ed095-a073-43d9-8d28-2458a3c8369a"
      },
      "execution_count": 8,
      "outputs": [
        {
          "output_type": "stream",
          "name": "stdout",
          "text": [
            "{1: 1, 2: 4, 3: 9, 4: 16, 5: 25}\n"
          ]
        }
      ]
    },
    {
      "cell_type": "markdown",
      "source": [
        "Exemplo 3"
      ],
      "metadata": {
        "id": "LhoXVRVO2SGv"
      }
    },
    {
      "cell_type": "code",
      "source": [
        "chaves = 'abcde'\n",
        "valores = [1, 2, 3, 4, 5]"
      ],
      "metadata": {
        "id": "jnWNNO4n1tqh"
      },
      "execution_count": 10,
      "outputs": []
    },
    {
      "cell_type": "code",
      "source": [
        "mistura = {chaves[i]: valores[i] for i in range(0, len(chaves))}\n",
        "print(mistura)"
      ],
      "metadata": {
        "colab": {
          "base_uri": "https://localhost:8080/"
        },
        "id": "DQYzI47Y2dtY",
        "outputId": "41e47973-f4d6-482c-ea49-7852c5cf3d63"
      },
      "execution_count": 11,
      "outputs": [
        {
          "output_type": "stream",
          "name": "stdout",
          "text": [
            "{'a': 1, 'b': 2, 'c': 3, 'd': 4, 'e': 5}\n"
          ]
        }
      ]
    },
    {
      "cell_type": "markdown",
      "source": [
        "Exemplos com lógica condicional"
      ],
      "metadata": {
        "id": "Sy5BfAB72_mA"
      }
    },
    {
      "cell_type": "code",
      "source": [
        "numeros = [1, 2, 3, 4, 5]"
      ],
      "metadata": {
        "id": "fKLZonp-3Cdy"
      },
      "execution_count": 12,
      "outputs": []
    },
    {
      "cell_type": "code",
      "source": [
        "res = {num: ('par' if num % 2 == 0 else 'impar') for num in numeros}\n",
        "print(res)"
      ],
      "metadata": {
        "colab": {
          "base_uri": "https://localhost:8080/"
        },
        "id": "gZsggmZu3H7A",
        "outputId": "0ef18b07-31d1-4703-b00b-4f3d0a35ebb0"
      },
      "execution_count": 13,
      "outputs": [
        {
          "output_type": "stream",
          "name": "stdout",
          "text": [
            "{1: 'impar', 2: 'par', 3: 'impar', 4: 'par', 5: 'impar'}\n"
          ]
        }
      ]
    }
  ]
}