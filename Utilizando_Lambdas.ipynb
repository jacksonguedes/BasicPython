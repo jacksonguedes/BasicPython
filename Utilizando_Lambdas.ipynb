{
  "nbformat": 4,
  "nbformat_minor": 0,
  "metadata": {
    "colab": {
      "provenance": [],
      "authorship_tag": "ABX9TyPZmOiQSsm+o4sdow12atml",
      "include_colab_link": true
    },
    "kernelspec": {
      "name": "python3",
      "display_name": "Python 3"
    },
    "language_info": {
      "name": "python"
    }
  },
  "cells": [
    {
      "cell_type": "markdown",
      "metadata": {
        "id": "view-in-github",
        "colab_type": "text"
      },
      "source": [
        "<a href=\"https://colab.research.google.com/github/jacksonguedes/BasicPython/blob/main/Utilizando_Lambdas.ipynb\" target=\"_parent\"><img src=\"https://colab.research.google.com/assets/colab-badge.svg\" alt=\"Open In Colab\"/></a>"
      ]
    },
    {
      "cell_type": "markdown",
      "source": [
        "Conhecidas por Expressões Lambdas, ou simplesmente Lambdas, são funções sem nome, ouseja, funções anônimas."
      ],
      "metadata": {
        "id": "adO3UpoYImvI"
      }
    },
    {
      "cell_type": "markdown",
      "source": [
        "Função em Python"
      ],
      "metadata": {
        "id": "cyOiGas6JfdA"
      }
    },
    {
      "cell_type": "code",
      "execution_count": 1,
      "metadata": {
        "id": "RtfGp6cNISay"
      },
      "outputs": [],
      "source": [
        "def funcao(x):\n",
        "  return 3 * x + 1"
      ]
    },
    {
      "cell_type": "code",
      "source": [
        "print(funcao(4))\n",
        "print(funcao(7))"
      ],
      "metadata": {
        "colab": {
          "base_uri": "https://localhost:8080/"
        },
        "id": "5rZ0Ul1kJoh3",
        "outputId": "b243fc84-b3a8-4b04-95cb-4cfd8cb14f10"
      },
      "execution_count": 7,
      "outputs": [
        {
          "output_type": "stream",
          "name": "stdout",
          "text": [
            "13\n",
            "22\n"
          ]
        }
      ]
    },
    {
      "cell_type": "markdown",
      "source": [
        "Expressão Lambdas"
      ],
      "metadata": {
        "id": "SraUJzXXJtt4"
      }
    },
    {
      "cell_type": "code",
      "source": [
        "calc = lambda x: 3 * x + 1 # Não é forma ideial de utilizar"
      ],
      "metadata": {
        "id": "xQPgO-ljJsJv"
      },
      "execution_count": 4,
      "outputs": []
    },
    {
      "cell_type": "code",
      "source": [
        "print(calc(4))\n",
        "print(calc(7))"
      ],
      "metadata": {
        "colab": {
          "base_uri": "https://localhost:8080/"
        },
        "id": "cOIDqYQZJ16f",
        "outputId": "0cc9c711-aa98-401e-f6b2-b7376cf06e4f"
      },
      "execution_count": 6,
      "outputs": [
        {
          "output_type": "stream",
          "name": "stdout",
          "text": [
            "13\n",
            "22\n"
          ]
        }
      ]
    },
    {
      "cell_type": "markdown",
      "source": [
        "Podemos ter expressões lambadas com múltiplas entradas"
      ],
      "metadata": {
        "id": "RTzErGbLKpko"
      }
    },
    {
      "cell_type": "code",
      "source": [
        "nome_completo = lambda nome, sobrenome: nome.strip().title() + ' ' + sobrenome.strip().title() # A função strip() remove os espaços\n",
        "print(nome_completo(' jackson ', ' guedes'))                                                   # A função title() deixa a primeira letra em maiusculo e o resto em minusculo\n",
        "print(nome_completo(' YASMIN ', ' guedes'))"
      ],
      "metadata": {
        "colab": {
          "base_uri": "https://localhost:8080/"
        },
        "id": "52M8KkjtJ6W3",
        "outputId": "65cfdbd5-cd27-4264-e9d5-69738396d34f"
      },
      "execution_count": 10,
      "outputs": [
        {
          "output_type": "stream",
          "name": "stdout",
          "text": [
            "Jackson Guedes\n",
            "Yasmin Guedes\n"
          ]
        }
      ]
    },
    {
      "cell_type": "markdown",
      "source": [
        "Lambdas com nenhuma, uma, duas e três entradas"
      ],
      "metadata": {
        "id": "k-G4kRp-MuVC"
      }
    },
    {
      "cell_type": "code",
      "source": [
        "amar = lambda: 'Como não amar Python!'\n",
        "uma =  lambda x: 3 * x + 1\n",
        "duas = lambda x, y: (x * y) ** 0.5\n",
        "tres = lambda x, y, z: 3 / (1 / x + 1 / y + 1 / z)"
      ],
      "metadata": {
        "id": "Pr4KqGmKM1iH"
      },
      "execution_count": 11,
      "outputs": []
    },
    {
      "cell_type": "code",
      "source": [
        "print(amar())\n",
        "print(uma(6))\n",
        "print(duas(5, 7))\n",
        "print(tres(3, 6, 9))"
      ],
      "metadata": {
        "colab": {
          "base_uri": "https://localhost:8080/"
        },
        "id": "68q7hNoULqpO",
        "outputId": "5c644be0-32d5-45c6-ae26-c6600bef6010"
      },
      "execution_count": 12,
      "outputs": [
        {
          "output_type": "stream",
          "name": "stdout",
          "text": [
            "Como não amar Python!\n",
            "19\n",
            "5.916079783099616\n",
            "4.909090909090908\n"
          ]
        }
      ]
    },
    {
      "cell_type": "markdown",
      "source": [
        "Exemplo 1"
      ],
      "metadata": {
        "id": "EZwqpQydN1Rw"
      }
    },
    {
      "cell_type": "code",
      "source": [
        "autores = ['Timothy Keller', 'Staley J. Grenz', 'Wayne Gruden', 'Alister McGrath', 'Isaac Asimov', 'H. G. Wells', 'George Orwell', 'Arthur C. Clarke']\n",
        "print(autores)"
      ],
      "metadata": {
        "colab": {
          "base_uri": "https://localhost:8080/"
        },
        "id": "j-aBj-YEN30Y",
        "outputId": "c3bce350-b4ad-49b6-8c2f-7bc647d5bfb0"
      },
      "execution_count": 13,
      "outputs": [
        {
          "output_type": "stream",
          "name": "stdout",
          "text": [
            "['Timothy Keller', 'Staley J. Grenz', 'Wayne Gruden', 'Alister McGrath', 'Isaac Asimov', 'H. G. Wells', 'George Orwell', 'Arthur C. Clarke']\n"
          ]
        }
      ]
    },
    {
      "cell_type": "markdown",
      "source": [
        "Ordenando a lista pelo o sobrenome"
      ],
      "metadata": {
        "id": "gWhXK-TJO-7I"
      }
    },
    {
      "cell_type": "code",
      "source": [
        "autores.sort(key = lambda sobrenome: sobrenome.split(' ')[-1].lower())\n",
        "print(autores)"
      ],
      "metadata": {
        "colab": {
          "base_uri": "https://localhost:8080/"
        },
        "id": "KfY5-y0hO8Bs",
        "outputId": "1e3f2ed3-05dc-44d7-a888-8d562c8a1997"
      },
      "execution_count": 18,
      "outputs": [
        {
          "output_type": "stream",
          "name": "stdout",
          "text": [
            "['Isaac Asimov', 'Arthur C. Clarke', 'Staley J. Grenz', 'Wayne Gruden', 'Timothy Keller', 'Alister McGrath', 'George Orwell', 'H. G. Wells']\n"
          ]
        }
      ]
    },
    {
      "cell_type": "markdown",
      "source": [
        "Função quadrática"
      ],
      "metadata": {
        "id": "ahIiavjxd-jq"
      }
    },
    {
      "cell_type": "code",
      "source": [
        "def geradora_funcao_quadratica(a, b, c):\n",
        "  return lambda x: a*x**2 + b*x + c"
      ],
      "metadata": {
        "id": "ASJdJTdjeAt_"
      },
      "execution_count": 19,
      "outputs": []
    },
    {
      "cell_type": "code",
      "source": [
        "teste = geradora_funcao_quadratica(2, 3, -5)"
      ],
      "metadata": {
        "id": "ud20VPLneTsO"
      },
      "execution_count": 20,
      "outputs": []
    },
    {
      "cell_type": "code",
      "source": [
        "print(teste(0))\n",
        "print(teste(1))\n",
        "print(teste(2))"
      ],
      "metadata": {
        "colab": {
          "base_uri": "https://localhost:8080/"
        },
        "id": "RAZy9aeTeZz3",
        "outputId": "6cbdf4ba-63bb-4ab9-b778-b1c8898828e9"
      },
      "execution_count": 23,
      "outputs": [
        {
          "output_type": "stream",
          "name": "stdout",
          "text": [
            "-5\n",
            "0\n",
            "9\n"
          ]
        }
      ]
    },
    {
      "cell_type": "markdown",
      "source": [],
      "metadata": {
        "id": "uob00FY2fCD0"
      }
    },
    {
      "cell_type": "markdown",
      "source": [
        "Outra forma"
      ],
      "metadata": {
        "id": "DoJGuzELe_Uv"
      }
    },
    {
      "cell_type": "code",
      "source": [
        "print(geradora_funcao_quadratica(2, 3, -5)(0))\n",
        "print(geradora_funcao_quadratica(2, 3, -5)(1))\n",
        "print(geradora_funcao_quadratica(2, 3, -5)(2))"
      ],
      "metadata": {
        "colab": {
          "base_uri": "https://localhost:8080/"
        },
        "id": "uD7wLppafAf_",
        "outputId": "12090aef-6e91-41b8-f158-b440309743c3"
      },
      "execution_count": 27,
      "outputs": [
        {
          "output_type": "stream",
          "name": "stdout",
          "text": [
            "-5\n",
            "0\n",
            "9\n"
          ]
        }
      ]
    }
  ]
}