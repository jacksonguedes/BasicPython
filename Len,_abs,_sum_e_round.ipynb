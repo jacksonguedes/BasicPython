{
  "nbformat": 4,
  "nbformat_minor": 0,
  "metadata": {
    "colab": {
      "provenance": [],
      "authorship_tag": "ABX9TyPsG1dyJwn1UIjg9/TC1O7X",
      "include_colab_link": true
    },
    "kernelspec": {
      "name": "python3",
      "display_name": "Python 3"
    },
    "language_info": {
      "name": "python"
    }
  },
  "cells": [
    {
      "cell_type": "markdown",
      "metadata": {
        "id": "view-in-github",
        "colab_type": "text"
      },
      "source": [
        "<a href=\"https://colab.research.google.com/github/jacksonguedes/BasicPython/blob/main/Len%2C_abs%2C_sum_e_round.ipynb\" target=\"_parent\"><img src=\"https://colab.research.google.com/assets/colab-badge.svg\" alt=\"Open In Colab\"/></a>"
      ]
    },
    {
      "cell_type": "markdown",
      "source": [
        "# **Len, abs, sum e round**"
      ],
      "metadata": {
        "id": "EcO4SjzmWHgc"
      }
    },
    {
      "cell_type": "markdown",
      "source": [
        "**Revisando a função len()**"
      ],
      "metadata": {
        "id": "x25ihQupWe9N"
      }
    },
    {
      "cell_type": "code",
      "execution_count": 2,
      "metadata": {
        "colab": {
          "base_uri": "https://localhost:8080/"
        },
        "id": "Bzyfp_MIV5p-",
        "outputId": "86680b1d-19df-4474-b752-0a44ee37d80e"
      },
      "outputs": [
        {
          "output_type": "stream",
          "name": "stdout",
          "text": [
            "14\n",
            "5\n",
            "6\n",
            "7\n",
            "5\n",
            "10\n"
          ]
        }
      ],
      "source": [
        "# Tamanho dos iteráveis\n",
        "print(len('Jackson Guedes'))\n",
        "print(len([1, 2, 3, 4, 5]))\n",
        "print(len((1, 2, 3, 4, 5, 6)))\n",
        "print(len({1, 2, 3, 4, 5, 6, 7}))\n",
        "print(len({'a': 1, 'b': 2, 'c': 3, 'd': 4, 'e': 5}))\n",
        "\n",
        "print(len(range(0, 10)))"
      ]
    },
    {
      "cell_type": "code",
      "source": [
        "# Dunder len\n",
        "\n",
        "print('Jackson Guedes'.__len__())"
      ],
      "metadata": {
        "colab": {
          "base_uri": "https://localhost:8080/"
        },
        "id": "-tkp-VYAXfMh",
        "outputId": "1e46ead9-041a-4f47-a61e-1cbb1df0b530"
      },
      "execution_count": 3,
      "outputs": [
        {
          "output_type": "stream",
          "name": "stdout",
          "text": [
            "14\n"
          ]
        }
      ]
    },
    {
      "cell_type": "markdown",
      "source": [
        "**Função abs**  \n",
        "abs() -> Retorna o valor absoluto de um número inteiro ou real. De forma básica, seria o seu valor real sem o sinal."
      ],
      "metadata": {
        "id": "17pXgKS6XxY8"
      }
    },
    {
      "cell_type": "markdown",
      "source": [
        "Exemplo abs()"
      ],
      "metadata": {
        "id": "LjXi-uZ4YHAN"
      }
    },
    {
      "cell_type": "code",
      "source": [
        "print(abs(-5))\n",
        "print(abs(2))\n",
        "print(abs(-1j))\n",
        "print(abs(4 + 3j))"
      ],
      "metadata": {
        "colab": {
          "base_uri": "https://localhost:8080/"
        },
        "id": "M4_Rm7HFXypE",
        "outputId": "d6f038d5-2ca1-4150-9de7-1d82fd48d95d"
      },
      "execution_count": 10,
      "outputs": [
        {
          "output_type": "stream",
          "name": "stdout",
          "text": [
            "5\n",
            "2\n",
            "1.0\n",
            "5.0\n"
          ]
        }
      ]
    },
    {
      "cell_type": "markdown",
      "source": [
        "**Função sum()**   \n",
        "sum() -> Recebe como parâmetro um iterável, podendo receber um valor inicial, e retorna a soma toral dos elementos, incluindo o valor inicial.   \n",
        "OBS: O valor inicial default = 0\n"
      ],
      "metadata": {
        "id": "lDmF5V6fYytt"
      }
    },
    {
      "cell_type": "code",
      "source": [
        "print(sum([1,2,3,4,5]))\n",
        "print(sum([1,2,3,4,5], 5))"
      ],
      "metadata": {
        "colab": {
          "base_uri": "https://localhost:8080/"
        },
        "id": "M5yyqSGTY2kt",
        "outputId": "509b0cac-c3f5-4409-9ec8-26fa45c1b707"
      },
      "execution_count": 14,
      "outputs": [
        {
          "output_type": "stream",
          "name": "stdout",
          "text": [
            "15\n",
            "20\n"
          ]
        }
      ]
    },
    {
      "cell_type": "code",
      "source": [
        "print(sum({'a': 1, 'b': 2, 'c': 3, 'd': 4, 'e': 5}.values()))"
      ],
      "metadata": {
        "colab": {
          "base_uri": "https://localhost:8080/"
        },
        "id": "m1zsrosxaPbX",
        "outputId": "ff79f074-825b-4b60-95fa-72ee46c14b2b"
      },
      "execution_count": 15,
      "outputs": [
        {
          "output_type": "stream",
          "name": "stdout",
          "text": [
            "15\n"
          ]
        }
      ]
    },
    {
      "cell_type": "markdown",
      "source": [
        "**Função round()**  \n",
        "round() -> Retorna um número arredondado para n digito de precisão após a casa decimal. Se a precisão não for informada, retorna o inteiro mais próximo da entrada."
      ],
      "metadata": {
        "id": "F1Oc-R4ubFZy"
      }
    },
    {
      "cell_type": "code",
      "source": [
        "print(round(10.2))\n",
        "print(round(10.5))\n",
        "print(round(10.6))\n",
        "print(round(1.2121212121,2))\n",
        "print(round(1.219999999,2))"
      ],
      "metadata": {
        "colab": {
          "base_uri": "https://localhost:8080/"
        },
        "id": "OsEGFJ2obIuc",
        "outputId": "320d1cf4-c217-40fb-ab3a-63fddaebae9c"
      },
      "execution_count": 16,
      "outputs": [
        {
          "output_type": "stream",
          "name": "stdout",
          "text": [
            "10\n",
            "10\n",
            "11\n",
            "1.21\n",
            "1.22\n"
          ]
        }
      ]
    }
  ]
}