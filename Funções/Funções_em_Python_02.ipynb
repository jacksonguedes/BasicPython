{
  "nbformat": 4,
  "nbformat_minor": 0,
  "metadata": {
    "colab": {
      "provenance": [],
      "authorship_tag": "ABX9TyNlJCL5IrrtqLHOeEim45Ct",
      "include_colab_link": true
    },
    "kernelspec": {
      "name": "python3",
      "display_name": "Python 3"
    },
    "language_info": {
      "name": "python"
    }
  },
  "cells": [
    {
      "cell_type": "markdown",
      "metadata": {
        "id": "view-in-github",
        "colab_type": "text"
      },
      "source": [
        "<a href=\"https://colab.research.google.com/github/jacksonguedes/BasicPython/blob/main/Fun%C3%A7%C3%B5es_em_Python_02.ipynb\" target=\"_parent\"><img src=\"https://colab.research.google.com/assets/colab-badge.svg\" alt=\"Open In Colab\"/></a>"
      ]
    },
    {
      "cell_type": "markdown",
      "source": [
        "# **Funções com retorno**"
      ],
      "metadata": {
        "id": "uWPJjqQBTwfG"
      }
    },
    {
      "cell_type": "code",
      "execution_count": 7,
      "metadata": {
        "id": "kZ9CEL4PTXUD"
      },
      "outputs": [],
      "source": [
        "def quadrado_de_7():\n",
        "  print(7 * 7)       # Não está retornando, está imprimindo"
      ]
    },
    {
      "cell_type": "code",
      "source": [
        "quadrado_de_7()"
      ],
      "metadata": {
        "colab": {
          "base_uri": "https://localhost:8080/"
        },
        "id": "z-hB3a8MlneS",
        "outputId": "49a1df52-d291-45dd-eb98-5ca60dfa637c"
      },
      "execution_count": 8,
      "outputs": [
        {
          "output_type": "stream",
          "name": "stdout",
          "text": [
            "49\n"
          ]
        }
      ]
    },
    {
      "cell_type": "code",
      "source": [
        "retorno1 = quadrado_de_7()\n",
        "print(f'Retorno: {retorno1}') # Retorna nada"
      ],
      "metadata": {
        "colab": {
          "base_uri": "https://localhost:8080/"
        },
        "id": "7ROJTkkqmsoZ",
        "outputId": "1cf3b22a-f102-4eb2-8ed0-8ba1db0ab9b0"
      },
      "execution_count": 9,
      "outputs": [
        {
          "output_type": "stream",
          "name": "stdout",
          "text": [
            "49\n",
            "Retorno: None\n"
          ]
        }
      ]
    },
    {
      "cell_type": "code",
      "source": [
        "def quadrado_de_7():\n",
        "  return 7 * 7"
      ],
      "metadata": {
        "id": "_c7AVR_zl37h"
      },
      "execution_count": 10,
      "outputs": []
    },
    {
      "cell_type": "code",
      "source": [
        "quadrado_de_7()"
      ],
      "metadata": {
        "colab": {
          "base_uri": "https://localhost:8080/"
        },
        "id": "e3W5vMKBmpVp",
        "outputId": "4524e14f-2737-4292-93f2-3829f346a766"
      },
      "execution_count": 11,
      "outputs": [
        {
          "output_type": "execute_result",
          "data": {
            "text/plain": [
              "49"
            ]
          },
          "metadata": {},
          "execution_count": 11
        }
      ]
    },
    {
      "cell_type": "code",
      "source": [
        "retorno2 = quadrado_de_7()\n",
        "print(f'Retorno: {retorno2}') # Retorna o resultado 7 * 7"
      ],
      "metadata": {
        "colab": {
          "base_uri": "https://localhost:8080/"
        },
        "id": "kB1jFJmtnHAP",
        "outputId": "41d876ac-6306-484e-b924-c15ced0b52a8"
      },
      "execution_count": 12,
      "outputs": [
        {
          "output_type": "stream",
          "name": "stdout",
          "text": [
            "Retorno: 49\n"
          ]
        }
      ]
    },
    {
      "cell_type": "code",
      "source": [
        "print(f'Retorno: {quadrado_de_7() + 2}')"
      ],
      "metadata": {
        "colab": {
          "base_uri": "https://localhost:8080/"
        },
        "id": "xOiJ79sCnl-X",
        "outputId": "2534ece0-d78d-43bb-e1af-c61104e6ab7a"
      },
      "execution_count": 14,
      "outputs": [
        {
          "output_type": "stream",
          "name": "stdout",
          "text": [
            "Retorno: 51\n"
          ]
        }
      ]
    },
    {
      "cell_type": "markdown",
      "source": [
        "- O return finaliza a função, ou seja, sai da execução da função;\n",
        "- Uma função pode ter diferentes returns;\n",
        "- Uma função pode retornar qualquer tipo de dado, até mesmo múltiplos valores;"
      ],
      "metadata": {
        "id": "ElGPW-zOrFDb"
      }
    },
    {
      "cell_type": "markdown",
      "source": [
        "Exemplo 1"
      ],
      "metadata": {
        "id": "vZ33ZVH1r2cN"
      }
    },
    {
      "cell_type": "code",
      "source": [
        "def diz_oi():\n",
        "  print('Estou sendo executado antes do retorno..')\n",
        "  return 'Oi!'\n",
        "  print('Estou sendo executado após o retorno..')"
      ],
      "metadata": {
        "id": "n5GHn6gnre0H"
      },
      "execution_count": 15,
      "outputs": []
    },
    {
      "cell_type": "code",
      "source": [
        "diz_oi()"
      ],
      "metadata": {
        "colab": {
          "base_uri": "https://localhost:8080/",
          "height": 53
        },
        "id": "wM8ZtTJ9ry5w",
        "outputId": "93c1e6a2-7a6f-481b-c256-abd053688583"
      },
      "execution_count": 16,
      "outputs": [
        {
          "output_type": "stream",
          "name": "stdout",
          "text": [
            "Estou sendo executado antes do retorno..\n"
          ]
        },
        {
          "output_type": "execute_result",
          "data": {
            "text/plain": [
              "'Oi!'"
            ],
            "application/vnd.google.colaboratory.intrinsic+json": {
              "type": "string"
            }
          },
          "metadata": {},
          "execution_count": 16
        }
      ]
    },
    {
      "cell_type": "markdown",
      "source": [
        "Exemplo 2"
      ],
      "metadata": {
        "id": "oxH5l2NBr38v"
      }
    },
    {
      "cell_type": "code",
      "source": [
        "def nova_funcao():\n",
        "  variavel = False # variar a entrada terá diferentes returns\n",
        "  if variavel:\n",
        "    return 4\n",
        "  elif variavel is None:\n",
        "    return 3.2\n",
        "  return 'b'"
      ],
      "metadata": {
        "id": "gZV5ix-Cr49m"
      },
      "execution_count": 23,
      "outputs": []
    },
    {
      "cell_type": "code",
      "source": [
        "print(nova_funcao())"
      ],
      "metadata": {
        "colab": {
          "base_uri": "https://localhost:8080/"
        },
        "id": "e4cALwYxscy2",
        "outputId": "21bd9279-884b-4ad8-a8a7-6ddc62a19253"
      },
      "execution_count": 24,
      "outputs": [
        {
          "output_type": "stream",
          "name": "stdout",
          "text": [
            "b\n"
          ]
        }
      ]
    },
    {
      "cell_type": "markdown",
      "source": [
        "Exemplo 3"
      ],
      "metadata": {
        "id": "FqXVOcUbs1fA"
      }
    },
    {
      "cell_type": "code",
      "source": [
        "def outra_funcao():\n",
        "  return 2, 3, 4, 5"
      ],
      "metadata": {
        "id": "sDYEzt6xs24N"
      },
      "execution_count": 25,
      "outputs": []
    },
    {
      "cell_type": "code",
      "source": [
        "num1, num2, num3, num4 = outra_funcao()"
      ],
      "metadata": {
        "id": "zlrjm_betAcO"
      },
      "execution_count": 26,
      "outputs": []
    },
    {
      "cell_type": "code",
      "source": [
        "print(num1, num2, num3, num4)"
      ],
      "metadata": {
        "colab": {
          "base_uri": "https://localhost:8080/"
        },
        "id": "92jAGcyZtGq2",
        "outputId": "620bee0b-fc1c-43ec-f4bc-c52cda4b6080"
      },
      "execution_count": 27,
      "outputs": [
        {
          "output_type": "stream",
          "name": "stdout",
          "text": [
            "2 3 4 5\n"
          ]
        }
      ]
    },
    {
      "cell_type": "code",
      "source": [
        "print(outra_funcao()) # Retorna uma tupla"
      ],
      "metadata": {
        "colab": {
          "base_uri": "https://localhost:8080/"
        },
        "id": "lX53Qg4jtSyX",
        "outputId": "f293b1c0-34f2-4cef-9229-f98f76544cbc"
      },
      "execution_count": 30,
      "outputs": [
        {
          "output_type": "stream",
          "name": "stdout",
          "text": [
            "(2, 3, 4, 5)\n"
          ]
        }
      ]
    },
    {
      "cell_type": "markdown",
      "source": [
        "Criando uma função para jogar a moeda"
      ],
      "metadata": {
        "id": "UjPigVfJt35j"
      }
    },
    {
      "cell_type": "code",
      "source": [
        "from random import random"
      ],
      "metadata": {
        "id": "hrG4smWit7ee"
      },
      "execution_count": 29,
      "outputs": []
    },
    {
      "cell_type": "code",
      "source": [
        "def joga_moeda():\n",
        "  # Gerar um número pseudo-randômico entre 0 e 1\n",
        "  valor = random()\n",
        "  if valor > 0.5:\n",
        "    return 'Cara'\n",
        "  return 'Coroa'"
      ],
      "metadata": {
        "id": "MDdTMelzuAOG"
      },
      "execution_count": 41,
      "outputs": []
    },
    {
      "cell_type": "code",
      "source": [
        "print(joga_moeda())"
      ],
      "metadata": {
        "colab": {
          "base_uri": "https://localhost:8080/"
        },
        "id": "nklkf9ECub1W",
        "outputId": "2d327847-a9ee-4fa1-8280-74627448520c"
      },
      "execution_count": 42,
      "outputs": [
        {
          "output_type": "stream",
          "name": "stdout",
          "text": [
            "Coroa\n"
          ]
        }
      ]
    },
    {
      "cell_type": "markdown",
      "source": [
        "Função para identificar número par ou ímpar"
      ],
      "metadata": {
        "id": "63srnmCDvzD3"
      }
    },
    {
      "cell_type": "code",
      "source": [
        "def eh_impar_par():\n",
        "  numero = 10\n",
        "  if numero % 2 == 0:\n",
        "    return 'É par'\n",
        "  return ' É ímpar'"
      ],
      "metadata": {
        "id": "RJMGOAInv3kO"
      },
      "execution_count": 45,
      "outputs": []
    },
    {
      "cell_type": "code",
      "source": [
        "print(eh_impar_par())"
      ],
      "metadata": {
        "colab": {
          "base_uri": "https://localhost:8080/"
        },
        "id": "onitpMyAwGe9",
        "outputId": "3139e80f-9ab2-4709-e50f-053e728a3c40"
      },
      "execution_count": 46,
      "outputs": [
        {
          "output_type": "stream",
          "name": "stdout",
          "text": [
            "É par\n"
          ]
        }
      ]
    }
  ]
}
