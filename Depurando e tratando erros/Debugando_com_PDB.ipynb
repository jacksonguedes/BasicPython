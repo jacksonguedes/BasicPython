{
  "nbformat": 4,
  "nbformat_minor": 0,
  "metadata": {
    "colab": {
      "provenance": [],
      "authorship_tag": "ABX9TyNKJNpurskzfFw40x+x6HOv",
      "include_colab_link": true
    },
    "kernelspec": {
      "name": "python3",
      "display_name": "Python 3"
    },
    "language_info": {
      "name": "python"
    }
  },
  "cells": [
    {
      "cell_type": "markdown",
      "metadata": {
        "id": "view-in-github",
        "colab_type": "text"
      },
      "source": [
        "<a href=\"https://colab.research.google.com/github/jacksonguedes/BasicPython/blob/main/Debugando_com_PDB.ipynb\" target=\"_parent\"><img src=\"https://colab.research.google.com/assets/colab-badge.svg\" alt=\"Open In Colab\"/></a>"
      ]
    },
    {
      "cell_type": "markdown",
      "source": [
        "# **Debugando com PDB**  \n",
        "PDB -> Python Debugger"
      ],
      "metadata": {
        "id": "FEwyOHHMv-Ob"
      }
    },
    {
      "cell_type": "markdown",
      "source": [
        "**Prática ruim:**"
      ],
      "metadata": {
        "id": "IX1mo-bVZX94"
      }
    },
    {
      "cell_type": "code",
      "execution_count": 3,
      "metadata": {
        "id": "B85lDsdUv5ER"
      },
      "outputs": [],
      "source": [
        "def dividir(a, b):\n",
        "  print(f'a = {a}, b = {b}')\n",
        "  try:\n",
        "    return int(a)/int(b)\n",
        "  except (ValueErro, ZeroDivisionError) as err:\n",
        "    return f'Ocorreu um problema: {err}'"
      ]
    },
    {
      "cell_type": "code",
      "source": [
        "print(dividir(4, 7))"
      ],
      "metadata": {
        "colab": {
          "base_uri": "https://localhost:8080/"
        },
        "id": "jAT2Pja3Y5WU",
        "outputId": "969590ea-55c6-4585-c59a-3666e7cdee58"
      },
      "execution_count": 4,
      "outputs": [
        {
          "output_type": "stream",
          "name": "stdout",
          "text": [
            "a = 4, b = 7\n",
            "0.5714285714285714\n"
          ]
        }
      ]
    },
    {
      "cell_type": "markdown",
      "source": [
        "**Existem formas profissionais de se fazer esse 'debug', utilizando o debugger.**"
      ],
      "metadata": {
        "id": "vrbrsH1ZZajJ"
      }
    },
    {
      "cell_type": "markdown",
      "source": [
        "Comandos básicos do PDB:  \n",
        "- l (lista onde estamos no código)  \n",
        "- n (próxima linha)\n",
        "- p (imprime variável)\n",
        "- c (continua a execução - finaliza o debugging)"
      ],
      "metadata": {
        "id": "QKBSNoDIcOpS"
      }
    },
    {
      "cell_type": "markdown",
      "source": [
        "Exemplo 1"
      ],
      "metadata": {
        "id": "dUYCPWgEddLj"
      }
    },
    {
      "cell_type": "code",
      "source": [
        "import pdb\n",
        "\n",
        "nome = 'Jackson'\n",
        "sobrenome = 'Guedes'\n",
        "pdb.set_trace()\n",
        "nome_completo = nome + ' ' + sobrenome\n",
        "curso = 'Programação em Python: Essencial'\n",
        "final = nome_completo + ' faz o curso ' + curso\n",
        "print(final)"
      ],
      "metadata": {
        "colab": {
          "base_uri": "https://localhost:8080/"
        },
        "id": "r5-jRMPWZnrW",
        "outputId": "25193588-fb99-4310-d4dd-c293a8118a82"
      },
      "execution_count": 6,
      "outputs": [
        {
          "output_type": "stream",
          "name": "stdout",
          "text": [
            "--Return--\n",
            "None\n",
            "> \u001b[0;32m<ipython-input-6-22317f4aa46d>\u001b[0m(5)\u001b[0;36m<cell line: 5>\u001b[0;34m()\u001b[0m\n",
            "\u001b[0;32m      3 \u001b[0;31m\u001b[0mnome\u001b[0m \u001b[0;34m=\u001b[0m \u001b[0;34m'Jackson'\u001b[0m\u001b[0;34m\u001b[0m\u001b[0;34m\u001b[0m\u001b[0m\n",
            "\u001b[0m\u001b[0;32m      4 \u001b[0;31m\u001b[0msobrenome\u001b[0m \u001b[0;34m=\u001b[0m \u001b[0;34m'Guedes'\u001b[0m\u001b[0;34m\u001b[0m\u001b[0;34m\u001b[0m\u001b[0m\n",
            "\u001b[0m\u001b[0;32m----> 5 \u001b[0;31m\u001b[0mpdb\u001b[0m\u001b[0;34m.\u001b[0m\u001b[0mset_trace\u001b[0m\u001b[0;34m(\u001b[0m\u001b[0;34m)\u001b[0m\u001b[0;34m\u001b[0m\u001b[0;34m\u001b[0m\u001b[0m\n",
            "\u001b[0m\u001b[0;32m      6 \u001b[0;31m\u001b[0mnome_completo\u001b[0m \u001b[0;34m=\u001b[0m \u001b[0mnome\u001b[0m \u001b[0;34m+\u001b[0m \u001b[0;34m' '\u001b[0m \u001b[0;34m+\u001b[0m \u001b[0msobrenome\u001b[0m\u001b[0;34m\u001b[0m\u001b[0;34m\u001b[0m\u001b[0m\n",
            "\u001b[0m\u001b[0;32m      7 \u001b[0;31m\u001b[0mcurso\u001b[0m \u001b[0;34m=\u001b[0m \u001b[0;34m'Programação em Python: Essencial'\u001b[0m\u001b[0;34m\u001b[0m\u001b[0;34m\u001b[0m\u001b[0m\n",
            "\u001b[0m\n",
            "ipdb> nome\n",
            "'Jackson'\n",
            "ipdb> sobrenome\n",
            "'Guedes'\n",
            "ipdb> nome_completo\n",
            "'Jackson Guedes'\n",
            "ipdb> curso\n",
            "'Programação em Python: Essencial'\n",
            "ipdb> final\n",
            "'Jackson Guedes faz o curso Programação em Python: Essencial'\n",
            "ipdb> l\n",
            "\u001b[1;32m      1 \u001b[0m\u001b[0;32mimport\u001b[0m \u001b[0mpdb\u001b[0m\u001b[0;34m\u001b[0m\u001b[0;34m\u001b[0m\u001b[0m\n",
            "\u001b[1;32m      2 \u001b[0m\u001b[0;34m\u001b[0m\u001b[0m\n",
            "\u001b[1;32m      3 \u001b[0m\u001b[0mnome\u001b[0m \u001b[0;34m=\u001b[0m \u001b[0;34m'Jackson'\u001b[0m\u001b[0;34m\u001b[0m\u001b[0;34m\u001b[0m\u001b[0m\n",
            "\u001b[1;32m      4 \u001b[0m\u001b[0msobrenome\u001b[0m \u001b[0;34m=\u001b[0m \u001b[0;34m'Guedes'\u001b[0m\u001b[0;34m\u001b[0m\u001b[0;34m\u001b[0m\u001b[0m\n",
            "\u001b[0;32m----> 5 \u001b[0;31m\u001b[0mpdb\u001b[0m\u001b[0;34m.\u001b[0m\u001b[0mset_trace\u001b[0m\u001b[0;34m(\u001b[0m\u001b[0;34m)\u001b[0m\u001b[0;34m\u001b[0m\u001b[0;34m\u001b[0m\u001b[0m\n",
            "\u001b[0m\u001b[1;32m      6 \u001b[0m\u001b[0mnome_completo\u001b[0m \u001b[0;34m=\u001b[0m \u001b[0mnome\u001b[0m \u001b[0;34m+\u001b[0m \u001b[0;34m' '\u001b[0m \u001b[0;34m+\u001b[0m \u001b[0msobrenome\u001b[0m\u001b[0;34m\u001b[0m\u001b[0;34m\u001b[0m\u001b[0m\n",
            "\u001b[1;32m      7 \u001b[0m\u001b[0mcurso\u001b[0m \u001b[0;34m=\u001b[0m \u001b[0;34m'Programação em Python: Essencial'\u001b[0m\u001b[0;34m\u001b[0m\u001b[0;34m\u001b[0m\u001b[0m\n",
            "\u001b[1;32m      8 \u001b[0m\u001b[0mfinal\u001b[0m \u001b[0;34m=\u001b[0m \u001b[0mnome_completo\u001b[0m \u001b[0;34m+\u001b[0m \u001b[0;34m' faz o curso '\u001b[0m \u001b[0;34m+\u001b[0m \u001b[0mcurso\u001b[0m\u001b[0;34m\u001b[0m\u001b[0;34m\u001b[0m\u001b[0m\n",
            "\u001b[1;32m      9 \u001b[0m\u001b[0mprint\u001b[0m\u001b[0;34m(\u001b[0m\u001b[0mfinal\u001b[0m\u001b[0;34m)\u001b[0m\u001b[0;34m\u001b[0m\u001b[0;34m\u001b[0m\u001b[0m\n",
            "\n",
            "ipdb> n\n",
            "\u001b[0;31m    [... skipped 1 hidden frame]\u001b[0m\n",
            "\n",
            "\u001b[0;31m    [... skipped 1 hidden frame]\u001b[0m\n",
            "\n",
            "\u001b[0;31m    [... skipped 1 hidden frame]\u001b[0m\n",
            "\n",
            "\u001b[0;31m    [... skipped 1 hidden frame]\u001b[0m\n",
            "\n",
            "> \u001b[0;32m/usr/local/lib/python3.10/dist-packages/IPython/core/interactiveshell.py\u001b[0m(3464)\u001b[0;36mrun_ast_nodes\u001b[0;34m()\u001b[0m\n",
            "\u001b[0;32m   3462 \u001b[0;31m                    \u001b[0mto_run\u001b[0m\u001b[0;34m.\u001b[0m\u001b[0mappend\u001b[0m\u001b[0;34m(\u001b[0m\u001b[0;34m(\u001b[0m\u001b[0mnode\u001b[0m\u001b[0;34m,\u001b[0m \u001b[0;34m'single'\u001b[0m\u001b[0;34m)\u001b[0m\u001b[0;34m)\u001b[0m\u001b[0;34m\u001b[0m\u001b[0;34m\u001b[0m\u001b[0m\n",
            "\u001b[0m\u001b[0;32m   3463 \u001b[0;31m\u001b[0;34m\u001b[0m\u001b[0m\n",
            "\u001b[0m\u001b[0;32m-> 3464 \u001b[0;31m                \u001b[0;32mfor\u001b[0m \u001b[0mnode\u001b[0m\u001b[0;34m,\u001b[0m\u001b[0mmode\u001b[0m \u001b[0;32min\u001b[0m \u001b[0mto_run\u001b[0m\u001b[0;34m:\u001b[0m\u001b[0;34m\u001b[0m\u001b[0;34m\u001b[0m\u001b[0m\n",
            "\u001b[0m\u001b[0;32m   3465 \u001b[0;31m                    \u001b[0;32mif\u001b[0m \u001b[0mmode\u001b[0m \u001b[0;34m==\u001b[0m \u001b[0;34m'exec'\u001b[0m\u001b[0;34m:\u001b[0m\u001b[0;34m\u001b[0m\u001b[0;34m\u001b[0m\u001b[0m\n",
            "\u001b[0m\u001b[0;32m   3466 \u001b[0;31m                        \u001b[0mmod\u001b[0m \u001b[0;34m=\u001b[0m \u001b[0mModule\u001b[0m\u001b[0;34m(\u001b[0m\u001b[0;34m[\u001b[0m\u001b[0mnode\u001b[0m\u001b[0;34m]\u001b[0m\u001b[0;34m,\u001b[0m \u001b[0;34m[\u001b[0m\u001b[0;34m]\u001b[0m\u001b[0;34m)\u001b[0m\u001b[0;34m\u001b[0m\u001b[0;34m\u001b[0m\u001b[0m\n",
            "\u001b[0m\n",
            "ipdb> p\n",
            "*** SyntaxError: invalid syntax\n",
            "ipdb> c\n",
            "Jackson Guedes faz o curso Programação em Python: Essencial\n"
          ]
        }
      ]
    },
    {
      "cell_type": "markdown",
      "source": [
        "Exemplo 2"
      ],
      "metadata": {
        "id": "WmjWwAaQdfDD"
      }
    },
    {
      "cell_type": "code",
      "source": [
        "nome = 'Jackson'\n",
        "sobrenome = 'Guedes'\n",
        "import pdb;pdb.set_trace()\n",
        "nome_completo = nome + ' ' + sobrenome\n",
        "curso = 'Programação em Python: Essencial'\n",
        "final = nome_completo + ' faz o curso ' + curso\n",
        "print(final)"
      ],
      "metadata": {
        "colab": {
          "base_uri": "https://localhost:8080/"
        },
        "id": "dYR3K_vndJpM",
        "outputId": "d3d77a08-f0d6-402b-b25c-2e7537def04d"
      },
      "execution_count": 7,
      "outputs": [
        {
          "output_type": "stream",
          "name": "stdout",
          "text": [
            "--Return--\n",
            "None\n",
            "> \u001b[0;32m<ipython-input-7-7c60c3bc5a1d>\u001b[0m(3)\u001b[0;36m<cell line: 3>\u001b[0;34m()\u001b[0m\n",
            "\u001b[0;32m      1 \u001b[0;31m\u001b[0mnome\u001b[0m \u001b[0;34m=\u001b[0m \u001b[0;34m'Jackson'\u001b[0m\u001b[0;34m\u001b[0m\u001b[0;34m\u001b[0m\u001b[0m\n",
            "\u001b[0m\u001b[0;32m      2 \u001b[0;31m\u001b[0msobrenome\u001b[0m \u001b[0;34m=\u001b[0m \u001b[0;34m'Guedes'\u001b[0m\u001b[0;34m\u001b[0m\u001b[0;34m\u001b[0m\u001b[0m\n",
            "\u001b[0m\u001b[0;32m----> 3 \u001b[0;31m\u001b[0;32mimport\u001b[0m \u001b[0mpdb\u001b[0m\u001b[0;34m;\u001b[0m\u001b[0mpdb\u001b[0m\u001b[0;34m.\u001b[0m\u001b[0mset_trace\u001b[0m\u001b[0;34m(\u001b[0m\u001b[0;34m)\u001b[0m\u001b[0;34m\u001b[0m\u001b[0;34m\u001b[0m\u001b[0m\n",
            "\u001b[0m\u001b[0;32m      4 \u001b[0;31m\u001b[0mnome_completo\u001b[0m \u001b[0;34m=\u001b[0m \u001b[0mnome\u001b[0m \u001b[0;34m+\u001b[0m \u001b[0;34m' '\u001b[0m \u001b[0;34m+\u001b[0m \u001b[0msobrenome\u001b[0m\u001b[0;34m\u001b[0m\u001b[0;34m\u001b[0m\u001b[0m\n",
            "\u001b[0m\u001b[0;32m      5 \u001b[0;31m\u001b[0mcurso\u001b[0m \u001b[0;34m=\u001b[0m \u001b[0;34m'Programação em Python: Essencial'\u001b[0m\u001b[0;34m\u001b[0m\u001b[0;34m\u001b[0m\u001b[0m\n",
            "\u001b[0m\n",
            "ipdb> nome\n",
            "'Jackson'\n",
            "ipdb> sobrenome\n",
            "'Guedes'\n",
            "ipdb> nome_completo\n",
            "'Jackson Guedes'\n",
            "ipdb> curso\n",
            "'Programação em Python: Essencial'\n",
            "ipdb> final\n",
            "'Jackson Guedes faz o curso Programação em Python: Essencial'\n",
            "ipdb> c\n",
            "Jackson Guedes faz o curso Programação em Python: Essencial\n"
          ]
        }
      ]
    }
  ]
}
