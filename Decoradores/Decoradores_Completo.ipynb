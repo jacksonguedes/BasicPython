{
  "nbformat": 4,
  "nbformat_minor": 0,
  "metadata": {
    "colab": {
      "provenance": [],
      "authorship_tag": "ABX9TyOzG6hNl5WRCa9cUkAor1ll",
      "include_colab_link": true
    },
    "kernelspec": {
      "name": "python3",
      "display_name": "Python 3"
    },
    "language_info": {
      "name": "python"
    }
  },
  "cells": [
    {
      "cell_type": "markdown",
      "metadata": {
        "id": "view-in-github",
        "colab_type": "text"
      },
      "source": [
        "<a href=\"https://colab.research.google.com/github/jacksonguedes/BasicPython/blob/main/Decoradores_Completo.ipynb\" target=\"_parent\"><img src=\"https://colab.research.google.com/assets/colab-badge.svg\" alt=\"Open In Colab\"/></a>"
      ]
    },
    {
      "cell_type": "markdown",
      "source": [
        "### Funções de Maior Grandeza - Higher Order Functions - HOF  \n",
        "- Quando uma linguagem de programação suporta HOF, indica que podemos ter funções que retornam outras funções como resultado ou mesmo que podemos passar funções como argumento para outras funções, e até mesmo criar variáveis do tipo de funções nos nossos programas."
      ],
      "metadata": {
        "id": "WGKprugRr1Oh"
      }
    },
    {
      "cell_type": "code",
      "execution_count": 61,
      "metadata": {
        "id": "IVVIkKSIrbH0"
      },
      "outputs": [],
      "source": [
        "def soma(a,b):\n",
        "  return a + b\n",
        "\n",
        "def sub(a,b):\n",
        "  return a - b\n",
        "\n",
        "def mult(a,b):\n",
        "  return a * b\n",
        "\n",
        "def div(a,b):\n",
        "  return a / b"
      ]
    },
    {
      "cell_type": "code",
      "source": [
        "def calcular(num1, num2, funcao):\n",
        "  return funcao(num1, num2)"
      ],
      "metadata": {
        "id": "1VvpRnSd2NJd"
      },
      "execution_count": 62,
      "outputs": []
    },
    {
      "cell_type": "code",
      "source": [
        "print(f'Resultado da SOMA: {calcular(3,4,soma)}')\n",
        "print(f'Resultado da SUBTRAÇÃO: {calcular(3,4,sub)}')\n",
        "print(f'Resultado da MULTIPLICAÇÃO: {calcular(3,4,mult)}')\n",
        "print(f'Resultado da DIVISÃO: {calcular(3,4,div)}')"
      ],
      "metadata": {
        "colab": {
          "base_uri": "https://localhost:8080/"
        },
        "id": "5KWBF_ZU2htB",
        "outputId": "f9bce6eb-7f45-47c2-a8f6-2ec7e2e57fc5"
      },
      "execution_count": 63,
      "outputs": [
        {
          "output_type": "stream",
          "name": "stdout",
          "text": [
            "Resultado da SOMA: 7\n",
            "Resultado da SUBTRAÇÃO: -1\n",
            "Resultado da MULTIPLICAÇÃO: 12\n",
            "Resultado da DIVISÃO: 0.75\n"
          ]
        }
      ]
    },
    {
      "cell_type": "markdown",
      "source": [
        "### Nested Functions - Funções Aninhadas  \n",
        "- Em Python podemos também ter funções dentro de funções, que são conhecidas por Nested Functions ou também Inner Functions (Funções Internas)"
      ],
      "metadata": {
        "id": "CjxdQKAD4Fs5"
      }
    },
    {
      "cell_type": "code",
      "source": [
        "from random import choice\n",
        "\n",
        "def cumprimento(pessoa):\n",
        "  def humor():\n",
        "    return choice(('E ai ', 'Suma daqui ', 'Gosto de você '))\n",
        "  return humor() + pessoa"
      ],
      "metadata": {
        "id": "fFyBXpCn2vNZ"
      },
      "execution_count": 64,
      "outputs": []
    },
    {
      "cell_type": "code",
      "source": [
        "print(cumprimento('Jackson'))\n",
        "print(cumprimento('Alex'))\n",
        "print(cumprimento('Rodrigo'))"
      ],
      "metadata": {
        "colab": {
          "base_uri": "https://localhost:8080/"
        },
        "id": "rd1pKb6B5Im_",
        "outputId": "bada217d-34d0-4b16-a62d-f551ffb816cb"
      },
      "execution_count": 65,
      "outputs": [
        {
          "output_type": "stream",
          "name": "stdout",
          "text": [
            "E ai Jackson\n",
            "Gosto de você Alex\n",
            "E ai Rodrigo\n"
          ]
        }
      ]
    },
    {
      "cell_type": "code",
      "source": [
        "def faz_me_rir():\n",
        "  def rir():\n",
        "    return choice(('hahahahaha', 'kkkkkkkkk', 'hihihihihi'))\n",
        "  return rir"
      ],
      "metadata": {
        "id": "FB3qlsHA55ar"
      },
      "execution_count": 66,
      "outputs": []
    },
    {
      "cell_type": "code",
      "source": [
        "rindo = faz_me_rir()\n",
        "print(rindo())\n",
        "print(rindo())\n",
        "print(rindo())"
      ],
      "metadata": {
        "colab": {
          "base_uri": "https://localhost:8080/"
        },
        "id": "ecebtNxW6KtA",
        "outputId": "3f44a2e3-0eee-4ef6-b599-e30f4b34c697"
      },
      "execution_count": 67,
      "outputs": [
        {
          "output_type": "stream",
          "name": "stdout",
          "text": [
            "hahahahaha\n",
            "kkkkkkkkk\n",
            "kkkkkkkkk\n"
          ]
        }
      ]
    },
    {
      "cell_type": "markdown",
      "source": [
        "- Inner Functions (Funções Internas / Nested Functions) podem acessar o escopo de funções mais externas."
      ],
      "metadata": {
        "id": "B5E5l9lX6-jl"
      }
    },
    {
      "cell_type": "code",
      "source": [
        "def faz_me_rir_novamente(pessoa):\n",
        "  def dando_risada():\n",
        "    risada = choice(('hahahaha','lololololo', 'kkkkkkkkkk'))\n",
        "    return f'{risada} {pessoa}'\n",
        "  return dando_risada"
      ],
      "metadata": {
        "id": "cc00svz37J3p"
      },
      "execution_count": 68,
      "outputs": []
    },
    {
      "cell_type": "code",
      "source": [
        "rindo = faz_me_rir_novamente('Gustavo')\n",
        "\n",
        "print(rindo())\n",
        "print(rindo())\n",
        "print(rindo())"
      ],
      "metadata": {
        "colab": {
          "base_uri": "https://localhost:8080/"
        },
        "id": "RR3gRyNQ73DK",
        "outputId": "74e47986-52f4-4acb-b386-477132818d47"
      },
      "execution_count": 69,
      "outputs": [
        {
          "output_type": "stream",
          "name": "stdout",
          "text": [
            "kkkkkkkkkk Gustavo\n",
            "kkkkkkkkkk Gustavo\n",
            "hahahaha Gustavo\n"
          ]
        }
      ]
    },
    {
      "cell_type": "markdown",
      "source": [
        "### Decoradores com diferentes assinaturas"
      ],
      "metadata": {
        "id": "-RNrXt0tSZVo"
      }
    },
    {
      "cell_type": "code",
      "source": [
        "# Relembrando\n",
        "\n",
        "def gritar(funcao):\n",
        "  def aumentar(nome):\n",
        "    return funcao(nome).upper()\n",
        "  return aumentar"
      ],
      "metadata": {
        "id": "ehK0nX-vSpVE"
      },
      "execution_count": 70,
      "outputs": []
    },
    {
      "cell_type": "code",
      "source": [
        "@gritar\n",
        "def saudacao(nome):\n",
        "  return f'Olá, eu sou o/a {nome}'"
      ],
      "metadata": {
        "id": "lSzbUhBLUQ10"
      },
      "execution_count": 71,
      "outputs": []
    },
    {
      "cell_type": "code",
      "source": [
        "@gritar\n",
        "def ordenar(principal, acompanhamento):\n",
        "  return f'Olá, eu sou de {principal}, acompanhado de {acompanhamento}, por favor.'"
      ],
      "metadata": {
        "id": "le3Wjz15Ue1l"
      },
      "execution_count": 72,
      "outputs": []
    },
    {
      "cell_type": "code",
      "source": [
        "#Testando 1\n",
        "print(saudacao('Angelina'))"
      ],
      "metadata": {
        "colab": {
          "base_uri": "https://localhost:8080/"
        },
        "id": "eoSTNl4FvXRs",
        "outputId": "236de024-ae89-457e-a226-4eddee10592a"
      },
      "execution_count": 73,
      "outputs": [
        {
          "output_type": "stream",
          "name": "stdout",
          "text": [
            "OLÁ, EU SOU O/A ANGELINA\n"
          ]
        }
      ]
    },
    {
      "cell_type": "code",
      "source": [
        "#Testando 2\n",
        "print(ordenar('Picanha', 'Batata Frita')) # ERRO: Aumentar recebe um parâmetro, mas foi enviado dois.\n",
        "\n",
        "# Para resolver, utiliza-se um padrão de projeto chamado Decorator Pattern"
      ],
      "metadata": {
        "colab": {
          "base_uri": "https://localhost:8080/",
          "height": 203
        },
        "id": "hrxWU_g6wXN4",
        "outputId": "9ed194d2-21dd-4220-872e-18d5f183f1be"
      },
      "execution_count": 74,
      "outputs": [
        {
          "output_type": "error",
          "ename": "TypeError",
          "evalue": "gritar.<locals>.aumentar() takes 1 positional argument but 2 were given",
          "traceback": [
            "\u001b[0;31m---------------------------------------------------------------------------\u001b[0m",
            "\u001b[0;31mTypeError\u001b[0m                                 Traceback (most recent call last)",
            "\u001b[0;32m<ipython-input-74-20d721f39d10>\u001b[0m in \u001b[0;36m<cell line: 2>\u001b[0;34m()\u001b[0m\n\u001b[1;32m      1\u001b[0m \u001b[0;31m#Testando 2\u001b[0m\u001b[0;34m\u001b[0m\u001b[0;34m\u001b[0m\u001b[0m\n\u001b[0;32m----> 2\u001b[0;31m \u001b[0mprint\u001b[0m\u001b[0;34m(\u001b[0m\u001b[0mordenar\u001b[0m\u001b[0;34m(\u001b[0m\u001b[0;34m'Picanha'\u001b[0m\u001b[0;34m,\u001b[0m \u001b[0;34m'Batata Frita'\u001b[0m\u001b[0;34m)\u001b[0m\u001b[0;34m)\u001b[0m \u001b[0;31m# ERRO: Aumentar recebe um parâmetro, mas foi enviado dois.\u001b[0m\u001b[0;34m\u001b[0m\u001b[0;34m\u001b[0m\u001b[0m\n\u001b[0m\u001b[1;32m      3\u001b[0m \u001b[0;34m\u001b[0m\u001b[0m\n\u001b[1;32m      4\u001b[0m \u001b[0;31m# Para resolver, utiliza-se um padrão de projeto chamado Decorator Pattern\u001b[0m\u001b[0;34m\u001b[0m\u001b[0;34m\u001b[0m\u001b[0m\n",
            "\u001b[0;31mTypeError\u001b[0m: gritar.<locals>.aumentar() takes 1 positional argument but 2 were given"
          ]
        }
      ]
    },
    {
      "cell_type": "markdown",
      "source": [
        "### Refatorando com o Decorator Pattern  \n",
        "\n",
        "\n",
        "> A assinatura de uma função é representada pelo seu retorno, nome e parâmetro de entrada.\n",
        "\n"
      ],
      "metadata": {
        "id": "qWj-EUt4xc3e"
      }
    },
    {
      "cell_type": "code",
      "source": [
        "def gritar(funcao):\n",
        "  def aumentar(*args, **kwargs):\n",
        "    return funcao(*args, **kwargs).upper()\n",
        "  return aumentar"
      ],
      "metadata": {
        "id": "QSVmq_ojxpuF"
      },
      "execution_count": 75,
      "outputs": []
    },
    {
      "cell_type": "code",
      "source": [
        "@gritar\n",
        "def saudacao(nome):\n",
        "  return f'Olá, eu sou o/a {nome}'"
      ],
      "metadata": {
        "id": "la9ps4KZyCyp"
      },
      "execution_count": 76,
      "outputs": []
    },
    {
      "cell_type": "code",
      "source": [
        "@gritar\n",
        "def ordenar(principal, acompanhamento):\n",
        "  return f'Olá, eu sou de {principal}, acompanhado de {acompanhamento}, por favor.'"
      ],
      "metadata": {
        "id": "KYH0C4EGyLP3"
      },
      "execution_count": 77,
      "outputs": []
    },
    {
      "cell_type": "code",
      "source": [
        "#Testando 3\n",
        "\n",
        "print(saudacao('Jackson'))"
      ],
      "metadata": {
        "colab": {
          "base_uri": "https://localhost:8080/"
        },
        "id": "wGgO__6xyXPn",
        "outputId": "0097041d-d638-4319-c999-5d81343452b0"
      },
      "execution_count": 78,
      "outputs": [
        {
          "output_type": "stream",
          "name": "stdout",
          "text": [
            "OLÁ, EU SOU O/A JACKSON\n"
          ]
        }
      ]
    },
    {
      "cell_type": "code",
      "source": [
        "#Testando 4\n",
        "print(ordenar('Picanha', 'Batata Frita'))"
      ],
      "metadata": {
        "colab": {
          "base_uri": "https://localhost:8080/"
        },
        "id": "6phX7DixygCX",
        "outputId": "1a4b3329-a697-45c7-c362-47ea9bc419a1"
      },
      "execution_count": 79,
      "outputs": [
        {
          "output_type": "stream",
          "name": "stdout",
          "text": [
            "OLÁ, EU SOU DE PICANHA, ACOMPANHADO DE BATATA FRITA, POR FAVOR.\n"
          ]
        }
      ]
    },
    {
      "cell_type": "markdown",
      "source": [
        "### Decorador com argumentos"
      ],
      "metadata": {
        "id": "7vLfSZviBiZy"
      }
    },
    {
      "cell_type": "code",
      "source": [
        "def verifica_primeiro_argumento(valor):\n",
        "  def interna(funcao):\n",
        "    def outra(*args, **kwargs):\n",
        "      if args and args[0] != valor:\n",
        "        return f'Valor incorreto! Primeiro argumento precisa ser {valor}'\n",
        "      return funcao(*args, **kwargs)\n",
        "    return outra\n",
        "  return interna\n"
      ],
      "metadata": {
        "id": "PGd0C5ihBlFv"
      },
      "execution_count": 80,
      "outputs": []
    },
    {
      "cell_type": "code",
      "source": [
        "@verifica_primeiro_argumento('pizza')\n",
        "def comida_favorita(*args):\n",
        "  print(args)"
      ],
      "metadata": {
        "id": "mpEVFASOCLrA"
      },
      "execution_count": 81,
      "outputs": []
    },
    {
      "cell_type": "code",
      "source": [
        "@verifica_primeiro_argumento(10)\n",
        "def soma_dez(num1, num2):\n",
        "  return num1 + num2"
      ],
      "metadata": {
        "id": "dVveYYTxCZXR"
      },
      "execution_count": 82,
      "outputs": []
    },
    {
      "cell_type": "code",
      "source": [
        "#Testando 1\n",
        "\n",
        "print(soma_dez(10, 12))"
      ],
      "metadata": {
        "colab": {
          "base_uri": "https://localhost:8080/"
        },
        "id": "CL084djLCkiA",
        "outputId": "48dbdfa6-d281-4006-dfb7-0cfa487f0a3d"
      },
      "execution_count": 83,
      "outputs": [
        {
          "output_type": "stream",
          "name": "stdout",
          "text": [
            "22\n"
          ]
        }
      ]
    },
    {
      "cell_type": "code",
      "source": [
        "print(soma_dez(1, 12))"
      ],
      "metadata": {
        "colab": {
          "base_uri": "https://localhost:8080/"
        },
        "id": "wrFS8uN-C3BJ",
        "outputId": "01aeff71-a8b4-41c6-9341-04a6c805e5f1"
      },
      "execution_count": 84,
      "outputs": [
        {
          "output_type": "stream",
          "name": "stdout",
          "text": [
            "Valor incorreto! Primeiro argumento precisa ser 10\n"
          ]
        }
      ]
    },
    {
      "cell_type": "code",
      "source": [
        "#Testando 2\n",
        "\n",
        "print(comida_favorita('pizza', 'churrasco'))"
      ],
      "metadata": {
        "colab": {
          "base_uri": "https://localhost:8080/"
        },
        "id": "JYde42K7C9D4",
        "outputId": "bf1a7e6d-a9b8-4118-c419-b11f61f009fb"
      },
      "execution_count": 85,
      "outputs": [
        {
          "output_type": "stream",
          "name": "stdout",
          "text": [
            "('pizza', 'churrasco')\n",
            "None\n"
          ]
        }
      ]
    },
    {
      "cell_type": "code",
      "source": [
        "print(comida_favorita('macarrao', 'pizza'))"
      ],
      "metadata": {
        "colab": {
          "base_uri": "https://localhost:8080/"
        },
        "id": "0uPoKMOxDMWY",
        "outputId": "6e9c84d1-ac60-4847-c72b-0d6d978a3a05"
      },
      "execution_count": 86,
      "outputs": [
        {
          "output_type": "stream",
          "name": "stdout",
          "text": [
            "Valor incorreto! Primeiro argumento precisa ser pizza\n"
          ]
        }
      ]
    },
    {
      "cell_type": "markdown",
      "source": [
        "### Preservando Metadata com Wraps  \n",
        "> Metadados são dados intrísecos em arquivos.  \n",
        "Wraps são funções que envolvem elementos com diversas finalidades.\n",
        "\n"
      ],
      "metadata": {
        "id": "fJ0gakMMF5FM"
      }
    },
    {
      "cell_type": "code",
      "source": [
        "def ver_log(funcao):\n",
        "  def logar(*args, **kwargs):\n",
        "    \"\"\" Eu sou uma função (logar) dentro de outra\"\"\"\n",
        "    print(f'Você está chamando {funcao.__name__}')\n",
        "    print(f'Aqui a documentação: {funcao.__doc__}')\n",
        "    return funcao(*args, **kwargs)\n",
        "  return logar"
      ],
      "metadata": {
        "id": "4vg5Tbo-F_cY"
      },
      "execution_count": 87,
      "outputs": []
    },
    {
      "cell_type": "code",
      "source": [
        "@ver_log\n",
        "def soma(a, b):\n",
        "  \"\"\" Soma dois números. \"\"\"\n",
        "  return a + b"
      ],
      "metadata": {
        "id": "fm5ZwOyRNL-K"
      },
      "execution_count": 88,
      "outputs": []
    },
    {
      "cell_type": "code",
      "source": [
        "# Testando 1\n",
        "\n",
        "print(soma(10, 30))"
      ],
      "metadata": {
        "colab": {
          "base_uri": "https://localhost:8080/"
        },
        "id": "p297LFZwNZap",
        "outputId": "a8375f0a-f7f2-4263-c73f-a092ae06c62f"
      },
      "execution_count": 89,
      "outputs": [
        {
          "output_type": "stream",
          "name": "stdout",
          "text": [
            "Você está chamando soma\n",
            "Aqui a documentação:  Soma dois números. \n",
            "40\n"
          ]
        }
      ]
    },
    {
      "cell_type": "code",
      "source": [
        "# Testando 2\n",
        "\n",
        "print(soma.__name__)\n",
        "print(soma.__doc__)"
      ],
      "metadata": {
        "colab": {
          "base_uri": "https://localhost:8080/"
        },
        "id": "fiA-MBsENfSY",
        "outputId": "17b52c1c-901d-42d6-99ac-4531cacca266"
      },
      "execution_count": 90,
      "outputs": [
        {
          "output_type": "stream",
          "name": "stdout",
          "text": [
            "logar\n",
            " Eu sou uma função (logar) dentro de outra\n"
          ]
        }
      ]
    },
    {
      "cell_type": "markdown",
      "source": [
        "### Resolução do problema"
      ],
      "metadata": {
        "id": "NqxVZksVOhLN"
      }
    },
    {
      "cell_type": "code",
      "source": [
        "from functools import wraps"
      ],
      "metadata": {
        "id": "L_ITIDCUNno4"
      },
      "execution_count": 91,
      "outputs": []
    },
    {
      "cell_type": "code",
      "source": [
        "def ver_log(funcao):\n",
        "  @wraps(funcao)\n",
        "  def logar(*args, **kwargs):\n",
        "    \"\"\" Eu sou uma função (logar) dentro de outra\"\"\"\n",
        "    print(f'Você está chamando {funcao.__name__}')\n",
        "    print(f'Aqui a documentação: {funcao.__doc__}')\n",
        "    return funcao(*args, **kwargs)\n",
        "  return logar"
      ],
      "metadata": {
        "id": "IUGWHUi9Oz8S"
      },
      "execution_count": 92,
      "outputs": []
    },
    {
      "cell_type": "code",
      "source": [
        "@ver_log\n",
        "def soma(a, b):\n",
        "  \"\"\" Soma dois números. \"\"\"\n",
        "  return a + b"
      ],
      "metadata": {
        "id": "yD5TZTJlPAqL"
      },
      "execution_count": 93,
      "outputs": []
    },
    {
      "cell_type": "code",
      "source": [
        "# Testando 1\n",
        "\n",
        "print(soma(10, 30))"
      ],
      "metadata": {
        "colab": {
          "base_uri": "https://localhost:8080/"
        },
        "id": "M2ILf5aFPQ76",
        "outputId": "cdd27e72-b1ea-4664-f835-d868c7fa9f2f"
      },
      "execution_count": 94,
      "outputs": [
        {
          "output_type": "stream",
          "name": "stdout",
          "text": [
            "Você está chamando soma\n",
            "Aqui a documentação:  Soma dois números. \n",
            "40\n"
          ]
        }
      ]
    },
    {
      "cell_type": "code",
      "source": [
        "# Testando 2\n",
        "\n",
        "print(soma.__name__)\n",
        "print(soma.__doc__)"
      ],
      "metadata": {
        "colab": {
          "base_uri": "https://localhost:8080/"
        },
        "id": "Mh-JIuV3PFPJ",
        "outputId": "8570489a-cbd2-469e-9607-3122db2e32ed"
      },
      "execution_count": 95,
      "outputs": [
        {
          "output_type": "stream",
          "name": "stdout",
          "text": [
            "soma\n",
            " Soma dois números. \n"
          ]
        }
      ]
    },
    {
      "cell_type": "code",
      "source": [
        "print(help(soma))"
      ],
      "metadata": {
        "colab": {
          "base_uri": "https://localhost:8080/"
        },
        "id": "Rja3-HsKPi0F",
        "outputId": "4bb4ce42-5d7f-4336-ecab-9bd1146a4359"
      },
      "execution_count": 96,
      "outputs": [
        {
          "output_type": "stream",
          "name": "stdout",
          "text": [
            "Help on function soma in module __main__:\n",
            "\n",
            "soma(a, b)\n",
            "    Soma dois números.\n",
            "\n",
            "None\n"
          ]
        }
      ]
    },
    {
      "cell_type": "markdown",
      "source": [
        "### Forçando tipos de dados com decoradores"
      ],
      "metadata": {
        "id": "qmcm7z60QW8c"
      }
    },
    {
      "cell_type": "code",
      "source": [
        "def forca_tipo(*tipos):\n",
        "  def decorador(funcao):\n",
        "    def converte(*args, **kwargs):\n",
        "      novo_args = []\n",
        "      for(valor, tipo) in zip(args, tipos):\n",
        "        novo_args.append(tipo(valor))\n",
        "      return funcao(*novo_args, **kwargs)\n",
        "    return converte\n",
        "  return decorador"
      ],
      "metadata": {
        "id": "G_b08c6FQdpJ"
      },
      "execution_count": 103,
      "outputs": []
    },
    {
      "cell_type": "code",
      "source": [
        "@forca_tipo(str, int)\n",
        "def repete_msg(msg, vezes):\n",
        "  for vez in range(vezes):\n",
        "    print(msg)"
      ],
      "metadata": {
        "id": "8ov78aAtRsyR"
      },
      "execution_count": 104,
      "outputs": []
    },
    {
      "cell_type": "code",
      "source": [
        "repete_msg('Geek', '3')"
      ],
      "metadata": {
        "colab": {
          "base_uri": "https://localhost:8080/"
        },
        "id": "ATBv5CNpS1Ry",
        "outputId": "9c199dc4-d3bd-4a37-b15c-fd8b228696e2"
      },
      "execution_count": 105,
      "outputs": [
        {
          "output_type": "stream",
          "name": "stdout",
          "text": [
            "Geek\n",
            "Geek\n",
            "Geek\n"
          ]
        }
      ]
    },
    {
      "cell_type": "code",
      "source": [
        "@forca_tipo(float, float)\n",
        "def dividir(a, b):\n",
        "  print(a/b)"
      ],
      "metadata": {
        "id": "kABkpgMiTIfR"
      },
      "execution_count": 106,
      "outputs": []
    },
    {
      "cell_type": "code",
      "source": [
        "dividir('1', 5)"
      ],
      "metadata": {
        "colab": {
          "base_uri": "https://localhost:8080/"
        },
        "id": "nu6RcTwQTShK",
        "outputId": "fb931aa0-d583-489a-e520-223146039cf6"
      },
      "execution_count": 107,
      "outputs": [
        {
          "output_type": "stream",
          "name": "stdout",
          "text": [
            "0.2\n"
          ]
        }
      ]
    }
  ]
}
