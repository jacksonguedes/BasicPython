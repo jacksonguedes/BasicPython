{
  "nbformat": 4,
  "nbformat_minor": 0,
  "metadata": {
    "colab": {
      "provenance": [],
      "authorship_tag": "ABX9TyN8tmgdByvbOpnF0CjtSnv9",
      "include_colab_link": true
    },
    "kernelspec": {
      "name": "python3",
      "display_name": "Python 3"
    },
    "language_info": {
      "name": "python"
    }
  },
  "cells": [
    {
      "cell_type": "markdown",
      "metadata": {
        "id": "view-in-github",
        "colab_type": "text"
      },
      "source": [
        "<a href=\"https://colab.research.google.com/github/jacksonguedes/BasicPython/blob/main/Fun%C3%A7%C3%B5es_em_Python_04.ipynb\" target=\"_parent\"><img src=\"https://colab.research.google.com/assets/colab-badge.svg\" alt=\"Open In Colab\"/></a>"
      ]
    },
    {
      "cell_type": "markdown",
      "source": [
        "# **Funções com parâmetros padrão (default parameters)**"
      ],
      "metadata": {
        "id": "2lyVYPYH91rG"
      }
    },
    {
      "cell_type": "code",
      "execution_count": 2,
      "metadata": {
        "id": "vw_Qc1Id9y_c"
      },
      "outputs": [],
      "source": [
        "def exponencial(numero, potencia = 2): # Valor padrão potencia = 2\n",
        "  return numero ** potencia"
      ]
    },
    {
      "cell_type": "code",
      "source": [
        "print(exponencial(2, 3))\n",
        "print(exponencial(3, 2))"
      ],
      "metadata": {
        "colab": {
          "base_uri": "https://localhost:8080/"
        },
        "id": "tNj9dvrI_p3n",
        "outputId": "7f9e80e6-e957-415a-c6cf-b2dc492c3da3"
      },
      "execution_count": 3,
      "outputs": [
        {
          "output_type": "stream",
          "name": "stdout",
          "text": [
            "8\n",
            "9\n"
          ]
        }
      ]
    },
    {
      "cell_type": "markdown",
      "source": [
        "Se o usuário passar somente 1 parâmetro, este será atribuido ao parâmetro *numero*, e será calculado o quadrado deste número;"
      ],
      "metadata": {
        "id": "qVTrQcS0ATaG"
      }
    },
    {
      "cell_type": "code",
      "source": [
        "print(exponencial(3)) # Por padrão eleve ao quadrado"
      ],
      "metadata": {
        "colab": {
          "base_uri": "https://localhost:8080/"
        },
        "id": "zMDFuAY5_vPf",
        "outputId": "63b651d9-f7b2-4778-c158-b7bac3219553"
      },
      "execution_count": 4,
      "outputs": [
        {
          "output_type": "stream",
          "name": "stdout",
          "text": [
            "9\n"
          ]
        }
      ]
    },
    {
      "cell_type": "markdown",
      "source": [
        "Os parâmetros com valores default (padrão) DEVEM sempre estar ao final da declaração."
      ],
      "metadata": {
        "id": "wiiy8maJA_3i"
      }
    },
    {
      "cell_type": "code",
      "source": [
        "\"\"\"\n",
        "ERRO!\n",
        "\n",
        "    def teste(num = 2, potencia):\n",
        "      return num ** potencia\n",
        "\n",
        "\"\"\""
      ],
      "metadata": {
        "id": "Qqk6z7LmBL8W"
      },
      "execution_count": null,
      "outputs": []
    },
    {
      "cell_type": "markdown",
      "source": [
        "Exemplo mais complexo"
      ],
      "metadata": {
        "id": "X4JPn66qB9m_"
      }
    },
    {
      "cell_type": "markdown",
      "source": [
        "Exemplo 1"
      ],
      "metadata": {
        "id": "MwCF_u7lErJF"
      }
    },
    {
      "cell_type": "code",
      "source": [
        "def mostra_informacao(nome = 'Geek', instrutor = False):\n",
        "  if nome == 'Geek' and instrutor:\n",
        "    return 'Bem-vindo instrutor Geek!'\n",
        "  elif nome == 'Geek':\n",
        "    return 'Eu pensei que você era o instrutor'\n",
        "  return f'Olá, {nome}!'"
      ],
      "metadata": {
        "id": "LyFsPeREB_lu"
      },
      "execution_count": 15,
      "outputs": []
    },
    {
      "cell_type": "code",
      "source": [
        "print(mostra_informacao())"
      ],
      "metadata": {
        "colab": {
          "base_uri": "https://localhost:8080/"
        },
        "id": "R_K4M5n9Cc1t",
        "outputId": "69f46d09-e54e-4702-c425-235ce5ff8de4"
      },
      "execution_count": 16,
      "outputs": [
        {
          "output_type": "stream",
          "name": "stdout",
          "text": [
            "Eu pensei que você era o instrutor\n"
          ]
        }
      ]
    },
    {
      "cell_type": "code",
      "source": [
        "print(mostra_informacao(instrutor = True))"
      ],
      "metadata": {
        "colab": {
          "base_uri": "https://localhost:8080/"
        },
        "id": "swqMrlGNC0ad",
        "outputId": "e0996491-b3cb-4436-fb07-f0ff81571a0e"
      },
      "execution_count": 17,
      "outputs": [
        {
          "output_type": "stream",
          "name": "stdout",
          "text": [
            "Bem-vindo instrutor Geek!\n"
          ]
        }
      ]
    },
    {
      "cell_type": "code",
      "source": [
        "print(mostra_informacao(nome = 'Jackson'))"
      ],
      "metadata": {
        "colab": {
          "base_uri": "https://localhost:8080/"
        },
        "id": "qOQYQDfiC62o",
        "outputId": "1724bd27-7e15-4943-9d54-8e1cf95538b3"
      },
      "execution_count": 18,
      "outputs": [
        {
          "output_type": "stream",
          "name": "stdout",
          "text": [
            "Olá, Jackson!\n"
          ]
        }
      ]
    },
    {
      "cell_type": "markdown",
      "source": [
        "Exemplo 2"
      ],
      "metadata": {
        "id": "iPmxNpE4EpuW"
      }
    },
    {
      "cell_type": "code",
      "source": [
        "def soma(num1, num2):\n",
        "  return num1 + num2"
      ],
      "metadata": {
        "id": "jwi5sdgxEvKE"
      },
      "execution_count": 19,
      "outputs": []
    },
    {
      "cell_type": "code",
      "source": [
        "def subtracao(num1, num2):\n",
        "  return num1 - num2"
      ],
      "metadata": {
        "id": "bPz1JfizFCYc"
      },
      "execution_count": 21,
      "outputs": []
    },
    {
      "cell_type": "code",
      "source": [
        "def mat(num1, num2, fun = soma):\n",
        "  return fun(num1, num2)"
      ],
      "metadata": {
        "id": "VflgW-tIE2sE"
      },
      "execution_count": 20,
      "outputs": []
    },
    {
      "cell_type": "code",
      "source": [
        "print(mat(2, 3))\n",
        "print(mat(2, 2, subtracao))"
      ],
      "metadata": {
        "colab": {
          "base_uri": "https://localhost:8080/"
        },
        "id": "R5fijsYRFIqG",
        "outputId": "1c635e3e-bfa8-4da0-c253-ab64cbdf9591"
      },
      "execution_count": 22,
      "outputs": [
        {
          "output_type": "stream",
          "name": "stdout",
          "text": [
            "5\n",
            "0\n"
          ]
        }
      ]
    },
    {
      "cell_type": "code",
      "source": [
        "total = 0\n",
        "\n",
        "def incrementa():\n",
        "  global total # Avisando que queremos utilizar a variável global\n",
        "\n",
        "  total = total + 1\n",
        "  return total\n",
        "\n",
        "print(incrementa())"
      ],
      "metadata": {
        "colab": {
          "base_uri": "https://localhost:8080/"
        },
        "id": "2Da371PTHGtM",
        "outputId": "05c7ea68-9921-490d-8fb1-cd13945a52f3"
      },
      "execution_count": 25,
      "outputs": [
        {
          "output_type": "stream",
          "name": "stdout",
          "text": [
            "1\n"
          ]
        }
      ]
    },
    {
      "cell_type": "code",
      "source": [
        "print(incrementa())"
      ],
      "metadata": {
        "colab": {
          "base_uri": "https://localhost:8080/"
        },
        "id": "zZX6q463HmBG",
        "outputId": "84cc6fcd-0812-4df0-aaa6-c6d67c89813f"
      },
      "execution_count": 26,
      "outputs": [
        {
          "output_type": "stream",
          "name": "stdout",
          "text": [
            "2\n"
          ]
        }
      ]
    },
    {
      "cell_type": "code",
      "source": [
        "print(incrementa())"
      ],
      "metadata": {
        "colab": {
          "base_uri": "https://localhost:8080/"
        },
        "id": "b_AzxXrDHpJj",
        "outputId": "53a50e3b-98b0-47c7-95ca-60554acbaa67"
      },
      "execution_count": 27,
      "outputs": [
        {
          "output_type": "stream",
          "name": "stdout",
          "text": [
            "3\n"
          ]
        }
      ]
    },
    {
      "cell_type": "markdown",
      "source": [
        "Utilizando funções declaradas dentro de outras funções."
      ],
      "metadata": {
        "id": "EfbfcJoCICCh"
      }
    },
    {
      "cell_type": "code",
      "source": [
        "def fora():\n",
        "  contador = 0\n",
        "\n",
        "  def dentro():\n",
        "    nonlocal contador\n",
        "    contador = contador + 1\n",
        "    return contador\n",
        "  return dentro()"
      ],
      "metadata": {
        "id": "2ycio_neHpkT"
      },
      "execution_count": 29,
      "outputs": []
    },
    {
      "cell_type": "code",
      "source": [
        "print(fora())"
      ],
      "metadata": {
        "colab": {
          "base_uri": "https://localhost:8080/"
        },
        "id": "UH6x8DdHIrjS",
        "outputId": "20a63465-9e00-4a34-d957-3d5b42639e59"
      },
      "execution_count": 30,
      "outputs": [
        {
          "output_type": "stream",
          "name": "stdout",
          "text": [
            "1\n"
          ]
        }
      ]
    },
    {
      "cell_type": "code",
      "source": [
        "print(fora())"
      ],
      "metadata": {
        "colab": {
          "base_uri": "https://localhost:8080/"
        },
        "id": "ov5Is6QBIuOr",
        "outputId": "ed56b1f1-f05a-4767-8357-07a4d53c80ed"
      },
      "execution_count": 31,
      "outputs": [
        {
          "output_type": "stream",
          "name": "stdout",
          "text": [
            "1\n"
          ]
        }
      ]
    },
    {
      "cell_type": "code",
      "source": [
        "print(fora())"
      ],
      "metadata": {
        "colab": {
          "base_uri": "https://localhost:8080/"
        },
        "id": "zUywYlKXIvKL",
        "outputId": "dfec1e8f-412f-44b7-9c47-822ba22af03f"
      },
      "execution_count": 32,
      "outputs": [
        {
          "output_type": "stream",
          "name": "stdout",
          "text": [
            "1\n"
          ]
        }
      ]
    },
    {
      "cell_type": "code",
      "source": [
        "print(dentro())"
      ],
      "metadata": {
        "colab": {
          "base_uri": "https://localhost:8080/",
          "height": 175
        },
        "id": "RUkJJ8nQI2wD",
        "outputId": "cb139711-df36-4b7c-a2cb-21c8564f3d86"
      },
      "execution_count": 33,
      "outputs": [
        {
          "output_type": "error",
          "ename": "NameError",
          "evalue": "ignored",
          "traceback": [
            "\u001b[0;31m---------------------------------------------------------------------------\u001b[0m",
            "\u001b[0;31mNameError\u001b[0m                                 Traceback (most recent call last)",
            "\u001b[0;32m<ipython-input-33-5b5523afe800>\u001b[0m in \u001b[0;36m<cell line: 1>\u001b[0;34m()\u001b[0m\n\u001b[0;32m----> 1\u001b[0;31m \u001b[0mprint\u001b[0m\u001b[0;34m(\u001b[0m\u001b[0mdentro\u001b[0m\u001b[0;34m(\u001b[0m\u001b[0;34m)\u001b[0m\u001b[0;34m)\u001b[0m\u001b[0;34m\u001b[0m\u001b[0;34m\u001b[0m\u001b[0m\n\u001b[0m",
            "\u001b[0;31mNameError\u001b[0m: name 'dentro' is not defined"
          ]
        }
      ]
    }
  ]
}
