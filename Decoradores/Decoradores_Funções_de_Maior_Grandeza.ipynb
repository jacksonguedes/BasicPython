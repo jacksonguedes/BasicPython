{
  "nbformat": 4,
  "nbformat_minor": 0,
  "metadata": {
    "colab": {
      "provenance": [],
      "authorship_tag": "ABX9TyPcBOd1UPbHpPKLaErOTptq",
      "include_colab_link": true
    },
    "kernelspec": {
      "name": "python3",
      "display_name": "Python 3"
    },
    "language_info": {
      "name": "python"
    }
  },
  "cells": [
    {
      "cell_type": "markdown",
      "metadata": {
        "id": "view-in-github",
        "colab_type": "text"
      },
      "source": [
        "<a href=\"https://colab.research.google.com/github/jacksonguedes/BasicPython/blob/main/Decoradores_Fun%C3%A7%C3%B5es_de_Maior_Grandeza.ipynb\" target=\"_parent\"><img src=\"https://colab.research.google.com/assets/colab-badge.svg\" alt=\"Open In Colab\"/></a>"
      ]
    },
    {
      "cell_type": "markdown",
      "source": [
        "### Funções de Maior Grandeza - Higher Order Functions - HOF  \n",
        "- Quando uma linguagem de programação suporta HOF, indica que podemos ter funções que retornam outras funções como resultado ou mesmo que podemos passar funções como argumento para outras funções, e até mesmo criar variáveis do tipo de funções nos nossos programas."
      ],
      "metadata": {
        "id": "WGKprugRr1Oh"
      }
    },
    {
      "cell_type": "code",
      "execution_count": 1,
      "metadata": {
        "id": "IVVIkKSIrbH0"
      },
      "outputs": [],
      "source": [
        "def soma(a,b):\n",
        "  return a + b\n",
        "\n",
        "def sub(a,b):\n",
        "  return a - b\n",
        "\n",
        "def mult(a,b):\n",
        "  return a * b\n",
        "\n",
        "def div(a,b):\n",
        "  return a / b"
      ]
    },
    {
      "cell_type": "code",
      "source": [
        "def calcular(num1, num2, funcao):\n",
        "  return funcao(num1, num2)"
      ],
      "metadata": {
        "id": "1VvpRnSd2NJd"
      },
      "execution_count": 2,
      "outputs": []
    },
    {
      "cell_type": "code",
      "source": [
        "print(f'Resultado da SOMA: {calcular(3,4,soma)}')\n",
        "print(f'Resultado da SUBTRAÇÃO: {calcular(3,4,sub)}')\n",
        "print(f'Resultado da MULTIPLICAÇÃO: {calcular(3,4,mult)}')\n",
        "print(f'Resultado da DIVISÃO: {calcular(3,4,div)}')"
      ],
      "metadata": {
        "colab": {
          "base_uri": "https://localhost:8080/"
        },
        "id": "5KWBF_ZU2htB",
        "outputId": "30057b78-316f-4699-f6da-50738e98e368"
      },
      "execution_count": 5,
      "outputs": [
        {
          "output_type": "stream",
          "name": "stdout",
          "text": [
            "Resultado da SOMA: 7\n",
            "Resultado da SUBTRAÇÃO: -1\n",
            "Resultado da MULTIPLICAÇÃO: 12\n",
            "Resultado da DIVISÃO: 0.75\n"
          ]
        }
      ]
    },
    {
      "cell_type": "markdown",
      "source": [
        "### Nested Functions - Funções Aninhadas  \n",
        "- Em Python podemos também ter funções dentro de funções, que são conhecidas por Nested Functions ou também Inner Functions (Funções Internas)"
      ],
      "metadata": {
        "id": "CjxdQKAD4Fs5"
      }
    },
    {
      "cell_type": "code",
      "source": [
        "from random import choice\n",
        "\n",
        "def cumprimento(pessoa):\n",
        "  def humor():\n",
        "    return choice(('E ai ', 'Suma daqui ', 'Gosto de você '))\n",
        "  return humor() + pessoa"
      ],
      "metadata": {
        "id": "fFyBXpCn2vNZ"
      },
      "execution_count": 10,
      "outputs": []
    },
    {
      "cell_type": "code",
      "source": [
        "print(cumprimento('Jackson'))\n",
        "print(cumprimento('Alex'))\n",
        "print(cumprimento('Rodrigo'))"
      ],
      "metadata": {
        "colab": {
          "base_uri": "https://localhost:8080/"
        },
        "id": "rd1pKb6B5Im_",
        "outputId": "1d6ceb6a-c129-4a4a-b6ec-fe90426cb297"
      },
      "execution_count": 12,
      "outputs": [
        {
          "output_type": "stream",
          "name": "stdout",
          "text": [
            "E ai Jackson\n",
            "Gosto de você Alex\n",
            "Suma daqui Rodrigo\n"
          ]
        }
      ]
    },
    {
      "cell_type": "code",
      "source": [
        "def faz_me_rir():\n",
        "  def rir():\n",
        "    return choice(('hahahahaha', 'kkkkkkkkk', 'hihihihihi'))\n",
        "  return rir"
      ],
      "metadata": {
        "id": "FB3qlsHA55ar"
      },
      "execution_count": 26,
      "outputs": []
    },
    {
      "cell_type": "code",
      "source": [
        "rindo = faz_me_rir()\n",
        "print(rindo())\n",
        "print(rindo())\n",
        "print(rindo())"
      ],
      "metadata": {
        "colab": {
          "base_uri": "https://localhost:8080/"
        },
        "id": "ecebtNxW6KtA",
        "outputId": "e66bfc73-292f-47cc-b14d-cb09b56f643f"
      },
      "execution_count": 27,
      "outputs": [
        {
          "output_type": "stream",
          "name": "stdout",
          "text": [
            "kkkkkkkkk\n",
            "hahahahaha\n",
            "kkkkkkkkk\n"
          ]
        }
      ]
    },
    {
      "cell_type": "markdown",
      "source": [
        "- Inner Functions (Funções Internas / Nested Functions) podem acessar o escopo de funções mais externas."
      ],
      "metadata": {
        "id": "B5E5l9lX6-jl"
      }
    },
    {
      "cell_type": "code",
      "source": [
        "def faz_me_rir_novamente(pessoa):\n",
        "  def dando_risada():\n",
        "    risada = choice(('hahahaha','lololololo', 'kkkkkkkkkk'))\n",
        "    return f'{risada} {pessoa}'\n",
        "  return dando_risada"
      ],
      "metadata": {
        "id": "cc00svz37J3p"
      },
      "execution_count": 28,
      "outputs": []
    },
    {
      "cell_type": "code",
      "source": [
        "rindo = faz_me_rir_novamente('Gustavo')\n",
        "\n",
        "print(rindo())\n",
        "print(rindo())\n",
        "print(rindo())"
      ],
      "metadata": {
        "colab": {
          "base_uri": "https://localhost:8080/"
        },
        "id": "RR3gRyNQ73DK",
        "outputId": "839cb221-dea5-454d-b80c-f4d349168127"
      },
      "execution_count": 29,
      "outputs": [
        {
          "output_type": "stream",
          "name": "stdout",
          "text": [
            "lololololo Gustavo\n",
            "hahahaha Gustavo\n",
            "kkkkkkkkkk Gustavo\n"
          ]
        }
      ]
    }
  ]
}
