{
  "nbformat": 4,
  "nbformat_minor": 0,
  "metadata": {
    "colab": {
      "provenance": [],
      "authorship_tag": "ABX9TyM1VzINUFofrVAGcIiW2tKT",
      "include_colab_link": true
    },
    "kernelspec": {
      "name": "python3",
      "display_name": "Python 3"
    },
    "language_info": {
      "name": "python"
    }
  },
  "cells": [
    {
      "cell_type": "markdown",
      "metadata": {
        "id": "view-in-github",
        "colab_type": "text"
      },
      "source": [
        "<a href=\"https://colab.research.google.com/github/jacksonguedes/BasicPython/blob/main/Iterators_e_Iter%C3%A1veis_Parte_1.ipynb\" target=\"_parent\"><img src=\"https://colab.research.google.com/assets/colab-badge.svg\" alt=\"Open In Colab\"/></a>"
      ]
    },
    {
      "cell_type": "markdown",
      "source": [
        "#**Entendendo**"
      ],
      "metadata": {
        "id": "33oxIWdIG9WQ"
      }
    },
    {
      "cell_type": "markdown",
      "source": [
        "Iterator:  \n",
        "- Um objetoque pode ser iterado.\n",
        "- Um objeto que retorna um dado, sendo um elemento por vez quando uma função next() é chamada.\n",
        "\n",
        "Iterable:  \n",
        "- Um objeto que irá retornar um iterator quando a função iter() for chamada."
      ],
      "metadata": {
        "id": "RNvo5PjqF5IU"
      }
    },
    {
      "cell_type": "code",
      "execution_count": 1,
      "metadata": {
        "id": "L1pnwGzbFl9c"
      },
      "outputs": [],
      "source": [
        "nome = 'Jackson' # Éumiterable, mas não é um iterator.\n",
        "numeros = [1, 2, 3, 4, 5, 6] # É um iterable, mas não é um iterator."
      ]
    },
    {
      "cell_type": "code",
      "source": [
        "print(next(nome)) # Não é um iterator"
      ],
      "metadata": {
        "colab": {
          "base_uri": "https://localhost:8080/",
          "height": 148
        },
        "id": "vn6RgaLQHxlO",
        "outputId": "b852622c-753b-49a0-b514-f77fd6559e8b"
      },
      "execution_count": 2,
      "outputs": [
        {
          "output_type": "error",
          "ename": "TypeError",
          "evalue": "'str' object is not an iterator",
          "traceback": [
            "\u001b[0;31m---------------------------------------------------------------------------\u001b[0m",
            "\u001b[0;31mTypeError\u001b[0m                                 Traceback (most recent call last)",
            "\u001b[0;32m<ipython-input-2-8f86d508988b>\u001b[0m in \u001b[0;36m<cell line: 1>\u001b[0;34m()\u001b[0m\n\u001b[0;32m----> 1\u001b[0;31m \u001b[0mprint\u001b[0m\u001b[0;34m(\u001b[0m\u001b[0mnext\u001b[0m\u001b[0;34m(\u001b[0m\u001b[0mnome\u001b[0m\u001b[0;34m)\u001b[0m\u001b[0;34m)\u001b[0m\u001b[0;34m\u001b[0m\u001b[0;34m\u001b[0m\u001b[0m\n\u001b[0m",
            "\u001b[0;31mTypeError\u001b[0m: 'str' object is not an iterator"
          ]
        }
      ]
    },
    {
      "cell_type": "code",
      "source": [
        "print(next(numeros)) # Não é um iterator"
      ],
      "metadata": {
        "colab": {
          "base_uri": "https://localhost:8080/",
          "height": 148
        },
        "id": "-3RzG9ZdH9dD",
        "outputId": "a4284ea2-fe17-42dc-b197-548234675c97"
      },
      "execution_count": 3,
      "outputs": [
        {
          "output_type": "error",
          "ename": "TypeError",
          "evalue": "'list' object is not an iterator",
          "traceback": [
            "\u001b[0;31m---------------------------------------------------------------------------\u001b[0m",
            "\u001b[0;31mTypeError\u001b[0m                                 Traceback (most recent call last)",
            "\u001b[0;32m<ipython-input-3-a2fa0816da28>\u001b[0m in \u001b[0;36m<cell line: 1>\u001b[0;34m()\u001b[0m\n\u001b[0;32m----> 1\u001b[0;31m \u001b[0mprint\u001b[0m\u001b[0;34m(\u001b[0m\u001b[0mnext\u001b[0m\u001b[0;34m(\u001b[0m\u001b[0mnumeros\u001b[0m\u001b[0;34m)\u001b[0m\u001b[0;34m)\u001b[0m \u001b[0;31m# Não é um iterator\u001b[0m\u001b[0;34m\u001b[0m\u001b[0;34m\u001b[0m\u001b[0m\n\u001b[0m",
            "\u001b[0;31mTypeError\u001b[0m: 'list' object is not an iterator"
          ]
        }
      ]
    },
    {
      "cell_type": "code",
      "source": [
        "it1 = iter(nome)\n",
        "it2 = iter(numeros)"
      ],
      "metadata": {
        "id": "HrXF7qAiIEsD"
      },
      "execution_count": 21,
      "outputs": []
    },
    {
      "cell_type": "code",
      "source": [
        "print(next(it1))\n",
        "print(next(it1))\n",
        "print(next(it1))\n",
        "print(next(it1))"
      ],
      "metadata": {
        "colab": {
          "base_uri": "https://localhost:8080/"
        },
        "id": "t2y_IIf5IJIj",
        "outputId": "43f8f249-3d2b-42b2-9c41-e6e06b76c894"
      },
      "execution_count": 14,
      "outputs": [
        {
          "output_type": "stream",
          "name": "stdout",
          "text": [
            "J\n",
            "a\n",
            "c\n",
            "k\n"
          ]
        }
      ]
    },
    {
      "cell_type": "code",
      "source": [
        "print(next(it2))\n",
        "print(next(it2))\n",
        "print(next(it2))\n",
        "print(next(it2))\n",
        "print(next(it2))"
      ],
      "metadata": {
        "colab": {
          "base_uri": "https://localhost:8080/"
        },
        "id": "ZJoGFFInIQPD",
        "outputId": "dd6d918a-ab41-4ad6-a1e5-56eb30321522"
      },
      "execution_count": 22,
      "outputs": [
        {
          "output_type": "stream",
          "name": "stdout",
          "text": [
            "1\n",
            "2\n",
            "3\n",
            "4\n",
            "5\n"
          ]
        }
      ]
    },
    {
      "cell_type": "code",
      "source": [
        "nome = 'Jackson'\n",
        "\n",
        "for letra in nome:\n",
        "  print(f'{letra}') # Aplica a função iter() em nome"
      ],
      "metadata": {
        "colab": {
          "base_uri": "https://localhost:8080/"
        },
        "id": "8DktF3kEJQlz",
        "outputId": "e23415b2-f4f0-45db-811c-a31bf4b29b6b"
      },
      "execution_count": 23,
      "outputs": [
        {
          "output_type": "stream",
          "name": "stdout",
          "text": [
            "J\n",
            "a\n",
            "c\n",
            "k\n",
            "s\n",
            "o\n",
            "n\n"
          ]
        }
      ]
    },
    {
      "cell_type": "markdown",
      "source": [
        "# **Criando a própria versão de Loop**"
      ],
      "metadata": {
        "id": "QRR4-g_GO2ly"
      }
    },
    {
      "cell_type": "code",
      "source": [
        "def meu_for(interavel):\n",
        "  it = iter(interavel)\n",
        "  while True:\n",
        "    try:\n",
        "      print(next(it))\n",
        "    except StopIteration:\n",
        "      break"
      ],
      "metadata": {
        "id": "vfVuMyd6O2FB"
      },
      "execution_count": null,
      "outputs": []
    },
    {
      "cell_type": "code",
      "source": [
        "meu_for('Jackon Guedes')"
      ],
      "metadata": {
        "colab": {
          "base_uri": "https://localhost:8080/"
        },
        "id": "9WVCL06PRDoJ",
        "outputId": "a43f24fe-f348-469f-f970-408aa8147ed3"
      },
      "execution_count": 35,
      "outputs": [
        {
          "output_type": "stream",
          "name": "stdout",
          "text": [
            "J\n",
            "a\n",
            "c\n",
            "k\n",
            "o\n",
            "n\n",
            " \n",
            "G\n",
            "u\n",
            "e\n",
            "d\n",
            "e\n",
            "s\n"
          ]
        }
      ]
    },
    {
      "cell_type": "code",
      "source": [
        "num = [1, 2, 3]\n",
        "meu_for(num)"
      ],
      "metadata": {
        "colab": {
          "base_uri": "https://localhost:8080/"
        },
        "id": "JuN0DMg3R9Gr",
        "outputId": "47cf2b90-24c0-4053-9980-93371b5bf55a"
      },
      "execution_count": 36,
      "outputs": [
        {
          "output_type": "stream",
          "name": "stdout",
          "text": [
            "1\n",
            "2\n",
            "3\n"
          ]
        }
      ]
    },
    {
      "cell_type": "markdown",
      "source": [
        "# **Escrevendo um Iterador customizado**   \n",
        "Criando um *range()*"
      ],
      "metadata": {
        "id": "KBqntw9oSiMy"
      }
    },
    {
      "cell_type": "code",
      "source": [
        "for num in range(11):\n",
        "  print(num)"
      ],
      "metadata": {
        "colab": {
          "base_uri": "https://localhost:8080/"
        },
        "id": "9k3LpsObSEp4",
        "outputId": "8f2cfa8b-28dc-44eb-9146-3ba0e7d56cf3"
      },
      "execution_count": 37,
      "outputs": [
        {
          "output_type": "stream",
          "name": "stdout",
          "text": [
            "0\n",
            "1\n",
            "2\n",
            "3\n",
            "4\n",
            "5\n",
            "6\n",
            "7\n",
            "8\n",
            "9\n",
            "10\n"
          ]
        }
      ]
    },
    {
      "cell_type": "code",
      "source": [
        "class Contador:\n",
        "  def __init__(self, menor, maior):\n",
        "    self.menor = menor\n",
        "    self.maior = maior\n",
        "\n",
        "  def __iter__(self):\n",
        "    return self\n",
        "\n",
        "  def __next__(self):\n",
        "    if self.menor < self.maior:\n",
        "      numero = self.menor\n",
        "      self.menor = self.menor + 1\n",
        "      return numero\n",
        "    raise StopIteration"
      ],
      "metadata": {
        "id": "MnaJZF8dS-mv"
      },
      "execution_count": 51,
      "outputs": []
    },
    {
      "cell_type": "code",
      "source": [
        "con = Contador(1, 5)\n",
        "print(con.menor)\n",
        "print(con.maior)"
      ],
      "metadata": {
        "colab": {
          "base_uri": "https://localhost:8080/"
        },
        "id": "2WHe2VRcVTNj",
        "outputId": "5f3b42e8-8a3d-4a5d-cede-8d75ceb32c10"
      },
      "execution_count": 52,
      "outputs": [
        {
          "output_type": "stream",
          "name": "stdout",
          "text": [
            "1\n",
            "5\n"
          ]
        }
      ]
    },
    {
      "cell_type": "code",
      "source": [
        "con = Contador(1, 5)\n",
        "it = iter(con)\n",
        "\n",
        "print(next(it))\n",
        "print(next(it))\n",
        "print(next(it))\n",
        "print(next(it))"
      ],
      "metadata": {
        "colab": {
          "base_uri": "https://localhost:8080/"
        },
        "id": "ynwEDjA4YqA_",
        "outputId": "1a7ab886-c0e1-460d-eb60-9390e9ae2c8f"
      },
      "execution_count": 57,
      "outputs": [
        {
          "output_type": "stream",
          "name": "stdout",
          "text": [
            "1\n",
            "2\n",
            "3\n",
            "4\n"
          ]
        }
      ]
    },
    {
      "cell_type": "code",
      "source": [
        "for n in Contador(1, 20):\n",
        "  print(n)"
      ],
      "metadata": {
        "colab": {
          "base_uri": "https://localhost:8080/"
        },
        "id": "lOqCje3GY45x",
        "outputId": "714d6dfa-68cd-4979-fdee-eb4723d7790a"
      },
      "execution_count": 58,
      "outputs": [
        {
          "output_type": "stream",
          "name": "stdout",
          "text": [
            "1\n",
            "2\n",
            "3\n",
            "4\n",
            "5\n",
            "6\n",
            "7\n",
            "8\n",
            "9\n",
            "10\n",
            "11\n",
            "12\n",
            "13\n",
            "14\n",
            "15\n",
            "16\n",
            "17\n",
            "18\n",
            "19\n"
          ]
        }
      ]
    }
  ]
}