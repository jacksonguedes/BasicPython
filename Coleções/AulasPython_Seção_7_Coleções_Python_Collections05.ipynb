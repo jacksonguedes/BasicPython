{
  "nbformat": 4,
  "nbformat_minor": 0,
  "metadata": {
    "colab": {
      "provenance": [],
      "authorship_tag": "ABX9TyO3MhgqBLumI9K1vlUJM3aQ",
      "include_colab_link": true
    },
    "kernelspec": {
      "name": "python3",
      "display_name": "Python 3"
    },
    "language_info": {
      "name": "python"
    }
  },
  "cells": [
    {
      "cell_type": "markdown",
      "metadata": {
        "id": "view-in-github",
        "colab_type": "text"
      },
      "source": [
        "<a href=\"https://colab.research.google.com/github/jacksonguedes/BasicPython/blob/main/AulasPython_Se%C3%A7%C3%A3o_7_Cole%C3%A7%C3%B5es_Python_Collections05.ipynb\" target=\"_parent\"><img src=\"https://colab.research.google.com/assets/colab-badge.svg\" alt=\"Open In Colab\"/></a>"
      ]
    },
    {
      "cell_type": "markdown",
      "source": [
        "# **Módulo Collection - Deque**  \n",
        "É uma lista de alta performance"
      ],
      "metadata": {
        "id": "UnAeYQnHdzg-"
      }
    },
    {
      "cell_type": "code",
      "execution_count": 9,
      "metadata": {
        "id": "eKampJH-dfQv"
      },
      "outputs": [],
      "source": [
        "from collections import deque"
      ]
    },
    {
      "cell_type": "code",
      "source": [
        "deq = deque('geek')\n",
        "print(deq)"
      ],
      "metadata": {
        "colab": {
          "base_uri": "https://localhost:8080/"
        },
        "id": "RaQYGHZ_eFIN",
        "outputId": "662856bc-59d2-4753-d334-3b079c17186e"
      },
      "execution_count": 10,
      "outputs": [
        {
          "output_type": "stream",
          "name": "stdout",
          "text": [
            "deque(['g', 'e', 'e', 'k'])\n"
          ]
        }
      ]
    },
    {
      "cell_type": "markdown",
      "source": [
        "Adicionando elementos no deque"
      ],
      "metadata": {
        "id": "427JszWleV1M"
      }
    },
    {
      "cell_type": "code",
      "source": [
        "deq.append('J')\n",
        "print(deq)"
      ],
      "metadata": {
        "colab": {
          "base_uri": "https://localhost:8080/"
        },
        "id": "3BRQTjFWeXim",
        "outputId": "877045df-d08f-461c-c064-e933a5163420"
      },
      "execution_count": 11,
      "outputs": [
        {
          "output_type": "stream",
          "name": "stdout",
          "text": [
            "deque(['g', 'e', 'e', 'k', 'J'])\n"
          ]
        }
      ]
    },
    {
      "cell_type": "code",
      "source": [
        "deq.appendleft('K')\n",
        "print(deq)"
      ],
      "metadata": {
        "colab": {
          "base_uri": "https://localhost:8080/"
        },
        "id": "AdxSYWW7ewgk",
        "outputId": "b806ba5f-ca6e-45f5-ef11-785c84b97fbe"
      },
      "execution_count": 12,
      "outputs": [
        {
          "output_type": "stream",
          "name": "stdout",
          "text": [
            "deque(['K', 'g', 'e', 'e', 'k', 'J'])\n"
          ]
        }
      ]
    },
    {
      "cell_type": "markdown",
      "source": [
        "Removendo elementos"
      ],
      "metadata": {
        "id": "nsijdLxDfBC6"
      }
    },
    {
      "cell_type": "code",
      "source": [
        "print(deq.pop()) # Remove e retorna o último elemento\n",
        "print(deq)"
      ],
      "metadata": {
        "colab": {
          "base_uri": "https://localhost:8080/"
        },
        "id": "K-Y5iL-rfDpy",
        "outputId": "4510d9fe-d1bf-44fb-8af5-9d0395f41ac2"
      },
      "execution_count": 13,
      "outputs": [
        {
          "output_type": "stream",
          "name": "stdout",
          "text": [
            "J\n",
            "deque(['K', 'g', 'e', 'e', 'k'])\n"
          ]
        }
      ]
    },
    {
      "cell_type": "code",
      "source": [
        "print(deq.popleft()) # Remove e retorna o primeiro elemento\n",
        "print(deq)"
      ],
      "metadata": {
        "colab": {
          "base_uri": "https://localhost:8080/"
        },
        "id": "mXNM6-_NfX0C",
        "outputId": "ef2fff77-2d9a-4037-cea6-eb41c72fff8b"
      },
      "execution_count": 14,
      "outputs": [
        {
          "output_type": "stream",
          "name": "stdout",
          "text": [
            "K\n",
            "deque(['g', 'e', 'e', 'k'])\n"
          ]
        }
      ]
    }
  ]
}
