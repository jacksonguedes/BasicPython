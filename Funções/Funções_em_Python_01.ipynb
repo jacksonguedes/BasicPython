{
  "nbformat": 4,
  "nbformat_minor": 0,
  "metadata": {
    "colab": {
      "provenance": [],
      "authorship_tag": "ABX9TyOHR1IA9FrUvgo+7womtt+Z",
      "include_colab_link": true
    },
    "kernelspec": {
      "name": "python3",
      "display_name": "Python 3"
    },
    "language_info": {
      "name": "python"
    }
  },
  "cells": [
    {
      "cell_type": "markdown",
      "metadata": {
        "id": "view-in-github",
        "colab_type": "text"
      },
      "source": [
        "<a href=\"https://colab.research.google.com/github/jacksonguedes/BasicPython/blob/main/Fun%C3%A7%C3%B5es_em_Python_01.ipynb\" target=\"_parent\"><img src=\"https://colab.research.google.com/assets/colab-badge.svg\" alt=\"Open In Colab\"/></a>"
      ]
    },
    {
      "cell_type": "markdown",
      "source": [
        "# **Definindo Funções**  \n",
        "Forma geral de definir uma função em Python:  \n",
        "\n",
        "def nome_da_funcao(parametros_de_entrada):  \n",
        " - bloco_da_função"
      ],
      "metadata": {
        "id": "5IJmWPjEMOgy"
      }
    },
    {
      "cell_type": "markdown",
      "source": [
        "Definindoa primeira função"
      ],
      "metadata": {
        "id": "jwPZaIRsPxQp"
      }
    },
    {
      "cell_type": "markdown",
      "source": [
        "Exemplo 1"
      ],
      "metadata": {
        "id": "glDdVyrLRFIw"
      }
    },
    {
      "cell_type": "code",
      "execution_count": 1,
      "metadata": {
        "id": "Ve-KRBdqMCDq"
      },
      "outputs": [],
      "source": [
        "# 1 - Podemos utilizar outras funções dentro da função\n",
        "# 2 - Neste caso, só executa uma função\n",
        "# 3 - Não recebe nenhum parâmetro de entrada\n",
        "# 4 - Não retorna nada\n",
        "\n",
        "def diz_oi():\n",
        "  print('Oi! ')"
      ]
    },
    {
      "cell_type": "markdown",
      "source": [
        "Utilizando a função"
      ],
      "metadata": {
        "id": "Rm6yX7zTQs5Y"
      }
    },
    {
      "cell_type": "code",
      "source": [
        "diz_oi() # Não esquecer os parênteses"
      ],
      "metadata": {
        "colab": {
          "base_uri": "https://localhost:8080/"
        },
        "id": "coNqwTgnQn7E",
        "outputId": "7c995167-eec3-495d-a2d2-e970c9d49236"
      },
      "execution_count": 2,
      "outputs": [
        {
          "output_type": "stream",
          "name": "stdout",
          "text": [
            "Oi! \n"
          ]
        }
      ]
    },
    {
      "cell_type": "markdown",
      "source": [
        "Exemplo 2"
      ],
      "metadata": {
        "id": "c6lQ0KBwRG-f"
      }
    },
    {
      "cell_type": "code",
      "source": [
        "def cantar_parabens():\n",
        "  print('Parabéns pra você')\n",
        "  print('Nesta data querida')\n",
        "  print('Muitas felicidades...')"
      ],
      "metadata": {
        "id": "c3J4l6fpQxwv"
      },
      "execution_count": 3,
      "outputs": []
    },
    {
      "cell_type": "code",
      "source": [
        "cantar_parabens()"
      ],
      "metadata": {
        "colab": {
          "base_uri": "https://localhost:8080/"
        },
        "id": "DSd5o7j6RcnY",
        "outputId": "a772bd81-fd1b-46ee-cdbc-6be71e2380d0"
      },
      "execution_count": 5,
      "outputs": [
        {
          "output_type": "stream",
          "name": "stdout",
          "text": [
            "Parabéns pra você\n",
            "Nesta data querida\n",
            "Muitas felicidades...\n"
          ]
        }
      ]
    },
    {
      "cell_type": "code",
      "source": [
        "for n in range(4):\n",
        "  cantar_parabens()\n",
        "  print('\\n')"
      ],
      "metadata": {
        "colab": {
          "base_uri": "https://localhost:8080/"
        },
        "id": "wIvAxKViRp4W",
        "outputId": "237ec2f1-ff5f-4d9e-bf19-77bc6f3375e9"
      },
      "execution_count": 7,
      "outputs": [
        {
          "output_type": "stream",
          "name": "stdout",
          "text": [
            "Parabéns pra você\n",
            "Nesta data querida\n",
            "Muitas felicidades...\n",
            "\n",
            "\n",
            "Parabéns pra você\n",
            "Nesta data querida\n",
            "Muitas felicidades...\n",
            "\n",
            "\n",
            "Parabéns pra você\n",
            "Nesta data querida\n",
            "Muitas felicidades...\n",
            "\n",
            "\n",
            "Parabéns pra você\n",
            "Nesta data querida\n",
            "Muitas felicidades...\n",
            "\n",
            "\n"
          ]
        }
      ]
    },
    {
      "cell_type": "markdown",
      "source": [
        "Pode-se criar variáveis do tipo de uma função e executar esta função através da variável"
      ],
      "metadata": {
        "id": "EoqNCTBKSJrg"
      }
    },
    {
      "cell_type": "code",
      "source": [
        "canta = cantar_parabens\n",
        "canta()"
      ],
      "metadata": {
        "colab": {
          "base_uri": "https://localhost:8080/"
        },
        "id": "ZA2kp3JnSTew",
        "outputId": "b0a55298-4e90-45c3-e389-5bcd1f373744"
      },
      "execution_count": 8,
      "outputs": [
        {
          "output_type": "stream",
          "name": "stdout",
          "text": [
            "Parabéns pra você\n",
            "Nesta data querida\n",
            "Muitas felicidades...\n"
          ]
        }
      ]
    }
  ]
}
