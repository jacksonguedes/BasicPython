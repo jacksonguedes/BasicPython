{
  "nbformat": 4,
  "nbformat_minor": 0,
  "metadata": {
    "colab": {
      "provenance": [],
      "authorship_tag": "ABX9TyNeZyqt9nq5iZi+ME8DJOoV",
      "include_colab_link": true
    },
    "kernelspec": {
      "name": "python3",
      "display_name": "Python 3"
    },
    "language_info": {
      "name": "python"
    }
  },
  "cells": [
    {
      "cell_type": "markdown",
      "metadata": {
        "id": "view-in-github",
        "colab_type": "text"
      },
      "source": [
        "<a href=\"https://colab.research.google.com/github/jacksonguedes/BasicPython/blob/main/O_que_%C3%A9_Orienta%C3%A7%C3%A3o_a_Objetos.ipynb\" target=\"_parent\"><img src=\"https://colab.research.google.com/assets/colab-badge.svg\" alt=\"Open In Colab\"/></a>"
      ]
    },
    {
      "cell_type": "markdown",
      "source": [
        "# Programação Orientada a Objetos - POO  \n",
        " - POO é um paradigma de programação que utiliza mapeamento de objetos do mmundo real par amodelos computacionais.  \n",
        " - Paradigma de programação é a forma/metodologia utilizada para pensar/desenvolver sistemas.  \n",
        "\n",
        "# Principais elementos da Orientação a Objetos  \n",
        " - Classe -> Modelo do objeto do mundo real sendo representado computacionalmente.  \n",
        " - Atributo -> Características do objeto.  \n",
        " - Método -> Comportamento do objeto (funções).  \n",
        " - Construtor -> Método especial utilizado para criar os objetos  \n",
        " - Objeto -> Instância da classe."
      ],
      "metadata": {
        "id": "9py-uD_0gOgx"
      }
    },
    {
      "cell_type": "code",
      "execution_count": 1,
      "metadata": {
        "colab": {
          "base_uri": "https://localhost:8080/"
        },
        "id": "bZI73L7YOJYj",
        "outputId": "e03b1d94-cb6b-4d1b-d52a-5ebd2a4f6b1b"
      },
      "outputs": [
        {
          "output_type": "stream",
          "name": "stdout",
          "text": [
            "10\n",
            "<class 'int'>\n"
          ]
        }
      ],
      "source": [
        "numero = 10\n",
        "print(numero)\n",
        "print(type(numero))"
      ]
    },
    {
      "cell_type": "code",
      "source": [
        "nome = 'Jackson'\n",
        "print(nome)\n",
        "print(type(nome))"
      ],
      "metadata": {
        "colab": {
          "base_uri": "https://localhost:8080/"
        },
        "id": "fhnQ-p3Rh-H2",
        "outputId": "2b678eaf-f644-489e-9672-f8d251b0e191"
      },
      "execution_count": 2,
      "outputs": [
        {
          "output_type": "stream",
          "name": "stdout",
          "text": [
            "Jackson\n",
            "<class 'str'>\n"
          ]
        }
      ]
    },
    {
      "cell_type": "code",
      "source": [
        "class Produto:\n",
        "  pass\n",
        "\n",
        "ps4 = Produto()\n",
        "print(ps4)\n",
        "print(type(ps4))"
      ],
      "metadata": {
        "colab": {
          "base_uri": "https://localhost:8080/"
        },
        "id": "QXZrswV-iEf1",
        "outputId": "11142d31-f7b3-4d9f-f90f-c10c2d7f3d10"
      },
      "execution_count": 3,
      "outputs": [
        {
          "output_type": "stream",
          "name": "stdout",
          "text": [
            "<__main__.Produto object at 0x7c86afd96fe0>\n",
            "<class '__main__.Produto'>\n"
          ]
        }
      ]
    }
  ]
}
