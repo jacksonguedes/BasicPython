{
  "nbformat": 4,
  "nbformat_minor": 0,
  "metadata": {
    "colab": {
      "provenance": [],
      "authorship_tag": "ABX9TyMRvQPVIiWzyJyJCRBEe9Bo",
      "include_colab_link": true
    },
    "kernelspec": {
      "name": "python3",
      "display_name": "Python 3"
    },
    "language_info": {
      "name": "python"
    }
  },
  "cells": [
    {
      "cell_type": "markdown",
      "metadata": {
        "id": "view-in-github",
        "colab_type": "text"
      },
      "source": [
        "<a href=\"https://colab.research.google.com/github/jacksonguedes/BasicPython/blob/main/AulasPython_Se%C3%A7%C3%A3o_6_Estruturas_de_Repeti%C3%A7%C3%A3o.ipynb\" target=\"_parent\"><img src=\"https://colab.research.google.com/assets/colab-badge.svg\" alt=\"Open In Colab\"/></a>"
      ]
    },
    {
      "cell_type": "code",
      "source": [
        "import numpy as np"
      ],
      "metadata": {
        "id": "mA6smAhVX7dy"
      },
      "execution_count": null,
      "outputs": []
    },
    {
      "cell_type": "markdown",
      "source": [
        "# **Estrutura de repetição**  \n",
        "## For  \n",
        " **for item in interavel:  \n",
        "  // execução de loop**\n",
        "\n",
        "Utilizamos loops para iterar sobre sequências ou sobre valores iteráveis  \n",
        "Exemplos de iteráveis:\n",
        "- Strings\n",
        "- Listas"
      ],
      "metadata": {
        "id": "95DKH5d8iTPI"
      }
    },
    {
      "cell_type": "code",
      "execution_count": null,
      "metadata": {
        "id": "4_KcMRL6iEZs"
      },
      "outputs": [],
      "source": [
        "nome = 'Jackson Guedes'\n",
        "lista = [1, 7, 9, 13, 17]\n",
        "numeros = range(1,10)"
      ]
    },
    {
      "cell_type": "markdown",
      "source": [
        "Exemplo 1 -  Iterando sobre uma String"
      ],
      "metadata": {
        "id": "p__OOw_dkNNv"
      }
    },
    {
      "cell_type": "code",
      "source": [
        "for letra in nome:\n",
        "  print(letra)"
      ],
      "metadata": {
        "colab": {
          "base_uri": "https://localhost:8080/"
        },
        "id": "B7uXhvi4kOp-",
        "outputId": "51c3f6f8-8743-49da-94c5-426758995771"
      },
      "execution_count": null,
      "outputs": [
        {
          "output_type": "stream",
          "name": "stdout",
          "text": [
            "J\n",
            "a\n",
            "c\n",
            "k\n",
            "s\n",
            "o\n",
            "n\n",
            " \n",
            "G\n",
            "u\n",
            "e\n",
            "d\n",
            "e\n",
            "s\n"
          ]
        }
      ]
    },
    {
      "cell_type": "markdown",
      "source": [
        "Exemplo 2 -  Iterando sobre uma lista"
      ],
      "metadata": {
        "id": "OSd_fxNik5Cv"
      }
    },
    {
      "cell_type": "code",
      "source": [
        "for numero in lista:\n",
        "  print(numero)"
      ],
      "metadata": {
        "colab": {
          "base_uri": "https://localhost:8080/"
        },
        "id": "36sJ3001k89j",
        "outputId": "c78d7944-19c3-4fa6-b27c-8a8c4007835b"
      },
      "execution_count": null,
      "outputs": [
        {
          "output_type": "stream",
          "name": "stdout",
          "text": [
            "1\n",
            "7\n",
            "9\n",
            "13\n",
            "17\n"
          ]
        }
      ]
    },
    {
      "cell_type": "markdown",
      "source": [
        "Exemplo 3 - Iterando sobre um range"
      ],
      "metadata": {
        "id": "fjeZJha_lNav"
      }
    },
    {
      "cell_type": "code",
      "source": [
        "for num in numeros:\n",
        "  print(num)"
      ],
      "metadata": {
        "colab": {
          "base_uri": "https://localhost:8080/"
        },
        "id": "J6R--IzSlQJm",
        "outputId": "bf80b183-535c-45e5-9ec0-978315bad35d"
      },
      "execution_count": null,
      "outputs": [
        {
          "output_type": "stream",
          "name": "stdout",
          "text": [
            "1\n",
            "2\n",
            "3\n",
            "4\n",
            "5\n",
            "6\n",
            "7\n",
            "8\n",
            "9\n"
          ]
        }
      ]
    },
    {
      "cell_type": "markdown",
      "source": [
        "Utilizando o Enumerate"
      ],
      "metadata": {
        "id": "8avim3vImAgm"
      }
    },
    {
      "cell_type": "code",
      "source": [
        "for indice, letra in enumerate(nome):\n",
        "  print(nome[indice]) # print(letra)"
      ],
      "metadata": {
        "colab": {
          "base_uri": "https://localhost:8080/"
        },
        "id": "4ptjJIWGmgsI",
        "outputId": "94dc007b-d21b-40fc-f3a6-12729deaf690"
      },
      "execution_count": null,
      "outputs": [
        {
          "output_type": "stream",
          "name": "stdout",
          "text": [
            "J\n",
            "a\n",
            "c\n",
            "k\n",
            "s\n",
            "o\n",
            "n\n",
            " \n",
            "G\n",
            "u\n",
            "e\n",
            "d\n",
            "e\n",
            "s\n"
          ]
        }
      ]
    },
    {
      "cell_type": "markdown",
      "source": [
        "Imprimindo as letras na horizontal"
      ],
      "metadata": {
        "id": "JqKp7xs1vs8b"
      }
    },
    {
      "cell_type": "code",
      "source": [
        "for letra_horizontal in nome:\n",
        "  print(letra_horizontal, end = '')"
      ],
      "metadata": {
        "colab": {
          "base_uri": "https://localhost:8080/"
        },
        "id": "rnfYwA2yvyTy",
        "outputId": "0d2414de-5501-4b53-86ed-288d730e17bf"
      },
      "execution_count": null,
      "outputs": [
        {
          "output_type": "stream",
          "name": "stdout",
          "text": [
            "Jackson Guedes"
          ]
        }
      ]
    },
    {
      "cell_type": "code",
      "source": [
        "for valor in enumerate(nome):\n",
        "  print(valor)"
      ],
      "metadata": {
        "colab": {
          "base_uri": "https://localhost:8080/"
        },
        "id": "UO8q-Hs1nYS-",
        "outputId": "fd78d7d0-e622-4079-cc2d-b2918c5b49a1"
      },
      "execution_count": null,
      "outputs": [
        {
          "output_type": "stream",
          "name": "stdout",
          "text": [
            "(0, 'J')\n",
            "(1, 'a')\n",
            "(2, 'c')\n",
            "(3, 'k')\n",
            "(4, 's')\n",
            "(5, 'o')\n",
            "(6, 'n')\n",
            "(7, ' ')\n",
            "(8, 'G')\n",
            "(9, 'u')\n",
            "(10, 'e')\n",
            "(11, 'd')\n",
            "(12, 'e')\n",
            "(13, 's')\n"
          ]
        }
      ]
    },
    {
      "cell_type": "markdown",
      "source": [
        "Exemplo 4"
      ],
      "metadata": {
        "id": "6157BBqVtS-U"
      }
    },
    {
      "cell_type": "code",
      "source": [
        "qtd = int(input('Quantos números você quer imprimir na tela?: '))\n",
        "for n in range(1, qtd + 1):\n",
        "  print(f'Imprimindo {n}')"
      ],
      "metadata": {
        "colab": {
          "base_uri": "https://localhost:8080/"
        },
        "id": "XWQdXXdNtUVH",
        "outputId": "5d47d9d0-db57-4783-e03b-f533064c43f8"
      },
      "execution_count": null,
      "outputs": [
        {
          "output_type": "stream",
          "name": "stdout",
          "text": [
            "Quantos números você quer imprimir na tela?: 7\n",
            "Imprimindo 1\n",
            "Imprimindo 2\n",
            "Imprimindo 3\n",
            "Imprimindo 4\n",
            "Imprimindo 5\n",
            "Imprimindo 6\n",
            "Imprimindo 7\n"
          ]
        }
      ]
    },
    {
      "cell_type": "code",
      "source": [
        "qtd1 = int(input('Informe quantas vezes o for deve rodar: '))\n",
        "soma = 0\n",
        "\n",
        "for n in range(1, qtd1 + 1):\n",
        "  num1 = int(input(f'Informe o {n}/{qtd1}: '))\n",
        "  soma = soma + num1\n",
        "print(f'A soma dos valores é: {soma}')"
      ],
      "metadata": {
        "colab": {
          "base_uri": "https://localhost:8080/"
        },
        "id": "h1GZdgjOuKvl",
        "outputId": "2edde3c0-94dc-4ea6-eead-3432c0fa75a0"
      },
      "execution_count": null,
      "outputs": [
        {
          "output_type": "stream",
          "name": "stdout",
          "text": [
            "Informe quantas vezes o for deve rodar: 3\n",
            "Informe o 1/3: 1\n",
            "Informe o 2/3: 2\n",
            "Informe o 3/3: 5\n",
            "A soma dos valores é: 8\n"
          ]
        }
      ]
    },
    {
      "cell_type": "markdown",
      "source": [
        "Imprimindo Emoticon"
      ],
      "metadata": {
        "id": "Dae-OkIwxn37"
      }
    },
    {
      "cell_type": "code",
      "source": [
        "for _ in range(3):\n",
        "  for num in range(1, 10):\n",
        "    print('\\U0001F92F' * num)"
      ],
      "metadata": {
        "colab": {
          "base_uri": "https://localhost:8080/"
        },
        "id": "EdYJJItexqkH",
        "outputId": "980230fe-d741-4ab2-e896-eb5ba23fee2d"
      },
      "execution_count": null,
      "outputs": [
        {
          "output_type": "stream",
          "name": "stdout",
          "text": [
            "🤯\n",
            "🤯🤯\n",
            "🤯🤯🤯\n",
            "🤯🤯🤯🤯\n",
            "🤯🤯🤯🤯🤯\n",
            "🤯🤯🤯🤯🤯🤯\n",
            "🤯🤯🤯🤯🤯🤯🤯\n",
            "🤯🤯🤯🤯🤯🤯🤯🤯\n",
            "🤯🤯🤯🤯🤯🤯🤯🤯🤯\n",
            "🤯\n",
            "🤯🤯\n",
            "🤯🤯🤯\n",
            "🤯🤯🤯🤯\n",
            "🤯🤯🤯🤯🤯\n",
            "🤯🤯🤯🤯🤯🤯\n",
            "🤯🤯🤯🤯🤯🤯🤯\n",
            "🤯🤯🤯🤯🤯🤯🤯🤯\n",
            "🤯🤯🤯🤯🤯🤯🤯🤯🤯\n",
            "🤯\n",
            "🤯🤯\n",
            "🤯🤯🤯\n",
            "🤯🤯🤯🤯\n",
            "🤯🤯🤯🤯🤯\n",
            "🤯🤯🤯🤯🤯🤯\n",
            "🤯🤯🤯🤯🤯🤯🤯\n",
            "🤯🤯🤯🤯🤯🤯🤯🤯\n",
            "🤯🤯🤯🤯🤯🤯🤯🤯🤯\n"
          ]
        }
      ]
    },
    {
      "cell_type": "markdown",
      "source": [
        "# Entendendo Ranges"
      ],
      "metadata": {
        "id": "Fpqyi-AUzFwL"
      }
    },
    {
      "cell_type": "markdown",
      "source": [
        "Exemplo 1"
      ],
      "metadata": {
        "id": "yYVywmjJRHSf"
      }
    },
    {
      "cell_type": "code",
      "source": [
        "for a in range(10):\n",
        "  print(a, end = ' ')"
      ],
      "metadata": {
        "id": "6rnIk-RSzQEk",
        "colab": {
          "base_uri": "https://localhost:8080/"
        },
        "outputId": "1f290e89-345c-46ca-e1bc-1b5838fb309e"
      },
      "execution_count": null,
      "outputs": [
        {
          "output_type": "stream",
          "name": "stdout",
          "text": [
            "0 1 2 3 4 5 6 7 8 9 "
          ]
        }
      ]
    },
    {
      "cell_type": "markdown",
      "source": [
        "Exemplo 2"
      ],
      "metadata": {
        "id": "kccit4AkRKEb"
      }
    },
    {
      "cell_type": "code",
      "source": [
        "for b in range(3, 10):\n",
        "  print(b, end = ' ')"
      ],
      "metadata": {
        "colab": {
          "base_uri": "https://localhost:8080/"
        },
        "id": "6gC6EkN9RRme",
        "outputId": "e514da17-62ed-4efa-8ac5-25a218713f3e"
      },
      "execution_count": null,
      "outputs": [
        {
          "output_type": "stream",
          "name": "stdout",
          "text": [
            "3 4 5 6 7 8 9 "
          ]
        }
      ]
    },
    {
      "cell_type": "markdown",
      "source": [
        "Exemplo 3 - com passo"
      ],
      "metadata": {
        "id": "9IkYAKhaRqQz"
      }
    },
    {
      "cell_type": "code",
      "source": [
        "for c in range(0, 10, 2):\n",
        "  print(c, end = ' ')"
      ],
      "metadata": {
        "colab": {
          "base_uri": "https://localhost:8080/"
        },
        "id": "fD25mizKRtUt",
        "outputId": "bdb66fb8-83d5-4b34-c90d-d90e54298bbe"
      },
      "execution_count": null,
      "outputs": [
        {
          "output_type": "stream",
          "name": "stdout",
          "text": [
            "0 2 4 6 8 "
          ]
        }
      ]
    },
    {
      "cell_type": "markdown",
      "source": [
        "Exemplo 4 - passo negativo"
      ],
      "metadata": {
        "id": "qYIHOxqxR9cC"
      }
    },
    {
      "cell_type": "code",
      "source": [
        "for d in range(10, 0, -1):\n",
        "  print(d, end = '')"
      ],
      "metadata": {
        "colab": {
          "base_uri": "https://localhost:8080/"
        },
        "id": "Uz2EzKF2SDqw",
        "outputId": "84ea011c-98e1-4edc-e8d5-4d54ff160847"
      },
      "execution_count": null,
      "outputs": [
        {
          "output_type": "stream",
          "name": "stdout",
          "text": [
            "10987654321"
          ]
        }
      ]
    },
    {
      "cell_type": "markdown",
      "source": [
        "Utilizando uma lista"
      ],
      "metadata": {
        "id": "FUiAemfHSgxU"
      }
    },
    {
      "cell_type": "code",
      "source": [
        "lista = list(range(10, 0, -1)) # Precisa  converter em uma lista\n",
        "lista"
      ],
      "metadata": {
        "colab": {
          "base_uri": "https://localhost:8080/"
        },
        "id": "eVwmCpTlSi5K",
        "outputId": "536efa13-dc43-4d23-a227-066a8709d4f1"
      },
      "execution_count": null,
      "outputs": [
        {
          "output_type": "execute_result",
          "data": {
            "text/plain": [
              "[10, 9, 8, 7, 6, 5, 4, 3, 2, 1]"
            ]
          },
          "metadata": {},
          "execution_count": 12
        }
      ]
    },
    {
      "cell_type": "markdown",
      "source": [
        "## While"
      ],
      "metadata": {
        "id": "bH7PvjwdS1Od"
      }
    },
    {
      "cell_type": "markdown",
      "source": [
        "Exemplo 1"
      ],
      "metadata": {
        "id": "d2iXMO3QUX1e"
      }
    },
    {
      "cell_type": "code",
      "source": [
        "numero = 1\n",
        "\n",
        "while numero < 10:\n",
        "  print(numero, end=' ')\n",
        "  numero += 1"
      ],
      "metadata": {
        "colab": {
          "base_uri": "https://localhost:8080/"
        },
        "id": "QWQdWSTIS-pt",
        "outputId": "4dde681f-b80b-4a44-a7dd-cf7664a113c4"
      },
      "execution_count": null,
      "outputs": [
        {
          "output_type": "stream",
          "name": "stdout",
          "text": [
            "1 2 3 4 5 6 7 8 9 "
          ]
        }
      ]
    },
    {
      "cell_type": "markdown",
      "source": [
        "Exemplo 2"
      ],
      "metadata": {
        "id": "rqKuXNYaUZZX"
      }
    },
    {
      "cell_type": "code",
      "source": [
        "resposta = ''\n",
        "\n",
        "while resposta != 'ok':\n",
        "  resposta = input('Digite uma palavra para sair do Loop: ')"
      ],
      "metadata": {
        "colab": {
          "base_uri": "https://localhost:8080/"
        },
        "id": "LXeI7lWCUac4",
        "outputId": "53318216-c28d-44bd-b61d-83d27fedf558"
      },
      "execution_count": null,
      "outputs": [
        {
          "name": "stdout",
          "output_type": "stream",
          "text": [
            "Digite uma palavra para sair do Loop: Jackson\n",
            "Digite uma palavra para sair do Loop: Feijão\n",
            "Digite uma palavra para sair do Loop: Eng. Elétrica\n",
            "Digite uma palavra para sair do Loop: ok\n"
          ]
        }
      ]
    },
    {
      "cell_type": "code",
      "source": [
        "qtd = 1993\n",
        "soma1 = 0\n",
        "soma2 = 0\n",
        "\n",
        "for numero in range(1, qtd + 1):\n",
        "  if (round(float(numero / 7), 2) == 3.14):\n",
        "      print(f'Número especial: {numero}')\n",
        "      soma2 += 1\n",
        "  elif (numero % 2 == 0):\n",
        "    soma1 += 1\n",
        "print(f'Total de números especiais: {soma2}')\n",
        "print(f'Total de números pares: {soma1}')\n",
        "print(f'Total de números ímpares: {numero - soma1}')"
      ],
      "metadata": {
        "colab": {
          "base_uri": "https://localhost:8080/"
        },
        "id": "0Nrpzdw6WwOl",
        "outputId": "b9c96ad6-d761-4b05-8a3d-4c36b3418387"
      },
      "execution_count": null,
      "outputs": [
        {
          "output_type": "stream",
          "name": "stdout",
          "text": [
            "Número especial: 22\n",
            "Total de números especiais: 1\n",
            "Total de números pares: 995\n",
            "Total de números ímpares: 998\n"
          ]
        }
      ]
    },
    {
      "cell_type": "markdown",
      "source": [
        "## **Exercícios Python**"
      ],
      "metadata": {
        "id": "9_pcbDnDdusD"
      }
    },
    {
      "cell_type": "markdown",
      "source": [
        "01)"
      ],
      "metadata": {
        "id": "jQQS_kl3f-sn"
      }
    },
    {
      "cell_type": "code",
      "source": [
        "for num in range(1, 16):\n",
        "    if (num % 3 == 0):\n",
        "       print(num, end = ' ')"
      ],
      "metadata": {
        "colab": {
          "base_uri": "https://localhost:8080/"
        },
        "id": "N4iQYKxlf_6S",
        "outputId": "5b62bfc0-89ae-4360-84e3-4ad9c7a5faed"
      },
      "execution_count": null,
      "outputs": [
        {
          "output_type": "stream",
          "name": "stdout",
          "text": [
            "3 6 9 12 15 "
          ]
        }
      ]
    },
    {
      "cell_type": "markdown",
      "source": [
        "02)"
      ],
      "metadata": {
        "id": "7qIDt7GSiRdX"
      }
    },
    {
      "cell_type": "code",
      "source": [
        "for num in range(1, 4):\n",
        "  soma = 0\n",
        "  print('\\n')\n",
        "  while soma < 100:\n",
        "    soma += 1\n",
        "    print(soma, end = ' ')\n"
      ],
      "metadata": {
        "colab": {
          "base_uri": "https://localhost:8080/"
        },
        "id": "Sroo7XXyiSr-",
        "outputId": "2fbd51fc-51b2-44b6-cec5-9595e0e57ce6"
      },
      "execution_count": null,
      "outputs": [
        {
          "output_type": "stream",
          "name": "stdout",
          "text": [
            "\n",
            "\n",
            "1 2 3 4 5 6 7 8 9 10 11 12 13 14 15 16 17 18 19 20 21 22 23 24 25 26 27 28 29 30 31 32 33 34 35 36 37 38 39 40 41 42 43 44 45 46 47 48 49 50 51 52 53 54 55 56 57 58 59 60 61 62 63 64 65 66 67 68 69 70 71 72 73 74 75 76 77 78 79 80 81 82 83 84 85 86 87 88 89 90 91 92 93 94 95 96 97 98 99 100 \n",
            "\n",
            "1 2 3 4 5 6 7 8 9 10 11 12 13 14 15 16 17 18 19 20 21 22 23 24 25 26 27 28 29 30 31 32 33 34 35 36 37 38 39 40 41 42 43 44 45 46 47 48 49 50 51 52 53 54 55 56 57 58 59 60 61 62 63 64 65 66 67 68 69 70 71 72 73 74 75 76 77 78 79 80 81 82 83 84 85 86 87 88 89 90 91 92 93 94 95 96 97 98 99 100 \n",
            "\n",
            "1 2 3 4 5 6 7 8 9 10 11 12 13 14 15 16 17 18 19 20 21 22 23 24 25 26 27 28 29 30 31 32 33 34 35 36 37 38 39 40 41 42 43 44 45 46 47 48 49 50 51 52 53 54 55 56 57 58 59 60 61 62 63 64 65 66 67 68 69 70 71 72 73 74 75 76 77 78 79 80 81 82 83 84 85 86 87 88 89 90 91 92 93 94 95 96 97 98 99 100 "
          ]
        }
      ]
    },
    {
      "cell_type": "markdown",
      "source": [
        "03)"
      ],
      "metadata": {
        "id": "poolPBFDjy6I"
      }
    },
    {
      "cell_type": "code",
      "source": [
        "contagem = 10\n",
        "while contagem >= 0:\n",
        "  print(contagem, end = ' ')\n",
        "  contagem -= 1\n",
        "print('\\nFIM!')"
      ],
      "metadata": {
        "colab": {
          "base_uri": "https://localhost:8080/"
        },
        "id": "NYrNY3x6j0N-",
        "outputId": "53a728e8-416c-42e1-b225-1d5ddb18bcbe"
      },
      "execution_count": null,
      "outputs": [
        {
          "output_type": "stream",
          "name": "stdout",
          "text": [
            "10 9 8 7 6 5 4 3 2 1 0 \n",
            "FIM!\n"
          ]
        }
      ]
    },
    {
      "cell_type": "markdown",
      "source": [
        "04)"
      ],
      "metadata": {
        "id": "qBBd1s95kg_l"
      }
    },
    {
      "cell_type": "code",
      "source": [
        "\n",
        "for i in range(0, 100100, 1000):\n",
        "  print(i)"
      ],
      "metadata": {
        "id": "V6dnrp2ckiPO"
      },
      "execution_count": null,
      "outputs": []
    },
    {
      "cell_type": "markdown",
      "source": [
        "05)"
      ],
      "metadata": {
        "id": "Umn8D8rOlJYV"
      }
    },
    {
      "cell_type": "code",
      "source": [
        "soma = 0\n",
        "\n",
        "for n in range(1, 11):\n",
        "  numeros = int(input(f'Digite um valor {n}/10: '))\n",
        "  soma = soma + numeros\n",
        "\n",
        "print(f'Soma total: {soma}')"
      ],
      "metadata": {
        "colab": {
          "base_uri": "https://localhost:8080/"
        },
        "id": "SO1TiYjAlK0-",
        "outputId": "d55c8ffc-40a1-4c61-ab3c-4d89516e6402"
      },
      "execution_count": null,
      "outputs": [
        {
          "output_type": "stream",
          "name": "stdout",
          "text": [
            "Digite um valor 1/10: 5\n",
            "Digite um valor 2/10: 5\n",
            "Digite um valor 3/10: 20\n",
            "Digite um valor 4/10: 30\n",
            "Digite um valor 5/10: 10\n",
            "Digite um valor 6/10: 6\n",
            "Digite um valor 7/10: 4\n",
            "Digite um valor 8/10: 10\n",
            "Digite um valor 9/10: 10\n",
            "Digite um valor 10/10: 10\n",
            "Soma total: 110\n"
          ]
        }
      ]
    },
    {
      "cell_type": "markdown",
      "source": [
        "06)"
      ],
      "metadata": {
        "id": "psHyFaUlngaF"
      }
    },
    {
      "cell_type": "code",
      "source": [
        "soma = 0\n",
        "qtd = 10\n",
        "for i in range(1, 11):\n",
        "  num = int(input('Digite uma nota: '))\n",
        "  soma = soma + num\n",
        "print(f'A média é: {soma/qtd}')"
      ],
      "metadata": {
        "colab": {
          "base_uri": "https://localhost:8080/"
        },
        "id": "-KELmWd5niRl",
        "outputId": "69b67ff7-86e4-4e7c-98ab-e125d1977106"
      },
      "execution_count": null,
      "outputs": [
        {
          "output_type": "stream",
          "name": "stdout",
          "text": [
            "Digite uma nota: 5\n",
            "Digite uma nota: 2\n",
            "Digite uma nota: 4\n",
            "Digite uma nota: 6\n",
            "Digite uma nota: 8\n",
            "Digite uma nota: 1\n",
            "Digite uma nota: 5\n",
            "Digite uma nota: 9\n",
            "Digite uma nota: 9\n",
            "Digite uma nota: 9\n",
            "A média é: 5.8\n"
          ]
        }
      ]
    },
    {
      "cell_type": "markdown",
      "source": [
        "07)"
      ],
      "metadata": {
        "id": "eYxWgqP5oxZv"
      }
    },
    {
      "cell_type": "code",
      "source": [
        "for i in range(1, 11):\n",
        "  num = int(input('Digite um valor: '))\n",
        "  if num > 0:\n",
        "    print(f'\\tValor {num} válido ')"
      ],
      "metadata": {
        "colab": {
          "base_uri": "https://localhost:8080/"
        },
        "id": "AdBSLdE_ozX-",
        "outputId": "7843a53b-174b-4069-8794-cd315a1fab14"
      },
      "execution_count": null,
      "outputs": [
        {
          "name": "stdout",
          "output_type": "stream",
          "text": [
            "Digite um valor: 2\n",
            "\tValor 2 válido \n",
            "Digite um valor: 3\n",
            "\tValor 3 válido \n",
            "Digite um valor: 5\n",
            "\tValor 5 válido \n",
            "Digite um valor: -8\n",
            "Digite um valor: -8\n",
            "Digite um valor: -4\n",
            "Digite um valor: -9\n",
            "Digite um valor: -1\n",
            "Digite um valor: 9\n",
            "\tValor 9 válido \n",
            "Digite um valor: -4\n"
          ]
        }
      ]
    },
    {
      "cell_type": "markdown",
      "source": [
        "08)"
      ],
      "metadata": {
        "id": "5t1NSyj_qF0w"
      }
    },
    {
      "cell_type": "code",
      "source": [
        "for i in range(1, 4):\n",
        "  num = int(input('Digite um valor: '))\n",
        "  if num < num:\n"
      ],
      "metadata": {
        "id": "5Q0bkP91qHQ9"
      },
      "execution_count": null,
      "outputs": []
    }
  ]
}