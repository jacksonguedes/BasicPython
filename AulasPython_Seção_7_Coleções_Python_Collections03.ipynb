{
  "nbformat": 4,
  "nbformat_minor": 0,
  "metadata": {
    "colab": {
      "provenance": [],
      "authorship_tag": "ABX9TyOxdVBIXI+KZdj3puv1MJf0",
      "include_colab_link": true
    },
    "kernelspec": {
      "name": "python3",
      "display_name": "Python 3"
    },
    "language_info": {
      "name": "python"
    }
  },
  "cells": [
    {
      "cell_type": "markdown",
      "metadata": {
        "id": "view-in-github",
        "colab_type": "text"
      },
      "source": [
        "<a href=\"https://colab.research.google.com/github/jacksonguedes/BasicPython/blob/main/AulasPython_Se%C3%A7%C3%A3o_7_Cole%C3%A7%C3%B5es_Python_Collections03.ipynb\" target=\"_parent\"><img src=\"https://colab.research.google.com/assets/colab-badge.svg\" alt=\"Open In Colab\"/></a>"
      ]
    },
    {
      "cell_type": "markdown",
      "source": [
        "# **Módulo Collections: Ordered Dict**"
      ],
      "metadata": {
        "id": "Invlb5aG2Fr1"
      }
    },
    {
      "cell_type": "code",
      "execution_count": 1,
      "metadata": {
        "id": "V_h6d61C1fMw"
      },
      "outputs": [],
      "source": [
        "# Em um dicionário, a ordem de inserção dos elementos não é garantida.\n",
        "dicionario = {'a': 1, 'b': 2, 'c': 3, 'd': 4, 'e':5}"
      ]
    },
    {
      "cell_type": "code",
      "source": [
        "for chave, valor in dicionario.items():\n",
        "  print(f'chave = {chave} : valor = {valor}')"
      ],
      "metadata": {
        "colab": {
          "base_uri": "https://localhost:8080/"
        },
        "id": "X9nlbVD3VQrF",
        "outputId": "2cbe08f2-1951-4ce2-80e1-43f62c1e9dd8"
      },
      "execution_count": 2,
      "outputs": [
        {
          "output_type": "stream",
          "name": "stdout",
          "text": [
            "chave = a : valor = 1\n",
            "chave = b : valor = 2\n",
            "chave = c : valor = 3\n",
            "chave = d : valor = 4\n",
            "chave = e : valor = 5\n"
          ]
        }
      ]
    },
    {
      "cell_type": "markdown",
      "source": [
        "OrderedDict -> É um dicionário que garante a ordem de inserção dos elementos."
      ],
      "metadata": {
        "id": "QvDzy7hbWUMO"
      }
    },
    {
      "cell_type": "code",
      "source": [
        "from collections import OrderedDict"
      ],
      "metadata": {
        "id": "nNh59XGhV3Q0"
      },
      "execution_count": 3,
      "outputs": []
    },
    {
      "cell_type": "code",
      "source": [
        "dicionario = OrderedDict({'a': 1, 'b': 2, 'c': 3, 'd': 4, 'e':5})"
      ],
      "metadata": {
        "id": "i1-HgAjbV8QX"
      },
      "execution_count": 4,
      "outputs": []
    },
    {
      "cell_type": "code",
      "source": [
        "for chave, valor in dicionario.items():\n",
        "  print(f'Chave = {chave} : valor = {valor}')"
      ],
      "metadata": {
        "colab": {
          "base_uri": "https://localhost:8080/"
        },
        "id": "7R7gxwjhWFQ1",
        "outputId": "a064764d-9c96-42e8-a05d-1fcec0d834de"
      },
      "execution_count": 5,
      "outputs": [
        {
          "output_type": "stream",
          "name": "stdout",
          "text": [
            "Chave = a : valor = 1\n",
            "Chave = b : valor = 2\n",
            "Chave = c : valor = 3\n",
            "Chave = d : valor = 4\n",
            "Chave = e : valor = 5\n"
          ]
        }
      ]
    },
    {
      "cell_type": "markdown",
      "source": [
        "Entendo a diferença entre Dict e Ordered Dict"
      ],
      "metadata": {
        "id": "Oa1w6sPcWlVG"
      }
    },
    {
      "cell_type": "markdown",
      "source": [
        "Dicionário Comum"
      ],
      "metadata": {
        "id": "RBOnfmlDXQMJ"
      }
    },
    {
      "cell_type": "code",
      "source": [
        "dict1 = {'a': 1, 'b': 2}\n",
        "dict2 = {'b': 2, 'a': 1}"
      ],
      "metadata": {
        "id": "DnxgtdjJWpxp"
      },
      "execution_count": 6,
      "outputs": []
    },
    {
      "cell_type": "code",
      "source": [
        "print(dict1 == dict2) # True -> Já que a ordem dos elementos não importa para o dicionário"
      ],
      "metadata": {
        "colab": {
          "base_uri": "https://localhost:8080/"
        },
        "id": "n0kWq4A2XDWX",
        "outputId": "85e6c48b-7d4b-43a6-b8a4-0faf65950d73"
      },
      "execution_count": 7,
      "outputs": [
        {
          "output_type": "stream",
          "name": "stdout",
          "text": [
            "True\n"
          ]
        }
      ]
    },
    {
      "cell_type": "markdown",
      "source": [
        "Ordered Dict"
      ],
      "metadata": {
        "id": "m-br4RioXVRE"
      }
    },
    {
      "cell_type": "code",
      "source": [
        "odict1 = OrderedDict({'a': 1, 'b': 2})\n",
        "odict2 = OrderedDict({'b': 2, 'a': 1})\n",
        "\n",
        "print(odict1 == odict2) # False -> Já que a ordem dos elementos importa para o OrderedDict"
      ],
      "metadata": {
        "colab": {
          "base_uri": "https://localhost:8080/"
        },
        "id": "56xiRY9GXOxL",
        "outputId": "48ca8eb5-c591-49be-98b5-406249c9752e"
      },
      "execution_count": 9,
      "outputs": [
        {
          "output_type": "stream",
          "name": "stdout",
          "text": [
            "False\n"
          ]
        }
      ]
    }
  ]
}