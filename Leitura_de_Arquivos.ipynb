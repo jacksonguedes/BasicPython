{
  "nbformat": 4,
  "nbformat_minor": 0,
  "metadata": {
    "colab": {
      "provenance": [],
      "authorship_tag": "ABX9TyPZeopPOqvAn/tzWcOrY5vp",
      "include_colab_link": true
    },
    "kernelspec": {
      "name": "python3",
      "display_name": "Python 3"
    },
    "language_info": {
      "name": "python"
    }
  },
  "cells": [
    {
      "cell_type": "markdown",
      "metadata": {
        "id": "view-in-github",
        "colab_type": "text"
      },
      "source": [
        "<a href=\"https://colab.research.google.com/github/jacksonguedes/BasicPython/blob/main/Leitura_de_Arquivos.ipynb\" target=\"_parent\"><img src=\"https://colab.research.google.com/assets/colab-badge.svg\" alt=\"Open In Colab\"/></a>"
      ]
    },
    {
      "cell_type": "markdown",
      "source": [
        "# **Leitura de Arquivos**   \n",
        "   \n",
        "\n",
        "**open()  ->  Na forma mais simples de utilização nós passamos apenas um parâmetro de entrada, que neste caso é o caminho para o arquivo a ser lido. Essa função retorna um _io.TextIOWrapper e é com ele que trabalhamos.**   \n",
        "   \n",
        "Link: https://docs.python.org/3/library/functions.html#open   \n",
        "   \n",
        "\n",
        "\n"
      ],
      "metadata": {
        "id": "NnVKlhac-VfC"
      }
    },
    {
      "cell_type": "markdown",
      "source": [
        "**Exemplo**"
      ],
      "metadata": {
        "id": "NZ_57HzgaX_g"
      }
    },
    {
      "cell_type": "code",
      "execution_count": 1,
      "metadata": {
        "id": "JZyTrPvd9wps"
      },
      "outputs": [],
      "source": [
        "arquivo = open('TextoTeste.txt')"
      ]
    },
    {
      "cell_type": "code",
      "source": [
        "print(arquivo)"
      ],
      "metadata": {
        "colab": {
          "base_uri": "https://localhost:8080/"
        },
        "id": "jjBW2a9Yagbw",
        "outputId": "47f16e0e-0aa5-4f01-c21c-e9f6f5152b12"
      },
      "execution_count": 2,
      "outputs": [
        {
          "output_type": "stream",
          "name": "stdout",
          "text": [
            "<_io.TextIOWrapper name='TextoTeste.txt' mode='r' encoding='UTF-8'>\n"
          ]
        }
      ]
    },
    {
      "cell_type": "code",
      "source": [
        "print(type(arquivo))"
      ],
      "metadata": {
        "colab": {
          "base_uri": "https://localhost:8080/"
        },
        "id": "n0vgcFjHaiw-",
        "outputId": "cd1c4dea-c740-41e6-a12f-8308d0aa2e02"
      },
      "execution_count": 3,
      "outputs": [
        {
          "output_type": "stream",
          "name": "stdout",
          "text": [
            "<class '_io.TextIOWrapper'>\n"
          ]
        }
      ]
    },
    {
      "cell_type": "markdown",
      "source": [
        "Para ler o conteúdo de um arquivo, após sua abertura, devemos utilizar a função read()"
      ],
      "metadata": {
        "id": "NDcryR4bao9v"
      }
    },
    {
      "cell_type": "code",
      "source": [
        "print(arquivo.read()) # Lendo o conteúdo do arquivo criado"
      ],
      "metadata": {
        "colab": {
          "base_uri": "https://localhost:8080/"
        },
        "id": "vHBb1qvganUv",
        "outputId": "32d732f0-e503-4d9a-e4a3-0e1e222f70cf"
      },
      "execution_count": 4,
      "outputs": [
        {
          "output_type": "stream",
          "name": "stdout",
          "text": [
            "Eu estou estudando Python na Geek University\n"
          ]
        }
      ]
    },
    {
      "cell_type": "code",
      "source": [
        "ret = arquivo.read()"
      ],
      "metadata": {
        "id": "eYL8z4wja4n2"
      },
      "execution_count": 9,
      "outputs": []
    },
    {
      "cell_type": "code",
      "source": [
        "print(type(ret))"
      ],
      "metadata": {
        "colab": {
          "base_uri": "https://localhost:8080/"
        },
        "id": "WdYUZQ5jcAQ-",
        "outputId": "cdc2749f-6715-44c0-b440-b32a038856ea"
      },
      "execution_count": 6,
      "outputs": [
        {
          "output_type": "stream",
          "name": "stdout",
          "text": [
            "<class 'str'>\n"
          ]
        }
      ]
    }
  ]
}