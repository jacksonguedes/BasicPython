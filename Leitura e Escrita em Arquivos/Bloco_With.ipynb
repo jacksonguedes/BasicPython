{
  "nbformat": 4,
  "nbformat_minor": 0,
  "metadata": {
    "colab": {
      "provenance": [],
      "authorship_tag": "ABX9TyMG58b+O9gm21W27TFBZ+om",
      "include_colab_link": true
    },
    "kernelspec": {
      "name": "python3",
      "display_name": "Python 3"
    },
    "language_info": {
      "name": "python"
    }
  },
  "cells": [
    {
      "cell_type": "markdown",
      "metadata": {
        "id": "view-in-github",
        "colab_type": "text"
      },
      "source": [
        "<a href=\"https://colab.research.google.com/github/jacksonguedes/BasicPython/blob/main/Bloco_With.ipynb\" target=\"_parent\"><img src=\"https://colab.research.google.com/assets/colab-badge.svg\" alt=\"Open In Colab\"/></a>"
      ]
    },
    {
      "cell_type": "markdown",
      "source": [
        "# **Bloco With**"
      ],
      "metadata": {
        "id": "JugK0M8RxoSI"
      }
    },
    {
      "cell_type": "code",
      "execution_count": 3,
      "metadata": {
        "colab": {
          "base_uri": "https://localhost:8080/"
        },
        "id": "4IhH2MLNxkZ0",
        "outputId": "37bdbee2-77ff-403b-a748-876c0f96669d"
      },
      "outputs": [
        {
          "output_type": "stream",
          "name": "stdout",
          "text": [
            "['Eu estou estudando Python na Geek University']\n",
            "False\n"
          ]
        }
      ],
      "source": [
        "with open('TextoTeste.txt') as arquivo:\n",
        "  print(arquivo.readlines())\n",
        "  print(arquivo.closed)"
      ]
    },
    {
      "cell_type": "code",
      "source": [
        "print(arquivo.closed)"
      ],
      "metadata": {
        "colab": {
          "base_uri": "https://localhost:8080/"
        },
        "id": "lFaMcFSK0OeZ",
        "outputId": "6b54d260-a9a6-4901-b2a8-ed817d91dcbc"
      },
      "execution_count": 4,
      "outputs": [
        {
          "output_type": "stream",
          "name": "stdout",
          "text": [
            "True\n"
          ]
        }
      ]
    }
  ]
}
