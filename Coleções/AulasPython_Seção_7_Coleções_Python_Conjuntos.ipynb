{
  "nbformat": 4,
  "nbformat_minor": 0,
  "metadata": {
    "colab": {
      "provenance": [],
      "authorship_tag": "ABX9TyPVonjZI03cDrjCzREzLsP1",
      "include_colab_link": true
    },
    "kernelspec": {
      "name": "python3",
      "display_name": "Python 3"
    },
    "language_info": {
      "name": "python"
    }
  },
  "cells": [
    {
      "cell_type": "markdown",
      "metadata": {
        "id": "view-in-github",
        "colab_type": "text"
      },
      "source": [
        "<a href=\"https://colab.research.google.com/github/jacksonguedes/BasicPython/blob/main/AulasPython_Se%C3%A7%C3%A3o_7_Cole%C3%A7%C3%B5es_Python_Conjuntos.ipynb\" target=\"_parent\"><img src=\"https://colab.research.google.com/assets/colab-badge.svg\" alt=\"Open In Colab\"/></a>"
      ]
    },
    {
      "cell_type": "markdown",
      "source": [
        "# **Conjuntos (sets)**  \n",
        "Em qualquer linguagem de programação, estamos fazendo referência à Teoria dos Conjuntos da matemática.  \n",
        "- Em Python os conjuntos são chamados de Sets.  \n",
        "São utilizados quando se precisa armazena elementos sem levar em consideração a ordenação dos mesmos. Além disso, é utilizado quando não precisa preocupar-se com chaves, valores e itens duplicados.  \n",
        "Os conjuntos são referenciados em Python com chaves {}  \n",
        "- Um dicionário tem chave/valor;\n",
        "- Um conjunto tem apenas valor;"
      ],
      "metadata": {
        "id": "AaIa_tP0YuvS"
      }
    },
    {
      "cell_type": "markdown",
      "source": [
        "Definindo conjuntos:  \n",
        "Forma 1"
      ],
      "metadata": {
        "id": "JO0uc6ZFacB-"
      }
    },
    {
      "cell_type": "code",
      "execution_count": null,
      "metadata": {
        "id": "yxSeiYAhYuHP"
      },
      "outputs": [],
      "source": [
        "s = set({1, 2, 3, 4, 5, 5, 1, 7})"
      ]
    },
    {
      "cell_type": "code",
      "source": [
        "print(s) # Ao criar um conjunto, caso seja adicionado um val,or já existente, o mesmo será ignorado sem gerar error e não fará parte do conjunto.\n",
        "print(type(s))"
      ],
      "metadata": {
        "colab": {
          "base_uri": "https://localhost:8080/"
        },
        "id": "8o8UQafgazqn",
        "outputId": "cf066ad0-1c52-4e4a-c68a-e2e4fa09fdf8"
      },
      "execution_count": null,
      "outputs": [
        {
          "output_type": "stream",
          "name": "stdout",
          "text": [
            "{1, 2, 3, 4, 5, 7}\n",
            "<class 'set'>\n"
          ]
        }
      ]
    },
    {
      "cell_type": "markdown",
      "source": [
        "Forma 2"
      ],
      "metadata": {
        "id": "5G_6eUAJbgBg"
      }
    },
    {
      "cell_type": "code",
      "source": [
        "s = {1, 2, 3, 3, 2, 1}\n",
        "print(s)\n",
        "print(type(s))"
      ],
      "metadata": {
        "id": "ga18RL2LbhnY",
        "colab": {
          "base_uri": "https://localhost:8080/"
        },
        "outputId": "da174b27-7d93-40b2-939b-7341b073d190"
      },
      "execution_count": 9,
      "outputs": [
        {
          "output_type": "stream",
          "name": "stdout",
          "text": [
            "{1, 2, 3}\n",
            "<class 'set'>\n"
          ]
        }
      ]
    },
    {
      "cell_type": "markdown",
      "source": [
        "Verificando se determinado elemento está contido no conjunto"
      ],
      "metadata": {
        "id": "w_BMQzEyczoy"
      }
    },
    {
      "cell_type": "code",
      "source": [
        "if 13 in s:\n",
        "  print('Tem o 3')\n",
        "else:\n",
        "  print('Não tem o 3')"
      ],
      "metadata": {
        "colab": {
          "base_uri": "https://localhost:8080/"
        },
        "id": "VvhJVosbc4e-",
        "outputId": "60b43408-91c1-4260-91d0-a586be310dd8"
      },
      "execution_count": 10,
      "outputs": [
        {
          "output_type": "stream",
          "name": "stdout",
          "text": [
            "Não tem o 3\n"
          ]
        }
      ]
    },
    {
      "cell_type": "markdown",
      "source": [
        "Importante lembrar que, além de não termos valores duplicados, não temos ordem:\n"
      ],
      "metadata": {
        "id": "ZTbYeTQfeFsU"
      }
    },
    {
      "cell_type": "code",
      "source": [
        "lista = [99, 2, 34, 23, 2, 12, 1, 44, 5, 34]\n",
        "print(f'Lista: {lista} com {len(lista)} elementos') # Aceitam valores duplicados, então temos 10 elementos"
      ],
      "metadata": {
        "colab": {
          "base_uri": "https://localhost:8080/"
        },
        "id": "whKg2FjLeNdc",
        "outputId": "49248f56-e951-4629-fa8f-2686886a4bda"
      },
      "execution_count": 16,
      "outputs": [
        {
          "output_type": "stream",
          "name": "stdout",
          "text": [
            "Lista: [99, 2, 34, 23, 2, 12, 1, 44, 5, 34] com 10 elementos\n"
          ]
        }
      ]
    },
    {
      "cell_type": "code",
      "source": [
        "tupla= 99, 2, 34, 23, 2, 12, 1, 44, 5, 34\n",
        "print(f'Tupla: {tupla} com {len(tupla)} elementos') # Aceitam valores duplicados, então temos 10 elementos"
      ],
      "metadata": {
        "colab": {
          "base_uri": "https://localhost:8080/"
        },
        "id": "YOawyUqBegQk",
        "outputId": "752e0d4d-8e53-4d37-b716-f0cfafbc1473"
      },
      "execution_count": 17,
      "outputs": [
        {
          "output_type": "stream",
          "name": "stdout",
          "text": [
            "Tupla: (99, 2, 34, 23, 2, 12, 1, 44, 5, 34) com 10 elementos\n"
          ]
        }
      ]
    },
    {
      "cell_type": "code",
      "source": [
        "dicionario = {}.fromkeys([99, 2, 34, 23, 2, 12, 1, 44, 5, 34], 'dict') # Não aceitam valores duplicados, então temos 8 elementos\n",
        "print(f'Dicionário: {dicionario} com {len(dicionario)} elementos')"
      ],
      "metadata": {
        "colab": {
          "base_uri": "https://localhost:8080/"
        },
        "id": "D_nTtyaNeoa8",
        "outputId": "0dfaf77b-791e-44af-c710-ab4c8de1f282"
      },
      "execution_count": 18,
      "outputs": [
        {
          "output_type": "stream",
          "name": "stdout",
          "text": [
            "Dicionário: {99: 'dict', 2: 'dict', 34: 'dict', 23: 'dict', 12: 'dict', 1: 'dict', 44: 'dict', 5: 'dict'} com 8 elementos\n"
          ]
        }
      ]
    },
    {
      "cell_type": "code",
      "source": [
        "conjunto = {99, 2, 34, 23, 2, 12, 1, 44, 5, 34} # Não aceitam valores duplicados, então temos 8 elementos\n",
        "print(f'Conjunto: {conjunto} com {len(conjunto)} elementos')"
      ],
      "metadata": {
        "colab": {
          "base_uri": "https://localhost:8080/"
        },
        "id": "FqHce5noe41k",
        "outputId": "918d3f52-dbeb-4963-a45e-492a45dc618d"
      },
      "execution_count": 19,
      "outputs": [
        {
          "output_type": "stream",
          "name": "stdout",
          "text": [
            "Conjunto: {1, 2, 99, 34, 5, 12, 44, 23} com 8 elementos\n"
          ]
        }
      ]
    },
    {
      "cell_type": "markdown",
      "source": [
        "### Usos interessantes com SETS"
      ],
      "metadata": {
        "id": "6i5tZAj2gGsj"
      }
    },
    {
      "cell_type": "markdown",
      "source": [
        "Imagine um formulário de cadastro de visitantes em uma feira ou museu, onde os visitantes informam manualmente a cidade de onde vieram.  \n",
        "Adiciona-se as cidades em uma lista, já que na lista permite repetição e adicionar elementos."
      ],
      "metadata": {
        "id": "wCi3vQTUhWkn"
      }
    },
    {
      "cell_type": "code",
      "source": [
        "cidades_visitantes = ['Belo Horizonte', 'São Paulo', 'Campina Grande', 'Condado', 'Campina Grande', 'Belo Horizonte']\n",
        "print(cidades_visitantes)\n",
        "print(f'Quantidade de visitantes: {len(cidades_visitantes)} pessoas distintas')"
      ],
      "metadata": {
        "colab": {
          "base_uri": "https://localhost:8080/"
        },
        "id": "NeSY4Bm9hzxU",
        "outputId": "b13257be-d527-46e9-e1b9-209a1205b23a"
      },
      "execution_count": 23,
      "outputs": [
        {
          "output_type": "stream",
          "name": "stdout",
          "text": [
            "['Belo Horizonte', 'São Paulo', 'Campina Grande', 'Condado', 'Campina Grande', 'Belo Horizonte']\n",
            "Quantidade de visitantes: 6 pessoas distintas\n"
          ]
        }
      ]
    },
    {
      "cell_type": "markdown",
      "source": [
        "Agora precisamos saber a quantas cidades distintas."
      ],
      "metadata": {
        "id": "lrVJbXNaiiGL"
      }
    },
    {
      "cell_type": "code",
      "source": [
        "print(f'Cidades distintas: {len(set(cidades_visitantes))}') # Utilizar o set para fazer essa contagem. Pois, ele não admite recepções"
      ],
      "metadata": {
        "colab": {
          "base_uri": "https://localhost:8080/"
        },
        "id": "Ia96v3p8iqHE",
        "outputId": "47af7f46-e665-4575-8f88-d73f63842b4f"
      },
      "execution_count": 24,
      "outputs": [
        {
          "output_type": "stream",
          "name": "stdout",
          "text": [
            "Cidades distintas: 4\n"
          ]
        }
      ]
    },
    {
      "cell_type": "markdown",
      "source": [
        "Adicionando elementos em um conjunto"
      ],
      "metadata": {
        "id": "HJQ9JwuijRzS"
      }
    },
    {
      "cell_type": "code",
      "source": [
        "s = {1, 2, 3}\n",
        "print(s)\n",
        "\n",
        "s.add(4)\n",
        "print(s)"
      ],
      "metadata": {
        "colab": {
          "base_uri": "https://localhost:8080/"
        },
        "id": "k7_iBerDjWPJ",
        "outputId": "9628575b-aeec-44a4-d7f6-5246d2d50a6e"
      },
      "execution_count": 25,
      "outputs": [
        {
          "output_type": "stream",
          "name": "stdout",
          "text": [
            "{1, 2, 3}\n",
            "{1, 2, 3, 4}\n"
          ]
        }
      ]
    },
    {
      "cell_type": "markdown",
      "source": [
        "Removendo elementos  \n",
        "Froma 1"
      ],
      "metadata": {
        "id": "ZehYT1nNj3sY"
      }
    },
    {
      "cell_type": "code",
      "source": [
        "s = {1, 2, 3, 4, 5}\n",
        "print(s)\n",
        "\n",
        "s.remove(3) # Valor a ser removido: nº 3. Além disso, se tentar remover um valor que não existe, mensagem KeyError\n",
        "print(s)"
      ],
      "metadata": {
        "colab": {
          "base_uri": "https://localhost:8080/"
        },
        "id": "Y3bJgIh3j6qH",
        "outputId": "ccea6af0-3013-41bb-fa35-c80b3b6aedca"
      },
      "execution_count": 29,
      "outputs": [
        {
          "output_type": "stream",
          "name": "stdout",
          "text": [
            "{1, 2, 3, 4, 5}\n",
            "{1, 2, 4, 5}\n"
          ]
        }
      ]
    },
    {
      "cell_type": "markdown",
      "source": [
        "Forma 2"
      ],
      "metadata": {
        "id": "qAjUeIL4k1ff"
      }
    },
    {
      "cell_type": "code",
      "source": [
        "s.discard(2) # Se tentar remover valor que não exixte, não aparecerá mensagem KeyError\n",
        "print(s)"
      ],
      "metadata": {
        "colab": {
          "base_uri": "https://localhost:8080/"
        },
        "id": "lknEpE_ek3uw",
        "outputId": "f9f1c4f9-09e4-4b13-be05-32be19f2e794"
      },
      "execution_count": 30,
      "outputs": [
        {
          "output_type": "stream",
          "name": "stdout",
          "text": [
            "{1, 4, 5}\n"
          ]
        }
      ]
    },
    {
      "cell_type": "markdown",
      "source": [
        "## Métodos Matemáticos de Conjuntos  \n",
        "\n",
        "### Imagine dois conjuntos: um contendo estudantes do curso Python e um contendo estudantes do curso de Java."
      ],
      "metadata": {
        "id": "AETKg6zGpdd2"
      }
    },
    {
      "cell_type": "code",
      "source": [
        "estudantes_python = {'Marcos', 'Patricia', 'Ellen', 'Pedro', 'Julia', 'Guilherme'}\n",
        "estudantes_java = {'Fernando', 'Gustavo', 'Julia', 'Ana', 'Patricia'}"
      ],
      "metadata": {
        "id": "Yi8ewTJbqOtV"
      },
      "execution_count": 37,
      "outputs": []
    },
    {
      "cell_type": "markdown",
      "source": [
        "Gerando um conjunto com os nomes de estudantes únicos"
      ],
      "metadata": {
        "id": "qBNWzhBNq10a"
      }
    },
    {
      "cell_type": "markdown",
      "source": [
        "Forma 1 - Utilizando *union*"
      ],
      "metadata": {
        "id": "dvEczHmPq9gO"
      }
    },
    {
      "cell_type": "code",
      "source": [
        "unicos1 = estudantes_python.union(estudantes_java)\n",
        "print(unicos1)"
      ],
      "metadata": {
        "colab": {
          "base_uri": "https://localhost:8080/"
        },
        "id": "O_6_hnZuq8qZ",
        "outputId": "3f7ad753-3c30-4835-f07f-155ce2bda30e"
      },
      "execution_count": 33,
      "outputs": [
        {
          "output_type": "stream",
          "name": "stdout",
          "text": [
            "{'Pedro', 'Fernando', '`Patricia', 'Guilherme', 'Marcos', 'Gustavo', 'Ana', 'Ellen', 'Julia', 'Patricia'}\n"
          ]
        }
      ]
    },
    {
      "cell_type": "markdown",
      "source": [
        "Forma 2 - Utilizando o caractere pipe |"
      ],
      "metadata": {
        "id": "jRVG1ZDbyVyk"
      }
    },
    {
      "cell_type": "code",
      "source": [
        "unicos2 = estudantes_python | estudantes_java\n",
        "print(unicos2)"
      ],
      "metadata": {
        "colab": {
          "base_uri": "https://localhost:8080/"
        },
        "id": "pYS0E340yeZ1",
        "outputId": "b78c329f-5ffa-4d66-e2d2-a9ab6b43b6e6"
      },
      "execution_count": 35,
      "outputs": [
        {
          "output_type": "stream",
          "name": "stdout",
          "text": [
            "{'Pedro', 'Fernando', '`Patricia', 'Guilherme', 'Marcos', 'Gustavo', 'Ana', 'Ellen', 'Julia', 'Patricia'}\n"
          ]
        }
      ]
    },
    {
      "cell_type": "markdown",
      "source": [
        "Gerar um conjunto de estudantes que estão em ambos os cursos"
      ],
      "metadata": {
        "id": "Hj2P0cWIzC4c"
      }
    },
    {
      "cell_type": "markdown",
      "source": [
        "Forma 1 - Utilizando *intersection*"
      ],
      "metadata": {
        "id": "FTgbKz0nzOXi"
      }
    },
    {
      "cell_type": "code",
      "source": [
        "ambos1 = estudantes_python.intersection(estudantes_java)\n",
        "print(ambos1)"
      ],
      "metadata": {
        "colab": {
          "base_uri": "https://localhost:8080/"
        },
        "id": "t2Sl2h57zMps",
        "outputId": "95ca670b-5bb2-444f-a0dc-b643175cf64d"
      },
      "execution_count": 38,
      "outputs": [
        {
          "output_type": "stream",
          "name": "stdout",
          "text": [
            "{'Julia', 'Patricia'}\n"
          ]
        }
      ]
    },
    {
      "cell_type": "markdown",
      "source": [
        "Gerando um conjunto de estudantes que não estão no outro curso"
      ],
      "metadata": {
        "id": "hlopYjC60MD4"
      }
    },
    {
      "cell_type": "code",
      "source": [
        "so_python = estudantes_python.difference(estudantes_java)\n",
        "print(so_python)"
      ],
      "metadata": {
        "colab": {
          "base_uri": "https://localhost:8080/"
        },
        "id": "mM3e7OYT0X6e",
        "outputId": "c936f7f5-3e0d-4494-c122-83ff5d7c2da6"
      },
      "execution_count": 40,
      "outputs": [
        {
          "output_type": "stream",
          "name": "stdout",
          "text": [
            "{'Pedro', 'Guilherme', 'Marcos', 'Ellen'}\n"
          ]
        }
      ]
    }
  ]
}
