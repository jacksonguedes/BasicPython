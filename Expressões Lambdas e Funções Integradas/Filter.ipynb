{
  "nbformat": 4,
  "nbformat_minor": 0,
  "metadata": {
    "colab": {
      "provenance": [],
      "authorship_tag": "ABX9TyO/EQe0/nO1NBE4nH41zHCq",
      "include_colab_link": true
    },
    "kernelspec": {
      "name": "python3",
      "display_name": "Python 3"
    },
    "language_info": {
      "name": "python"
    }
  },
  "cells": [
    {
      "cell_type": "markdown",
      "metadata": {
        "id": "view-in-github",
        "colab_type": "text"
      },
      "source": [
        "<a href=\"https://colab.research.google.com/github/jacksonguedes/BasicPython/blob/main/Filter.ipynb\" target=\"_parent\"><img src=\"https://colab.research.google.com/assets/colab-badge.svg\" alt=\"Open In Colab\"/></a>"
      ]
    },
    {
      "cell_type": "markdown",
      "source": [
        "# **Filter**   \n",
        "filter() -> Serve para filtrar dados de uma determinada coleção."
      ],
      "metadata": {
        "id": "WqBB0HCw7HyT"
      }
    },
    {
      "cell_type": "code",
      "execution_count": 12,
      "metadata": {
        "id": "2giKD8Nf7CNB"
      },
      "outputs": [],
      "source": [
        "valores = 1, 2, 3, 4, 5, 6"
      ]
    },
    {
      "cell_type": "code",
      "source": [
        "media = (sum(valores) / len(valores))\n",
        "print(media)"
      ],
      "metadata": {
        "colab": {
          "base_uri": "https://localhost:8080/"
        },
        "id": "davILVdx74Np",
        "outputId": "002e8961-f108-4c2b-987f-4098f745e9b2"
      },
      "execution_count": 13,
      "outputs": [
        {
          "output_type": "stream",
          "name": "stdout",
          "text": [
            "3.5\n"
          ]
        }
      ]
    },
    {
      "cell_type": "markdown",
      "source": [
        "Biblioteca para trabalhar com dados estatísticos"
      ],
      "metadata": {
        "id": "xbiIFU-h8Nvq"
      }
    },
    {
      "cell_type": "code",
      "source": [
        "import statistics"
      ],
      "metadata": {
        "id": "rmmsdDCC8SSd"
      },
      "execution_count": 14,
      "outputs": []
    },
    {
      "cell_type": "code",
      "source": [
        "dados = [1.3, 2.7, 0.8, 4.1, 4.3, -0.1]"
      ],
      "metadata": {
        "id": "-f7ITL7m8YeA"
      },
      "execution_count": 15,
      "outputs": []
    },
    {
      "cell_type": "markdown",
      "source": [
        "Calculando a média dos dados utilizando a função mean()"
      ],
      "metadata": {
        "id": "zSlSu4Ci8jdy"
      }
    },
    {
      "cell_type": "code",
      "source": [
        "media = statistics.mean(dados)"
      ],
      "metadata": {
        "id": "unLOB0Dc8wYo"
      },
      "execution_count": 16,
      "outputs": []
    },
    {
      "cell_type": "markdown",
      "source": [
        "OBS: Assim como a função map(), a filter() recebe dois parâmetros, sendo uma função e um iterável."
      ],
      "metadata": {
        "id": "VISmWhB29Qxp"
      }
    },
    {
      "cell_type": "code",
      "source": [
        "res = filter(lambda x: x > media, dados)\n",
        "print(list(res))"
      ],
      "metadata": {
        "colab": {
          "base_uri": "https://localhost:8080/"
        },
        "id": "do34kO6f9dyR",
        "outputId": "b82ae5ca-cf0e-4ed2-c272-12af4f06af08"
      },
      "execution_count": 17,
      "outputs": [
        {
          "output_type": "stream",
          "name": "stdout",
          "text": [
            "[2.7, 4.1, 4.3]\n"
          ]
        }
      ]
    },
    {
      "cell_type": "code",
      "source": [
        "print(f'Novamente: {list(res)}') # OBS: Assim como na função map(), após ser utilizados os dados de filter() eles são excluídos da memória."
      ],
      "metadata": {
        "colab": {
          "base_uri": "https://localhost:8080/"
        },
        "id": "DzypciPd-M55",
        "outputId": "9c324485-e37b-4062-ed29-a1e31382582c"
      },
      "execution_count": 18,
      "outputs": [
        {
          "output_type": "stream",
          "name": "stdout",
          "text": [
            "Novamente: []\n"
          ]
        }
      ]
    },
    {
      "cell_type": "markdown",
      "source": [
        "Exemplo 1"
      ],
      "metadata": {
        "id": "RPg1x1L5_RE1"
      }
    },
    {
      "cell_type": "code",
      "source": [
        "paises = ['', 'Argentina', '', 'Brasil', 'Chile', '', 'Colombia', '', 'Equador', '','', 'Venezuela']"
      ],
      "metadata": {
        "id": "SN5IVCVb_S7H"
      },
      "execution_count": 19,
      "outputs": []
    },
    {
      "cell_type": "code",
      "source": [
        "print(paises)"
      ],
      "metadata": {
        "colab": {
          "base_uri": "https://localhost:8080/"
        },
        "id": "RW3hj_R0_j7v",
        "outputId": "23cabc4e-4b47-4c38-85a0-22bd610c8e9b"
      },
      "execution_count": 20,
      "outputs": [
        {
          "output_type": "stream",
          "name": "stdout",
          "text": [
            "['', 'Argentina', '', 'Brasil', 'Chile', '', 'Colombia', '', 'Equador', '', '', 'Venezuela']\n"
          ]
        }
      ]
    },
    {
      "cell_type": "code",
      "source": [
        "res = filter(None, paises)"
      ],
      "metadata": {
        "id": "GN8JR6u7_lq3"
      },
      "execution_count": 21,
      "outputs": []
    },
    {
      "cell_type": "code",
      "source": [
        "print(list(res))"
      ],
      "metadata": {
        "colab": {
          "base_uri": "https://localhost:8080/"
        },
        "id": "d1-nJI3N_orO",
        "outputId": "d407382d-90b1-43b1-8c01-b7d8c42d5ef7"
      },
      "execution_count": 22,
      "outputs": [
        {
          "output_type": "stream",
          "name": "stdout",
          "text": [
            "['Argentina', 'Brasil', 'Chile', 'Colombia', 'Equador', 'Venezuela']\n"
          ]
        }
      ]
    },
    {
      "cell_type": "markdown",
      "source": [
        "Outra forma 1"
      ],
      "metadata": {
        "id": "hm5kyv-fBNbo"
      }
    },
    {
      "cell_type": "code",
      "source": [
        " res = filter(lambda pais: pais != '', paises)\n",
        " print(list(res))"
      ],
      "metadata": {
        "colab": {
          "base_uri": "https://localhost:8080/"
        },
        "id": "nSZ4Y73R_q_O",
        "outputId": "c7c880c0-107d-4398-9ec2-997ab80977c5"
      },
      "execution_count": 24,
      "outputs": [
        {
          "output_type": "stream",
          "name": "stdout",
          "text": [
            "['Argentina', 'Brasil', 'Chile', 'Colombia', 'Equador', 'Venezuela']\n"
          ]
        }
      ]
    },
    {
      "cell_type": "markdown",
      "source": [
        "Outra forma 2"
      ],
      "metadata": {
        "id": "jmghZZwgBfWV"
      }
    },
    {
      "cell_type": "code",
      "source": [
        "res = filter(lambda pais: len(pais) > 0, paises)\n",
        "print(list(res))"
      ],
      "metadata": {
        "colab": {
          "base_uri": "https://localhost:8080/"
        },
        "id": "ll0ByG4QBgcH",
        "outputId": "e3583265-6139-4eb2-e9e7-7bb44f76e807"
      },
      "execution_count": 27,
      "outputs": [
        {
          "output_type": "stream",
          "name": "stdout",
          "text": [
            "['Argentina', 'Brasil', 'Chile', 'Colombia', 'Equador', 'Venezuela']\n"
          ]
        }
      ]
    },
    {
      "cell_type": "markdown",
      "source": [
        "A diferença entre map() e filter() é:   \n",
        "- map(): recebe dois parâmetros, uma função e um iterável e retorna um objeto mapeando a função para cada elemento do iterável.  \n",
        "- filter(): recebe dois parâmetros, uma função e um iterável e retorna um objeto  filtrando apenas os elementos de acordo com a função."
      ],
      "metadata": {
        "id": "LkZardU4CH2L"
      }
    },
    {
      "cell_type": "markdown",
      "source": [
        "Exemplo mais complexo"
      ],
      "metadata": {
        "id": "RIgqaF2JDCmO"
      }
    },
    {
      "cell_type": "code",
      "source": [
        "usuarios = [\n",
        "    {\"username\": \"samuel\", \"tweets\": [\"Eu adoro bolos\", \"Eu adoro pizzas\"]},\n",
        "    {\"username\": \"carla\", \"tweets\": [\"Eu amo meu gato\"]},\n",
        "    {\"username\": \"jeff\", \"tweets\": []},\n",
        "    {\"username\": \"bob123\", \"tweets\": []},\n",
        "    {\"username\": \"doggo\", \"tweets\": [\"Eu gosto de cachorros\", \"Vou sair hoje\"]},\n",
        "    {\"username\": \"gal\", \"tweets\": []}\n",
        "]"
      ],
      "metadata": {
        "id": "GlmaAF5fC_95"
      },
      "execution_count": 28,
      "outputs": []
    },
    {
      "cell_type": "code",
      "source": [
        "print(usuarios)"
      ],
      "metadata": {
        "colab": {
          "base_uri": "https://localhost:8080/"
        },
        "id": "brHkbOlUEeVm",
        "outputId": "e11402ad-aa9d-474d-8980-10b6d4ec410b"
      },
      "execution_count": 29,
      "outputs": [
        {
          "output_type": "stream",
          "name": "stdout",
          "text": [
            "[{'username': 'samuel', 'tweets': ['Eu adoro bolos', 'Eu adoro pizzas']}, {'username': 'carla', 'tweets': ['Eu amo meu gato']}, {'username': 'jeff', 'tweets': []}, {'username': 'bob123', 'tweets': []}, {'username': 'doggo', 'tweets': ['Eu gosto de cachorros', 'Vou sair hoje']}, {'username': 'gal', 'tweets': []}]\n"
          ]
        }
      ]
    },
    {
      "cell_type": "markdown",
      "source": [
        "Objetivo: Filtrar os usuários que estão inativos no Twitter"
      ],
      "metadata": {
        "id": "Xb0uA4maEU4X"
      }
    },
    {
      "cell_type": "markdown",
      "source": [
        "Forma 1"
      ],
      "metadata": {
        "id": "LmFgiDzPHWXz"
      }
    },
    {
      "cell_type": "code",
      "source": [
        "inativos = list(filter(lambda usuario: len(usuario['tweets']) == 0, usuarios)) # u[] -> Aqui, tamanho de usuario na chave tweets\n",
        "print(inativos)"
      ],
      "metadata": {
        "colab": {
          "base_uri": "https://localhost:8080/"
        },
        "id": "ICLUhGiGEZnd",
        "outputId": "06cf581c-1aba-4477-d32e-2973e08091a2"
      },
      "execution_count": 31,
      "outputs": [
        {
          "output_type": "stream",
          "name": "stdout",
          "text": [
            "[{'username': 'jeff', 'tweets': []}, {'username': 'bob123', 'tweets': []}, {'username': 'gal', 'tweets': []}]\n"
          ]
        }
      ]
    },
    {
      "cell_type": "code",
      "source": [
        "user = {\"username\": \"samuel\", \"tweets\": [\"Eu adoro bolos\", \"Eu adoro pizzas\"]}"
      ],
      "metadata": {
        "id": "M0ST4GzmF0Qs"
      },
      "execution_count": 32,
      "outputs": []
    },
    {
      "cell_type": "markdown",
      "source": [
        "Forma 2"
      ],
      "metadata": {
        "id": "qqmaEOi4HX4c"
      }
    },
    {
      "cell_type": "code",
      "source": [
        "inativos = list(filter(lambda usuario: not usuario['tweets'], usuarios))\n",
        "print(inativos)"
      ],
      "metadata": {
        "colab": {
          "base_uri": "https://localhost:8080/"
        },
        "id": "aSDqjoOxHY5a",
        "outputId": "7c22f87d-d4f8-4546-d1a8-6fbc45e32fa8"
      },
      "execution_count": 35,
      "outputs": [
        {
          "output_type": "stream",
          "name": "stdout",
          "text": [
            "[{'username': 'jeff', 'tweets': []}, {'username': 'bob123', 'tweets': []}, {'username': 'gal', 'tweets': []}]\n"
          ]
        }
      ]
    },
    {
      "cell_type": "markdown",
      "source": [
        "Combinando filter() e map()"
      ],
      "metadata": {
        "id": "FjgpbHXXIj10"
      }
    },
    {
      "cell_type": "code",
      "source": [
        "nomes = ['Vanessa', 'Ana', 'Maria']"
      ],
      "metadata": {
        "id": "BlPxYpWfImIl"
      },
      "execution_count": 36,
      "outputs": []
    },
    {
      "cell_type": "markdown",
      "source": [
        "Criar uma lista contendo 'Sua instrutora é' + nome, desde que cada nome tenha menos de 5 caracteres"
      ],
      "metadata": {
        "id": "vDUOBPq9Isjr"
      }
    },
    {
      "cell_type": "code",
      "source": [
        "lista = list(map(lambda nome: f'Sua instrutora é {nome}', filter(lambda nome: len(nome) < 5, nomes)))\n",
        "print(lista)"
      ],
      "metadata": {
        "colab": {
          "base_uri": "https://localhost:8080/"
        },
        "id": "lJMwpZK2IrbK",
        "outputId": "a95bed54-7599-403b-bacb-e837c9fa73e1"
      },
      "execution_count": 37,
      "outputs": [
        {
          "output_type": "stream",
          "name": "stdout",
          "text": [
            "['Sua instrutora é Ana']\n"
          ]
        }
      ]
    }
  ]
}
