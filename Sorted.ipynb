{
  "nbformat": 4,
  "nbformat_minor": 0,
  "metadata": {
    "colab": {
      "provenance": [],
      "authorship_tag": "ABX9TyOR0FVwklBF9YwW+Py8DF/R",
      "include_colab_link": true
    },
    "kernelspec": {
      "name": "python3",
      "display_name": "Python 3"
    },
    "language_info": {
      "name": "python"
    }
  },
  "cells": [
    {
      "cell_type": "markdown",
      "metadata": {
        "id": "view-in-github",
        "colab_type": "text"
      },
      "source": [
        "<a href=\"https://colab.research.google.com/github/jacksonguedes/BasicPython/blob/main/Sorted.ipynb\" target=\"_parent\"><img src=\"https://colab.research.google.com/assets/colab-badge.svg\" alt=\"Open In Colab\"/></a>"
      ]
    },
    {
      "cell_type": "markdown",
      "source": [
        "# **Sorted**  \n",
        "OBS : Não confundir, apesar do nome, com a função sort(). O sort() só funciona em listas."
      ],
      "metadata": {
        "id": "sS9hBDVljDbZ"
      }
    },
    {
      "cell_type": "code",
      "execution_count": 3,
      "metadata": {
        "colab": {
          "base_uri": "https://localhost:8080/"
        },
        "id": "5MZgTO50jA5Y",
        "outputId": "41f55dff-1a89-45eb-85c2-3c2bb6aa2fdd"
      },
      "outputs": [
        {
          "output_type": "stream",
          "name": "stdout",
          "text": [
            "[4, 7, 3, 8, 1, 4, 2]\n",
            "[1, 2, 3, 4, 4, 7, 8]\n"
          ]
        }
      ],
      "source": [
        "# Relembrando a função sort()\n",
        "\n",
        "lista = [4, 7, 3, 8, 1, 4 , 2]\n",
        "print(lista)\n",
        "lista.sort()\n",
        "print(lista)\n",
        "\n",
        "# Ordena e altera a própria lista"
      ]
    },
    {
      "cell_type": "markdown",
      "source": [
        "Exemplo sorted()"
      ],
      "metadata": {
        "id": "t1ipI232kUSj"
      }
    },
    {
      "cell_type": "code",
      "source": [
        "numeros = [6, 1, 8, 2]\n",
        "print(numeros)\n",
        "\n",
        "print(sorted(numeros))\n",
        "print(numeros)\n",
        "\n",
        "# Não modifica a própria lista, diferente da sort(). Essa função cria uma nova lista."
      ],
      "metadata": {
        "colab": {
          "base_uri": "https://localhost:8080/"
        },
        "id": "9emMjKXsj8zl",
        "outputId": "f28fdf7a-6cc8-4e02-b91c-f679713646ac"
      },
      "execution_count": 4,
      "outputs": [
        {
          "output_type": "stream",
          "name": "stdout",
          "text": [
            "[6, 1, 8, 2]\n",
            "[1, 2, 6, 8]\n",
            "[6, 1, 8, 2]\n"
          ]
        }
      ]
    },
    {
      "cell_type": "markdown",
      "source": [
        "Mesmo exemplo utilizando tupla"
      ],
      "metadata": {
        "id": "P1eNhSDRk3_s"
      }
    },
    {
      "cell_type": "code",
      "source": [
        "numeros = (6, 1, 8, 2)\n",
        "print(numeros)\n",
        "\n",
        "print(sorted(numeros))\n",
        "print(numeros)\n",
        "\n",
        "# Observe que ele retorna uma lista"
      ],
      "metadata": {
        "colab": {
          "base_uri": "https://localhost:8080/"
        },
        "id": "JqYFi_QIk7rt",
        "outputId": "94098b33-83a3-4d46-ab1c-80d3c3299506"
      },
      "execution_count": 5,
      "outputs": [
        {
          "output_type": "stream",
          "name": "stdout",
          "text": [
            "(6, 1, 8, 2)\n",
            "[1, 2, 6, 8]\n",
            "(6, 1, 8, 2)\n"
          ]
        }
      ]
    },
    {
      "cell_type": "markdown",
      "source": [
        "Exemplo utilizando Set"
      ],
      "metadata": {
        "id": "sr0v-H3xlenZ"
      }
    },
    {
      "cell_type": "code",
      "source": [
        "numeros = {6, 1, 8, 2}\n",
        "print(numeros)\n",
        "\n",
        "print(sorted(numeros))\n",
        "print(numeros)\n",
        "\n",
        "# Observe que ele retorna uma lista"
      ],
      "metadata": {
        "colab": {
          "base_uri": "https://localhost:8080/"
        },
        "id": "76XHhPb3lhI1",
        "outputId": "70f758b4-17c6-4831-8617-3ff079512fea"
      },
      "execution_count": 6,
      "outputs": [
        {
          "output_type": "stream",
          "name": "stdout",
          "text": [
            "{8, 1, 2, 6}\n",
            "[1, 2, 6, 8]\n",
            "{8, 1, 2, 6}\n"
          ]
        }
      ]
    },
    {
      "cell_type": "markdown",
      "source": [
        "Utilizando os parâmetros do sorted()"
      ],
      "metadata": {
        "id": "N7oMRPv4lzvs"
      }
    },
    {
      "cell_type": "code",
      "source": [
        "numeros = [6, 1, 8, 2]\n",
        "\n",
        "# Adicionando parâmetros ao sorted()\n",
        "\n",
        "print(sorted(numeros, reverse = True)) # Ordena do maior para o menos"
      ],
      "metadata": {
        "colab": {
          "base_uri": "https://localhost:8080/"
        },
        "id": "mNRDIsXflvmd",
        "outputId": "b398b17c-a8f1-4fdf-ecc5-2b7d4ee94fc0"
      },
      "execution_count": 7,
      "outputs": [
        {
          "output_type": "stream",
          "name": "stdout",
          "text": [
            "[8, 6, 2, 1]\n"
          ]
        }
      ]
    },
    {
      "cell_type": "markdown",
      "source": [
        "Podemos utilizar o sorted() para coisas mais complexas"
      ],
      "metadata": {
        "id": "Ff0yhjrErDY6"
      }
    },
    {
      "cell_type": "markdown",
      "source": [
        "Exemplo 1"
      ],
      "metadata": {
        "id": "24p9m-A6vg4S"
      }
    },
    {
      "cell_type": "code",
      "source": [
        "usuarios = [\n",
        "    {\"username\": \"samuel\", \"tweets\": [\"Eu adoro bolos\", \"Eu adoro pizzas\"]},\n",
        "    {\"username\": \"carla\", \"tweets\": [\"Eu amo meu gato\"]},\n",
        "    {\"username\": \"jeff\", \"tweets\": []},\n",
        "    {\"username\": \"bob123\", \"tweets\": [], \"cor\": \"amarelo\"},\n",
        "    {\"username\": \"doggo\", \"tweets\": [\"Eu gosto de cachorros\", \"Vou sair hoje\"]},\n",
        "    {\"username\": \"gal\", \"tweets\": [], \"cor\": \"preto\", \"musica\": \"rock\"}\n",
        "]"
      ],
      "metadata": {
        "id": "sWmYGcWLrK88"
      },
      "execution_count": 8,
      "outputs": []
    },
    {
      "cell_type": "code",
      "source": [
        "print(usuarios)\n"
      ],
      "metadata": {
        "colab": {
          "base_uri": "https://localhost:8080/"
        },
        "id": "vsJJYYlWsb2U",
        "outputId": "4e8e3dcb-a977-4efa-aa09-a97045b934bc"
      },
      "execution_count": 12,
      "outputs": [
        {
          "output_type": "stream",
          "name": "stdout",
          "text": [
            "[{'username': 'samuel', 'tweets': ['Eu adoro bolos', 'Eu adoro pizzas']}, {'username': 'carla', 'tweets': ['Eu amo meu gato']}, {'username': 'jeff', 'tweets': []}, {'username': 'bob123', 'tweets': []}, {'username': 'doggo', 'tweets': ['Eu gosto de cachorros', 'Vou sair hoje']}, {'username': 'gal', 'tweets': []}]\n"
          ]
        }
      ]
    },
    {
      "cell_type": "code",
      "source": [
        "# Ordenando por username - Ordem Alfabética\n",
        "print(sorted(usuarios, key = lambda usuario:['username']))"
      ],
      "metadata": {
        "colab": {
          "base_uri": "https://localhost:8080/"
        },
        "id": "GqebZ_BQu7ij",
        "outputId": "d061772a-cb64-4482-aff5-2430c0a3f003"
      },
      "execution_count": 13,
      "outputs": [
        {
          "output_type": "stream",
          "name": "stdout",
          "text": [
            "[{'username': 'samuel', 'tweets': ['Eu adoro bolos', 'Eu adoro pizzas']}, {'username': 'carla', 'tweets': ['Eu amo meu gato']}, {'username': 'jeff', 'tweets': []}, {'username': 'bob123', 'tweets': []}, {'username': 'doggo', 'tweets': ['Eu gosto de cachorros', 'Vou sair hoje']}, {'username': 'gal', 'tweets': []}]\n"
          ]
        }
      ]
    },
    {
      "cell_type": "code",
      "source": [
        "# Ordenando pelo número de tweets\n",
        "print(sorted(usuarios, key = lambda usuario: len(usuario[\"tweets\"])))"
      ],
      "metadata": {
        "colab": {
          "base_uri": "https://localhost:8080/"
        },
        "id": "VpGdjPEcvBqx",
        "outputId": "16ba726f-c9b1-4e89-f188-dfed59b78d45"
      },
      "execution_count": 15,
      "outputs": [
        {
          "output_type": "stream",
          "name": "stdout",
          "text": [
            "[{'username': 'jeff', 'tweets': []}, {'username': 'bob123', 'tweets': []}, {'username': 'gal', 'tweets': []}, {'username': 'carla', 'tweets': ['Eu amo meu gato']}, {'username': 'samuel', 'tweets': ['Eu adoro bolos', 'Eu adoro pizzas']}, {'username': 'doggo', 'tweets': ['Eu gosto de cachorros', 'Vou sair hoje']}]\n"
          ]
        }
      ]
    },
    {
      "cell_type": "markdown",
      "source": [
        "Exemplo 2"
      ],
      "metadata": {
        "id": "zCtx3Mh9visi"
      }
    },
    {
      "cell_type": "code",
      "source": [
        "musicas = [\n",
        "    {\"titulo\": \"Thunderstruck\", \"tocou\": 3},\n",
        "    {\"titulo\": \"Dead Skin Mask\", \"tocou\": 2},\n",
        "    {\"titulo\": \"Back in Black\", \"tocou\": 4},\n",
        "    {\"titulo\": \"Too old to rock'in roll, too ynoung to die\", \"tocou\": 32}\n",
        "\n",
        "]"
      ],
      "metadata": {
        "id": "m-r_OeBkvkcp"
      },
      "execution_count": 17,
      "outputs": []
    },
    {
      "cell_type": "code",
      "source": [
        "# Ordena da menos tocada para a mais tocada\n",
        "print(sorted(musicas, key = lambda musica: musica['tocou']))"
      ],
      "metadata": {
        "colab": {
          "base_uri": "https://localhost:8080/"
        },
        "id": "5a5Ny83LxHxZ",
        "outputId": "a4330dc5-702c-4081-b194-2a228985faff"
      },
      "execution_count": 19,
      "outputs": [
        {
          "output_type": "stream",
          "name": "stdout",
          "text": [
            "[{'titulo': 'Dead Skin Mask', 'tocou': 2}, {'titulo': 'Thunderstruck', 'tocou': 3}, {'titulo': 'Back in Black', 'tocou': 4}, {'titulo': \"Too old to rock'in roll, too ynoung to die\", 'tocou': 32}]\n"
          ]
        }
      ]
    },
    {
      "cell_type": "code",
      "source": [
        "# Ordena da mais tocada para a menos tocada\n",
        "print(sorted(musicas, key = lambda musica: musica['tocou'], reverse = True))"
      ],
      "metadata": {
        "colab": {
          "base_uri": "https://localhost:8080/"
        },
        "id": "Z5Heb-Wsxe_o",
        "outputId": "d51ba54e-c452-4328-e5fd-4b58ba63e900"
      },
      "execution_count": 18,
      "outputs": [
        {
          "output_type": "stream",
          "name": "stdout",
          "text": [
            "[{'titulo': \"Too old to rock'in roll, too ynoung to die\", 'tocou': 32}, {'titulo': 'Back in Black', 'tocou': 4}, {'titulo': 'Thunderstruck', 'tocou': 3}, {'titulo': 'Dead Skin Mask', 'tocou': 2}]\n"
          ]
        }
      ]
    }
  ]
}