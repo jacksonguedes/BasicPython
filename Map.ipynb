{
  "nbformat": 4,
  "nbformat_minor": 0,
  "metadata": {
    "colab": {
      "provenance": [],
      "authorship_tag": "ABX9TyP+WJ3NhlB7Uvj/V961USpy",
      "include_colab_link": true
    },
    "kernelspec": {
      "name": "python3",
      "display_name": "Python 3"
    },
    "language_info": {
      "name": "python"
    }
  },
  "cells": [
    {
      "cell_type": "markdown",
      "metadata": {
        "id": "view-in-github",
        "colab_type": "text"
      },
      "source": [
        "<a href=\"https://colab.research.google.com/github/jacksonguedes/BasicPython/blob/main/Map.ipynb\" target=\"_parent\"><img src=\"https://colab.research.google.com/assets/colab-badge.svg\" alt=\"Open In Colab\"/></a>"
      ]
    },
    {
      "cell_type": "markdown",
      "source": [
        "# **Map**  \n",
        "Com map, fazemos mapeamento de valores para função.   \n",
        "- Dados: a1, a2, a3, a4\n",
        "- Função: f(x)    \n",
        "\n",
        "Utilizando a função map(f, dados) onde irá 'mapear' cada elemento dos dados e aplicar a função.\n",
        "- O Map Object: f(a1), f(a2), f(a3), f(a4)"
      ],
      "metadata": {
        "id": "n8vqz4pAiDev"
      }
    },
    {
      "cell_type": "code",
      "execution_count": 1,
      "metadata": {
        "id": "v7NfJgq3hWaK"
      },
      "outputs": [],
      "source": [
        "import math"
      ]
    },
    {
      "cell_type": "code",
      "source": [
        "def area(r):\n",
        "  \"\"\"\n",
        "    Calcular a área de um círculo com raio 'r'.\n",
        "  \"\"\"\n",
        "  return math.pi * (r ** 2)"
      ],
      "metadata": {
        "id": "trndJsQDiSMM"
      },
      "execution_count": 2,
      "outputs": []
    },
    {
      "cell_type": "code",
      "source": [
        "print(area(2))\n",
        "print(area(5.3))"
      ],
      "metadata": {
        "colab": {
          "base_uri": "https://localhost:8080/"
        },
        "id": "5CefxkgiikHX",
        "outputId": "4d1703ee-63a9-4c88-ffd9-83dbac7ba06b"
      },
      "execution_count": 4,
      "outputs": [
        {
          "output_type": "stream",
          "name": "stdout",
          "text": [
            "12.566370614359172\n",
            "88.24733763933729\n"
          ]
        }
      ]
    },
    {
      "cell_type": "markdown",
      "source": [
        "Porém , imagine uma lista com vários valores de raio."
      ],
      "metadata": {
        "id": "IYuzCG7aiwRt"
      }
    },
    {
      "cell_type": "code",
      "source": [
        "raios = [2, 5, 7.1, 0.3, 10, 44]"
      ],
      "metadata": {
        "id": "z5YhS5moi0ZU"
      },
      "execution_count": 6,
      "outputs": []
    },
    {
      "cell_type": "markdown",
      "source": [
        "Forma comum"
      ],
      "metadata": {
        "id": "dhAB22nji5JE"
      }
    },
    {
      "cell_type": "code",
      "source": [
        "areas = []\n",
        "for r in raios:\n",
        "  areas.append(area(r))\n",
        "\n",
        "print(areas)"
      ],
      "metadata": {
        "colab": {
          "base_uri": "https://localhost:8080/"
        },
        "id": "haOHUPN8i6Ok",
        "outputId": "d21559e5-1f21-47e6-8b5c-0997ac59816f"
      },
      "execution_count": 7,
      "outputs": [
        {
          "output_type": "stream",
          "name": "stdout",
          "text": [
            "[12.566370614359172, 78.53981633974483, 158.36768566746147, 0.2827433388230814, 314.1592653589793, 6082.12337734984]\n"
          ]
        }
      ]
    },
    {
      "cell_type": "markdown",
      "source": [
        "Forma utilizando o MAP    \n",
        "Map é uma função que recebe dois parâmetros: o primeiro a função, o segundo um iterável. Além disso, retorna um Map Object"
      ],
      "metadata": {
        "id": "_1EA0ynKjZBF"
      }
    },
    {
      "cell_type": "code",
      "source": [
        "areas = map(area, raios)\n",
        "print(list(areas))"
      ],
      "metadata": {
        "colab": {
          "base_uri": "https://localhost:8080/"
        },
        "id": "5FM7A38Ui8Gr",
        "outputId": "88ad1aa2-629e-408f-98b0-cccd0cfcb2e0"
      },
      "execution_count": 8,
      "outputs": [
        {
          "output_type": "stream",
          "name": "stdout",
          "text": [
            "[12.566370614359172, 78.53981633974483, 158.36768566746147, 0.2827433388230814, 314.1592653589793, 6082.12337734984]\n"
          ]
        }
      ]
    },
    {
      "cell_type": "markdown",
      "source": [
        "Forma utilizando Map e Lambda"
      ],
      "metadata": {
        "id": "OabvumVvkrCU"
      }
    },
    {
      "cell_type": "code",
      "source": [
        "print(list(map(lambda r: math.pi * (r ** 2), raios)))"
      ],
      "metadata": {
        "colab": {
          "base_uri": "https://localhost:8080/"
        },
        "id": "ClaPpFo5jqRT",
        "outputId": "aa773a02-86f0-4323-bb0e-2b527948a8f7"
      },
      "execution_count": 9,
      "outputs": [
        {
          "output_type": "stream",
          "name": "stdout",
          "text": [
            "[12.566370614359172, 78.53981633974483, 158.36768566746147, 0.2827433388230814, 314.1592653589793, 6082.12337734984]\n"
          ]
        }
      ]
    },
    {
      "cell_type": "markdown",
      "source": [
        "OBS: Após utilizar a função map() depois da primeira utilização do resultado, ele zera."
      ],
      "metadata": {
        "id": "MP7kbyTtl6fz"
      }
    },
    {
      "cell_type": "markdown",
      "source": [
        "Exemplo 1"
      ],
      "metadata": {
        "id": "BVn6YzqZpr-W"
      }
    },
    {
      "cell_type": "code",
      "source": [
        "cidades = [('Berlim', 29), ('Cairo', 36), ('Buenos Aires', 19), ('Los Angeles', 26), ('Tokio', 27), ('Nova York', 28), ('Londres', 22)]\n",
        "print(cidades)"
      ],
      "metadata": {
        "colab": {
          "base_uri": "https://localhost:8080/"
        },
        "id": "2LcVThKZpuOq",
        "outputId": "8b981c04-f92e-4748-dbb7-f78eda84f72f"
      },
      "execution_count": 10,
      "outputs": [
        {
          "output_type": "stream",
          "name": "stdout",
          "text": [
            "[('Berlim', 29), ('Cairo', 36), ('Buenos Aires', 19), ('Los Angeles', 26), ('Tokio', 27), ('Nova York', 28), ('Londres', 22)]\n"
          ]
        }
      ]
    },
    {
      "cell_type": "markdown",
      "source": [
        "Transformar graus em fahrenheit"
      ],
      "metadata": {
        "id": "26QK6fQNqVpS"
      }
    },
    {
      "cell_type": "markdown",
      "source": [
        "Função: 9/5 * c + 32"
      ],
      "metadata": {
        "id": "sJekM03Zqg5v"
      }
    },
    {
      "cell_type": "code",
      "source": [
        "celsius_para_fahr = lambda dado: (dado[0], (9/5 * dado[1] + 32))"
      ],
      "metadata": {
        "id": "NfinT5LqqRxR"
      },
      "execution_count": 11,
      "outputs": []
    },
    {
      "cell_type": "code",
      "source": [
        "print(list(map(celsius_para_fahr,cidades )))"
      ],
      "metadata": {
        "colab": {
          "base_uri": "https://localhost:8080/"
        },
        "id": "8jIJeKXgralQ",
        "outputId": "532751d6-e136-4162-88e2-68f9b59e515e"
      },
      "execution_count": 12,
      "outputs": [
        {
          "output_type": "stream",
          "name": "stdout",
          "text": [
            "[('Berlim', 84.2), ('Cairo', 96.8), ('Buenos Aires', 66.2), ('Los Angeles', 78.80000000000001), ('Tokio', 80.6), ('Nova York', 82.4), ('Londres', 71.6)]\n"
          ]
        }
      ]
    }
  ]
}